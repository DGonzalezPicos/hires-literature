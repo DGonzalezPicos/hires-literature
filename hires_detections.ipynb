{
 "cells": [
  {
   "cell_type": "code",
   "execution_count": 1,
   "metadata": {
    "ExecuteTime": {
     "end_time": "2022-08-22T16:27:34.147744Z",
     "start_time": "2022-08-22T16:27:33.557071Z"
    }
   },
   "outputs": [],
   "source": [
    "import numpy as np\n",
    "import pandas as pd\n",
    "import matplotlib.pyplot as plt"
   ]
  },
  {
   "cell_type": "markdown",
   "metadata": {},
   "source": [
    "# theory"
   ]
  },
  {
   "cell_type": "code",
   "execution_count": 2,
   "metadata": {
    "ExecuteTime": {
     "end_time": "2022-08-22T16:27:34.152210Z",
     "start_time": "2022-08-22T16:27:34.149031Z"
    }
   },
   "outputs": [],
   "source": [
    "pino_18_frame =  pd.DataFrame({'lead': ['Pino']})\n",
    "\n",
    "pino_18_frame['title'] = 'Diagnosing aerosols in extrasolar giant planets with cross-correlation function of water bands'\n",
    "pino_18_frame['lead'] = 'Pino'\n",
    "pino_18_frame['observation'] = 'transit'\n",
    "pino_18_frame['dimensions'] = 1\n",
    "pino_18_frame['year'] = 2018\n",
    "pino_18_frame['url'] = 'https://www.aanda.org/articles/aa/pdf/2018/11/aa32986-18.pdf'\n"
   ]
  },
  {
   "cell_type": "code",
   "execution_count": 267,
   "metadata": {
    "ExecuteTime": {
     "end_time": "2022-08-22T16:54:29.226865Z",
     "start_time": "2022-08-22T16:54:29.217666Z"
    }
   },
   "outputs": [],
   "source": [
    "frame = kaltenegger_20_frame = pd.DataFrame({'lead': ['Kaltenegger']})\n",
    "\n",
    "frame['title'] = 'Diagnosing aerosols in extrasolar giant planets with cross-correlation function of water bands'\n",
    "frame['dimensions'] = 1\n",
    "frame['observation'] = 'transit'\n",
    "frame['year'] = 2020\n",
    "frame['url'] = 'https://iopscience.iop.org/article/10.3847/2041-8213/ab789f/meta'\n"
   ]
  },
  {
   "cell_type": "code",
   "execution_count": 269,
   "metadata": {
    "ExecuteTime": {
     "end_time": "2022-08-22T16:55:08.506486Z",
     "start_time": "2022-08-22T16:55:08.494192Z"
    }
   },
   "outputs": [],
   "source": [
    "frame = lee_22_frame = pd.DataFrame({'lead': ['E Lee']})\n",
    "\n",
    "frame['title'] = 'The Mantis Network II: Examining the 3D high-resolution observable properties of the UHJs WASP-121b and WASP-189b through GCM modelling'\n",
    "frame['dimensions'] = 3\n",
    "frame['observation'] = 'transit'\n",
    "frame['year'] = 2022\n",
    "frame['url'] = 'https://ui.adsabs.harvard.edu/abs/2022MNRAS.tmp.2141L/abstract'\n"
   ]
  },
  {
   "cell_type": "code",
   "execution_count": 4,
   "metadata": {
    "ExecuteTime": {
     "end_time": "2022-08-22T16:27:34.160027Z",
     "start_time": "2022-08-22T16:27:34.157178Z"
    }
   },
   "outputs": [],
   "source": [
    "frame = kaltenegger_21_frame = pd.DataFrame({'lead': ['Kaltenegger']})\n",
    "\n",
    "frame['title'] = 'Finding Signs of Life in Transits: High-resolution Transmission Spectra of Earth-line Planets around FGKM Host Stars'\n",
    "frame['dimensions'] = 1\n",
    "frame['observation'] = 'transit'\n",
    "frame['year'] = 2021\n",
    "frame['url'] = 'https://iopscience.iop.org/article/10.3847/2041-8213/abe634/meta'\n"
   ]
  },
  {
   "cell_type": "code",
   "execution_count": 5,
   "metadata": {
    "ExecuteTime": {
     "end_time": "2022-08-22T16:27:34.163608Z",
     "start_time": "2022-08-22T16:27:34.160814Z"
    }
   },
   "outputs": [],
   "source": [
    "frame = snellen_13_frame = pd.DataFrame({'lead': ['snellen']})\n",
    "\n",
    "frame['title'] = 'FINDING EXTRATERRESTRIAL LIFE USING GROUND-BASED HIGH-DISPERSION SPECTROSCOPY'\n",
    "frame['dimensions'] = 1\n",
    "frame['observation'] = 'transit'\n",
    "frame['year'] = 2013\n",
    "frame['url'] = 'https://iopscience.iop.org/article/10.1088/0004-637X/764/2/182/meta'\n"
   ]
  },
  {
   "cell_type": "code",
   "execution_count": 6,
   "metadata": {
    "ExecuteTime": {
     "end_time": "2022-08-22T16:27:34.167379Z",
     "start_time": "2022-08-22T16:27:34.164567Z"
    }
   },
   "outputs": [],
   "source": [
    "frame = kaltenegger_20b_frame = pd.DataFrame({'lead': ['Kaltenegger']})\n",
    "\n",
    "frame['title'] = 'Finding Signs of Life on Transiting Earthlike Planets: High-resolution Transmission Spectra of Earth through Time around FGKM Host Stars'\n",
    "frame['dimensions'] = 1\n",
    "frame['observation'] = 'transit'\n",
    "frame['year'] = 2020\n",
    "frame['url'] = 'https://iopscience.iop.org/article/10.3847/1538-4357/abb9b2/meta'\n"
   ]
  },
  {
   "cell_type": "code",
   "execution_count": 7,
   "metadata": {
    "ExecuteTime": {
     "end_time": "2022-08-22T16:27:34.171440Z",
     "start_time": "2022-08-22T16:27:34.168339Z"
    }
   },
   "outputs": [],
   "source": [
    "frame = quanz_14_frame = pd.DataFrame({'lead': ['Quanz']})\n",
    "\n",
    "frame['title'] = 'Direct detection of exoplanets in the 3–10 μm range with E-ELT/METIS'\n",
    "frame['dimensions'] = 1\n",
    "frame['observation'] = 'transit'\n",
    "frame['year'] = 2014\n",
    "frame['url'] = 'https://www.cambridge.org/core/journals/international-journal-of-astrobiology/article/direct-detection-of-exoplanets-in-the-310-m-range-with-eeltmetis/FF4F11F8023EFB19D14A5F78F5808132'\n",
    "\n",
    "\n",
    "\n"
   ]
  },
  {
   "cell_type": "code",
   "execution_count": 8,
   "metadata": {
    "ExecuteTime": {
     "end_time": "2022-08-22T16:27:34.175220Z",
     "start_time": "2022-08-22T16:27:34.172450Z"
    }
   },
   "outputs": [],
   "source": [
    "# theory or obs?\n",
    "frame = zhang_20_frame = pd.DataFrame({'lead': ['Y zhang']})\n",
    "\n",
    "frame['title'] = 'Search for He I airglow emission from the hot Jupiter τ Boo b'\n",
    "frame['dimensions'] = 1\n",
    "frame['observation'] = 'emission'\n",
    "frame['year'] = 2020\n",
    "frame['url'] = 'https://ui.adsabs.harvard.edu/abs/2020A%26A...641A.161Z/abstract'\n",
    "\n",
    "\n",
    "\n"
   ]
  },
  {
   "cell_type": "code",
   "execution_count": 9,
   "metadata": {
    "ExecuteTime": {
     "end_time": "2022-08-22T16:27:34.178962Z",
     "start_time": "2022-08-22T16:27:34.176227Z"
    }
   },
   "outputs": [],
   "source": [
    "frame = kempton_14_frame = pd.DataFrame({'lead': ['kempton']})\n",
    "\n",
    "frame['title'] = 'High Resolution Transmission Spectroscopy as a Diagnostic for Jovian Exoplanet Atmospheres: Constraints from Theoretical Models'\n",
    "frame['dimensions'] = 3\n",
    "frame['observation'] = 'transit'\n",
    "frame['year'] = 2014\n",
    "frame['url'] = 'https://ui.adsabs.harvard.edu/abs/2014ApJ...795...24K/abstract'\n",
    "\n",
    "\n",
    "\n",
    "\n"
   ]
  },
  {
   "cell_type": "code",
   "execution_count": 281,
   "metadata": {
    "ExecuteTime": {
     "end_time": "2022-08-22T16:58:20.331131Z",
     "start_time": "2022-08-22T16:58:20.317287Z"
    }
   },
   "outputs": [],
   "source": [
    "frame = strachan_20_frame = pd.DataFrame({'lead': ['strachan']})\n",
    "\n",
    "frame['title'] = 'Diagnosing aerosols in extrasolar giant planets with cross-correlation function of water bands'\n",
    "frame['dimensions'] = 1 # kind of\n",
    "frame['observation'] = 'reflected light'\n",
    "frame['year'] = 2020\n",
    "frame['url'] = 'https://academic.oup.com/mnras/article-abstract/493/2/1596/5729057'\n"
   ]
  },
  {
   "cell_type": "code",
   "execution_count": 11,
   "metadata": {
    "ExecuteTime": {
     "end_time": "2022-08-22T16:27:34.187887Z",
     "start_time": "2022-08-22T16:27:34.184925Z"
    }
   },
   "outputs": [],
   "source": [
    "frame = savel_22_frame = pd.DataFrame({'lead': ['savel']})\n",
    "\n",
    "frame['title'] = 'No Umbrella Needed: Confronting the Hypothesis of Iron Rain on WASP-76b with Post-processed General Circulation Models'\n",
    "frame['dimensions'] = 3 # kind of\n",
    "frame['observation'] = 'transit'\n",
    "frame['year'] = 2022\n",
    "frame['url'] = 'https://ui.adsabs.harvard.edu/abs/2022ApJ...926...85S/abstract'\n"
   ]
  },
  {
   "cell_type": "code",
   "execution_count": 12,
   "metadata": {
    "ExecuteTime": {
     "end_time": "2022-08-22T16:27:34.191853Z",
     "start_time": "2022-08-22T16:27:34.188794Z"
    }
   },
   "outputs": [],
   "source": [
    "frame = rauscher_14_frame = pd.DataFrame({'lead': ['rauscher']})\n",
    "\n",
    "frame['title'] = 'The Atmospheric Circulation and Observable Properties of Non-synchronously Rotating Hot Jupiters'\n",
    "frame['dimensions'] = 3\n",
    "frame['observation'] = 'transit'\n",
    "frame['year'] = 2014\n",
    "frame['url'] = 'https://ui.adsabs.harvard.edu/abs/2014ApJ...790...79R/abstract'\n",
    "\n"
   ]
  },
  {
   "cell_type": "code",
   "execution_count": 13,
   "metadata": {
    "ExecuteTime": {
     "end_time": "2022-08-22T16:27:34.196214Z",
     "start_time": "2022-08-22T16:27:34.192747Z"
    }
   },
   "outputs": [],
   "source": [
    "frame = damiano_19_frame = pd.DataFrame({'lead': ['damiano']})\n",
    "\n",
    "frame['title'] = 'A Principal Component Analysis-based method to analyse high-resolution spectroscopic data'\n",
    "frame['dimensions'] = 1\n",
    "frame['observation'] = 'transit'\n",
    "frame['year'] = 2019\n",
    "frame['url'] = 'https://arxiv.org/abs/1906.11218'\n"
   ]
  },
  {
   "cell_type": "code",
   "execution_count": 14,
   "metadata": {
    "ExecuteTime": {
     "end_time": "2022-08-22T16:27:34.199817Z",
     "start_time": "2022-08-22T16:27:34.197032Z"
    }
   },
   "outputs": [],
   "source": [
    "frame = dreizler_8_frame = pd.DataFrame({'lead': ['dreizler']})\n",
    "\n",
    "frame['title'] = \"\"\"On the possibility of detecting extrasolar planets' atmospheres with the Rossiter-McLaughlin effect\"\"\"\n",
    "frame['dimensions'] = 1\n",
    "frame['observation'] = 'transit'\n",
    "frame['year'] = 2008\n",
    "frame['url'] = 'https://www.aanda.org/articles/aa/abs/2009/20/aa10656-08/aa10656-08.html'"
   ]
  },
  {
   "cell_type": "code",
   "execution_count": 15,
   "metadata": {
    "ExecuteTime": {
     "end_time": "2022-08-22T16:27:34.203287Z",
     "start_time": "2022-08-22T16:27:34.200749Z"
    }
   },
   "outputs": [],
   "source": [
    "frame = kozakis_20_frame = pd.DataFrame({'lead': ['kozakis']})\n",
    "\n",
    "frame['title'] = \"\"\"High-resolution Spectra of Earth-like Planets Orbiting Red Giant Host Stars\"\"\"\n",
    "frame['dimensions'] = 1\n",
    "frame['observation'] = 'reflection, emission'\n",
    "frame['year'] = 2020\n",
    "frame['url'] = 'https://www.aanda.org/articles/aa/abs/2009/20/aa10656-08/aa10656-08.html'"
   ]
  },
  {
   "cell_type": "code",
   "execution_count": 16,
   "metadata": {
    "ExecuteTime": {
     "end_time": "2022-08-22T16:27:34.206840Z",
     "start_time": "2022-08-22T16:27:34.204414Z"
    }
   },
   "outputs": [],
   "source": [
    "frame = cauley_18_frame = pd.DataFrame({'lead': ['cauley']})\n",
    "\n",
    "frame['title'] = \"\"\"The Effects of Stellar Activity on Optical High-resolution Exoplanet Transmission Spectra\"\"\"\n",
    "frame['dimensions'] = 1\n",
    "frame['observation'] = 'transit'\n",
    "frame['year'] = 2018\n",
    "frame['url'] = 'https://iopscience.iop.org/article/10.3847/1538-3881/aaddf9/meta'"
   ]
  },
  {
   "cell_type": "code",
   "execution_count": 17,
   "metadata": {
    "ExecuteTime": {
     "end_time": "2022-08-22T16:27:34.210325Z",
     "start_time": "2022-08-22T16:27:34.207640Z"
    }
   },
   "outputs": [],
   "source": [
    "frame = mille_ricci_kempton_12_frame = pd.DataFrame({'lead': ['miller-ricci kempton']})\n",
    "\n",
    "frame['title'] = \"\"\"Constraining High-speed Winds in Exoplanet Atmospheres through Observations of Anomalous Doppler Shifts during Transit\"\"\"\n",
    "frame['dimensions'] = 3\n",
    "frame['observation'] = 'transit'\n",
    "frame['year'] = 2012\n",
    "frame['url'] = 'https://ui.adsabs.harvard.edu/abs/2012ApJ...751..117M/abstract'"
   ]
  },
  {
   "cell_type": "code",
   "execution_count": 18,
   "metadata": {
    "ExecuteTime": {
     "end_time": "2022-08-22T16:27:34.213717Z",
     "start_time": "2022-08-22T16:27:34.211180Z"
    }
   },
   "outputs": [],
   "source": [
    "frame = de_kok_14_frame = pd.DataFrame({'lead': ['de Kok']})\n",
    "\n",
    "frame['title'] = \"\"\"Identifying new opportunities for exoplanet characterisation at high spectral resolution\"\"\"\n",
    "frame['dimensions'] = 1\n",
    "frame['observation'] = 'transit, emission'\n",
    "frame['year'] = 2014\n",
    "frame['url'] = 'https://www.aanda.org/articles/aa/abs/2014/01/aa22947-13/aa22947-13.html'"
   ]
  },
  {
   "cell_type": "code",
   "execution_count": 19,
   "metadata": {
    "ExecuteTime": {
     "end_time": "2022-08-22T16:27:34.217025Z",
     "start_time": "2022-08-22T16:27:34.214592Z"
    }
   },
   "outputs": [],
   "source": [
    "frame = molliere_14_frame = pd.DataFrame({'lead': ['molliere']})\n",
    "\n",
    "frame['title'] = \"\"\"Detecting isotopologues in exoplanet atmospheres using ground-based high-dispersion spectroscopy\"\"\"\n",
    "frame['dimensions'] = 1\n",
    "frame['observation'] = 'emission, reflection'\n",
    "frame['year'] = 2014\n",
    "frame['url'] = 'https://www.aanda.org/articles/aa/abs/2019/02/aa34169-18/aa34169-18.html'\n"
   ]
  },
  {
   "cell_type": "code",
   "execution_count": 20,
   "metadata": {
    "ExecuteTime": {
     "end_time": "2022-08-22T16:27:34.220355Z",
     "start_time": "2022-08-22T16:27:34.217843Z"
    }
   },
   "outputs": [],
   "source": [
    "frame = serindag_19_frame = pd.DataFrame({'lead': ['serindag']})\n",
    "\n",
    "frame['title'] = \"\"\"Testing the Detectability of Extraterrestrial O2 with the Extremely Large Telescopes Using Real Data with Real Noise\"\"\"\n",
    "frame['dimensions'] = 1\n",
    "frame['observation'] = 'transit'\n",
    "frame['year'] = 2019\n",
    "frame['url'] = 'https://iopscience.iop.org/article/10.3847/2041-8213/aafa1f/meta'\n"
   ]
  },
  {
   "cell_type": "code",
   "execution_count": 21,
   "metadata": {
    "ExecuteTime": {
     "end_time": "2022-08-22T16:27:34.223728Z",
     "start_time": "2022-08-22T16:27:34.221189Z"
    }
   },
   "outputs": [],
   "source": [
    "# calling this theory because not performed on an exoplanet\n",
    "frame = de_regt_22_frame = pd.DataFrame({'lead': ['de Regt']})\n",
    "\n",
    "frame['title'] = \"\"\"A quantitative assessment of the VO line list: Inaccuracies hamper high-resolution VO detections in exoplanet atmospheres\"\"\"\n",
    "frame['dimensions'] = 1\n",
    "frame['observation'] = 'emission'\n",
    "frame['year'] = 2022\n",
    "frame['url'] = 'https://www.aanda.org/articles/aa/abs/2022/05/aa42683-21/aa42683-21.html'\n"
   ]
  },
  {
   "cell_type": "code",
   "execution_count": 22,
   "metadata": {
    "ExecuteTime": {
     "end_time": "2022-08-22T16:27:34.227222Z",
     "start_time": "2022-08-22T16:27:34.224567Z"
    }
   },
   "outputs": [],
   "source": [
    "# calling this theory because not performed on an exoplanet\n",
    "frame = dash_22_frame = pd.DataFrame({'lead': ['dash']})\n",
    "\n",
    "frame['title'] = \"\"\"Linking atmospheric chemistry of the hot Jupiter HD 209458b to its formation location through infrared transmission and emission spectra\"\"\"\n",
    "frame['dimensions'] = 1\n",
    "frame['observation'] = 'emission, transit'\n",
    "frame['year'] = 2022\n",
    "frame['url'] = 'https://arxiv.org/pdf/2204.04103.pdf'\n"
   ]
  },
  {
   "cell_type": "code",
   "execution_count": 23,
   "metadata": {
    "ExecuteTime": {
     "end_time": "2022-08-22T16:27:34.230635Z",
     "start_time": "2022-08-22T16:27:34.228197Z"
    }
   },
   "outputs": [],
   "source": [
    "# calling this theory because not performed on an exoplanet\n",
    "frame = malsky_22_frame = pd.DataFrame({'lead': ['malsky']})\n",
    "\n",
    "frame['title'] = \"\"\"Modeling the High-resolution Emission Spectra of Clear and Cloudy Nontransiting Hot Jupiters\"\"\"\n",
    "frame['dimensions'] = 3\n",
    "frame['observation'] = 'emission'\n",
    "frame['year'] = 2022\n",
    "frame['url'] = 'https://ui.adsabs.harvard.edu/abs/2021ApJ...923...62M/abstract'\n"
   ]
  },
  {
   "cell_type": "code",
   "execution_count": 24,
   "metadata": {
    "ExecuteTime": {
     "end_time": "2022-08-22T16:27:34.234389Z",
     "start_time": "2022-08-22T16:27:34.231556Z"
    }
   },
   "outputs": [],
   "source": [
    "# calling this theory because not performed on an exoplanet\n",
    "frame = martins_16_frame = pd.DataFrame({'lead': ['martins']})\n",
    "\n",
    "frame['title'] = \"\"\"Reflected Light from Giant Planets in Habitable Zones: Tapping into the Power of the Cross-Correlation Function\"\"\"\n",
    "frame['dimensions'] = 1\n",
    "frame['observation'] = 'reflected light'\n",
    "frame['year'] = 2016\n",
    "frame['url'] = 'https://ui.adsabs.harvard.edu/abs/2016OLEB...46..487M/abstract'\n"
   ]
  },
  {
   "cell_type": "code",
   "execution_count": 25,
   "metadata": {
    "ExecuteTime": {
     "end_time": "2022-08-22T16:27:34.237795Z",
     "start_time": "2022-08-22T16:27:34.235307Z"
    }
   },
   "outputs": [],
   "source": [
    "# calling this theory because not performed on an exoplanet\n",
    "frame = harada_21_frame = pd.DataFrame({'lead': ['harada']})\n",
    "\n",
    "frame['title'] = \"\"\"Signatures of Clouds in Hot Jupiter Atmospheres: Modeled High-resolution Emission Spectra from 3D General Circulation Models\"\"\"\n",
    "frame['dimensions'] = 3\n",
    "frame['observation'] = 'emission'\n",
    "frame['year'] = 2021\n",
    "frame['url'] = 'https://ui.adsabs.harvard.edu/abs/2021ApJ...909...85H/abstract'\n"
   ]
  },
  {
   "cell_type": "code",
   "execution_count": 26,
   "metadata": {
    "ExecuteTime": {
     "end_time": "2022-08-22T16:27:34.241243Z",
     "start_time": "2022-08-22T16:27:34.238704Z"
    }
   },
   "outputs": [],
   "source": [
    "# calling this theory because not performed on an exoplanet\n",
    "frame = otten_21_frame = pd.DataFrame({'lead': ['otten']})\n",
    "\n",
    "frame['title'] = \"\"\"Direct characterization of young giant exoplanets at high spectral resolution by coupling SPHERE and CRIRES+\"\"\"\n",
    "frame['dimensions'] = 1\n",
    "frame['observation'] = 'direct imaging'\n",
    "frame['year'] = 2021\n",
    "frame['url'] = 'https://ui.adsabs.harvard.edu/abs/2021A%26A...646A.150O/abstract'\n"
   ]
  },
  {
   "cell_type": "code",
   "execution_count": 27,
   "metadata": {
    "ExecuteTime": {
     "end_time": "2022-08-22T16:27:34.244684Z",
     "start_time": "2022-08-22T16:27:34.242061Z"
    }
   },
   "outputs": [],
   "source": [
    "# calling this theory because not performed on an exoplanet\n",
    "frame = fisher_20_frame = pd.DataFrame({'lead': ['Fisher']})\n",
    "\n",
    "frame['title'] = \"\"\"Interpreting High-resolution Spectroscopy of Exoplanets using Cross-correlations and Supervised Machine Learning\"\"\"\n",
    "frame['dimensions'] = 1\n",
    "frame['observation'] = 'transit'\n",
    "frame['year'] = 2020\n",
    "frame['url'] = 'https://iopscience.iop.org/article/10.3847/1538-3881/ab7a92/meta#ajab7a92s3'\n"
   ]
  },
  {
   "cell_type": "code",
   "execution_count": 29,
   "metadata": {
    "ExecuteTime": {
     "end_time": "2022-08-22T16:27:34.264727Z",
     "start_time": "2022-08-22T16:27:34.254571Z"
    }
   },
   "outputs": [],
   "source": [
    "# calling this theory because not performed on an exoplanet\n",
    "frame = finnerty_21_frame = pd.DataFrame({'lead': ['Finnerty']})\n",
    "\n",
    "frame['title'] = \"\"\"Contrast and Temperature Dependence of Multi-epoch High-resolution Cross-correlation Exoplanet Spectroscopy\"\"\"\n",
    "frame['dimensions'] = 1\n",
    "frame['observation'] = 'transit'\n",
    "frame['year'] = 2021\n",
    "frame['url'] = 'https://iopscience.iop.org/article/10.3847/1538-3881/abd6ec/meta'\n"
   ]
  },
  {
   "cell_type": "code",
   "execution_count": 30,
   "metadata": {
    "ExecuteTime": {
     "end_time": "2022-08-22T16:27:34.269043Z",
     "start_time": "2022-08-22T16:27:34.265724Z"
    }
   },
   "outputs": [],
   "source": [
    "# calling this theory because not performed on an exoplanet\n",
    "frame = shulyak_19_frame = pd.DataFrame({'lead': ['shulyak']})\n",
    "\n",
    "frame['title'] = \"\"\"Remote sensing of exoplanetary atmospheres with ground-based high-resolution near-infrared spectroscopy\"\"\"\n",
    "frame['dimensions'] = 1\n",
    "frame['observation'] = 'emission'\n",
    "frame['year'] = 2019\n",
    "frame['url'] = 'https://www.aanda.org/articles/aa/abs/2019/09/aa35691-19/aa35691-19.html'\n"
   ]
  },
  {
   "cell_type": "code",
   "execution_count": 31,
   "metadata": {
    "ExecuteTime": {
     "end_time": "2022-08-22T16:27:34.273117Z",
     "start_time": "2022-08-22T16:27:34.270054Z"
    }
   },
   "outputs": [],
   "source": [
    "# calling this theory because not performed on an exoplanet\n",
    "frame = fujii_21_frame = pd.DataFrame({'lead': ['fujii']})\n",
    "\n",
    "frame['title'] = \"\"\"Detecting Atmospheric Molecules of Nontransiting Temperate Terrestrial Exoplanets Using High-resolution Spectroscopy in the Mid-infrared Domain\"\"\"\n",
    "frame['dimensions'] = 1\n",
    "frame['observation'] = 'emission'\n",
    "frame['year'] = 2021\n",
    "frame['url'] = 'https://iopscience.iop.org/article/10.3847/1538-3881/abe129/meta'\n"
   ]
  },
  {
   "cell_type": "code",
   "execution_count": 32,
   "metadata": {
    "ExecuteTime": {
     "end_time": "2022-08-22T16:27:34.276854Z",
     "start_time": "2022-08-22T16:27:34.273914Z"
    }
   },
   "outputs": [],
   "source": [
    "# calling this theory because not performed on an exoplanet\n",
    "frame = udry_14_frame = pd.DataFrame({'lead': ['udry']})\n",
    "\n",
    "frame['title'] = \"\"\"Exoplanet Science with the European Extremely Large Telescope. The Case for Visible and Near-IR Spectroscopy at High Resolution\"\"\"\n",
    "frame['dimensions'] = 1\n",
    "frame['observation'] = 'emission'\n",
    "frame['year'] = 2014\n",
    "frame['url'] = 'https://arxiv.org/abs/1412.1048'\n",
    "\n",
    "\n",
    "\n",
    "\n",
    "\n"
   ]
  },
  {
   "cell_type": "code",
   "execution_count": 33,
   "metadata": {
    "ExecuteTime": {
     "end_time": "2022-08-22T16:27:34.280644Z",
     "start_time": "2022-08-22T16:27:34.277633Z"
    }
   },
   "outputs": [],
   "source": [
    "# calling this theory because not performed on an exoplanet\n",
    "frame = morello_22_frame = pd.DataFrame({'lead': ['morello']})\n",
    "\n",
    "frame['title'] = \"\"\"The strange case of Na I in the atmosphere of HD 209458 b. Reconciling low- and high-resolution spectroscopic observations\"\"\"\n",
    "frame['dimensions'] = 1\n",
    "frame['observation'] = 'transit'\n",
    "frame['year'] = 2022\n",
    "frame['url'] = 'https://ui.adsabs.harvard.edu/abs/2022A%26A...657A..97M/abstract'\n",
    "\n",
    "\n",
    "\n",
    "\n",
    "\n"
   ]
  },
  {
   "cell_type": "code",
   "execution_count": 34,
   "metadata": {
    "ExecuteTime": {
     "end_time": "2022-08-22T16:27:34.284279Z",
     "start_time": "2022-08-22T16:27:34.281676Z"
    }
   },
   "outputs": [],
   "source": [
    "# calling this theory because not performed on an exoplanet\n",
    "frame = young_20_frame = pd.DataFrame({'lead': ['young']})\n",
    "\n",
    "frame['title'] = \"\"\"Non-local thermodynamic equilibrium transmission spectrum modelling of HD 209458b\"\"\"\n",
    "frame['dimensions'] = 1\n",
    "frame['observation'] = 'transit'\n",
    "frame['year'] = 2020\n",
    "frame['url'] = 'https://www.aanda.org/articles/aa/pdf/2020/09/aa37672-20.pdf'\n",
    "\n",
    "\n",
    "\n",
    "\n",
    "\n"
   ]
  },
  {
   "cell_type": "code",
   "execution_count": 35,
   "metadata": {
    "ExecuteTime": {
     "end_time": "2022-08-22T16:27:34.287369Z",
     "start_time": "2022-08-22T16:27:34.285057Z"
    }
   },
   "outputs": [],
   "source": [
    "# calling this theory because not performed on an exoplanet\n",
    "frame = rodler_14_frame = pd.DataFrame({'lead': ['rodler']})\n",
    "\n",
    "frame['title'] = \"\"\"FEASIBILITY STUDIES FOR THE DETECTION OF O2 IN AN EARTH-LIKE EXOPLANET\"\"\"\n",
    "frame['dimensions'] = 1\n",
    "frame['observation'] = 'transit'\n",
    "frame['year'] = 2014\n",
    "frame['url'] = 'https://iopscience.iop.org/article/10.1088/0004-637X/781/1/54/meta'"
   ]
  },
  {
   "cell_type": "code",
   "execution_count": 36,
   "metadata": {
    "ExecuteTime": {
     "end_time": "2022-08-22T16:27:34.290497Z",
     "start_time": "2022-08-22T16:27:34.288238Z"
    }
   },
   "outputs": [],
   "source": [
    "# calling this theory because not performed on an exoplanet\n",
    "frame = hawker_19_frame = pd.DataFrame({'lead': ['hawker']})\n",
    "\n",
    "frame['title'] = \"\"\"High-resolution spectroscopy and high contrast imaging with the ELT: looking for O2 in Proxima b \"\"\"\n",
    "frame['dimensions'] = 1\n",
    "frame['observation'] = 'emission'\n",
    "frame['year'] = 2019\n",
    "frame['url'] = 'https://academic.oup.com/mnras/article/484/4/4855/5306461'"
   ]
  },
  {
   "cell_type": "code",
   "execution_count": 270,
   "metadata": {
    "ExecuteTime": {
     "end_time": "2022-08-22T16:55:11.533514Z",
     "start_time": "2022-08-22T16:55:11.523041Z"
    }
   },
   "outputs": [],
   "source": [
    "# calling this theory because not performed on an exoplanet\n",
    "frame = wardenier_22_frame = pd.DataFrame({'lead': ['wardenier']})\n",
    "\n",
    "frame['title'] = \"\"\"Decomposing the iron cross-correlation signal of the ultra-hot Jupiter WASP-76b in transmission using 3D Monte Carlo radiative transfer\"\"\"\n",
    "frame['dimensions'] = 3\n",
    "frame['observation'] = 'transit'\n",
    "frame['year'] = 2022\n",
    "frame['url'] = 'https://ui.adsabs.harvard.edu/abs/2021MNRAS.506.1258W/abstract'"
   ]
  },
  {
   "cell_type": "code",
   "execution_count": 38,
   "metadata": {
    "ExecuteTime": {
     "end_time": "2022-08-22T16:27:34.297785Z",
     "start_time": "2022-08-22T16:27:34.295024Z"
    }
   },
   "outputs": [],
   "source": [
    "frame = gandhi_20_frame = pd.DataFrame({'lead': ['gandhi']})\n",
    "\n",
    "frame['title'] = \"\"\"Seeing above the clouds with high-resolution spectroscopy\"\"\"\n",
    "frame['dimensions'] = 1\n",
    "frame['observation'] = 'transit'\n",
    "frame['year'] = 2020\n",
    "frame['url'] = 'https://ui.adsabs.harvard.edu/abs/2020MNRAS.498..194G/abstract'"
   ]
  },
  {
   "cell_type": "code",
   "execution_count": 39,
   "metadata": {
    "ExecuteTime": {
     "end_time": "2022-08-22T16:27:34.300797Z",
     "start_time": "2022-08-22T16:27:34.298458Z"
    }
   },
   "outputs": [],
   "source": [
    "# calling this theory because not performed on an exoplanet\n",
    "frame = lopez_morales_19_frame = pd.DataFrame({'lead': ['lopez_morales']})\n",
    "\n",
    "frame['title'] = \"\"\"Seeing above the clouds with high-resolution spectroscopy\"\"\"\n",
    "frame['dimensions'] = 1\n",
    "frame['observation'] = 'transit'\n",
    "frame['year'] = 2019\n",
    "frame['url'] = 'https://ui.adsabs.harvard.edu/abs/2019BAAS...51c.162L/abstract'"
   ]
  },
  {
   "cell_type": "code",
   "execution_count": 40,
   "metadata": {
    "ExecuteTime": {
     "end_time": "2022-08-22T16:27:34.303818Z",
     "start_time": "2022-08-22T16:27:34.301478Z"
    }
   },
   "outputs": [],
   "source": [
    "# calling this theory because not performed on an exoplanet\n",
    "frame = fossati_18_frame = pd.DataFrame({'lead': ['fossati']})\n",
    "\n",
    "frame['title'] = \"\"\"A data-driven approach to constraining the atmospheric temperature structure of the ultra-hot Jupiter KELT-9b\"\"\"\n",
    "frame['dimensions'] = 1\n",
    "frame['observation'] = 'transit'\n",
    "frame['year'] = 2018\n",
    "frame['url'] = 'https://www.aanda.org/articles/aa/pdf/2020/11/aa39061-20.pdf'\n"
   ]
  },
  {
   "cell_type": "code",
   "execution_count": 41,
   "metadata": {
    "ExecuteTime": {
     "end_time": "2022-08-22T16:27:34.307577Z",
     "start_time": "2022-08-22T16:27:34.304727Z"
    }
   },
   "outputs": [],
   "source": [
    "frame = zhang_17_frame = pd.DataFrame({'lead': ['j zhang']})\n",
    "\n",
    "frame['title'] = \"\"\"Constraining Hot Jupiter Atmospheric Structure and Dynamics through Doppler-shifted Emission Spectra\"\"\"\n",
    "frame['dimensions'] = 3\n",
    "frame['observation'] = 'transit'\n",
    "frame['year'] = 2017\n",
    "frame['url'] = 'https://ui.adsabs.harvard.edu/abs/2017ApJ...851...84Z/abstract'\n"
   ]
  },
  {
   "cell_type": "code",
   "execution_count": 42,
   "metadata": {
    "ExecuteTime": {
     "end_time": "2022-08-22T16:27:34.310735Z",
     "start_time": "2022-08-22T16:27:34.308406Z"
    }
   },
   "outputs": [],
   "source": [
    "#todo: read stellar activity\n",
    "frame = genest_22_frame = pd.DataFrame({'lead': ['genest']})\n",
    "\n",
    "frame['title'] = \"\"\"On the Effect of Stellar Activity on Low-resolution Transit Spectroscopy and the use of High Resolution as Mitigation\"\"\"\n",
    "frame['dimensions'] = 1\n",
    "frame['observation'] = 'transit'\n",
    "frame['year'] = 2022\n",
    "frame['url'] = 'https://ui.adsabs.harvard.edu/abs/2022AJ....163..231G/abstract'\n"
   ]
  },
  {
   "cell_type": "code",
   "execution_count": 43,
   "metadata": {
    "ExecuteTime": {
     "end_time": "2022-08-22T16:27:34.314476Z",
     "start_time": "2022-08-22T16:27:34.311487Z"
    }
   },
   "outputs": [],
   "source": [
    "# calling this theory because not performed on an exoplanet\n",
    "frame = ben_ami_18_frame = pd.DataFrame({'lead': ['ben_ami']})\n",
    "\n",
    "frame['title'] = \"\"\"High-resolution Spectroscopy Using Fabry-Perot Interferometer Arrays: An Application to Searches for O2 in Exoplanetary Atmospheres\"\"\"\n",
    "frame['dimensions'] = 1\n",
    "frame['observation'] = 'transit'\n",
    "frame['year'] = 2018\n",
    "frame['url'] = 'https://ui.adsabs.harvard.edu/abs/2018ApJ...861...79B/abstract'"
   ]
  },
  {
   "cell_type": "code",
   "execution_count": 44,
   "metadata": {
    "ExecuteTime": {
     "end_time": "2022-08-22T16:27:34.317952Z",
     "start_time": "2022-08-22T16:27:34.315363Z"
    }
   },
   "outputs": [],
   "source": [
    "# calling this theory because not performed on an exoplanet\n",
    "frame = garcia_munoz_18_frame = pd.DataFrame({'lead': ['garcia_munoz']})\n",
    "\n",
    "frame['title'] = \"\"\"On Mapping Exoplanet Atmospheres with High-dispersion Spectro-polarimetry: Some Model Predictions\"\"\"\n",
    "frame['dimensions'] = 1\n",
    "frame['observation'] = 'reflected light'\n",
    "frame['year'] = 2018\n",
    "frame['url'] = 'https://ui.adsabs.harvard.edu/abs/2018ApJ...854..108G/abstract'\n"
   ]
  },
  {
   "cell_type": "code",
   "execution_count": 45,
   "metadata": {
    "ExecuteTime": {
     "end_time": "2022-08-22T16:27:34.322027Z",
     "start_time": "2022-08-22T16:27:34.318907Z"
    }
   },
   "outputs": [],
   "source": [
    "frame = lampon_20_frame = pd.DataFrame({'lead': ['lampon']})\n",
    "\n",
    "frame['title'] = \"\"\"Modelling the He I triplet absorption at 10 830 Å in the atmosphere of HD 209458 b\"\"\"\n",
    "frame['dimensions'] = 1\n",
    "frame['observation'] = 'transit'\n",
    "frame['year'] = 2020\n",
    "frame['url'] = 'https://ui.adsabs.harvard.edu/abs/2020A%26A...636A..13L/abstract'\n"
   ]
  },
  {
   "cell_type": "code",
   "execution_count": 46,
   "metadata": {
    "ExecuteTime": {
     "end_time": "2022-08-22T16:27:34.326078Z",
     "start_time": "2022-08-22T16:27:34.322976Z"
    }
   },
   "outputs": [],
   "source": [
    "frame = leung_19_frame = pd.DataFrame({'lead': ['leung']})\n",
    "\n",
    "frame['title'] = \"\"\"High-resolution Spectral Discriminants of Ocean Loss for M-dwarf Terrestrial Exoplanets\"\"\"\n",
    "frame['dimensions'] = 1\n",
    "frame['observation'] = 'transit'\n",
    "frame['year'] = 2020\n",
    "frame['url'] = 'https://ui.adsabs.harvard.edu/abs/2020AJ....160...11L/abstract'\n"
   ]
  },
  {
   "cell_type": "code",
   "execution_count": 47,
   "metadata": {
    "ExecuteTime": {
     "end_time": "2022-08-22T16:27:34.330147Z",
     "start_time": "2022-08-22T16:27:34.327004Z"
    }
   },
   "outputs": [],
   "source": [
    "frame = showman_13_frame = pd.DataFrame({'lead': ['showman']})\n",
    "\n",
    "frame['title'] = \"\"\"Doppler Signatures of the Atmospheric Circulation on Hot Jupiters\"\"\"\n",
    "frame['dimensions'] = 3\n",
    "frame['observation'] = 'transit'\n",
    "frame['year'] = 2013\n",
    "frame['url'] = 'https://ui.adsabs.harvard.edu/abs/2013ApJ...762...24S/abstract'\n"
   ]
  },
  {
   "cell_type": "code",
   "execution_count": 48,
   "metadata": {
    "ExecuteTime": {
     "end_time": "2022-08-22T16:27:34.334147Z",
     "start_time": "2022-08-22T16:27:34.331051Z"
    }
   },
   "outputs": [],
   "source": [
    "frame = martins_13_frame = pd.DataFrame({'lead': ['martins']})\n",
    "\n",
    "frame['title'] = \"\"\"Spectroscopic direct detection of reflected light from extrasolar planets\"\"\"\n",
    "frame['dimensions'] = 1\n",
    "frame['observation'] = 'reflected light'\n",
    "frame['year'] = 2013\n",
    "frame['url'] = 'https://ui.adsabs.harvard.edu/abs/2013MNRAS.436.1215M/abstract'\n"
   ]
  },
  {
   "cell_type": "code",
   "execution_count": 49,
   "metadata": {
    "ExecuteTime": {
     "end_time": "2022-08-22T16:27:34.338154Z",
     "start_time": "2022-08-22T16:27:34.335026Z"
    }
   },
   "outputs": [],
   "source": [
    "frame = santos_15_frame = pd.DataFrame({'lead': ['santos']})\n",
    "\n",
    "frame['title'] = \"\"\"Spectroscopic direct detection of reflected light from extrasolar planets\"\"\"\n",
    "frame['dimensions'] = 1\n",
    "frame['observation'] = 'reflected light'\n",
    "frame['year'] = 2015\n",
    "frame['url'] = 'https://www.aanda.org/articles/aa/pdf/2015/11/aa26673-15.pdf'\n",
    "\n",
    "\n"
   ]
  },
  {
   "cell_type": "code",
   "execution_count": 50,
   "metadata": {
    "ExecuteTime": {
     "end_time": "2022-08-22T16:27:34.341715Z",
     "start_time": "2022-08-22T16:27:34.339091Z"
    }
   },
   "outputs": [],
   "source": [
    "frame = aronson_15_frame = pd.DataFrame({'lead': ['aronson']})\n",
    "\n",
    "frame['title'] = \"\"\"Using near-infrared spectroscopy for characterization of transiting exoplanets\"\"\"\n",
    "frame['dimensions'] = 1\n",
    "frame['observation'] = 'transit'\n",
    "frame['year'] = 2015\n",
    "frame['url'] = 'https://ui.adsabs.harvard.edu/abs/2015A%26A...578A.133A/abstract'\n",
    "\n",
    "\n"
   ]
  },
  {
   "cell_type": "code",
   "execution_count": 51,
   "metadata": {
    "ExecuteTime": {
     "end_time": "2022-08-22T16:27:34.344999Z",
     "start_time": "2022-08-22T16:27:34.342526Z"
    }
   },
   "outputs": [],
   "source": [
    "frame = snellen_15_frame = pd.DataFrame({'lead': ['snellen']})\n",
    "\n",
    "frame['title'] = \"\"\"Combining high-dispersion spectroscopy with high contrast imaging: Probing rocky planets around our nearest neighbors\"\"\"\n",
    "frame['dimensions'] = 1\n",
    "frame['observation'] = 'transit, direct imaging'\n",
    "frame['year'] = 2015\n",
    "frame['url'] = 'https://ui.adsabs.harvard.edu/abs/2015A%26A...576A..59S/abstract'\n",
    "\n",
    "\n"
   ]
  },
  {
   "cell_type": "code",
   "execution_count": 52,
   "metadata": {
    "ExecuteTime": {
     "end_time": "2022-08-22T16:27:34.348234Z",
     "start_time": "2022-08-22T16:27:34.345801Z"
    }
   },
   "outputs": [],
   "source": [
    "frame = quanz_15_frame = pd.DataFrame({'lead': ['quanz']})\n",
    "\n",
    "frame['title'] = \"\"\"https://ui.adsabs.harvard.edu/abs/2015IJAsB..14..279Q/abstract\"\"\"\n",
    "frame['dimensions'] = 1\n",
    "frame['observation'] = 'direct imaging'\n",
    "frame['year'] = 2015\n",
    "frame['url'] = 'https://ui.adsabs.harvard.edu/abs/2015IJAsB..14..279Q/abstract'\n",
    "\n",
    "\n"
   ]
  },
  {
   "cell_type": "code",
   "execution_count": 53,
   "metadata": {
    "ExecuteTime": {
     "end_time": "2022-08-22T16:27:34.351610Z",
     "start_time": "2022-08-22T16:27:34.348970Z"
    }
   },
   "outputs": [],
   "source": [
    "frame = beltz_21_frame = pd.DataFrame({'lead': ['beltz']})\n",
    "\n",
    "frame['title'] = \"\"\"A Significant Increase in Detection of High-resolution Emission Spectra Using a Three-dimensional Atmospheric Model of a Hot Jupiter\"\"\"\n",
    "frame['dimensions'] = 3\n",
    "frame['observation'] = 'emission'\n",
    "frame['year'] = 2021\n",
    "frame['url'] = 'https://ui.adsabs.harvard.edu/abs/2021AJ....161....1B/abstract'\n",
    "\n",
    "\n"
   ]
  },
  {
   "cell_type": "code",
   "execution_count": 54,
   "metadata": {
    "ExecuteTime": {
     "end_time": "2022-08-22T16:27:34.355608Z",
     "start_time": "2022-08-22T16:27:34.352627Z"
    }
   },
   "outputs": [],
   "source": [
    "frame = beltz_22_frame = pd.DataFrame({'lead': ['beltz']})\n",
    "\n",
    "frame['title'] = \"\"\"Magnetic Drag and 3-D Effects in Theoretical High-Resolution Emission Spectra of Ultrahot Jupiters: the Case of WASP-76b\"\"\"\n",
    "frame['dimensions'] = 3\n",
    "frame['observation'] = 'emission'\n",
    "frame['year'] = 2022\n",
    "frame['url'] = 'https://ui.adsabs.harvard.edu/abs/2022arXiv220412996B/abstract'\n",
    "\n",
    "\n"
   ]
  },
  {
   "cell_type": "code",
   "execution_count": 264,
   "metadata": {
    "ExecuteTime": {
     "end_time": "2022-08-22T16:42:02.195528Z",
     "start_time": "2022-08-22T16:42:02.175058Z"
    }
   },
   "outputs": [],
   "source": [
    "frame = hood_20_frame = pd.DataFrame({'lead': ['hood']})\n",
    "\n",
    "frame['title'] = \"\"\"Prospects for Characterizing the Haziest Sub-Neptune Exoplanets with High-resolution Spectroscopy\"\"\"\n",
    "frame['dimensions'] = 1\n",
    "frame['observation'] = 'transit'\n",
    "frame['year'] = 2020\n",
    "frame['url'] = 'https://ui.adsabs.harvard.edu/abs/2020AJ....160..198H/abstract'\n",
    "\n",
    "\n",
    "\n",
    "\n"
   ]
  },
  {
   "cell_type": "code",
   "execution_count": 282,
   "metadata": {
    "ExecuteTime": {
     "end_time": "2022-08-22T16:58:32.240009Z",
     "start_time": "2022-08-22T16:58:32.221751Z"
    }
   },
   "outputs": [],
   "source": [
    "theory_frame = pd.concat([hood_20_frame,\n",
    "                         beltz_22_frame,\n",
    "                         beltz_21_frame,\n",
    "                         quanz_15_frame,\n",
    "                         snellen_15_frame,\n",
    "                         aronson_15_frame,\n",
    "                         santos_15_frame,\n",
    "                         martins_13_frame,\n",
    "                          lee_22_frame,\n",
    "                         showman_13_frame,\n",
    "                         leung_19_frame,\n",
    "                         lampon_20_frame,\n",
    "                         garcia_munoz_18_frame,\n",
    "                         ben_ami_18_frame,\n",
    "                         genest_22_frame,\n",
    "                         zhang_17_frame,\n",
    "                         fossati_18_frame,\n",
    "                         lopez_morales_19_frame,\n",
    "                         gandhi_20_frame,\n",
    "                         wardenier_22_frame,\n",
    "                         hawker_19_frame,\n",
    "                         rodler_14_frame,\n",
    "                         young_20_frame, \n",
    "                         morello_22_frame,\n",
    "                         udry_14_frame,\n",
    "                         fujii_21_frame,\n",
    "                         shulyak_19_frame,\n",
    "                         finnerty_21_frame,\n",
    "                         fisher_20_frame,\n",
    "                         otten_21_frame,\n",
    "                         harada_21_frame,\n",
    "                         martins_16_frame,\n",
    "                         malsky_22_frame,\n",
    "                         dash_22_frame,\n",
    "                         de_regt_22_frame,\n",
    "                         serindag_19_frame,\n",
    "                         molliere_14_frame,\n",
    "                         de_kok_14_frame,\n",
    "                         mille_ricci_kempton_12_frame,\n",
    "                         cauley_18_frame,\n",
    "                         kozakis_20_frame,\n",
    "                         dreizler_8_frame,\n",
    "                         damiano_19_frame,\n",
    "                         rauscher_14_frame,\n",
    "                         savel_22_frame,\n",
    "                         strachan_20_frame,\n",
    "                         kempton_14_frame,\n",
    "                         zhang_20_frame,\n",
    "                         quanz_14_frame,\n",
    "                         kaltenegger_20b_frame,\n",
    "                         snellen_13_frame,\n",
    "                         kaltenegger_21_frame,\n",
    "                         kaltenegger_20_frame,\n",
    "                         pino_18_frame])"
   ]
  },
  {
   "cell_type": "code",
   "execution_count": 288,
   "metadata": {
    "ExecuteTime": {
     "end_time": "2022-08-22T16:59:36.990227Z",
     "start_time": "2022-08-22T16:59:36.920945Z"
    }
   },
   "outputs": [
    {
     "data": {
      "text/plain": [
       "Text(2008, 14, '22% theory papers are 3D')"
      ]
     },
     "execution_count": 288,
     "metadata": {},
     "output_type": "execute_result"
    },
    {
     "data": {
      "image/png": "[encoded data removed]",
      "text/plain": [
       "<Figure size 432x288 with 1 Axes>"
      ]
     },
     "metadata": {
      "needs_background": "light"
     },
     "output_type": "display_data"
    }
   ],
   "source": [
    "three_d_percent = len(theory_frame[theory_frame.dimensions==3])/len(theory_frame)\n",
    "\n",
    "\n",
    "\n",
    "\n",
    "plt.hist(theory_frame.year, color='teal')\n",
    "plt.xlabel('Year', fontsize=25)\n",
    "plt.ylabel('Count', fontsize=25)\n",
    "\n",
    "plt.text(2008, 14, f'{round(three_d_percent * 100)}% theory papers are 3D')"
   ]
  },
  {
   "cell_type": "code",
   "execution_count": null,
   "metadata": {},
   "outputs": [],
   "source": [
    "theory_frame.to_csv('theory_frame.csv')"
   ]
  },
  {
   "cell_type": "markdown",
   "metadata": {
    "heading_collapsed": true
   },
   "source": [
    "# data"
   ]
  },
  {
   "cell_type": "code",
   "execution_count": 56,
   "metadata": {
    "ExecuteTime": {
     "end_time": "2022-08-22T16:27:34.365797Z",
     "start_time": "2022-08-22T16:27:34.361501Z"
    },
    "hidden": true
   },
   "outputs": [],
   "source": [
    "keles_22_species = ['Al', 'Fe', 'Ca', 'Mg', 'Na', 'K', 'Ti', 'Mn', 'Ba', 'Sr', 'S', 'Zr', 'V', 'Cr']\n",
    "\n",
    "keles_22_SNRs = np.array([np.nan,np.nan,np.nan,np.nan,np.nan,np.nan,\n",
    "                          np.nan,np.nan,np.nan,np.nan,np.nan,np.nan,np.nan,np.nan])\n",
    "frame = keles_22_frame = pd.DataFrame({'SNR': keles_22_SNRs,\n",
    "                             'species': keles_22_species})\n",
    "\n",
    "frame['lead'] = 'keles'\n",
    "frame['planet'] = '55 Cancri b'\n",
    "frame['observation'] = 'emission'\n",
    "frame['instrument'] = 'PEPSI'\n",
    "frame['year'] = 2022\n",
    "frame['new data?'] = True\n",
    "frame['analysis type'] = 'parameterized model grid'\n",
    "frame['tellurics'] = 'masking'\n",
    "frame['url']= 'https://watermark.silverchair.com/stac810.pdf?token=AQECAHi208BE49Ooan9kkhW_Ercy7Dm3ZL_9Cf3qfKAc485ysgAAAt4wggLaBgkqhkiG9w0BBwagggLLMIICxwIBADCCAsAGCSqGSIb3DQEHATAeBglghkgBZQMEAS4wEQQMwI_KxPOtE34tDNAnAgEQgIICkSX_TeLrVWbeB5U0bXXzXRMZPN6qpyuAq0Bz2qCWCV6CaKG8EJa9nnylxi24jbNzBYg2wD5ru0SUzK16kN5Bc5r3K2a64JgA09VdoOyXVsnhRx5ItokN4OImLr8YfehdFJ8Odhe3qDjF6JIQPiLgQ8w3ZsV6PUjJYzOQnHTzI8NUTxL7vq_lEFQsH_xZQZwWI7CDF-N6hT95RGpAX9hnUfxwvCPUBnWyYduFrIZXRu1mAi6-LLfjsrroauds1DYNFPLg6edoez0O5ahCj2_ZNzlgAGR0EWkIqLxrqNmmbPIzkiMy8ZpBUw15NrgOcemMSJf_7liuasXlfgRoqsdbXUOd62qNzmAgYD28z9QusfN4cq1ESvhKbRUZDTePIfsyL1JM-W52xB65d480qUUWuLjr-eaLbBXgPlwMUXkq_30dTUuSzJq2NNQnVGTHIutWpRbtY9NRB7B2qGkHSgYQoOXWbX3hYJJTWgvZzPqKcohCQNzphyNAFn7Ou3WTZYs95-01_iS-eQAIX8dq5egdYcaV-cjg7FmycJXct5Pwdqyw4VcoRn2V1XOP3qZp9_X3dqACVE9yww9x4ppZzZNmZdhPx3krW3sMOyLseN4iPpix0_uG-MuLOjeFKv-zZNle_SzI6aTXk2p77Dfy1d7O9Tbf7jR-Fgo5YD_MET8kJvlvDYV2r41bXZAWUeN8pkE47-I_2OavsIQ6l_y8GEA2Jao9mqg5HL-JSSAtqm-HpJ_IpndiPv4RA8auU1th5MqGrnGYQ_H-o_Nk44ChBKsoGcVvvw9RZ-U3kKa6I1RL8w-Yl4aPPSf_23wnqkh-D9Ou2_TOFR0rvWQG7OlUnxkg252eIOyGOKMPFt_dtv9g8F9ozg'"
   ]
  },
  {
   "cell_type": "code",
   "execution_count": 57,
   "metadata": {
    "ExecuteTime": {
     "end_time": "2022-08-22T16:27:34.371182Z",
     "start_time": "2022-08-22T16:27:34.366811Z"
    },
    "hidden": true
   },
   "outputs": [],
   "source": [
    "# also a theory paper for ARIEL sims?\n",
    "guilluy_20_species = ['H2O', 'CO', 'HCN', 'CH4', 'NH3', 'C2H2']\n",
    "\n",
    "guilluy_20_SNRs = np.array([9.6, 5.5, 9.9, 5.6, 5.3, 6.1])\n",
    "frame = guilluy_20_frame = pd.DataFrame({'SNR': guilluy_20_SNRs,\n",
    "                             'species': guilluy_20_species})\n",
    "\n",
    "frame['lead'] = 'guilluy'\n",
    "frame['planet'] = 'HD 209458 b'\n",
    "frame['observation'] = 'emission'\n",
    "frame['instrument'] = 'GIANO-B'\n",
    "frame['year'] = 2020\n",
    "frame['new data?'] = False\n",
    "frame['analysis type'] = 'parameterized model grid'\n",
    "frame['tellurics'] = 'PCA'\n",
    "frame['url']= 'https://link.springer.com/content/pdf/10.1007/s10686-021-09824-7.pdf'"
   ]
  },
  {
   "cell_type": "code",
   "execution_count": 58,
   "metadata": {
    "ExecuteTime": {
     "end_time": "2022-08-22T16:27:34.376043Z",
     "start_time": "2022-08-22T16:27:34.372315Z"
    },
    "hidden": true
   },
   "outputs": [],
   "source": [
    "hoeijmakers_20b_species = ['Fe', 'Fe+', 'Cr+', 'Na', 'Mg']\n",
    "\n",
    "hoeijmakers_20b_SNRs = np.array([3.45, 4.6, 3.69, 3.40, 3.33])\n",
    "\n",
    "frame = hoeijmakers_20b_frame = pd.DataFrame({'SNR': hoeijmakers_20b_SNRs,\n",
    "                             'species': hoeijmakers_20b_species})\n",
    "\n",
    "frame['lead'] = 'hoeijmakers'\n",
    "frame['planet'] = 'MASCARA-2 b'\n",
    "frame['observation'] = 'emission'\n",
    "frame['instrument'] = 'EXPRES'\n",
    "frame['year'] = 2020\n",
    "frame['new data?'] = True\n",
    "frame['analysis type'] = 'isothermal model grid'\n",
    "frame['tellurics'] = 'Molecfit'\n",
    "frame['url']= 'https://www.aanda.org/articles/aa/pdf/2020/09/aa37437-20.pdf'"
   ]
  },
  {
   "cell_type": "code",
   "execution_count": 59,
   "metadata": {
    "ExecuteTime": {
     "end_time": "2022-08-22T16:27:34.380820Z",
     "start_time": "2022-08-22T16:27:34.377050Z"
    },
    "hidden": true
   },
   "outputs": [],
   "source": [
    "crossfield_11_species = ['']\n",
    "\n",
    "crossfield_11_SNRs = np.array([np.nan])\n",
    "\n",
    "frame = crossfield_11_frame = pd.DataFrame({'SNR': crossfield_11_SNRs,\n",
    "                             'species': crossfield_11_species})\n",
    "\n",
    "frame['lead'] = 'crossfield'\n",
    "frame['planet'] = 'GJ 1214 b'\n",
    "frame['observation'] = 'transit'\n",
    "frame['instrument'] = 'HDS'\n",
    "frame['year'] = 2011\n",
    "frame['new data?'] = True\n",
    "frame['analysis type'] = 'self-consistent model grid (PHOENIX)'\n",
    "frame['tellurics'] = 'XTELLCORR'\n",
    "frame['url']= 'https://iopscience.iop.org/article/10.1088/0004-637X/736/2/132/pdf'"
   ]
  },
  {
   "cell_type": "code",
   "execution_count": 60,
   "metadata": {
    "ExecuteTime": {
     "end_time": "2022-08-22T16:27:34.385819Z",
     "start_time": "2022-08-22T16:27:34.381599Z"
    },
    "hidden": true
   },
   "outputs": [],
   "source": [
    "yan_22_species = ['CO']\n",
    "\n",
    "yan_22_SNRs = np.array([0])\n",
    "\n",
    "frame = yan_22_frame = pd.DataFrame({'SNR': yan_22_SNRs,\n",
    "                             'species': yan_22_species})\n",
    "\n",
    "frame['lead'] = 'yan'\n",
    "frame['planet'] = 'WASP-33 b'\n",
    "frame['observation'] = 'emission'\n",
    "frame['instrument'] = 'GIANO'\n",
    "frame['year'] = 2022\n",
    "frame['new data?'] = True\n",
    "frame['analysis type'] = 'self-consistent model grid (petitRADTRANS)'\n",
    "frame['tellurics'] = 'molecfit, sysrem'\n",
    "frame['url']= 'https://www.aanda.org/articles/aa/pdf/2022/05/aa43503-22.pdf'"
   ]
  },
  {
   "cell_type": "code",
   "execution_count": 61,
   "metadata": {
    "ExecuteTime": {
     "end_time": "2022-08-22T16:27:34.390740Z",
     "start_time": "2022-08-22T16:27:34.387005Z"
    },
    "hidden": true
   },
   "outputs": [],
   "source": [
    "yan_22_2_species = ['CO']\n",
    "\n",
    "yan_22_2_SNRs = np.array([0])\n",
    "\n",
    "frame = yan_22_2_frame = pd.DataFrame({'SNR': yan_22_2_SNRs,\n",
    "                             'species': yan_22_2_species})\n",
    "\n",
    "frame['lead'] = 'yan'\n",
    "frame['planet'] = 'WASP-189 b'\n",
    "frame['observation'] = 'emission'\n",
    "frame['instrument'] = 'GIANO'\n",
    "frame['year'] = 2022\n",
    "frame['new data?'] = True\n",
    "frame['analysis type'] = 'self-consistent model grid (petitRADTRANS)'\n",
    "frame['tellurics'] = 'molecfit, sysrem'\n",
    "frame['url']= 'https://www.aanda.org/articles/aa/pdf/2022/05/aa43503-22.pdf'"
   ]
  },
  {
   "cell_type": "code",
   "execution_count": 62,
   "metadata": {
    "ExecuteTime": {
     "end_time": "2022-08-22T16:27:34.396003Z",
     "start_time": "2022-08-22T16:27:34.391722Z"
    },
    "hidden": true
   },
   "outputs": [],
   "source": [
    "czesla_22_species = ['H alpha', 'He']\n",
    "\n",
    "czesla_22_SNRs = np.array([np.nan, np.nan])\n",
    "\n",
    "frame = czesla_22_frame = pd.DataFrame({'SNR': czesla_22_SNRs,\n",
    "                             'species': czesla_22_species})\n",
    "\n",
    "frame['lead'] = 'czesla'\n",
    "frame['planet'] = 'HAT-P-32 b'\n",
    "frame['observation'] = 'transit'\n",
    "frame['instrument'] = 'CARMENES'\n",
    "frame['year'] = 2022\n",
    "frame['new data?'] = True\n",
    "frame['analysis type'] = 'self-consistent model grid'\n",
    "frame['tellurics'] = 'molecfit'\n",
    "frame['url']= 'https://ui.adsabs.harvard.edu/abs/2022A%26A...657A...6C/abstract'"
   ]
  },
  {
   "cell_type": "code",
   "execution_count": 63,
   "metadata": {
    "ExecuteTime": {
     "end_time": "2022-08-22T16:27:34.400511Z",
     "start_time": "2022-08-22T16:27:34.397006Z"
    },
    "hidden": true
   },
   "outputs": [],
   "source": [
    "gibson_20_species = ['Fe', 'Fe+']\n",
    "\n",
    "gibson_20_SNRs = np.array([8, 0])\n",
    "\n",
    "frame = gibson_20_frame = pd.DataFrame({'SNR': gibson_20_SNRs,\n",
    "                             'species': gibson_20_species})\n",
    "\n",
    "frame['lead'] = 'gibson'\n",
    "frame['planet'] = 'WASP-121 b'\n",
    "frame['observation'] = 'transit'\n",
    "frame['instrument'] = 'UVES'\n",
    "frame['year'] = 2011\n",
    "frame['new data?'] = True\n",
    "frame['analysis type'] = 'self-consistent model grid (PHOENIX)'\n",
    "frame['tellurics'] = ''\n",
    "frame['url']= 'https://ui.adsabs.harvard.edu/abs/2020MNRAS.493.2215G/abstract'"
   ]
  },
  {
   "cell_type": "code",
   "execution_count": 64,
   "metadata": {
    "ExecuteTime": {
     "end_time": "2022-08-22T16:27:34.405504Z",
     "start_time": "2022-08-22T16:27:34.401689Z"
    },
    "hidden": true
   },
   "outputs": [],
   "source": [
    "lockwood_14_species = ['H2O']\n",
    "\n",
    "lockwood_14_SNRs = np.array([6.])\n",
    "\n",
    "frame = lockwood_14_frame = pd.DataFrame({'SNR': lockwood_14_SNRs,\n",
    "                             'species': lockwood_14_species})\n",
    "\n",
    "frame['lead'] = 'lockwood'\n",
    "frame['planet'] = 'tau bootis b'\n",
    "frame['observation'] = 'transit'\n",
    "frame['instrument'] = 'NIRSPEC'\n",
    "frame['year'] = 2014\n",
    "frame['new data?'] = True\n",
    "frame['analysis type'] = 'self-consistent models (MOOG)'\n",
    "frame['tellurics'] = 'TERRASPEC'\n",
    "frame['url']= 'https://iopscience.iop.org/article/10.1088/2041-8205/783/2/L29/pdf'"
   ]
  },
  {
   "cell_type": "code",
   "execution_count": 65,
   "metadata": {
    "ExecuteTime": {
     "end_time": "2022-08-22T16:27:34.410368Z",
     "start_time": "2022-08-22T16:27:34.406376Z"
    },
    "hidden": true
   },
   "outputs": [],
   "source": [
    "stangret_22_species = ['Fe', 'Fe+', 'Ti', 'H alpha', 'H beta', 'Ca+']\n",
    "\n",
    "stangret_22_SNRs = np.array([5.1, 5.4, 4.2, 0, 0, 0])\n",
    "\n",
    "frame = stangret_22_frame = pd.DataFrame({'SNR': stangret_22_SNRs,\n",
    "                             'species': stangret_22_species})\n",
    "\n",
    "frame['lead'] = 'stangret'\n",
    "frame['planet'] = 'WASP-189 b'\n",
    "frame['observation'] = 'transit'\n",
    "frame['instrument'] = 'HARPS-N, HARPS'\n",
    "frame['year'] = 2022\n",
    "frame['new data?'] = True\n",
    "frame['analysis type'] = 'self-consistent models (petitRADTRANS), line-fitting'\n",
    "frame['tellurics'] = 'molecfit'\n",
    "frame['url']= 'https://www.aanda.org/articles/aa/pdf/2022/06/aa41799-21.pdf'"
   ]
  },
  {
   "cell_type": "code",
   "execution_count": 66,
   "metadata": {
    "ExecuteTime": {
     "end_time": "2022-08-22T16:27:34.414610Z",
     "start_time": "2022-08-22T16:27:34.411200Z"
    },
    "hidden": true
   },
   "outputs": [],
   "source": [
    "stangret_22_2_species = ['Al I', 'B I', 'Ca I', 'Cr I', 'Fe I', 'Fe II', 'H2O,' 'K I', 'Li I', 'Mg I', 'Mg II', 'N I', 'Na I', 'Si I', 'Si II', 'Ti I', 'TiO', 'V I', 'V II', 'VO', 'Y I']\n",
    "\n",
    "stangret_22_2_SNRs = np.zeros(len(stangret_22_2_species)) * np.nan\n",
    "\n",
    "frame = stangret_22_2_frame = pd.DataFrame({'SNR': stangret_22_2_SNRs,\n",
    "                             'species': stangret_22_2_species})\n",
    "\n",
    "frame['lead'] = 'stangret'\n",
    "frame['planet'] = 'HAT-P-57 b'\n",
    "frame['observation'] = 'transit'\n",
    "frame['instrument'] = 'HARPS-N, HARPS'\n",
    "frame['year'] = 2022\n",
    "frame['new data?'] = True\n",
    "frame['analysis type'] = 'self-consistent models (petitRADTRANS), line-fitting'\n",
    "frame['tellurics'] = 'molecfit'\n",
    "frame['url']= 'https://www.aanda.org/articles/aa/pdf/2022/06/aa41799-21.pdf'"
   ]
  },
  {
   "cell_type": "code",
   "execution_count": 67,
   "metadata": {
    "ExecuteTime": {
     "end_time": "2022-08-22T16:27:34.418973Z",
     "start_time": "2022-08-22T16:27:34.415369Z"
    },
    "hidden": true
   },
   "outputs": [],
   "source": [
    "stangret_22_3_species = ['Al I', 'B I', 'Ca I', 'Cr I', 'Fe I', 'Fe II', 'H2O,' 'K I', 'Li I', 'Mg I', 'Mg II', 'N I', 'Na I', 'Si I', 'Si II', 'Ti I', 'TiO', 'V I', 'V II', 'VO', 'Y I']\n",
    "\n",
    "stangret_22_3_SNRs = np.zeros(len(stangret_22_2_species)) * np.nan\n",
    "\n",
    "frame = stangret_22_3_frame = pd.DataFrame({'SNR': stangret_22_3_SNRs,\n",
    "                             'species': stangret_22_3_species})\n",
    "\n",
    "frame['lead'] = 'stangret'\n",
    "frame['planet'] = 'KELT-17 b'\n",
    "frame['observation'] = 'transit'\n",
    "frame['instrument'] = 'HARPS-N, HARPS'\n",
    "frame['year'] = 2022\n",
    "frame['new data?'] = True\n",
    "frame['analysis type'] = 'self-consistent models (petitRADTRANS), line-fitting'\n",
    "frame['tellurics'] = 'molecfit'\n",
    "frame['url']= 'https://www.aanda.org/articles/aa/pdf/2022/06/aa41799-21.pdf'"
   ]
  },
  {
   "cell_type": "code",
   "execution_count": 68,
   "metadata": {
    "ExecuteTime": {
     "end_time": "2022-08-22T16:27:34.423048Z",
     "start_time": "2022-08-22T16:27:34.419749Z"
    },
    "hidden": true
   },
   "outputs": [],
   "source": [
    "stangret_22_4_species = ['Al I', 'B I', 'Ca I', 'Cr I', 'Fe I', 'Fe II', 'H2O,' 'K I', 'Li I', 'Mg I', 'Mg II', 'N I', 'Na I', 'Si I', 'Si II', 'Ti I', 'TiO', 'V I', 'V II', 'VO', 'Y I']\n",
    "\n",
    "stangret_22_4_SNRs = np.zeros(len(stangret_22_2_species)) * np.nan\n",
    "\n",
    "frame = stangret_22_4_frame = pd.DataFrame({'SNR': stangret_22_4_SNRs,\n",
    "                             'species': stangret_22_4_species})\n",
    "\n",
    "frame['lead'] = 'stangret'\n",
    "frame['planet'] = 'KELT-21 b'\n",
    "frame['observation'] = 'transit'\n",
    "frame['instrument'] = 'HARPS-N, HARPS'\n",
    "frame['year'] = 2022\n",
    "frame['new data?'] = True\n",
    "frame['analysis type'] = 'self-consistent models (petitRADTRANS), line-fitting'\n",
    "frame['tellurics'] = 'molecfit'\n",
    "frame['url']= 'https://www.aanda.org/articles/aa/pdf/2022/06/aa41799-21.pdf'"
   ]
  },
  {
   "cell_type": "code",
   "execution_count": 69,
   "metadata": {
    "ExecuteTime": {
     "end_time": "2022-08-22T16:27:34.427405Z",
     "start_time": "2022-08-22T16:27:34.423872Z"
    },
    "hidden": true
   },
   "outputs": [],
   "source": [
    "stangret_22_5_species = ['Al I', 'B I', 'Ca I', 'Cr I', 'Fe I', 'Fe II', 'H2O,' 'K I', 'Li I', 'Mg I', 'Mg II', 'N I', 'Na I', 'Si I', 'Si II', 'Ti I', 'TiO', 'V I', 'V II', 'VO', 'Y I']\n",
    "\n",
    "stangret_22_5_SNRs = np.zeros(len(stangret_22_2_species)) * np.nan\n",
    "\n",
    "frame = stangret_22_5_frame = pd.DataFrame({'SNR': stangret_22_5_SNRs,\n",
    "                             'species': stangret_22_5_species})\n",
    "\n",
    "frame['lead'] = 'stangret'\n",
    "frame['planet'] = 'KELT-7 b'\n",
    "frame['observation'] = 'transit'\n",
    "frame['instrument'] = 'HARPS-N, HARPS'\n",
    "frame['year'] = 2022\n",
    "frame['new data?'] = True\n",
    "frame['analysis type'] = 'self-consistent models (petitRADTRANS), line-fitting'\n",
    "frame['tellurics'] = 'molecfit'\n",
    "frame['url']= 'https://www.aanda.org/articles/aa/pdf/2022/06/aa41799-21.pdf'"
   ]
  },
  {
   "cell_type": "code",
   "execution_count": 70,
   "metadata": {
    "ExecuteTime": {
     "end_time": "2022-08-22T16:27:34.432154Z",
     "start_time": "2022-08-22T16:27:34.428434Z"
    },
    "hidden": true
   },
   "outputs": [],
   "source": [
    "stangret_22_6_species = ['Al I', 'B I', 'Ca I', 'Cr I', 'Fe I', 'Fe II', 'H2O,' 'K I', 'Li I', 'Mg I', 'Mg II', 'N I', 'Na I', 'Si I', 'Si II', 'Ti I', 'TiO', 'V I', 'V II', 'VO', 'Y I']\n",
    "\n",
    "stangret_22_6_SNRs = np.zeros(len(stangret_22_2_species)) * np.nan\n",
    "\n",
    "frame = stangret_22_6_frame = pd.DataFrame({'SNR': stangret_22_6_SNRs,\n",
    "                             'species': stangret_22_6_species})\n",
    "\n",
    "frame['lead'] = 'stangret'\n",
    "frame['planet'] = 'KELT-17 b'\n",
    "frame['observation'] = 'transit'\n",
    "frame['instrument'] = 'HARPS-N, HARPS'\n",
    "frame['year'] = 2022\n",
    "frame['new data?'] = True\n",
    "frame['analysis type'] = 'self-consistent models (petitRADTRANS), line-fitting'\n",
    "frame['tellurics'] = 'molecfit'\n",
    "frame['url']= 'https://www.aanda.org/articles/aa/pdf/2022/06/aa41799-21.pdf'"
   ]
  },
  {
   "cell_type": "code",
   "execution_count": 71,
   "metadata": {
    "ExecuteTime": {
     "end_time": "2022-08-22T16:27:34.437370Z",
     "start_time": "2022-08-22T16:27:34.433061Z"
    },
    "hidden": true
   },
   "outputs": [],
   "source": [
    "stangret_22_7_species = ['Al I', 'B I', 'Ca I', 'Cr I', 'Fe I', 'Fe II', 'H2O,' 'K I', 'Li I', 'Mg I', 'Mg II', 'N I', 'Na I', 'Si I', 'Si II', 'Ti I', 'TiO', 'V I', 'V II', 'VO', 'Y I']\n",
    "\n",
    "stangret_22_7_SNRs = np.zeros(len(stangret_22_2_species)) * np.nan\n",
    "\n",
    "frame = stangret_22_7_frame = pd.DataFrame({'SNR': stangret_22_7_SNRs,\n",
    "                             'species': stangret_22_7_species})\n",
    "\n",
    "frame['lead'] = 'stangret'\n",
    "frame['planet'] = 'MASCARA-1 b'\n",
    "frame['observation'] = 'transit'\n",
    "frame['instrument'] = 'HARPS-N, HARPS'\n",
    "frame['year'] = 2022\n",
    "frame['new data?'] = True\n",
    "frame['analysis type'] = 'self-consistent models (petitRADTRANS), line-fitting'\n",
    "frame['tellurics'] = 'molecfit'\n",
    "frame['url']= 'https://www.aanda.org/articles/aa/pdf/2022/06/aa41799-21.pdf'"
   ]
  },
  {
   "cell_type": "code",
   "execution_count": 72,
   "metadata": {
    "ExecuteTime": {
     "end_time": "2022-08-22T16:27:34.441877Z",
     "start_time": "2022-08-22T16:27:34.438344Z"
    },
    "hidden": true
   },
   "outputs": [],
   "source": [
    "esteves_17_species = ['H2O']\n",
    "\n",
    "esteves_17_SNRs = np.array([np.nan])\n",
    "\n",
    "frame = esteves_17_frame = pd.DataFrame({'SNR': esteves_17_SNRs,\n",
    "                             'species': esteves_17_species})\n",
    "\n",
    "frame['lead'] = 'esteves'\n",
    "frame['planet'] = '55 Cancri e'\n",
    "frame['observation'] = 'transit'\n",
    "frame['instrument'] = 'HDS, ESPaDOnS'\n",
    "frame['year'] = 2017\n",
    "frame['new data?'] = True\n",
    "frame['analysis type'] = 'parameterized forward models'\n",
    "frame['tellurics'] = 'sysrem'\n",
    "frame['url']= 'https://iopscience.iop.org/article/10.3847/1538-3881/aa7133/pdf'"
   ]
  },
  {
   "cell_type": "code",
   "execution_count": 73,
   "metadata": {
    "ExecuteTime": {
     "end_time": "2022-08-22T16:27:34.446707Z",
     "start_time": "2022-08-22T16:27:34.443091Z"
    },
    "hidden": true
   },
   "outputs": [],
   "source": [
    "cauley_17_species = ['H alpha', 'Ca+']\n",
    "\n",
    "cauley_17_SNRs = np.array([0, 0])\n",
    "\n",
    "frame = cauley_17_frame = pd.DataFrame({'SNR': cauley_17_SNRs,\n",
    "                             'species': cauley_17_species})\n",
    "\n",
    "frame['lead'] = 'cauley'\n",
    "frame['planet'] = 'HD 189733 b'\n",
    "frame['observation'] = 'transit'\n",
    "frame['instrument'] = 'HARPS, HIRES'\n",
    "frame['year'] = 2017\n",
    "frame['new data?'] = False\n",
    "frame['analysis type'] = 'line-fitting'\n",
    "frame['tellurics'] = 'molecfit'\n",
    "frame['url']= 'https://iopscience.iop.org/article/10.3847/1538-3881/aa6a15/pdf'"
   ]
  },
  {
   "cell_type": "code",
   "execution_count": 74,
   "metadata": {
    "ExecuteTime": {
     "end_time": "2022-08-22T16:27:34.450909Z",
     "start_time": "2022-08-22T16:27:34.447617Z"
    },
    "hidden": true
   },
   "outputs": [],
   "source": [
    "piskorz_16_species = ['H2O']\n",
    "\n",
    "piskorz_16_SNRs = np.array([np.nan])\n",
    "\n",
    "frame = piskorz_16_frame = pd.DataFrame({'SNR': piskorz_16_SNRs,\n",
    "                             'species': piskorz_16_species})\n",
    "\n",
    "frame['lead'] = 'piskorz'\n",
    "frame['planet'] = 'HD 88133 b'\n",
    "frame['observation'] = 'emission'\n",
    "frame['instrument'] = 'HDS, ESPaDOnS'\n",
    "frame['year'] = 2016\n",
    "frame['new data?'] = True\n",
    "frame['analysis type'] = 'self-consistent model (SCARLET)'\n",
    "frame['tellurics'] = 'PCA'\n",
    "frame['url']= 'https://ui.adsabs.harvard.edu/abs/2016ApJ...832..131P/abstract'"
   ]
  },
  {
   "cell_type": "code",
   "execution_count": 75,
   "metadata": {
    "ExecuteTime": {
     "end_time": "2022-08-22T16:27:34.455336Z",
     "start_time": "2022-08-22T16:27:34.451879Z"
    },
    "hidden": true
   },
   "outputs": [],
   "source": [
    "piskorz_17_species = ['H2O', 'CH4']\n",
    "\n",
    "piskorz_17_SNRs = np.array([0, np.nan])\n",
    "\n",
    "frame = piskorz_17_frame = pd.DataFrame({'SNR': piskorz_17_SNRs,\n",
    "                             'species': piskorz_17_species})\n",
    "\n",
    "frame['lead'] = 'piskorz'\n",
    "frame['planet'] = 'ups And b'\n",
    "frame['observation'] = 'emission'\n",
    "frame['instrument'] = 'NIRSPEC'\n",
    "frame['year'] = 2017\n",
    "frame['new data?'] = True\n",
    "frame['analysis type'] = 'self-consistent model (SCARLET)'\n",
    "frame['tellurics'] = 'PCA'\n",
    "frame['url']= 'https://iopscience.iop.org/article/10.3847/1538-3881/aa7dd8/pdf'"
   ]
  },
  {
   "cell_type": "code",
   "execution_count": 76,
   "metadata": {
    "ExecuteTime": {
     "end_time": "2022-08-22T16:27:34.459898Z",
     "start_time": "2022-08-22T16:27:34.456239Z"
    },
    "hidden": true
   },
   "outputs": [],
   "source": [
    "# todo: check that all are 55 cancri e\n",
    "hoeijmakers_15_species = ['TiO']\n",
    "\n",
    "hoeijmakers_15_SNRs = np.array([np.nan])\n",
    "\n",
    "frame = hoeijmakers_15_frame = pd.DataFrame({'SNR': hoeijmakers_15_SNRs,\n",
    "                             'species': hoeijmakers_15_species})\n",
    "\n",
    "frame['lead'] = 'hoeijmakers'\n",
    "frame['planet'] = 'HD 209458 b'\n",
    "frame['observation'] = 'transit'\n",
    "frame['instrument'] = 'HDS'\n",
    "frame['year'] = 2015\n",
    "frame['new data?'] = True\n",
    "frame['analysis type'] = 'self-consistent model grid'\n",
    "frame['tellurics'] = 'normalization'\n",
    "frame['url']= 'https://www.aanda.org/articles/aa/pdf/2015/03/aa24794-14.pdf'"
   ]
  },
  {
   "cell_type": "code",
   "execution_count": 77,
   "metadata": {
    "ExecuteTime": {
     "end_time": "2022-08-22T16:27:34.464321Z",
     "start_time": "2022-08-22T16:27:34.460895Z"
    },
    "hidden": true
   },
   "outputs": [],
   "source": [
    "# todo: distinguish between HARPS, HARPS-N\n",
    "# todo: add telescope?\n",
    "# todo: get statistics on the telescope\n",
    "yan_21_species = ['H alpha', 'H beta', 'H gamma']\n",
    "\n",
    "yan_21_SNRs = np.array([20, 8, 2.3])\n",
    "\n",
    "frame = yan_21_frame = pd.DataFrame({'SNR': yan_21_SNRs,\n",
    "                             'species': yan_21_species})\n",
    "\n",
    "frame['lead'] = 'yan'\n",
    "frame['planet'] = 'WASP-33 b'\n",
    "frame['observation'] = 'transit'\n",
    "frame['instrument'] = 'CARMENES, HARPS-N'\n",
    "frame['year'] = 2021\n",
    "frame['new data?'] = True\n",
    "frame['analysis type'] = 'self-consistent model grid'\n",
    "frame['tellurics'] = 'theoretical Earth spectrum'\n",
    "frame['url']= 'https://ui.adsabs.harvard.edu/abs/2021A%26A...645A..22Y/abstract'"
   ]
  },
  {
   "cell_type": "code",
   "execution_count": 78,
   "metadata": {
    "ExecuteTime": {
     "end_time": "2022-08-22T16:27:34.468896Z",
     "start_time": "2022-08-22T16:27:34.465318Z"
    },
    "hidden": true
   },
   "outputs": [],
   "source": [
    "# non-transiting!\n",
    "buzard_20_species = ['H2O']\n",
    "\n",
    "buzard_20_SNRs = np.array([6.5])\n",
    "\n",
    "frame = buzard_20_frame = pd.DataFrame({'SNR': buzard_20_SNRs,\n",
    "                             'species': buzard_20_species})\n",
    "\n",
    "frame['lead'] = 'buzard'\n",
    "frame['planet'] = 'HD 187123 b'\n",
    "frame['observation'] = 'emission'\n",
    "frame['instrument'] = 'NIRSPEC'\n",
    "frame['year'] = 2020\n",
    "frame['new data?'] = True\n",
    "frame['analysis type'] = 'self-consistent model grid'\n",
    "frame['tellurics'] = 'PCA, molecfit'\n",
    "frame['url']= 'https://iopscience.iop.org/article/10.3847/1538-3881/ab8f9c/pdf'"
   ]
  },
  {
   "cell_type": "code",
   "execution_count": 79,
   "metadata": {
    "ExecuteTime": {
     "end_time": "2022-08-22T16:27:34.472929Z",
     "start_time": "2022-08-22T16:27:34.469700Z"
    },
    "hidden": true
   },
   "outputs": [],
   "source": [
    "# they think the detection is dubious — it's distinct in Kp/Vsys space from the older line list,\n",
    "# and it's at a lower significance.\n",
    "serindag_21_species = ['TiO']\n",
    "\n",
    "serindag_21_SNRs = np.array([4.3])\n",
    "\n",
    "frame = serindag_21_frame = pd.DataFrame({'SNR': serindag_21_SNRs,\n",
    "                             'species': serindag_21_species})\n",
    "\n",
    "frame['lead'] = 'serindag'\n",
    "frame['planet'] = 'WASP-33 b'\n",
    "frame['observation'] = 'transit'\n",
    "frame['instrument'] = 'HDS'\n",
    "frame['year'] = 2021\n",
    "frame['new data?'] = False\n",
    "frame['analysis type'] = 'self-consistent model grid'\n",
    "frame['tellurics'] = 'masking, SVD'\n",
    "frame['url']= 'https://ui.adsabs.harvard.edu/abs/2021A%26A...645A..90S/abstract'"
   ]
  },
  {
   "cell_type": "code",
   "execution_count": 80,
   "metadata": {
    "ExecuteTime": {
     "end_time": "2022-08-22T16:27:34.477225Z",
     "start_time": "2022-08-22T16:27:34.474011Z"
    },
    "hidden": true
   },
   "outputs": [],
   "source": [
    "# todo: check that all are 55 cancri e\n",
    "jindal_20_species = ['TiO', 'VO']\n",
    "\n",
    "jindal_20_SNRs = np.array([np.nan, np.nan])\n",
    "\n",
    "frame = jindal_20_frame = pd.DataFrame({'SNR': jindal_20_SNRs,\n",
    "                             'species': jindal_20_species})\n",
    "\n",
    "frame['lead'] = 'jindal'\n",
    "frame['planet'] = '55 Cancri e'\n",
    "frame['observation'] = 'transit'\n",
    "frame['instrument'] = 'GRACES'\n",
    "frame['year'] = 2018\n",
    "frame['new data?'] = True\n",
    "frame['analysis type'] = 'self-consistent model grid'\n",
    "frame['tellurics'] = 'sysrem'\n",
    "frame['url']= 'https://iopscience.iop.org/article/10.3847/1538-3881/aba1eb/meta'"
   ]
  },
  {
   "cell_type": "code",
   "execution_count": 81,
   "metadata": {
    "ExecuteTime": {
     "end_time": "2022-08-22T16:27:34.481221Z",
     "start_time": "2022-08-22T16:27:34.478020Z"
    },
    "hidden": true
   },
   "outputs": [],
   "source": [
    "cont_21_species = ['Fe', 'TiO']\n",
    "\n",
    "cont_21_SNRs = np.array([7.3, 4.9])\n",
    "\n",
    "frame = cont_21_frame = pd.DataFrame({'SNR': cont_21_SNRs,\n",
    "                             'species': cont_21_species})\n",
    "\n",
    "frame['lead'] = 'cont'\n",
    "frame['planet'] = 'WASP-33 b'\n",
    "frame['observation'] = 'transit'\n",
    "frame['instrument'] = 'CARMENES'\n",
    "frame['year'] = 2021\n",
    "frame['new data?'] = True\n",
    "frame['analysis type'] = 'parameterized model grid'\n",
    "frame['tellurics'] = 'sysrem'\n",
    "frame['url']= 'https://arxiv.org/pdf/2105.10230.pdf'"
   ]
  },
  {
   "cell_type": "code",
   "execution_count": 82,
   "metadata": {
    "ExecuteTime": {
     "end_time": "2022-08-22T16:27:34.498477Z",
     "start_time": "2022-08-22T16:27:34.494873Z"
    },
    "hidden": true
   },
   "outputs": [],
   "source": [
    "stangret_20_species = ['Fe', 'Fe+']\n",
    "\n",
    "stangret_20_SNRs = np.array([10.5, 8.6])\n",
    "\n",
    "frame = stangret_20_frame = pd.DataFrame({'SNR': stangret_20_SNRs,\n",
    "                             'species': stangret_20_species})\n",
    "\n",
    "frame['lead'] = 'stangret'\n",
    "frame['planet'] = 'KELT-20 b'\n",
    "frame['observation'] = 'transit'\n",
    "frame['instrument'] = 'HARPS-N'\n",
    "frame['year'] = 2020\n",
    "frame['new data?'] = True\n",
    "frame['analysis type'] = 'self-consistent model grid (petitRADTRANS)'\n",
    "frame['tellurics'] = 'sysrem'\n",
    "frame['url']= 'https://www.aanda.org/articles/aa/pdf/2020/06/aa37541-20.pdf'"
   ]
  },
  {
   "cell_type": "code",
   "execution_count": 83,
   "metadata": {
    "ExecuteTime": {
     "end_time": "2022-08-22T16:27:34.502965Z",
     "start_time": "2022-08-22T16:27:34.499534Z"
    },
    "hidden": true
   },
   "outputs": [],
   "source": [
    "casasayas_barris_21_species = ['K']\n",
    "\n",
    "casasayas_barris_21_SNRs = np.array([np.nan])\n",
    "\n",
    "frame = casasayas_barris_21_frame = pd.DataFrame({'SNR': casasayas_barris_21_SNRs,\n",
    "                             'species': casasayas_barris_21_species})\n",
    "\n",
    "frame['lead'] = 'casasayas-barris'\n",
    "frame['planet'] = 'HD 209458 b'\n",
    "frame['observation'] = 'transit'\n",
    "frame['instrument'] = 'UVES'\n",
    "frame['year'] = 2021\n",
    "frame['new data?'] = True\n",
    "frame['analysis type'] = 'parameterized model grid'\n",
    "frame['tellurics'] = 'molecfit + DRP?'\n",
    "frame['url']= 'https://www.aanda.org/articles/aa/pdf/2021/03/aa39539-20.pdf'\n",
    "\n"
   ]
  },
  {
   "cell_type": "code",
   "execution_count": 84,
   "metadata": {
    "ExecuteTime": {
     "end_time": "2022-08-22T16:27:34.507027Z",
     "start_time": "2022-08-22T16:27:34.503790Z"
    },
    "hidden": true
   },
   "outputs": [],
   "source": [
    "deibert_21_species = ['Ca+']\n",
    "\n",
    "deibert_21_SNRs = np.array([0])\n",
    "\n",
    "frame = casasayas_barris_21_frame = pd.DataFrame({'SNR': deibert_21_SNRs,\n",
    "                             'species': deibert_21_species})\n",
    "\n",
    "frame['lead'] = 'deibert'\n",
    "frame['planet'] = 'WASP-76 b'\n",
    "frame['observation'] = 'transit'\n",
    "frame['instrument'] = 'GRACES'\n",
    "frame['year'] = 2021\n",
    "frame['new data?'] = True\n",
    "frame['analysis type'] = 'self-consistent model grid (CLOUDY)'\n",
    "frame['tellurics'] = 'sysrem'\n",
    "frame['url']= 'https://iopscience.iop.org/article/10.3847/2041-8213/ac2513/pdf'\n",
    "\n"
   ]
  },
  {
   "cell_type": "code",
   "execution_count": 85,
   "metadata": {
    "ExecuteTime": {
     "end_time": "2022-08-22T16:27:34.511234Z",
     "start_time": "2022-08-22T16:27:34.507802Z"
    },
    "hidden": true
   },
   "outputs": [],
   "source": [
    "deibert_21b_species = ['HCN', 'C2H2', 'NH3']\n",
    "\n",
    "deibert_21b_SNRs = np.array([np.nan, np.nan, np.nan])\n",
    "\n",
    "frame = deibert_21b_frame = pd.DataFrame({'SNR': deibert_21b_SNRs,\n",
    "                             'species': deibert_21b_species})\n",
    "\n",
    "frame['lead'] = 'Deibert'\n",
    "frame['planet'] = '55 Cancri e'\n",
    "frame['observation'] = 'transit'\n",
    "frame['instrument'] = 'CARMENES'\n",
    "frame['year'] = 2021\n",
    "frame['new data?'] = True\n",
    "frame['analysis type'] = ''\n",
    "frame['tellurics'] = ''\n",
    "frame['url']= 'https://iopscience.iop.org/article/10.3847/2041-8213/ac2513/pdf'\n",
    "\n"
   ]
  },
  {
   "cell_type": "code",
   "execution_count": 86,
   "metadata": {
    "ExecuteTime": {
     "end_time": "2022-08-22T16:27:34.515563Z",
     "start_time": "2022-08-22T16:27:34.512107Z"
    },
    "hidden": true
   },
   "outputs": [],
   "source": [
    "ridden_harper_16_species = ['Na', 'Ca+']\n",
    "\n",
    "ridden_harper_16_SNRs = np.array([3, 4.1])\n",
    "\n",
    "frame = ridden_harper_16_frame = pd.DataFrame({'SNR': ridden_harper_16_SNRs,\n",
    "                             'species': ridden_harper_16_species})\n",
    "\n",
    "frame['lead'] = 'ridden-harper'\n",
    "frame['planet'] = '55 Cancri e'\n",
    "frame['observation'] = 'transit'\n",
    "frame['instrument'] = 'UVES, HARPS-N'\n",
    "frame['year'] = 2016\n",
    "frame['new data?'] = True\n",
    "frame['analysis type'] = 'parameterized model grid'\n",
    "frame['tellurics'] = 'PCA'\n",
    "frame['url']= 'https://www.aanda.org/articles/aa/pdf/2016/09/aa28448-16.pdf'\n",
    "\n"
   ]
  },
  {
   "cell_type": "code",
   "execution_count": 87,
   "metadata": {
    "ExecuteTime": {
     "end_time": "2022-08-22T16:27:34.520057Z",
     "start_time": "2022-08-22T16:27:34.516450Z"
    },
    "hidden": true
   },
   "outputs": [],
   "source": [
    "rainer_21_species = ['Fe']\n",
    "\n",
    "rainer_21_SNRs = np.array([0])\n",
    "\n",
    "frame = rainer_21_frame = pd.DataFrame({'SNR': rainer_21_SNRs,\n",
    "                             'species': rainer_21_species})\n",
    "\n",
    "frame['lead'] = 'rainer'\n",
    "frame['planet'] = 'KELT-20 b'\n",
    "frame['observation'] = 'transit'\n",
    "frame['instrument'] = 'HARPS-N'\n",
    "frame['year'] = 2021\n",
    "frame['new data?'] = True\n",
    "frame['analysis type'] = 'parameterized model grid'\n",
    "frame['tellurics'] = 'normalization'\n",
    "frame['url']= 'https://www.aanda.org/articles/aa/pdf/2021/05/aa39247-20.pdf'\n",
    "\n"
   ]
  },
  {
   "cell_type": "code",
   "execution_count": 88,
   "metadata": {
    "ExecuteTime": {
     "end_time": "2022-08-22T16:27:34.525054Z",
     "start_time": "2022-08-22T16:27:34.521043Z"
    },
    "hidden": true
   },
   "outputs": [],
   "source": [
    "# todo: read! it's a retrieval and it's tellurics!\n",
    "#/ have some relative abundances here\n",
    "gibson_22_species = ['K']\n",
    "\n",
    "gibson_22_SNRs = np.array([np.nan])\n",
    "\n",
    "frame = gibson_22_frame = pd.DataFrame({'SNR': gibson_22_SNRs,\n",
    "                             'species': gibson_22_species})\n",
    "\n",
    "frame['lead'] = 'gibson'\n",
    "frame['planet'] = 'WASP-121 b'\n",
    "frame['observation'] = 'transit'\n",
    "frame['instrument'] = 'UVES'\n",
    "frame['year'] = 2022\n",
    "frame['new data?'] = True\n",
    "frame['analysis type'] = 'retrieval'\n",
    "frame['tellurics'] = 'fast-filtering'\n",
    "frame['url']= 'https://academic.oup.com/mnras/article-abstract/512/3/4618/6510825'"
   ]
  },
  {
   "cell_type": "code",
   "execution_count": 89,
   "metadata": {
    "ExecuteTime": {
     "end_time": "2022-08-22T16:27:34.529829Z",
     "start_time": "2022-08-22T16:27:34.526107Z"
    },
    "hidden": true
   },
   "outputs": [],
   "source": [
    "gibson_18_species = ['K']\n",
    "\n",
    "gibson_18_SNRs = np.array([np.nan])\n",
    "\n",
    "frame = gibson_18_frame = pd.DataFrame({'SNR': gibson_18_SNRs,\n",
    "                             'species': gibson_18_species})\n",
    "\n",
    "frame['lead'] = 'gibson'\n",
    "frame['planet'] = 'WASP-31 b'\n",
    "frame['observation'] = 'transit'\n",
    "frame['instrument'] = 'UVES'\n",
    "frame['year'] = 2018\n",
    "frame['new data?'] = True\n",
    "frame['analysis type'] = 'self-consistent model grid'\n",
    "frame['tellurics'] = 'masking, sysrem'\n",
    "frame['url']= 'https://academic.oup.com/mnras/article/482/1/606/5126364'"
   ]
  },
  {
   "cell_type": "code",
   "execution_count": 90,
   "metadata": {
    "ExecuteTime": {
     "end_time": "2022-08-22T16:27:34.533692Z",
     "start_time": "2022-08-22T16:27:34.530715Z"
    },
    "hidden": true
   },
   "outputs": [],
   "source": [
    "pai_asnodkar_22_species = ['Fe+']\n",
    "\n",
    "pai_asnodkar_22_SNRs = np.array([0])\n",
    "\n",
    "frame = pai_asnodkar_22_frame = pd.DataFrame({'SNR': pai_asnodkar_22_SNRs,\n",
    "                             'species': pai_asnodkar_22_species})\n",
    "\n",
    "frame['lead'] = 'pai asnodkar'\n",
    "frame['planet'] = 'KELT-9 b'\n",
    "frame['observation'] = 'transit'\n",
    "frame['instrument'] = 'PEPSI'\n",
    "frame['year'] = 2022\n",
    "frame['new data?'] = True\n",
    "frame['analysis type'] = 'self-consistent model grid'\n",
    "frame['tellurics'] = '?'\n",
    "frame['url']= 'https://iopscience.iop.org/article/10.3847/1538-3881/ac51d2/pdf'"
   ]
  },
  {
   "cell_type": "code",
   "execution_count": 91,
   "metadata": {
    "ExecuteTime": {
     "end_time": "2022-08-22T16:27:34.537662Z",
     "start_time": "2022-08-22T16:27:34.534496Z"
    },
    "hidden": true
   },
   "outputs": [],
   "source": [
    "khalafinejad_18_species = ['Na']\n",
    "\n",
    "khalafinejad_18_SNRs = np.array([np.nan])\n",
    "\n",
    "frame = khalafinejad_18_frame = pd.DataFrame({'SNR': khalafinejad_18_SNRs,\n",
    "                             'species': khalafinejad_18_species})\n",
    "\n",
    "frame['lead'] = 'khalafinejad'\n",
    "frame['planet'] = 'WASP-17 b'\n",
    "frame['observation'] = 'transit'\n",
    "frame['instrument'] = 'MIKE'\n",
    "frame['year'] = 2018\n",
    "frame['new data?'] = True\n",
    "frame['analysis type'] = 'self-consistent model grid'\n",
    "frame['tellurics'] = 'Moehler et al. (2014) transmission spectrum'\n",
    "frame['url']= 'https://www.aanda.org/articles/aa/abs/2018/10/aa32029-17/aa32029-17.html'"
   ]
  },
  {
   "cell_type": "code",
   "execution_count": 92,
   "metadata": {
    "ExecuteTime": {
     "end_time": "2022-08-22T16:27:34.541513Z",
     "start_time": "2022-08-22T16:27:34.538458Z"
    },
    "hidden": true
   },
   "outputs": [],
   "source": [
    "kasper_20_species = ['He']\n",
    "\n",
    "kasper_20_SNRs = np.array([np.nan])\n",
    "\n",
    "frame = kasper_20_frame = pd.DataFrame({'SNR': kasper_20_SNRs,\n",
    "                             'species': kasper_20_species})\n",
    "\n",
    "frame['lead'] = 'kasper'\n",
    "frame['planet'] = 'GJ 1214 b'\n",
    "frame['observation'] = 'transit'\n",
    "frame['instrument'] = 'KECK/NIRSPEC'\n",
    "frame['year'] = 2020\n",
    "frame['new data?'] = True\n",
    "frame['analysis type'] = 'self-consistent model grid'\n",
    "frame['tellurics'] = 'Molecfit'\n",
    "frame['url']= 'https://iopscience.iop.org/article/10.3847/1538-3881/abbee6/meta'"
   ]
  },
  {
   "cell_type": "code",
   "execution_count": 93,
   "metadata": {
    "ExecuteTime": {
     "end_time": "2022-08-22T16:27:34.545381Z",
     "start_time": "2022-08-22T16:27:34.542233Z"
    },
    "hidden": true
   },
   "outputs": [],
   "source": [
    "kasper_20_2_species = ['He']\n",
    "\n",
    "kasper_20_2_SNRs = np.array([np.nan])\n",
    "\n",
    "frame = kasper_20_2_frame = pd.DataFrame({'SNR': kasper_20_2_SNRs,\n",
    "                             'species': kasper_20_2_species})\n",
    "\n",
    "frame['lead'] = 'kasper'\n",
    "frame['planet'] = 'GJ 9827d b'\n",
    "frame['observation'] = 'transit'\n",
    "frame['instrument'] = 'KECK/NIRSPEC'\n",
    "frame['year'] = 2020\n",
    "frame['new data?'] = True\n",
    "frame['analysis type'] = 'self-consistent model grid'\n",
    "frame['tellurics'] = 'Molecfit'\n",
    "frame['url']= 'https://iopscience.iop.org/article/10.3847/1538-3881/abbee6/meta'"
   ]
  },
  {
   "cell_type": "code",
   "execution_count": 94,
   "metadata": {
    "ExecuteTime": {
     "end_time": "2022-08-22T16:27:34.549227Z",
     "start_time": "2022-08-22T16:27:34.546268Z"
    },
    "hidden": true
   },
   "outputs": [],
   "source": [
    "kasper_20_3_species = ['He']\n",
    "\n",
    "kasper_20_3_SNRs = np.array([np.nan])\n",
    "\n",
    "frame = kasper_20_2_frame = pd.DataFrame({'SNR': kasper_20_3_SNRs,\n",
    "                             'species': kasper_20_3_species})\n",
    "\n",
    "frame['lead'] = 'kasper'\n",
    "frame['planet'] = 'GJ 97658 b'\n",
    "frame['observation'] = 'transit'\n",
    "frame['instrument'] = 'KECK/NIRSPEC'\n",
    "frame['year'] = 2020\n",
    "frame['new data?'] = True\n",
    "frame['analysis type'] = 'self-consistent model grid'\n",
    "frame['tellurics'] = 'Molecfit'\n",
    "frame['url']= 'https://iopscience.iop.org/article/10.3847/1538-3881/abbee6/meta'"
   ]
  },
  {
   "cell_type": "code",
   "execution_count": 95,
   "metadata": {
    "ExecuteTime": {
     "end_time": "2022-08-22T16:27:34.553018Z",
     "start_time": "2022-08-22T16:27:34.549981Z"
    },
    "hidden": true
   },
   "outputs": [],
   "source": [
    "kasper_22_species = ['Fe', 'Ni']\n",
    "# todo: add abundances here!\n",
    "\n",
    "kasper_22_SNRs = np.array([9.8, 4.7])\n",
    "\n",
    "frame = kasper_22_frame = pd.DataFrame({'SNR': kasper_22_SNRs,\n",
    "                             'species': kasper_22_species})\n",
    "\n",
    "frame['lead'] = 'kasper'\n",
    "frame['planet'] = 'KELT-20 b'\n",
    "frame['observation'] = 'emission'\n",
    "frame['instrument'] = 'MAROON-X'\n",
    "frame['year'] = 2022\n",
    "frame['new data?'] = True\n",
    "frame['analysis type'] = 'retrieval'\n",
    "frame['tellurics'] = 'SVD (PCA?)'\n",
    "frame['url']= 'https://arxiv.org/pdf/2208.04759.pdf'"
   ]
  },
  {
   "cell_type": "code",
   "execution_count": 96,
   "metadata": {
    "ExecuteTime": {
     "end_time": "2022-08-22T16:27:34.557478Z",
     "start_time": "2022-08-22T16:27:34.553992Z"
    },
    "hidden": true
   },
   "outputs": [],
   "source": [
    "mccloat_21_species = ['Na']\n",
    "# todo: add read tellurics\n",
    "\n",
    "mccloat_21_SNRs = np.array([7.])\n",
    "\n",
    "frame = mccloat_21_frame = pd.DataFrame({'SNR': mccloat_21_SNRs,\n",
    "                             'species': mccloat_21_species})\n",
    "\n",
    "frame['lead'] = 'mccloat'\n",
    "frame['planet'] = 'KELT-10 b'\n",
    "frame['observation'] = 'transit'\n",
    "frame['instrument'] = 'UVES'\n",
    "frame['year'] = 2021\n",
    "frame['new data?'] = True\n",
    "frame['analysis type'] = 'retrieval'\n",
    "frame['tellurics'] = 'molecfit'\n",
    "frame['url']= 'https://iopscience.iop.org/article/10.3847/1538-3881/ac132b/pdf'"
   ]
  },
  {
   "cell_type": "code",
   "execution_count": 97,
   "metadata": {
    "ExecuteTime": {
     "end_time": "2022-08-22T16:27:34.562238Z",
     "start_time": "2022-08-22T16:27:34.558453Z"
    },
    "hidden": true
   },
   "outputs": [],
   "source": [
    "wang_21_species = ['CO', 'H2O', 'CH4']\n",
    "\n",
    "wang_21_SNRs = np.array([3, 3, np.nan]) # when combined\n",
    "\n",
    "frame = wang_21_frame = pd.DataFrame({'SNR': wang_21_SNRs,\n",
    "                             'species': wang_21_species})\n",
    "\n",
    "frame['lead'] = 'J Wang'\n",
    "frame['planet'] = 'HR 8799 b'\n",
    "frame['observation'] = 'direct imaging'\n",
    "frame['instrument'] = 'Keck Planet Imager and Characterizer'\n",
    "frame['year'] = 2021\n",
    "frame['new data?'] = True\n",
    "frame['analysis type'] = 'self-consistent forward models'\n",
    "frame['tellurics'] = 'ATRAN'\n",
    "frame['url']= 'https://iopscience.iop.org/article/10.3847/1538-3881/ac1349/pdf'"
   ]
  },
  {
   "cell_type": "code",
   "execution_count": 98,
   "metadata": {
    "ExecuteTime": {
     "end_time": "2022-08-22T16:27:34.566947Z",
     "start_time": "2022-08-22T16:27:34.563159Z"
    },
    "hidden": true
   },
   "outputs": [],
   "source": [
    "wang_21_2_species = ['CO', 'H2O', 'CH4']\n",
    "\n",
    "wang_21_2_SNRs = np.array([5, 6, np.nan]) # when combined\n",
    "\n",
    "frame = wang_21_2_frame = pd.DataFrame({'SNR': wang_21_2_SNRs,\n",
    "                             'species': wang_21_2_species})\n",
    "\n",
    "frame['lead'] = 'J Wang'\n",
    "frame['planet'] = 'HR 8799 c'\n",
    "frame['observation'] = 'direct imaging'\n",
    "frame['instrument'] = 'Keck Planet Imager and Characterizer'\n",
    "frame['year'] = 2021\n",
    "frame['new data?'] = True\n",
    "frame['analysis type'] = 'self-consistent forward models'\n",
    "frame['tellurics'] = 'ATRAN'\n",
    "frame['url']= 'https://iopscience.iop.org/article/10.3847/1538-3881/ac1349/pdf'"
   ]
  },
  {
   "cell_type": "code",
   "execution_count": 99,
   "metadata": {
    "ExecuteTime": {
     "end_time": "2022-08-22T16:27:34.572207Z",
     "start_time": "2022-08-22T16:27:34.567916Z"
    },
    "hidden": true
   },
   "outputs": [],
   "source": [
    "wang_21_3_species = ['CO', 'H2O', 'CH4']\n",
    "\n",
    "wang_21_3_SNRs = np.array([5, 5, np.nan]) # when combined\n",
    "\n",
    "frame = wang_21_3_frame = pd.DataFrame({'SNR': wang_21_3_SNRs,\n",
    "                             'species': wang_21_3_species})\n",
    "\n",
    "frame['lead'] = 'J Wang'\n",
    "frame['planet'] = 'HR 8799 d'\n",
    "frame['observation'] = 'direct imaging'\n",
    "frame['instrument'] = 'Keck Planet Imager and Characterizer'\n",
    "frame['year'] = 2021\n",
    "frame['new data?'] = True\n",
    "frame['analysis type'] = 'self-consistent forward models'\n",
    "frame['tellurics'] = 'ATRAN'\n",
    "frame['url']= 'https://iopscience.iop.org/article/10.3847/1538-3881/ac1349/pdf'"
   ]
  },
  {
   "cell_type": "code",
   "execution_count": 100,
   "metadata": {
    "ExecuteTime": {
     "end_time": "2022-08-22T16:27:34.576713Z",
     "start_time": "2022-08-22T16:27:34.573128Z"
    },
    "hidden": true
   },
   "outputs": [],
   "source": [
    "wang_21_4_species = ['CO', 'H2O', 'CH4']\n",
    "\n",
    "wang_21_4_SNRs = np.array([5, 5, np.nan]) # when combined\n",
    "\n",
    "frame = wang_21_4_frame = pd.DataFrame({'SNR': wang_21_4_SNRs,\n",
    "                             'species': wang_21_4_species})\n",
    "\n",
    "frame['lead'] = 'J Wang'\n",
    "frame['planet'] = 'HR 8799 e'\n",
    "frame['observation'] = 'direct imaging'\n",
    "frame['instrument'] = 'Keck Planet Imager and Characterizer'\n",
    "frame['year'] = 2021\n",
    "frame['new data?'] = True\n",
    "frame['analysis type'] = 'self-consistent forward models'\n",
    "frame['tellurics'] = 'ATRAN'\n",
    "frame['url']= 'https://iopscience.iop.org/article/10.3847/1538-3881/ac1349/pdf'"
   ]
  },
  {
   "cell_type": "code",
   "execution_count": 101,
   "metadata": {
    "ExecuteTime": {
     "end_time": "2022-08-22T16:27:34.581716Z",
     "start_time": "2022-08-22T16:27:34.577696Z"
    },
    "hidden": true
   },
   "outputs": [],
   "source": [
    "sedaghati_21_species = ['TiO', 'Fe']\n",
    "\n",
    "sedaghati_21_SNRs = np.array([3.2, np.nan]) # when combined\n",
    "\n",
    "frame = sedaghati_21_frame = pd.DataFrame({'SNR': sedaghati_21_SNRs,\n",
    "                             'species': sedaghati_21_species})\n",
    "\n",
    "frame['lead'] = 'sedaghati'\n",
    "frame['planet'] = 'WASP-19 b'\n",
    "frame['observation'] = 'transit'\n",
    "frame['instrument'] = 'ESPRESSO'\n",
    "frame['year'] = 2021\n",
    "frame['new data?'] = True\n",
    "frame['analysis type'] = 'self-consistent forward models'\n",
    "frame['tellurics'] = 'ATRAN'\n",
    "frame['url']= 'https://academic.oup.com/mnras/article-abstract/505/1/435/6247610?redirectedFrom=PDF'"
   ]
  },
  {
   "cell_type": "code",
   "execution_count": 102,
   "metadata": {
    "ExecuteTime": {
     "end_time": "2022-08-22T16:27:34.586928Z",
     "start_time": "2022-08-22T16:27:34.582638Z"
    },
    "hidden": true
   },
   "outputs": [],
   "source": [
    "seidel_20_species = ['Na']\n",
    "\n",
    "seidel_20_SNRs = np.array([np.nan])\n",
    "\n",
    "frame = seidel_20_frame = pd.DataFrame({'SNR': seidel_20_SNRs,\n",
    "                             'species': seidel_20_species})\n",
    "\n",
    "frame['lead'] = 'seidel'\n",
    "frame['planet'] = 'WASP-127 b'\n",
    "frame['observation'] = 'transit'\n",
    "frame['instrument'] = 'HARPS'\n",
    "frame['year'] = 2020\n",
    "frame['new data?'] = True\n",
    "frame['analysis type'] = 'self-consistent model grid'\n",
    "frame['tellurics'] = 'masking (?)'\n",
    "frame['url']= 'https://www.aanda.org/articles/aa/pdf/2020/11/aa39058-20.pdf'"
   ]
  },
  {
   "cell_type": "code",
   "execution_count": 103,
   "metadata": {
    "ExecuteTime": {
     "end_time": "2022-08-22T16:27:34.591463Z",
     "start_time": "2022-08-22T16:27:34.587821Z"
    },
    "hidden": true
   },
   "outputs": [],
   "source": [
    "cubillos_11_species = ['H2O']\n",
    "\n",
    "cubillos_11_SNRs = np.array([np.nan])\n",
    "\n",
    "frame = cubillos_11_frame = pd.DataFrame({'SNR': cubillos_11_SNRs,\n",
    "                             'species': cubillos_11_species})\n",
    "\n",
    "frame['lead'] = 'cubillos'\n",
    "frame['planet'] = 'HD 217107'\n",
    "frame['observation'] = 'emission'\n",
    "frame['instrument'] = 'Phoenix'\n",
    "frame['year'] = 2011\n",
    "frame['new data?'] = True\n",
    "frame['analysis type'] = 'self-consistent model grid'\n",
    "frame['tellurics'] = 'masking (?)'\n",
    "frame['url']= 'https://www.aanda.org/articles/aa/abs/2011/05/aa15802-10/aa15802-10.html'"
   ]
  },
  {
   "cell_type": "code",
   "execution_count": 104,
   "metadata": {
    "ExecuteTime": {
     "end_time": "2022-08-22T16:27:34.596531Z",
     "start_time": "2022-08-22T16:27:34.592655Z"
    },
    "hidden": true
   },
   "outputs": [],
   "source": [
    "holmberg_22_species = ['H2O', 'CO']\n",
    "\n",
    "holmberg_22_SNRs = np.array([5.3, 12.9])\n",
    "\n",
    "frame = holmberg_22_frame = pd.DataFrame({'SNR': holmberg_22_SNRs,\n",
    "                             'species': holmberg_22_species})\n",
    "\n",
    "frame['lead'] = 'holmberg'\n",
    "frame['planet'] = 'MASCARA-1 b'\n",
    "frame['observation'] = 'emission'\n",
    "frame['instrument'] = 'CRIRES+'\n",
    "frame['year'] = 2022\n",
    "frame['new data?'] = True\n",
    "frame['analysis type'] = 'self-consistent model grid'\n",
    "frame['tellurics'] = 'ESO sky model'\n",
    "frame['url']= 'https://iopscience.iop.org/article/10.3847/1538-3881/ac77eb/meta'"
   ]
  },
  {
   "cell_type": "code",
   "execution_count": 105,
   "metadata": {
    "ExecuteTime": {
     "end_time": "2022-08-22T16:27:34.600857Z",
     "start_time": "2022-08-22T16:27:34.597402Z"
    },
    "hidden": true
   },
   "outputs": [],
   "source": [
    "# todo: read: tellurics. and check whether it's really a null detection.\n",
    "meech_22_species = ['H2O', 'CO2']\n",
    "\n",
    "meech_22_SNRs = np.array([np.nan, np.nan])\n",
    "\n",
    "frame = meech_22_frame = pd.DataFrame({'SNR': meech_22_SNRs,\n",
    "                             'species': meech_22_species})\n",
    "\n",
    "frame['lead'] = 'meech'\n",
    "frame['planet'] = 'MASCARA-1 b'\n",
    "frame['observation'] = 'emission'\n",
    "frame['instrument'] = 'CRIRES+'\n",
    "frame['year'] = 2022\n",
    "frame['new data?'] = True\n",
    "frame['analysis type'] = 'self-consistent model grid'\n",
    "frame['tellurics'] = 'Gaussian process, airmass scaling'\n",
    "frame['url']= 'https://watermark.silverchair.com/stac662.pdf?token=AQECAHi208BE49Ooan9kkhW_Ercy7Dm3ZL_9Cf3qfKAc485ysgAAAt4wggLaBgkqhkiG9w0BBwagggLLMIICxwIBADCCAsAGCSqGSIb3DQEHATAeBglghkgBZQMEAS4wEQQM586S3vBn3hD2IW3IAgEQgIICkV_2Ygr2PZFvBawAxYi1e5JEbYS-lajeX70_rDZQ6AvoWRzhbFrTV8lrRgDKhP2PFrW63YLExAsxb3NeJxY4OIv4M6-IaMpnvmcjnDjjh3osEwyKSlUc48gwSCGlC4i1kaAC2N3Cct8PjosdjuThVmM-k3qbogHm2YrTtnHDatMrSZLXgSFt0y_E8RqN7wdMjRwdq23_9aIwRYON-GpqrTsGeJjr2_hmxEM50Zed1tTv1YynGJ8LQNxgLyiOwmUc1WH8F-8JgDkuD3r6663qaGLWr8ntBDRK9GKOEF2gbnoGvZBEunZ9N6AMktAsxWeMzDI6y_HsJ-aXzNLSXI_jehGfmN2NHmM5PcqFqcIGFFfWmO52BwfSf7QRtHfCQFHr89JA55p8VVEUppvHLG1f0PhAM24wYIe2SaXRx40_zKbbjr_Ocgl5KK3ERx01KFm99Q9JjccszyGV_TgH2bu52FpSWJ1YbL8c7Qawz_ujaDKuhFYVHGGauJ3g0J6D8CN--orJ_hDe3olVZIIhfiRVFdH2MtInfZmgeJoZZxdoSfb3ZjZCMzl6Njv3acF7ysJwFwMI9fX33L3D2h_E8LLy_93PvlHoAlkXNOyuBkib3BRepBv2tdketXYm4-6ju7RSYahWXZ6kkd6bjlFV1AEyaiOJiHUiUSssrG2Xr7CzWqzcamsl4q8gXS1724Iglw7dDZxER_Jz0l_c8c29r0R1P_OHQDZwFC20HatcIAQNZYhHzD7j7QkJDH6qn4zvsIlMzdv5V92Kg9J6J6p6tcghYJnyyWasOkFreWfZNgRz_3NgR4D9dxnFkuKEc9bombqscf5u-_UGHb7N4ODSzCyw-Y3fRMv73PUUFpVwsYeQquW3Eg'"
   ]
  },
  {
   "cell_type": "code",
   "execution_count": 106,
   "metadata": {
    "ExecuteTime": {
     "end_time": "2022-08-22T16:27:34.605623Z",
     "start_time": "2022-08-22T16:27:34.602113Z"
    },
    "hidden": true
   },
   "outputs": [],
   "source": [
    "konopacky_13_species = ['H2O', 'CO', 'CH4']\n",
    "\n",
    "konopacky_13_SNRs = np.array([0, 0, np.nan])\n",
    "\n",
    "frame = konopacky_13_frame = pd.DataFrame({'SNR': konopacky_13_SNRs,\n",
    "                             'species': konopacky_13_species})\n",
    "\n",
    "frame['lead'] = 'konopacky'\n",
    "frame['planet'] = 'HR 8799 c'\n",
    "frame['observation'] = 'direct imaging'\n",
    "frame['instrument'] = 'OSIRIS'\n",
    "frame['year'] = 2013\n",
    "frame['new data?'] = True\n",
    "frame['analysis type'] = 'parameterized models'\n",
    "frame['tellurics'] = 'sysrem'\n",
    "frame['url']= 'https://www.science.org/doi/full/10.1126/science.1232003?casa_token=Pbo4WwD8tOUAAAAA%3AbT1-OkoIrFlc-RaWQBW9YbyXbuJst825y64bXNqlIunXP8vVGs1OBriBwruR5VJq1F1Q_lzlixG-dA'"
   ]
  },
  {
   "cell_type": "code",
   "execution_count": 107,
   "metadata": {
    "ExecuteTime": {
     "end_time": "2022-08-22T16:27:34.609948Z",
     "start_time": "2022-08-22T16:27:34.606611Z"
    },
    "hidden": true
   },
   "outputs": [],
   "source": [
    "# todo: read this.\n",
    "rasmussen_22_species = ['CO']\n",
    "\n",
    "rasmussen_22_SNRs = np.array([9.71])\n",
    "\n",
    "frame = rasmussen_22_frame = pd.DataFrame({'SNR': rasmussen_22_SNRs,\n",
    "                             'species': rasmussen_22_species})\n",
    "\n",
    "frame['lead'] = 'rasmussen'\n",
    "frame['planet'] = 'HD 209458 b'\n",
    "frame['observation'] = 'emission'\n",
    "frame['instrument'] = 'CRIRES'\n",
    "frame['year'] = 2022\n",
    "frame['new data?'] = False\n",
    "frame['analysis type'] = '3D forward model: GCM'\n",
    "frame['tellurics'] = 'airmass detrending'\n",
    "frame['url']= 'https://iopscience.iop.org/article/10.3847/1538-3881/ac6bfa/meta#ajac6bfas4'"
   ]
  },
  {
   "cell_type": "code",
   "execution_count": 108,
   "metadata": {
    "ExecuteTime": {
     "end_time": "2022-08-22T16:27:34.614217Z",
     "start_time": "2022-08-22T16:27:34.610788Z"
    },
    "hidden": true
   },
   "outputs": [],
   "source": [
    "rasmussen_22_2_species = ['CO', 'H2O']\n",
    "\n",
    "rasmussen_22_2_SNRs = np.array([6.89, 6.89]) # combined\n",
    "\n",
    "frame = rasmussen_22_2_frame = pd.DataFrame({'SNR': rasmussen_22_2_SNRs,\n",
    "                             'species': rasmussen_22_2_species})\n",
    "\n",
    "frame['lead'] = 'rasmussen'\n",
    "frame['planet'] = 'HD 179949'\n",
    "frame['observation'] = 'emission'\n",
    "frame['instrument'] = 'CRIRES'\n",
    "frame['year'] = 2022\n",
    "frame['new data?'] = False\n",
    "frame['analysis type'] = '3D forward model: GCM'\n",
    "frame['tellurics'] = 'airmass detrending'\n",
    "frame['url']= 'https://iopscience.iop.org/article/10.3847/1538-3881/ac6bfa/meta#ajac6bfas4'"
   ]
  },
  {
   "cell_type": "code",
   "execution_count": null,
   "metadata": {
    "hidden": true
   },
   "outputs": [],
   "source": []
  },
  {
   "cell_type": "code",
   "execution_count": 109,
   "metadata": {
    "ExecuteTime": {
     "end_time": "2022-08-22T16:27:34.619057Z",
     "start_time": "2022-08-22T16:27:34.615245Z"
    },
    "hidden": true
   },
   "outputs": [],
   "source": [
    "# come back\n",
    "hoeijmakers_17_species = ['']\n",
    "\n",
    "hoeijmakers_17_SNRs = np.array([np.nan])\n",
    "\n",
    "frame = hoeijmakers_17_frame = pd.DataFrame({'SNR': hoeijmakers_17_SNRs,\n",
    "                             'species': hoeijmakers_17_species})\n",
    "\n",
    "frame['lead'] = 'hoeijmakers'\n",
    "frame['planet'] = 'tau boo'\n",
    "frame['observation'] = 'reflected light'\n",
    "frame['instrument'] = 'HARPS-N'\n",
    "frame['year'] = 2017\n",
    "frame['new data?'] = False\n",
    "frame['analysis type'] = 'PHOENIX stellar spectrum'\n",
    "frame['tellurics'] = 'sysrem'\n",
    "frame['url']= 'https://iopscience.iop.org/article/10.3847/1538-3881/abb59c/pdf'"
   ]
  },
  {
   "cell_type": "code",
   "execution_count": 110,
   "metadata": {
    "ExecuteTime": {
     "end_time": "2022-08-22T16:27:34.623399Z",
     "start_time": "2022-08-22T16:27:34.620064Z"
    },
    "hidden": true
   },
   "outputs": [],
   "source": [
    "# todo: read this: tellurics!\n",
    "cabot_19_species = ['H2O', 'CO', 'HCN']\n",
    "\n",
    "cabot_19_SNRs = np.array([4.8, 4.7, 5.0])\n",
    "\n",
    "frame = cabot_19_frame = pd.DataFrame({'SNR': cabot_19_SNRs,\n",
    "                             'species': cabot_19_species})\n",
    "\n",
    "frame['lead'] = 'cabot'\n",
    "frame['planet'] = 'HD 189733 b'\n",
    "frame['observation'] = 'transmission'\n",
    "frame['instrument'] = 'CRIRES'\n",
    "frame['year'] = 2019\n",
    "frame['new data?'] = False\n",
    "frame['analysis type'] = 'PHOENIX stellar spectrum'\n",
    "frame['tellurics'] = 'sysrem and airmass detrending'\n",
    "frame['url'] = 'https://academic.oup.com/mnras/article/482/4/4422/5173097'"
   ]
  },
  {
   "cell_type": "code",
   "execution_count": 111,
   "metadata": {
    "ExecuteTime": {
     "end_time": "2022-08-22T16:27:34.628083Z",
     "start_time": "2022-08-22T16:27:34.624449Z"
    },
    "hidden": true
   },
   "outputs": [],
   "source": [
    "kesseli_20b_species = ['FeH']\n",
    "\n",
    "kesseli_20b_SNRs = np.array([3])\n",
    "\n",
    "frame = kesseli_20b_frame = pd.DataFrame({'SNR': kesseli_20b_SNRs,\n",
    "                             'species': kesseli_20b_species})\n",
    "\n",
    "frame['lead'] = 'Kesseli'\n",
    "frame['planet'] = 'MASCARA-2 b'\n",
    "frame['observation'] = 'transit'\n",
    "frame['instrument'] = 'CARMENES'\n",
    "frame['year'] = 2020\n",
    "frame['new data?'] = False\n",
    "frame['analysis type'] = 'parameterized forward models'\n",
    "frame['tellurics'] = 'sysrem'\n",
    "frame['url']= 'https://iopscience.iop.org/article/10.3847/1538-3881/abb59c/pdf'"
   ]
  },
  {
   "cell_type": "code",
   "execution_count": 112,
   "metadata": {
    "ExecuteTime": {
     "end_time": "2022-08-22T16:27:34.632015Z",
     "start_time": "2022-08-22T16:27:34.629107Z"
    },
    "hidden": true
   },
   "outputs": [],
   "source": [
    "kesseli_20b_2_species = ['FeH']\n",
    "\n",
    "kesseli_20b_2_SNRs = np.array([3])\n",
    "\n",
    "frame = kesseli_20b_2_frame = pd.DataFrame({'SNR': kesseli_20b_2_SNRs,\n",
    "                             'species': kesseli_20b_2_species})\n",
    "\n",
    "frame['lead'] = 'Kesseli'\n",
    "frame['planet'] = 'WASP-33 b'\n",
    "frame['observation'] = 'transit'\n",
    "frame['instrument'] = 'CARMENES'\n",
    "frame['year'] = 2020\n",
    "frame['new data?'] = False\n",
    "frame['analysis type'] = 'parameterized forward models'\n",
    "frame['tellurics'] = 'sysrem'\n",
    "frame['url']= 'https://iopscience.iop.org/article/10.3847/1538-3881/abb59c/pdf'"
   ]
  },
  {
   "cell_type": "code",
   "execution_count": 113,
   "metadata": {
    "ExecuteTime": {
     "end_time": "2022-08-22T16:27:34.635898Z",
     "start_time": "2022-08-22T16:27:34.632761Z"
    },
    "hidden": true
   },
   "outputs": [],
   "source": [
    "kesseli_20b_3_species = ['FeH']\n",
    "\n",
    "kesseli_20b_3_SNRs = np.array([np.nan])\n",
    "\n",
    "frame = kesseli_20b_3_frame = pd.DataFrame({'SNR': kesseli_20b_3_SNRs,\n",
    "                             'species': kesseli_20b_3_species})\n",
    "\n",
    "frame['lead'] = 'Kesseli'\n",
    "frame['planet'] = 'KELT-9 b'\n",
    "frame['observation'] = 'transit'\n",
    "frame['instrument'] = 'CARMENES'\n",
    "frame['year'] = 2020\n",
    "frame['new data?'] = False\n",
    "frame['analysis type'] = 'parameterized forward models'\n",
    "frame['tellurics'] = 'sysrem'\n",
    "frame['url']= 'https://iopscience.iop.org/article/10.3847/1538-3881/abb59c/pdf'"
   ]
  },
  {
   "cell_type": "code",
   "execution_count": 114,
   "metadata": {
    "ExecuteTime": {
     "end_time": "2022-08-22T16:27:34.639770Z",
     "start_time": "2022-08-22T16:27:34.636677Z"
    },
    "hidden": true
   },
   "outputs": [],
   "source": [
    "kesseli_20b_4_species = ['FeH']\n",
    "\n",
    "kesseli_20b_4_SNRs = np.array([np.nan])\n",
    "\n",
    "frame = kesseli_20b_4_frame = pd.DataFrame({'SNR': kesseli_20b_4_SNRs,\n",
    "                             'species': kesseli_20b_4_species})\n",
    "\n",
    "frame['lead'] = 'Kesseli'\n",
    "frame['planet'] = 'HAT-P-57 b'\n",
    "frame['observation'] = 'transit'\n",
    "frame['instrument'] = 'CARMENES'\n",
    "frame['year'] = 2020\n",
    "frame['new data?'] = False\n",
    "frame['analysis type'] = 'parameterized forward models'\n",
    "frame['tellurics'] = 'sysrem'\n",
    "frame['url']= 'https://iopscience.iop.org/article/10.3847/1538-3881/abb59c/pdf'"
   ]
  },
  {
   "cell_type": "code",
   "execution_count": 115,
   "metadata": {
    "ExecuteTime": {
     "end_time": "2022-08-22T16:27:34.643935Z",
     "start_time": "2022-08-22T16:27:34.640581Z"
    },
    "hidden": true
   },
   "outputs": [],
   "source": [
    "kesseli_20b_5_species = ['FeH']\n",
    "\n",
    "kesseli_20b_5_SNRs = np.array([np.nan])\n",
    "\n",
    "frame = kesseli_20b_5_frame = pd.DataFrame({'SNR': kesseli_20b_5_SNRs,\n",
    "                             'species': kesseli_20b_5_species})\n",
    "\n",
    "frame['lead'] = 'Kesseli'\n",
    "frame['planet'] = 'WASP-76 b'\n",
    "frame['observation'] = 'transit'\n",
    "frame['instrument'] = 'CARMENES'\n",
    "frame['year'] = 2020\n",
    "frame['new data?'] = False\n",
    "frame['analysis type'] = 'parameterized forward models'\n",
    "frame['tellurics'] = 'sysrem'\n",
    "frame['url']= 'https://iopscience.iop.org/article/10.3847/1538-3881/abb59c/pdf'"
   ]
  },
  {
   "cell_type": "code",
   "execution_count": 116,
   "metadata": {
    "ExecuteTime": {
     "end_time": "2022-08-22T16:27:34.647859Z",
     "start_time": "2022-08-22T16:27:34.644753Z"
    },
    "hidden": true
   },
   "outputs": [],
   "source": [
    "kesseli_20b_6_species = ['FeH']\n",
    "\n",
    "kesseli_20b_6_SNRs = np.array([np.nan])\n",
    "\n",
    "frame = kesseli_20b_6_frame = pd.DataFrame({'SNR': kesseli_20b_6_SNRs,\n",
    "                             'species': kesseli_20b_6_species})\n",
    "\n",
    "frame['lead'] = 'Kesseli'\n",
    "frame['planet'] = 'HAT-P-32A b'\n",
    "frame['observation'] = 'transit'\n",
    "frame['instrument'] = 'CARMENES'\n",
    "frame['year'] = 2020\n",
    "frame['new data?'] = False\n",
    "frame['analysis type'] = 'parameterized forward models'\n",
    "frame['tellurics'] = 'sysrem'\n",
    "frame['url']= 'https://iopscience.iop.org/article/10.3847/1538-3881/abb59c/pdf'"
   ]
  },
  {
   "cell_type": "code",
   "execution_count": 117,
   "metadata": {
    "ExecuteTime": {
     "end_time": "2022-08-22T16:27:34.652442Z",
     "start_time": "2022-08-22T16:27:34.648669Z"
    },
    "hidden": true
   },
   "outputs": [],
   "source": [
    "kesseli_20b_8_species = ['FeH']\n",
    "\n",
    "kesseli_20b_8_SNRs = np.array([np.nan])\n",
    "\n",
    "frame = kesseli_20b_8_frame = pd.DataFrame({'SNR': kesseli_20b_8_SNRs,\n",
    "                             'species': kesseli_20b_8_species})\n",
    "\n",
    "frame['lead'] = 'Kesseli'\n",
    "frame['planet'] = 'HD 209458 b'\n",
    "frame['observation'] = 'transit'\n",
    "frame['instrument'] = 'CARMENES'\n",
    "frame['year'] = 2020\n",
    "frame['new data?'] = False\n",
    "frame['analysis type'] = 'parameterized forward models'\n",
    "frame['tellurics'] = 'sysrem'\n",
    "frame['url']= 'https://iopscience.iop.org/article/10.3847/1538-3881/abb59c/pdf'"
   ]
  },
  {
   "cell_type": "code",
   "execution_count": 118,
   "metadata": {
    "ExecuteTime": {
     "end_time": "2022-08-22T16:27:34.657089Z",
     "start_time": "2022-08-22T16:27:34.653427Z"
    },
    "hidden": true
   },
   "outputs": [],
   "source": [
    "kesseli_20b_7_species = ['FeH']\n",
    "\n",
    "kesseli_20b_7_SNRs = np.array([np.nan])\n",
    "\n",
    "frame = kesseli_20b_7_frame = pd.DataFrame({'SNR': kesseli_20b_7_SNRs,\n",
    "                             'species': kesseli_20b_7_species})\n",
    "\n",
    "frame['lead'] = 'Kesseli'\n",
    "frame['planet'] = 'HD 189733 b'\n",
    "frame['observation'] = 'transit'\n",
    "frame['instrument'] = 'CARMENES'\n",
    "frame['year'] = 2020\n",
    "frame['new data?'] = False\n",
    "frame['analysis type'] = 'parameterized forward models'\n",
    "frame['tellurics'] = 'sysrem'\n",
    "frame['url']= 'https://iopscience.iop.org/article/10.3847/1538-3881/abb59c/pdf'"
   ]
  },
  {
   "cell_type": "code",
   "execution_count": 119,
   "metadata": {
    "ExecuteTime": {
     "end_time": "2022-08-22T16:27:34.661474Z",
     "start_time": "2022-08-22T16:27:34.658069Z"
    },
    "hidden": true
   },
   "outputs": [],
   "source": [
    "kesseli_20b_9_species = ['FeH']\n",
    "\n",
    "kesseli_20b_9_SNRs = np.array([np.nan])\n",
    "\n",
    "frame = kesseli_20b_9_frame = pd.DataFrame({'SNR': kesseli_20b_9_SNRs,\n",
    "                             'species': kesseli_20b_9_species})\n",
    "\n",
    "frame['lead'] = 'Kesseli'\n",
    "frame['planet'] = 'WASP-69 b'\n",
    "frame['observation'] = 'transit'\n",
    "frame['instrument'] = 'CARMENES'\n",
    "frame['year'] = 2020\n",
    "frame['new data?'] = False\n",
    "frame['analysis type'] = 'parameterized forward models'\n",
    "frame['tellurics'] = 'sysrem'\n",
    "frame['url']= 'https://iopscience.iop.org/article/10.3847/1538-3881/abb59c/pdf'"
   ]
  },
  {
   "cell_type": "code",
   "execution_count": 120,
   "metadata": {
    "ExecuteTime": {
     "end_time": "2022-08-22T16:27:34.665366Z",
     "start_time": "2022-08-22T16:27:34.662304Z"
    },
    "hidden": true
   },
   "outputs": [],
   "source": [
    "kesseli_20b_10_species = ['FeH']\n",
    "\n",
    "kesseli_20b_10_SNRs = np.array([np.nan])\n",
    "\n",
    "frame = kesseli_20b_10_frame = pd.DataFrame({'SNR': kesseli_20b_10_SNRs,\n",
    "                             'species': kesseli_20b_10_species})\n",
    "\n",
    "frame['lead'] = 'kesseli'\n",
    "frame['planet'] = 'WASP-107 b'\n",
    "frame['observation'] = 'transit'\n",
    "frame['instrument'] = 'CARMENES'\n",
    "frame['year'] = 2020\n",
    "frame['new data?'] = False\n",
    "frame['analysis type'] = 'parameterized forward models'\n",
    "frame['tellurics'] = 'sysrem'\n",
    "frame['url']= 'https://iopscience.iop.org/article/10.3847/1538-3881/abb59c/pdf'"
   ]
  },
  {
   "cell_type": "code",
   "execution_count": 121,
   "metadata": {
    "ExecuteTime": {
     "end_time": "2022-08-22T16:27:34.669452Z",
     "start_time": "2022-08-22T16:27:34.666265Z"
    },
    "hidden": true
   },
   "outputs": [],
   "source": [
    "zhang_21b_species = ['He']\n",
    "\n",
    "zhang_21b_SNRs = np.array([np.nan])\n",
    "\n",
    "frame = zhang_21b_frame = pd.DataFrame({'SNR': zhang_21b_SNRs,\n",
    "                             'species': zhang_21b_species})\n",
    "\n",
    "frame['lead'] = 'M zhang'\n",
    "frame['planet'] = '55 Cancri b'\n",
    "frame['observation'] = 'transit'\n",
    "frame['instrument'] = 'NIRSPEC'\n",
    "frame['year'] = 2021\n",
    "frame['new data?'] = True\n",
    "frame['analysis type'] = 'line-fitting'\n",
    "frame['tellurics'] = 'ATRAN'\n",
    "frame['url']= 'https://arxiv.org/pdf/2012.02198.pdf'"
   ]
  },
  {
   "cell_type": "code",
   "execution_count": 122,
   "metadata": {
    "ExecuteTime": {
     "end_time": "2022-08-22T16:27:34.673268Z",
     "start_time": "2022-08-22T16:27:34.670136Z"
    },
    "hidden": true
   },
   "outputs": [],
   "source": [
    "ishizuka_21_species = ['Ti', 'Fe']\n",
    "\n",
    "ishizuka_21_SNRs = np.array([4.4, 2.8])\n",
    "\n",
    "frame = zhang_21b_frame = pd.DataFrame({'SNR': ishizuka_21_SNRs,\n",
    "                             'species': ishizuka_21_species})\n",
    "\n",
    "frame['lead'] = 'Ishizuka'\n",
    "frame['planet'] = 'HD 149026b'\n",
    "frame['observation'] = 'transit'\n",
    "frame['instrument'] = 'Subaru/IRD'\n",
    "frame['year'] = 2021\n",
    "frame['new data?'] = True\n",
    "frame['analysis type'] = 'isothermal forward models'\n",
    "frame['tellurics'] = 'sysrem'\n",
    "frame['url']= 'https://iopscience.iop.org/article/10.3847/1538-3881/abdb25/pdf'"
   ]
  },
  {
   "cell_type": "code",
   "execution_count": 123,
   "metadata": {
    "ExecuteTime": {
     "end_time": "2022-08-22T16:27:34.677506Z",
     "start_time": "2022-08-22T16:27:34.674377Z"
    },
    "hidden": true
   },
   "outputs": [],
   "source": [
    "kesseli_20b_11_species = ['FeH']\n",
    "\n",
    "kesseli_20b_11_SNRs = np.array([np.nan])\n",
    "\n",
    "frame = kesseli_20b_11_frame = pd.DataFrame({'SNR': kesseli_20b_11_SNRs,\n",
    "                             'species': kesseli_20b_11_species})\n",
    "\n",
    "frame['lead'] = 'kesseli'\n",
    "frame['planet'] = 'HAT-P-11 b'\n",
    "frame['observation'] = 'transit'\n",
    "frame['instrument'] = 'CARMENES'\n",
    "frame['year'] = 2020\n",
    "frame['new data?'] = False\n",
    "frame['analysis type'] = 'parameterized forward models'\n",
    "frame['tellurics'] = 'sysrem'\n",
    "frame['url']= 'https://iopscience.iop.org/article/10.3847/1538-3881/abb59c/pdf'"
   ]
  },
  {
   "cell_type": "code",
   "execution_count": 124,
   "metadata": {
    "ExecuteTime": {
     "end_time": "2022-08-22T16:27:34.681253Z",
     "start_time": "2022-08-22T16:27:34.678267Z"
    },
    "hidden": true
   },
   "outputs": [],
   "source": [
    "kesseli_20b_12_species = ['FeH']\n",
    "\n",
    "kesseli_20b_12_SNRs = np.array([np.nan])\n",
    "\n",
    "frame = kesseli_20b_12_frame = pd.DataFrame({'SNR': kesseli_20b_12_SNRs,\n",
    "                             'species': kesseli_20b_12_species})\n",
    "\n",
    "frame['lead'] = 'kesseli'\n",
    "frame['planet'] = 'GJ 436 b'\n",
    "frame['observation'] = 'transit'\n",
    "frame['instrument'] = 'CARMENES'\n",
    "frame['year'] = 2020\n",
    "frame['new data?'] = False\n",
    "frame['analysis type'] = 'parameterized forward models'\n",
    "frame['tellurics'] = 'sysrem'\n",
    "frame['url']= 'https://iopscience.iop.org/article/10.3847/1538-3881/abb59c/pdf'"
   ]
  },
  {
   "cell_type": "code",
   "execution_count": 125,
   "metadata": {
    "ExecuteTime": {
     "end_time": "2022-08-22T16:27:34.685590Z",
     "start_time": "2022-08-22T16:27:34.682501Z"
    },
    "hidden": true
   },
   "outputs": [],
   "source": [
    "# todo: read this: tellurics!\n",
    "merritt_20_species = ['TiO', 'VO']\n",
    "\n",
    "merritt_20_SNRs = np.array([np.nan, np.nan])\n",
    "\n",
    "frame = merritt_20_frame = pd.DataFrame({'SNR': merritt_20_SNRs,\n",
    "                             'species': merritt_20_species})\n",
    "\n",
    "frame['lead'] = 'Merritt'\n",
    "frame['planet'] = 'WASP-121 b'\n",
    "frame['observation'] = 'transit'\n",
    "frame['instrument'] = 'HARPS'\n",
    "frame['year'] = 2020\n",
    "frame['new data?'] = False\n",
    "frame['analysis type'] = 'parameterized forward models'\n",
    "frame['tellurics'] = 'sysrem'\n",
    "frame['url']= 'https://www.aanda.org/articles/aa/pdf/2020/04/aa37409-19.pdf'"
   ]
  },
  {
   "cell_type": "code",
   "execution_count": 126,
   "metadata": {
    "ExecuteTime": {
     "end_time": "2022-08-22T16:27:34.690149Z",
     "start_time": "2022-08-22T16:27:34.686443Z"
    },
    "hidden": true
   },
   "outputs": [],
   "source": [
    "# todo: read this: tellurics!\n",
    "langveld_21_species = ['Na']\n",
    "\n",
    "langveld_21_SNRs = np.array([0])\n",
    "\n",
    "frame = langveld_21_frame = pd.DataFrame({'SNR': langveld_21_SNRs,\n",
    "                             'species': langveld_21_species})\n",
    "\n",
    "frame['lead'] = 'Langveld'\n",
    "frame['planet'] = 'HD 189733 b'\n",
    "frame['observation'] = 'transit'\n",
    "frame['instrument'] = 'HARPS'\n",
    "frame['year'] = 2018\n",
    "frame['new data?'] = False\n",
    "frame['analysis type'] = 'line-fitting'\n",
    "frame['url']= 'https://watermark.silverchair.com/stab134.pdf?token=AQECAHi208BE49Ooan9kkhW_Ercy7Dm3ZL_9Cf3qfKAc485ysgAAAt4wggLaBgkqhkiG9w0BBwagggLLMIICxwIBADCCAsAGCSqGSIb3DQEHATAeBglghkgBZQMEAS4wEQQMBM2cJ2X9IORpILKRAgEQgIICkVMrNKmiH8LX4E1uSrLFinWSPM21KLDLtgOUCS40Z_e2chejMv6w2WXc7Lv9_pPbd-3rlZqOu68zXtuqGK3Luhu_TDNHPi56druaDdYQpYxtvF4oVfVR1jA13t8BpJnGlepa5S1nh4Vf4YrpxJhK4HBZ0c_VKzxXYfyUEvHaLCurk3_cn4txUSQwMz3LB731T0dClu1seivQAa4isionIMysQDeOJuj3OYevVnhGtvkTcySmMhWbqaUNQ3frh-qlmFWsdzy0-Un223EIethrIzCk6OVrFzG7ArTzqR16PDblEa6GATs5tAfYuaKdgSGCQSnDL_FI7hh_cRZNrunvpYqd82qslRyeGCJESlh7ulm-D-p2Rw7Z00Wl6cpMFzFZwxDK91VBjXEUYNXbYdczkhtwO3LXC4l9GhDFD76kPfsZMRSHnPBtbwu6mquW3zvqTKntu4-BG404PZiKnFYYwu7k8egJyZIdECChUAOlP354LM2Zwmyh4yU8M8frhm5tHXczfGzE5L53T36gvLRk8pU6FLR-ePlSmibewNOFmYBHO5s2toFYtNQVqGvXKAghndcKwqOtTKd1-MZZYpSRbLURzV5ltzgjHMSqYYvhJ0jmV4XI0Dk6W4RreyxQAbtl20todi01K4hcPjxJnKfqzs7LVexl9_hui7Zrzp1NaKgVEEn8OrR6OsQSjtoGrJQ-33IxTkKFhVjkMk_QEN5YRNAkYPoeasX44_aLv3g41X3XP8K61rYzNmxyQP-Q-4NkLbNvPY5d9Qm0jS728YmaisSxAC2lEXhvMkwlOOHmXKkylRPEwYDSGdsBQFNchvMXJ-qLwGgWPD0RBXvLIxVluCqsFwUzLBdWvhVGB0YmdY8Q2w'"
   ]
  },
  {
   "cell_type": "code",
   "execution_count": 127,
   "metadata": {
    "ExecuteTime": {
     "end_time": "2022-08-22T16:27:34.695202Z",
     "start_time": "2022-08-22T16:27:34.691249Z"
    },
    "hidden": true
   },
   "outputs": [],
   "source": [
    "# todo: read this: stellar contamination!\n",
    "borsa_18_species = ['Na']\n",
    "\n",
    "borsa_18_SNRs = np.array([0])\n",
    "\n",
    "frame = borsa_18_frame = pd.DataFrame({'SNR': borsa_18_SNRs,\n",
    "                             'species': borsa_18_species})\n",
    "\n",
    "frame['lead'] = 'Borsa'\n",
    "frame['planet'] = 'HD 189733 b'\n",
    "frame['observation'] = 'transit'\n",
    "frame['instrument'] = 'HARPS'\n",
    "frame['year'] = 2018\n",
    "frame['new data?'] = False\n",
    "frame['analysis type'] = 'stellar mask'\n",
    "frame['url']= 'https://www.aanda.org/articles/aa/pdf/2018/09/aa33415-18.pdf'"
   ]
  },
  {
   "cell_type": "code",
   "execution_count": 128,
   "metadata": {
    "ExecuteTime": {
     "end_time": "2022-08-22T16:27:34.700184Z",
     "start_time": "2022-08-22T16:27:34.696326Z"
    },
    "hidden": true
   },
   "outputs": [],
   "source": [
    "flagg_19_species = ['CO']\n",
    "\n",
    "flagg_19_SNRs = np.array([0])\n",
    "\n",
    "frame = flagg_19_frame = pd.DataFrame({'SNR': flagg_19_SNRs,\n",
    "                             'species': flagg_19_species})\n",
    "\n",
    "frame['lead'] = 'Flagg'\n",
    "frame['planet'] = 'CI Tau b'\n",
    "frame['observation'] = 'direct imaging'\n",
    "frame['instrument'] = 'IGRINS'\n",
    "frame['year'] = 2019\n",
    "frame['new data?'] = True\n",
    "frame['analysis type'] = 'A0V spectrum'\n",
    "frame['url']= 'https://iopscience.iop.org/article/10.3847/2041-8213/ab276d/pdf'"
   ]
  },
  {
   "cell_type": "code",
   "execution_count": 129,
   "metadata": {
    "ExecuteTime": {
     "end_time": "2022-08-22T16:27:34.704543Z",
     "start_time": "2022-08-22T16:27:34.701199Z"
    },
    "hidden": true
   },
   "outputs": [],
   "source": [
    "charbonneau_99_species = ['TiO']\n",
    "\n",
    "charbonneau_99_SNRs = np.array([np.nan])\n",
    "\n",
    "frame = charbonneau_99_frame = pd.DataFrame({'SNR': charbonneau_99_SNRs,\n",
    "                             'species': charbonneau_99_species})\n",
    "\n",
    "frame['lead'] = 'charbonneau'\n",
    "frame['planet'] = 'tau bootis b'\n",
    "frame['observation'] = 'emission'\n",
    "frame['instrument'] = 'Keck Hires'\n",
    "frame['year'] = 1999\n",
    "frame['new data?'] = True\n",
    "# frame['tellurics'] = 'sysrem'\n",
    "frame['analysis type'] = 'stellar spectrum'\n",
    "frame['url']= 'https://iopscience.iop.org/article/10.1086/312234/pdf'"
   ]
  },
  {
   "cell_type": "code",
   "execution_count": null,
   "metadata": {
    "hidden": true
   },
   "outputs": [],
   "source": []
  },
  {
   "cell_type": "code",
   "execution_count": 130,
   "metadata": {
    "ExecuteTime": {
     "end_time": "2022-08-22T16:27:34.709239Z",
     "start_time": "2022-08-22T16:27:34.705682Z"
    },
    "hidden": true
   },
   "outputs": [],
   "source": [
    "herman_20_species = ['TiO']\n",
    "\n",
    "herman_20_SNRs = np.array([np.nan])\n",
    "\n",
    "frame = herman_20_frame = pd.DataFrame({'SNR': herman_20_SNRs,\n",
    "                             'species': herman_20_species})\n",
    "\n",
    "frame['lead'] = 'Herman'\n",
    "frame['planet'] = 'WASP-33 b'\n",
    "frame['observation'] = 'emission'\n",
    "frame['instrument'] = 'ESPaDOnS'\n",
    "frame['year'] = 2020\n",
    "frame['new data?'] = True\n",
    "frame['tellurics'] = 'sysrem'\n",
    "frame['analysis type'] = 'parameterized forward model'\n",
    "frame['url']= 'https://iopscience.iop.org/article/10.3847/1538-3881/ab9e77/meta'"
   ]
  },
  {
   "cell_type": "code",
   "execution_count": 131,
   "metadata": {
    "ExecuteTime": {
     "end_time": "2022-08-22T16:27:34.713616Z",
     "start_time": "2022-08-22T16:27:34.710289Z"
    },
    "hidden": true
   },
   "outputs": [],
   "source": [
    "pino_18b_species = ['Na']\n",
    "\n",
    "pino_18b_SNRs = np.array([0])\n",
    "\n",
    "frame = pino_18b_frame = pd.DataFrame({'SNR': pino_18b_SNRs,\n",
    "                             'species': pino_18b_species})\n",
    "\n",
    "frame['lead'] = 'Pino'\n",
    "frame['planet'] = 'HD 189733 b'\n",
    "frame['observation'] = 'transit'\n",
    "frame['instrument'] = 'HARPS'\n",
    "frame['year'] = 2018\n",
    "frame['new data?'] = False\n",
    "frame['analysis type'] = 'parameterized forward model'\n",
    "frame['url']= 'https://www.aanda.org/articles/aa/pdf/2018/04/aa31244-17.pdf'"
   ]
  },
  {
   "cell_type": "code",
   "execution_count": 132,
   "metadata": {
    "ExecuteTime": {
     "end_time": "2022-08-22T16:27:34.717947Z",
     "start_time": "2022-08-22T16:27:34.714639Z"
    },
    "hidden": true
   },
   "outputs": [],
   "source": [
    "# todo: was this earlier than snellen?\n",
    "redfield_8_species = ['Na']\n",
    "\n",
    "redfield_8_SNRs = np.array([3])\n",
    "\n",
    "frame = redfield_8_frame = pd.DataFrame({'SNR': redfield_8_SNRs,\n",
    "                             'species': redfield_8_species})\n",
    "\n",
    "frame['lead'] = 'redfield'\n",
    "frame['planet'] = 'HD 189733 b'\n",
    "frame['observation'] = 'transit'\n",
    "frame['instrument'] = 'HRS'\n",
    "frame['year'] = 2008\n",
    "frame['new data?'] = True\n",
    "frame['analysis type'] = 'line-fitting'\n",
    "frame['url']= 'https://iopscience.iop.org/article/10.1086/527475/pdf'"
   ]
  },
  {
   "cell_type": "code",
   "execution_count": 133,
   "metadata": {
    "ExecuteTime": {
     "end_time": "2022-08-22T16:27:34.722235Z",
     "start_time": "2022-08-22T16:27:34.718874Z"
    },
    "hidden": true
   },
   "outputs": [],
   "source": [
    "nugroho_17_species = ['TiO']\n",
    "\n",
    "nugroho_17_SNRs = np.array([4.8])\n",
    "\n",
    "frame = nugroho_17_frame = pd.DataFrame({'SNR': nugroho_17_SNRs,\n",
    "                             'species': nugroho_17_species})\n",
    "\n",
    "frame['lead'] = 'nugroho'\n",
    "frame['planet'] = 'WASP-33 b'\n",
    "frame['observation'] = 'transit'\n",
    "frame['instrument'] = 'HDS'\n",
    "frame['year'] = 2017\n",
    "frame['new data?'] = True\n",
    "frame['tellurics'] = 'sysrem'\n",
    "frame['analysis type'] = 'parameterized forward model'\n",
    "frame['url']= 'https://ui.adsabs.harvard.edu/abs/2017AJ....154..221N/abstract'"
   ]
  },
  {
   "cell_type": "code",
   "execution_count": 134,
   "metadata": {
    "ExecuteTime": {
     "end_time": "2022-08-22T16:27:34.726135Z",
     "start_time": "2022-08-22T16:27:34.723045Z"
    },
    "hidden": true
   },
   "outputs": [],
   "source": [
    "martins_14_species = ['']\n",
    "\n",
    "martins_14_SNRs = np.array([3])\n",
    "\n",
    "frame = martins_14_frame = pd.DataFrame({'SNR': martins_14_SNRs,\n",
    "                             'species': martins_14_species})\n",
    "\n",
    "frame['lead'] = 'martins'\n",
    "frame['planet'] = '51 Peg b'\n",
    "frame['observation'] = 'reflected light'\n",
    "frame['instrument'] = 'CARMENES'\n",
    "frame['year'] = 2014\n",
    "frame['new data?'] = True\n",
    "frame['analysis type'] = 'stellar mask'\n",
    "frame['url']= 'https://www.aanda.org/articles/aa/abs/2015/04/aa25298-14/aa25298-14.html'"
   ]
  },
  {
   "cell_type": "code",
   "execution_count": 135,
   "metadata": {
    "ExecuteTime": {
     "end_time": "2022-08-22T16:27:34.730290Z",
     "start_time": "2022-08-22T16:27:34.727052Z"
    },
    "hidden": true
   },
   "outputs": [],
   "source": [
    "khalafinejad_21_species = ['Na']\n",
    "\n",
    "khalafinejad_21_SNRs = np.array([5])\n",
    "\n",
    "frame = khalafinejad_21_frame = pd.DataFrame({'SNR': khalafinejad_21_SNRs,\n",
    "                             'species': khalafinejad_21_species})\n",
    "\n",
    "frame['lead'] = 'khalafinejad'\n",
    "frame['planet'] = 'WASP-69 b'\n",
    "frame['observation'] = 'transit'\n",
    "frame['instrument'] = 'CARMENES'\n",
    "frame['year'] = 2021\n",
    "frame['new data?'] = True\n",
    "frame['analysis type'] = 'line-fitting'\n",
    "frame['url']= 'https://arxiv.org/pdf/2109.06335.pdf'"
   ]
  },
  {
   "cell_type": "code",
   "execution_count": 136,
   "metadata": {
    "ExecuteTime": {
     "end_time": "2022-08-22T16:27:34.734591Z",
     "start_time": "2022-08-22T16:27:34.731283Z"
    },
    "hidden": true
   },
   "outputs": [],
   "source": [
    "coustenis_1998_species = ['']\n",
    "\n",
    "coustenis_1998_SNRs = np.array([np.nan])\n",
    "\n",
    "frame = coustenis_1998_frame = pd.DataFrame({'SNR': coustenis_1998_SNRs,\n",
    "                             'species': coustenis_1998_species})\n",
    "\n",
    "frame['lead'] = 'coustenis'\n",
    "frame['planet'] = '51 Peg b'\n",
    "frame['observation'] = 'emission'\n",
    "frame['instrument'] = 'CSHELL'\n",
    "frame['year'] = 1998\n",
    "frame['new data?'] = True\n",
    "frame['analysis type'] = 'line-fitting'\n",
    "frame['url']= 'https://adsabs.harvard.edu/pdf/1998ASPC..134..296C'"
   ]
  },
  {
   "cell_type": "code",
   "execution_count": 137,
   "metadata": {
    "ExecuteTime": {
     "end_time": "2022-08-22T16:27:34.739139Z",
     "start_time": "2022-08-22T16:27:34.735758Z"
    },
    "hidden": true
   },
   "outputs": [],
   "source": [
    "kawauchi_22_species = ['Na']\n",
    "\n",
    "kawauchi_22_SNRs = np.array([0])\n",
    "\n",
    "frame = kawauchi_22_frame = pd.DataFrame({'SNR': kawauchi_22_SNRs,\n",
    "                             'species': kawauchi_22_species})\n",
    "\n",
    "frame['lead'] = 'kawauchi'\n",
    "frame['planet'] = 'WASP-76 b'\n",
    "frame['observation'] = 'transit'\n",
    "frame['instrument'] = 'HDS'\n",
    "frame['year'] = 2022\n",
    "frame['new data?'] = True\n",
    "frame['analysis type'] = 'line-fitting'\n",
    "frame['url']= 'https://academic.oup.com/pasj/article-abstract/74/2/225/6516560?login=true'"
   ]
  },
  {
   "cell_type": "code",
   "execution_count": 138,
   "metadata": {
    "ExecuteTime": {
     "end_time": "2022-08-22T16:27:34.743590Z",
     "start_time": "2022-08-22T16:27:34.740099Z"
    },
    "hidden": true
   },
   "outputs": [],
   "source": [
    "alonso_floriano_19b_species = ['H2O']\n",
    "\n",
    "alonso_floriano_19b_SNRs = np.array([6.6])\n",
    "\n",
    "frame = alonso_floriano_19b_frame = pd.DataFrame({'SNR': alonso_floriano_19b_SNRs,\n",
    "                             'species': alonso_floriano_19b_species})\n",
    "\n",
    "frame['lead'] = 'alonso-floriano'\n",
    "frame['planet'] = 'HD 189733 b'\n",
    "frame['observation'] = 'transit'\n",
    "frame['instrument'] = 'CARMENES'\n",
    "frame['year'] = 2022\n",
    "frame['new data?'] = True\n",
    "frame['analysis type'] = 'self-consistent forward models'\n",
    "frame['tellurics'] = 'sysrem'\n",
    "frame['url']= 'https://www.aanda.org/articles/aa/abs/2019/01/aa34339-18/aa34339-18.html'"
   ]
  },
  {
   "cell_type": "code",
   "execution_count": 139,
   "metadata": {
    "ExecuteTime": {
     "end_time": "2022-08-22T16:27:34.748045Z",
     "start_time": "2022-08-22T16:27:34.744597Z"
    },
    "hidden": true
   },
   "outputs": [],
   "source": [
    "#todo: water non-detection!\n",
    "allart_17_species = ['H2O']\n",
    "\n",
    "allart_17_SNRs = np.array([np.nan])\n",
    "\n",
    "frame = allart_17_frame = pd.DataFrame({'SNR': allart_17_SNRs,\n",
    "                             'species': allart_17_species})\n",
    "\n",
    "frame['lead'] = 'allart'\n",
    "frame['planet'] = 'HD 189733 b'\n",
    "frame['observation'] = 'transit'\n",
    "frame['instrument'] = 'HARPS'\n",
    "frame['year'] = 2017\n",
    "frame['new data?'] = True\n",
    "frame['analysis type'] = 'self-consistent forward models'\n",
    "frame['tellurics'] = 'molecfit'\n",
    "frame['url']= 'https://www.aanda.org/articles/aa/pdf/2017/10/aa30814-17.pdf'"
   ]
  },
  {
   "cell_type": "code",
   "execution_count": 140,
   "metadata": {
    "ExecuteTime": {
     "end_time": "2022-08-22T16:27:34.752250Z",
     "start_time": "2022-08-22T16:27:34.748996Z"
    },
    "hidden": true
   },
   "outputs": [],
   "source": [
    "fossati_21_species = ['He']\n",
    "\n",
    "fossati_21_SNRs = np.array([np.nan])\n",
    "\n",
    "frame = fossati_21_frame = pd.DataFrame({'SNR': fossati_21_SNRs,\n",
    "                             'species': fossati_21_species})\n",
    "\n",
    "frame['lead'] = 'fossati'\n",
    "frame['planet'] = 'WASP-80 b'\n",
    "frame['observation'] = 'transit'\n",
    "frame['instrument'] = 'HARPS-N, GIANO-B'\n",
    "frame['year'] = 2021\n",
    "frame['new data?'] = True\n",
    "frame['analysis type'] = 'self-consistent forward models'\n",
    "frame['tellurics'] = 'airmass detrending'\n",
    "frame['url']= 'https://www.aanda.org/articles/aa/abs/2022/02/aa42336-21/aa42336-21.html'"
   ]
  },
  {
   "cell_type": "code",
   "execution_count": 141,
   "metadata": {
    "ExecuteTime": {
     "end_time": "2022-08-22T16:27:34.755897Z",
     "start_time": "2022-08-22T16:27:34.753052Z"
    },
    "hidden": true
   },
   "outputs": [],
   "source": [
    "scandariato_20_species = ['']\n",
    "\n",
    "scandariato_20_SNRs = np.array([np.nan])\n",
    "\n",
    "scandariato_20_frame = pd.DataFrame({'SNR': scandariato_20_SNRs,\n",
    "                             'species': scandariato_20_species})\n",
    "\n",
    "scandariato_20_frame['lead'] = 'Scandariato'\n",
    "scandariato_20_frame['planet'] = '51 Peg b'\n",
    "scandariato_20_frame['observation'] = 'reflected light'\n",
    "scandariato_20_frame['instrument'] = 'HARPS, HARPS-N'\n",
    "scandariato_20_frame['year'] = 2020\n",
    "scandariato_20_frame['new data?'] = True\n",
    "scandariato_20_frame['analysis type'] = 'stellar spectrum'"
   ]
  },
  {
   "cell_type": "code",
   "execution_count": 142,
   "metadata": {
    "ExecuteTime": {
     "end_time": "2022-08-22T16:27:34.757937Z",
     "start_time": "2022-08-22T16:27:34.756677Z"
    },
    "hidden": true
   },
   "outputs": [],
   "source": [
    "# todo: add all new above here."
   ]
  },
  {
   "cell_type": "code",
   "execution_count": 143,
   "metadata": {
    "ExecuteTime": {
     "end_time": "2022-08-22T16:27:34.761996Z",
     "start_time": "2022-08-22T16:27:34.758593Z"
    },
    "hidden": true
   },
   "outputs": [],
   "source": [
    "brogi_line_19_species = ['H2O', 'CO']\n",
    "\n",
    "brogi_line_19_SNRs = np.array([0, 0])\n",
    "\n",
    "brogi_line_19_frame = pd.DataFrame({'SNR': brogi_line_19_SNRs,\n",
    "                             'species': brogi_line_19_species})\n",
    "\n",
    "brogi_line_19_frame['lead'] = 'Brogi'\n",
    "brogi_line_19_frame['planet'] = 'HD 209458 b'\n",
    "brogi_line_19_frame['observation'] = 'transit'\n",
    "brogi_line_19_frame['instrument'] = 'CRIRES'\n",
    "brogi_line_19_frame['year'] = 2019\n",
    "brogi_line_19_frame['new data?'] = False\n",
    "brogi_line_19_frame['detection?'] = True\n",
    "brogi_line_19_frame['analysis type'] = 'retrieval'"
   ]
  },
  {
   "cell_type": "code",
   "execution_count": 144,
   "metadata": {
    "ExecuteTime": {
     "end_time": "2022-08-22T16:27:34.766291Z",
     "start_time": "2022-08-22T16:27:34.763028Z"
    },
    "hidden": true
   },
   "outputs": [],
   "source": [
    "brogi_line_19_2_species = ['H2O', 'CO']\n",
    "\n",
    "brogi_line_19_2_SNRs = np.array([0, 0])\n",
    "\n",
    "brogi_line_19_2_frame = pd.DataFrame({'SNR': brogi_line_19_2_SNRs,\n",
    "                             'species': brogi_line_19_2_species})\n",
    "\n",
    "brogi_line_19_2_frame['lead'] = 'Brogi'\n",
    "brogi_line_19_2_frame['planet'] = 'HD 189733 b'\n",
    "brogi_line_19_2_frame['observation'] = 'transit'\n",
    "brogi_line_19_2_frame['instrument'] = 'CRIRES'\n",
    "brogi_line_19_2_frame['year'] = 2019\n",
    "brogi_line_19_2_frame['new data?'] = False\n",
    "brogi_line_19_2_frame['detection?'] = True\n",
    "brogi_line_19_2_frame['analysis type'] = 'retrieval'"
   ]
  },
  {
   "cell_type": "code",
   "execution_count": 145,
   "metadata": {
    "ExecuteTime": {
     "end_time": "2022-08-22T16:27:34.771332Z",
     "start_time": "2022-08-22T16:27:34.767063Z"
    },
    "hidden": true
   },
   "outputs": [],
   "source": [
    "gandhi_22_species = ['Fe']\n",
    "\n",
    "gandhi_22_SNRs = np.array([0])\n",
    "\n",
    "gandhi_22_VMRs = np.array([-4.33])\n",
    "\n",
    "# phase 1: evening −4.97+0.63−0.56, −3.83+0.51−0.59\n",
    "# phase 2: evening −4.03+0.28 −0.31, morning −4.59+0.85 −1.0\n",
    "# todo: add this once more people do it :)\n",
    "\n",
    "gandhi_22_VMRs_err1 = np.array([0.26])\n",
    "\n",
    "gandhi_22_VMRs_err2 = np.array([0.27])\n",
    "\n",
    "gandhi_22_frame = pd.DataFrame({'SNR': gandhi_22_SNRs,\n",
    "                             'species': gandhi_22_species,\n",
    "                              'VMR': gandhi_22_VMRs,\n",
    "                               'VMR_err1': gandhi_22_VMRs_err1,\n",
    "                               'VMR_err2': gandhi_22_VMRs_err2})\n",
    "\n",
    "gandhi_22_frame['lead'] = 'Gandhi'\n",
    "gandhi_22_frame['planet'] = 'WASP-76 b'\n",
    "gandhi_22_frame['observation'] = 'transit'\n",
    "gandhi_22_frame['instrument'] = 'ESPRESSO'\n",
    "gandhi_22_frame['year'] = 2022\n",
    "gandhi_22_frame['new data?'] = False\n",
    "gandhi_22_frame['detection?'] = True\n",
    "gandhi_22_frame['analysis type'] = 'retrieval, 2D'\n",
    "gandhi_22_frame['url'] = 'https://ui.adsabs.harvard.edu/abs/2022MNRAS.515..749G/abstract'\n",
    "\n"
   ]
  },
  {
   "cell_type": "code",
   "execution_count": 146,
   "metadata": {
    "ExecuteTime": {
     "end_time": "2022-08-22T16:27:34.775672Z",
     "start_time": "2022-08-22T16:27:34.772251Z"
    },
    "hidden": true
   },
   "outputs": [],
   "source": [
    "gandhi_19_species = ['H2O', 'CO']\n",
    "\n",
    "gandhi_19_SNRs = np.array([0, 0])\n",
    "\n",
    "gandhi_19_frame = pd.DataFrame({'SNR': gandhi_19_SNRs,\n",
    "                             'species': gandhi_19_species})\n",
    "\n",
    "gandhi_19_frame['lead'] = 'Gandhi'\n",
    "gandhi_19_frame['planet'] = 'HD 209458 b'\n",
    "gandhi_19_frame['observation'] = 'transit'\n",
    "gandhi_19_frame['instrument'] = 'CRIRES'\n",
    "gandhi_19_frame['year'] = 2019\n",
    "gandhi_19_frame['analysis type'] = 'retrieval'\n",
    "gandhi_19_frame['new data?'] = False\n",
    "gandhi_19_frame['detection?'] = True\n",
    "gandhi_19_frame['url'] = 'https://ui.adsabs.harvard.edu/abs/2019AJ....158..228G/abstract'"
   ]
  },
  {
   "cell_type": "code",
   "execution_count": 147,
   "metadata": {
    "ExecuteTime": {
     "end_time": "2022-08-22T16:27:34.780438Z",
     "start_time": "2022-08-22T16:27:34.776618Z"
    },
    "hidden": true
   },
   "outputs": [],
   "source": [
    "brogi_17_species = ['H2O', 'CO']\n",
    "\n",
    "brogi_17_SNRs = np.array([0, 0])\n",
    "\n",
    "brogi_17_frame = pd.DataFrame({'SNR': brogi_17_SNRs,\n",
    "                             'species': brogi_17_species})\n",
    "\n",
    "brogi_17_frame['lead'] = 'Brogi'\n",
    "brogi_17_frame['planet'] = 'HD 209458 b'\n",
    "brogi_17_frame['observation'] = 'transit'\n",
    "brogi_17_frame['instrument'] = 'CRIRES'\n",
    "brogi_17_frame['year'] = 2017\n",
    "brogi_17_frame['analysis type'] = 'joint'\n",
    "brogi_17_frame['new data?'] = False\n",
    "brogi_17_frame['detection?'] = True\n",
    "brogi_17_frame['url'] = 'https://ui.adsabs.harvard.edu/abs/2017ApJ...839L...2B/abstract'"
   ]
  },
  {
   "cell_type": "code",
   "execution_count": 148,
   "metadata": {
    "ExecuteTime": {
     "end_time": "2022-08-22T16:27:34.782700Z",
     "start_time": "2022-08-22T16:27:34.781323Z"
    },
    "hidden": true
   },
   "outputs": [],
   "source": [
    "# think about how to do non-detections for a single species...\n",
    "# like what's the difference between a non-detection and a non-listed SNR?\n",
    "# maybe use np.nan for non-detection"
   ]
  },
  {
   "cell_type": "code",
   "execution_count": 149,
   "metadata": {
    "ExecuteTime": {
     "end_time": "2022-08-22T16:27:34.786640Z",
     "start_time": "2022-08-22T16:27:34.783392Z"
    },
    "hidden": true
   },
   "outputs": [],
   "source": [
    "brogi_17_species = ['H2O', 'CO']\n",
    "\n",
    "brogi_17_SNRs = np.array([0, 0])\n",
    "\n",
    "brogi_17_frame = pd.DataFrame({'SNR': brogi_17_SNRs,\n",
    "                             'species': brogi_17_species})\n",
    "\n",
    "brogi_17_frame['lead'] = 'Brogi'\n",
    "brogi_17_frame['planet'] = 'HD 209458 b'\n",
    "brogi_17_frame['observation'] = 'transit'\n",
    "brogi_17_frame['instrument'] = 'CRIRES'\n",
    "brogi_17_frame['year'] = 2017\n",
    "brogi_17_frame['analysis type'] = 'joint'\n",
    "brogi_17_frame['new data?'] = False\n",
    "brogi_17_frame['detection?'] = False\n",
    "brogi_17_frame['url'] = 'https://ui.adsabs.harvard.edu/abs/2017ApJ...839L...2B/abstract'"
   ]
  },
  {
   "cell_type": "code",
   "execution_count": 150,
   "metadata": {
    "ExecuteTime": {
     "end_time": "2022-08-22T16:27:34.791059Z",
     "start_time": "2022-08-22T16:27:34.787458Z"
    },
    "hidden": true
   },
   "outputs": [],
   "source": [
    "brogi_18_species = ['H2O']\n",
    "\n",
    "brogi_18_SNRs = np.array([5.5])\n",
    "\n",
    "brogi_18_frame = pd.DataFrame({'SNR': brogi_18_SNRs,\n",
    "                             'species': brogi_18_species})\n",
    "\n",
    "brogi_18_frame['lead'] = 'Brogi'\n",
    "brogi_18_frame['planet'] = 'HD 189733 b'\n",
    "brogi_18_frame['observation'] = 'transit'\n",
    "brogi_18_frame['instrument'] = 'GIANO'\n",
    "brogi_18_frame['year'] = 2018\n",
    "brogi_18_frame['analysis type'] = 'parameterized forward model'\n",
    "brogi_18_frame['new data?'] = True\n",
    "brogi_18_frame['url'] = 'https://ui.adsabs.harvard.edu/abs/2018A%26A...615A..16B/abstract'"
   ]
  },
  {
   "cell_type": "code",
   "execution_count": 151,
   "metadata": {
    "ExecuteTime": {
     "end_time": "2022-08-22T16:27:34.794715Z",
     "start_time": "2022-08-22T16:27:34.791890Z"
    },
    "hidden": true
   },
   "outputs": [],
   "source": [
    "kesseli_21_species = ['H',\n",
    "          'Li',\n",
    "          'Na',\n",
    "          'Mg',\n",
    "          'K',\n",
    "          'Ca+',\n",
    "          'V',\n",
    "          'Cr',\n",
    "          'Mn',\n",
    "          'Fe',\n",
    "          'Co',\n",
    "          'Ni',\n",
    "          'Sr+']\n",
    "\n",
    "kesseli_21_SNRs = [5.31,\n",
    "       6.03,\n",
    "       10.63,\n",
    "       6.94,\n",
    "       4.22,\n",
    "       7.8,\n",
    "       8.19,\n",
    "       6.82,\n",
    "       5.82,\n",
    "       14.24,\n",
    "       4.03,\n",
    "       5.01,\n",
    "       5.77]\n",
    "\n",
    "\n",
    "kesseli_21_frame = pd.DataFrame({'SNR': kesseli_21_SNRs,\n",
    "                             'species':kesseli_21_species})\n",
    "\n",
    "kesseli_21_frame['lead'] = 'Aurora Kesseli'\n",
    "kesseli_21_frame['observation'] = 'transit'\n",
    "kesseli_21_frame['planet'] = 'WASP-76 b'\n",
    "kesseli_21_frame['instrument'] = 'ESPRESSO'\n",
    "kesseli_21_frame['year'] = 2020"
   ]
  },
  {
   "cell_type": "code",
   "execution_count": 152,
   "metadata": {
    "ExecuteTime": {
     "end_time": "2022-08-22T16:27:34.798970Z",
     "start_time": "2022-08-22T16:27:34.795508Z"
    },
    "hidden": true
   },
   "outputs": [],
   "source": [
    "tabernero_20_species = ['Ca+ K',\n",
    "                       'Ca+ H',\n",
    "                       'Mn',\n",
    "                       'Fe',\n",
    "                       'Mg',\n",
    "                       'Mg b',\n",
    "                       'Na D2',\n",
    "                       'Na D1',\n",
    "                       'H alpha',\n",
    "                       'Li',\n",
    "                       'K']\n",
    "\n",
    "tabernero_20_SNRs = np.array([[7.1,7.2],\n",
    "                             [8.5, 5.6],\n",
    "                             [4.7, 5],\n",
    "                             [4.7, 6.7],\n",
    "                             [2.8, 3.7],\n",
    "                             [5.0, 7.5],\n",
    "                             [9.2, 6.7],\n",
    "                             [7.5, 7.0],\n",
    "                             [4.0, np.nan],\n",
    "                             [4.4, 5.7],\n",
    "                             [3.8, 5.7]])\n",
    "\n",
    "tabernero_20_SNRs = np.nanmean(tabernero_20_SNRs, axis=1)\n",
    "\n",
    "tabernero_20_frame = pd.DataFrame({'SNR': tabernero_20_SNRs,\n",
    "                             'species': tabernero_20_species})\n",
    "\n",
    "tabernero_20_frame['lead'] = 'HM Tabernero'\n",
    "tabernero_20_frame['planet'] = 'WASP-76 b'\n",
    "tabernero_20_frame['observation'] = 'transit'\n",
    "tabernero_20_frame['instrument'] = 'ESPRESSO'\n",
    "tabernero_20_frame['year'] = 2020"
   ]
  },
  {
   "cell_type": "code",
   "execution_count": 153,
   "metadata": {
    "ExecuteTime": {
     "end_time": "2022-08-22T16:27:34.802337Z",
     "start_time": "2022-08-22T16:27:34.799801Z"
    },
    "hidden": true
   },
   "outputs": [],
   "source": [
    "snellen_10_species = ['CO']\n",
    "\n",
    "snellen_10_SNRs = np.array([5.6])\n",
    "\n",
    "snellen_10_frame = pd.DataFrame({'SNR': snellen_10_SNRs,\n",
    "                             'species': snellen_10_species})\n",
    "\n",
    "snellen_10_frame['lead'] = 'Ignas Snellen'\n",
    "snellen_10_frame['instrument'] = 'CRIRES'\n",
    "snellen_10_frame['observation'] = 'transit'\n",
    "snellen_10_frame['planet'] = 'HD 209458 b'\n",
    "snellen_10_frame['year'] = 2010"
   ]
  },
  {
   "cell_type": "code",
   "execution_count": 154,
   "metadata": {
    "ExecuteTime": {
     "end_time": "2022-08-22T16:27:34.806144Z",
     "start_time": "2022-08-22T16:27:34.803344Z"
    },
    "hidden": true
   },
   "outputs": [],
   "source": [
    "sanchez_lopez_19_species = ['H2O']\n",
    "\n",
    "sanchez_lopez_19_SNRs = np.array([6.4])\n",
    "\n",
    "sanchez_lopez_19_frame = pd.DataFrame({'SNR': sanchez_lopez_19_SNRs,\n",
    "                             'species': sanchez_lopez_19_species})\n",
    "\n",
    "sanchez_lopez_19_frame['lead'] = 'A Sanchez-Lopez'\n",
    "sanchez_lopez_19_frame['planet'] = 'HD 209458 b'\n",
    "sanchez_lopez_19_frame['observation'] = 'transit'\n",
    "sanchez_lopez_19_frame['instrument'] = 'CARMENES'\n",
    "sanchez_lopez_19_frame['year'] = 2019"
   ]
  },
  {
   "cell_type": "code",
   "execution_count": 155,
   "metadata": {
    "ExecuteTime": {
     "end_time": "2022-08-22T16:27:34.809850Z",
     "start_time": "2022-08-22T16:27:34.807182Z"
    },
    "hidden": true
   },
   "outputs": [],
   "source": [
    "louden_15_species = ['Na']\n",
    "\n",
    "louden_15_SNRs = np.array([0]) # not reported\n",
    "\n",
    "louden_15_frame = pd.DataFrame({'SNR': louden_15_SNRs,\n",
    "                             'species': louden_15_species})\n",
    "\n",
    "louden_15_frame['lead'] = 'T Louden'\n",
    "louden_15_frame['planet'] = 'HD 189733 b'\n",
    "louden_15_frame['observation'] = 'transit'\n",
    "louden_15_frame['instrument'] = 'HARPS'\n",
    "louden_15_frame['year'] = 2015\n",
    "louden_15_frame['detection?'] = True"
   ]
  },
  {
   "cell_type": "code",
   "execution_count": 156,
   "metadata": {
    "ExecuteTime": {
     "end_time": "2022-08-22T16:27:34.813583Z",
     "start_time": "2022-08-22T16:27:34.810704Z"
    },
    "hidden": true
   },
   "outputs": [],
   "source": [
    "boucher_21_species = ['H2O']\n",
    "\n",
    "boucher_21_SNRs = np.array([5.9]) # not reported\n",
    "\n",
    "boucher_21_frame = pd.DataFrame({'SNR': boucher_21_SNRs,\n",
    "                             'species': boucher_21_species})\n",
    "\n",
    "boucher_21_frame['lead'] = 'A Boucher'\n",
    "boucher_21_frame['planet'] = 'HD 189733 b'\n",
    "boucher_21_frame['observation'] = 'transit'\n",
    "boucher_21_frame['instrument'] = 'SPIRou'\n",
    "boucher_21_frame['year'] = 2021\n",
    "boucher_21_frame['detection?'] = True"
   ]
  },
  {
   "cell_type": "code",
   "execution_count": 157,
   "metadata": {
    "ExecuteTime": {
     "end_time": "2022-08-22T16:27:34.817454Z",
     "start_time": "2022-08-22T16:27:34.814452Z"
    },
    "hidden": true
   },
   "outputs": [],
   "source": [
    "brogi_16_species = ['H2O',\n",
    "                   'CO']\n",
    "\n",
    "brogi_16_SNRs = np.array([5.5, 5.1]) # not reported\n",
    "\n",
    "brogi_16_frame = pd.DataFrame({'SNR': brogi_16_SNRs,\n",
    "                             'species': brogi_16_species})\n",
    "\n",
    "brogi_16_frame['lead'] = 'M Brogi'\n",
    "brogi_16_frame['planet'] = 'HD 189733 b'\n",
    "brogi_16_frame['observation'] = 'transit'\n",
    "brogi_16_frame['instrument'] = 'CRIRES'\n",
    "brogi_16_frame['year'] = 2016\n",
    "brogi_16_frame['detection?'] = True"
   ]
  },
  {
   "cell_type": "code",
   "execution_count": 158,
   "metadata": {
    "ExecuteTime": {
     "end_time": "2022-08-22T16:27:34.821377Z",
     "start_time": "2022-08-22T16:27:34.818215Z"
    },
    "hidden": true
   },
   "outputs": [],
   "source": [
    "flowers_19_species = ['H2O',\n",
    "                   'CO']\n",
    "\n",
    "flowers_19_SNRs = np.array([8.2, 8.2]) # computed together\n",
    "\n",
    "flowers_19_frame = pd.DataFrame({'SNR': flowers_19_SNRs,\n",
    "                             'species': flowers_19_species})\n",
    "\n",
    "flowers_19_frame['lead'] = 'E Flowers'\n",
    "flowers_19_frame['planet'] = 'HD 189733 b'\n",
    "flowers_19_frame['observation'] = 'transit'\n",
    "flowers_19_frame['instrument'] = 'CRIRES'\n",
    "flowers_19_frame['year'] = 2019\n",
    "flowers_19_frame['detection?'] = True"
   ]
  },
  {
   "cell_type": "code",
   "execution_count": 159,
   "metadata": {
    "ExecuteTime": {
     "end_time": "2022-08-22T16:27:34.825593Z",
     "start_time": "2022-08-22T16:27:34.822268Z"
    },
    "hidden": true
   },
   "outputs": [],
   "source": [
    "schwarz_16_species = ['CO', 'H2O']\n",
    "\n",
    "schwarz_16_SNRs = np.array([11.6, 7.7])\n",
    "\n",
    "schwarz_16_frame = pd.DataFrame({'SNR': schwarz_16_SNRs,\n",
    "                             'species': schwarz_16_species})\n",
    "\n",
    "schwarz_16_frame['lead'] = 'H Schwarz'\n",
    "schwarz_16_frame['planet'] = 'GQ Lupi'\n",
    "schwarz_16_frame['observation'] = 'direct image'\n",
    "schwarz_16_frame['instrument'] = 'CRIRES'\n",
    "schwarz_16_frame['year'] = 2016\n",
    "schwarz_16_frame['detection?'] = True"
   ]
  },
  {
   "cell_type": "code",
   "execution_count": 160,
   "metadata": {
    "ExecuteTime": {
     "end_time": "2022-08-22T16:27:34.829846Z",
     "start_time": "2022-08-22T16:27:34.826419Z"
    },
    "hidden": true
   },
   "outputs": [],
   "source": [
    "schwarz_15_species = ['CO']\n",
    "\n",
    "schwarz_15_SNRs = np.array([3])\n",
    "\n",
    "schwarz_15_frame = pd.DataFrame({'SNR': schwarz_15_SNRs,\n",
    "                             'species': schwarz_15_species})\n",
    "\n",
    "schwarz_15_frame['lead'] = 'H Schwarz'\n",
    "schwarz_15_frame['planet'] = 'HD 209458 b'\n",
    "schwarz_15_frame['observation'] = 'direct image'\n",
    "schwarz_15_frame['instrument'] = 'CRIRES'\n",
    "schwarz_15_frame['year'] = 2015\n",
    "\n",
    "schwarz_15_frame['analysis type'] = 'paramaterized forward model'\n",
    "schwarz_15_frame['new data?'] = True\n",
    "schwarz_15_frame['detection?'] = False # less than 4 sigma\n",
    "schwarz_15_frame['url'] = 'https://ui.adsabs.harvard.edu/abs/2017ApJ...839L...2B/abstract'"
   ]
  },
  {
   "cell_type": "code",
   "execution_count": 161,
   "metadata": {
    "ExecuteTime": {
     "end_time": "2022-08-22T16:27:34.833826Z",
     "start_time": "2022-08-22T16:27:34.830915Z"
    },
    "hidden": true
   },
   "outputs": [],
   "source": [
    "brogi_13_species = ['CO', 'H2O']\n",
    "\n",
    "brogi_13_SNRs = np.array([5.9, 5.9]) # computed together\n",
    "\n",
    "brogi_13_frame = pd.DataFrame({'SNR': brogi_13_SNRs,\n",
    "                             'species': brogi_13_species})\n",
    "\n",
    "brogi_13_frame['lead'] = 'M Brogi'\n",
    "brogi_13_frame['planet'] = '51 Peg b'\n",
    "brogi_13_frame['observation'] = 'emission'\n",
    "brogi_13_frame['instrument'] = 'CRIRES'\n",
    "brogi_13_frame['year'] = 2013"
   ]
  },
  {
   "cell_type": "code",
   "execution_count": 162,
   "metadata": {
    "ExecuteTime": {
     "end_time": "2022-08-22T16:27:34.837630Z",
     "start_time": "2022-08-22T16:27:34.834772Z"
    },
    "hidden": true
   },
   "outputs": [],
   "source": [
    "birkby_17_species = ['H2O']\n",
    "\n",
    "birkby_17_SNRs = np.array([5.6]) # computed together\n",
    "\n",
    "birkby_17_frame = pd.DataFrame({'SNR': birkby_17_SNRs,\n",
    "                             'species': birkby_17_species})\n",
    "\n",
    "birkby_17_frame['lead'] = 'J Birkby'\n",
    "birkby_17_frame['planet'] = '51 Peg b'\n",
    "birkby_17_frame['observation'] = 'emission'\n",
    "birkby_17_frame['instrument'] = 'CRIRES'\n",
    "birkby_17_frame['year'] = 2017"
   ]
  },
  {
   "cell_type": "code",
   "execution_count": 163,
   "metadata": {
    "ExecuteTime": {
     "end_time": "2022-08-22T16:27:34.841731Z",
     "start_time": "2022-08-22T16:27:34.838684Z"
    },
    "hidden": true
   },
   "outputs": [],
   "source": [
    "brogi_14_species = ['CO', 'H2O']\n",
    "\n",
    "brogi_14_SNRs = np.array([6.3, 6.3]) # computed together\n",
    "\n",
    "brogi_14_frame = pd.DataFrame({'SNR': brogi_14_SNRs,\n",
    "                             'species': brogi_14_species})\n",
    "\n",
    "brogi_14_frame['lead'] = 'M Brogi'\n",
    "brogi_14_frame['planet'] = 'HD 179949 b'\n",
    "brogi_14_frame['observation'] = 'emission'\n",
    "brogi_14_frame['instrument'] = 'CRIRES'\n",
    "brogi_14_frame['year'] = 2014"
   ]
  },
  {
   "cell_type": "code",
   "execution_count": 164,
   "metadata": {
    "ExecuteTime": {
     "end_time": "2022-08-22T16:27:34.845398Z",
     "start_time": "2022-08-22T16:27:34.842604Z"
    },
    "hidden": true
   },
   "outputs": [],
   "source": [
    "webb_20_species = ['H2O']\n",
    "\n",
    "webb_20_SNRs = np.array([3]) # computed together\n",
    "\n",
    "webb_20_frame = pd.DataFrame({'SNR': webb_20_SNRs,\n",
    "                             'species': webb_20_species})\n",
    "\n",
    "webb_20_frame['lead'] = 'M Brogi'\n",
    "webb_20_frame['planet'] = 'HD 179949 b'\n",
    "webb_20_frame['observation'] = 'emission'\n",
    "webb_20_frame['instrument'] = 'CRIRES'\n",
    "webb_20_frame['year'] = 2014"
   ]
  },
  {
   "cell_type": "code",
   "execution_count": 165,
   "metadata": {
    "ExecuteTime": {
     "end_time": "2022-08-22T16:27:34.849308Z",
     "start_time": "2022-08-22T16:27:34.846325Z"
    },
    "hidden": true
   },
   "outputs": [],
   "source": [
    "sedaghati_17_species = ['TiO', 'Na', 'H2O'] #note: different!\n",
    "\n",
    "sedaghati_17_SNRs = np.array([7.7, 3.4, 7.9]) # computed together\n",
    "\n",
    "sedaghati_17_frame = pd.DataFrame({'SNR': sedaghati_17_SNRs,\n",
    "                             'species': sedaghati_17_species})\n",
    "\n",
    "sedaghati_17_frame['lead'] = 'E Sedaghati'\n",
    "sedaghati_17_frame['planet'] = 'WASP-19 b'\n",
    "sedaghati_17_frame['observation'] = 'emission'\n",
    "sedaghati_17_frame['instrument'] = 'CRIRES'\n",
    "sedaghati_17_frame['year'] = 2017"
   ]
  },
  {
   "cell_type": "code",
   "execution_count": 166,
   "metadata": {
    "ExecuteTime": {
     "end_time": "2022-08-22T16:27:34.853008Z",
     "start_time": "2022-08-22T16:27:34.850056Z"
    },
    "hidden": true
   },
   "outputs": [],
   "source": [
    "wyttenbach_13_species = ['Na'] #note: different!\n",
    "\n",
    "wyttenbach_13_SNRs = np.array([4.5]) # computed together\n",
    "\n",
    "wyttenbach_13_frame = pd.DataFrame({'SNR': wyttenbach_13_SNRs,\n",
    "                             'species': wyttenbach_13_species})\n",
    "\n",
    "wyttenbach_13_frame['lead'] = 'wyttenbach'\n",
    "wyttenbach_13_frame['planet'] = 'WASP-49 b'\n",
    "wyttenbach_13_frame['observation'] = 'transit'\n",
    "wyttenbach_13_frame['instrument'] = 'HARPS'\n",
    "wyttenbach_13_frame['year'] = 2016"
   ]
  },
  {
   "cell_type": "code",
   "execution_count": 167,
   "metadata": {
    "ExecuteTime": {
     "end_time": "2022-08-22T16:27:34.856475Z",
     "start_time": "2022-08-22T16:27:34.853835Z"
    },
    "hidden": true
   },
   "outputs": [],
   "source": [
    "nugroho_20_species = ['Fe', 'Ca+', 'Na', 'Fe+'] #note: different!\n",
    "\n",
    "nugroho_20_SNRs = np.array([14.43, 8.35, 5.77, 13.47]) # computed together\n",
    "\n",
    "nugroho_20_frame = pd.DataFrame({'SNR': nugroho_20_SNRs,\n",
    "                             'species': nugroho_20_species})\n",
    "\n",
    "nugroho_20_frame['lead'] = 'S Nugroho'\n",
    "nugroho_20_frame['planet'] = 'KELT-20 b'\n",
    "nugroho_20_frame['observation'] = 'transit'\n",
    "nugroho_20_frame['instrument'] = 'HARPS, CARMENES'\n",
    "nugroho_20_frame['year'] = 2020"
   ]
  },
  {
   "cell_type": "code",
   "execution_count": 168,
   "metadata": {
    "ExecuteTime": {
     "end_time": "2022-08-22T16:27:34.859571Z",
     "start_time": "2022-08-22T16:27:34.857292Z"
    },
    "hidden": true
   },
   "outputs": [],
   "source": [
    "carone_20_species = ['Na', 'K'] #note: different!\n",
    "\n",
    "carone_20_SNRs = np.array([2.4, 2.4]) # computed together\n",
    "\n",
    "carone_20_frame = pd.DataFrame({'SNR': carone_20_SNRs,\n",
    "                             'species': carone_20_species})\n",
    "\n",
    "carone_20_frame['lead'] = 'L Carone'\n",
    "carone_20_frame['planet'] = 'WASP-117 b'\n",
    "carone_20_frame['observation'] = 'transit'\n",
    "carone_20_frame['instrument'] = 'ESPRESSO'\n",
    "carone_20_frame['year'] = 2020"
   ]
  },
  {
   "cell_type": "code",
   "execution_count": 169,
   "metadata": {
    "ExecuteTime": {
     "end_time": "2022-08-22T16:27:34.862836Z",
     "start_time": "2022-08-22T16:27:34.860333Z"
    },
    "hidden": true
   },
   "outputs": [],
   "source": [
    "ben_yami_20_species = ['Fe', 'Cr', 'V', 'Fe+'] #note: different!\n",
    "\n",
    "ben_yami_20_SNRs = np.array([6.0, 3.6, 4.5, 3.6]) # computed together\n",
    "\n",
    "ben_yami_20_frame = pd.DataFrame({'SNR': ben_yami_20_SNRs,\n",
    "                             'species': ben_yami_20_species})\n",
    "\n",
    "ben_yami_20_frame['lead'] = 'M Ben-Yami'\n",
    "ben_yami_20_frame['planet'] = 'WASP-121 b'\n",
    "ben_yami_20_frame['observation'] = 'transit'\n",
    "ben_yami_20_frame['instrument'] = 'HARPS'\n",
    "ben_yami_20_frame['year'] = 2020"
   ]
  },
  {
   "cell_type": "code",
   "execution_count": 170,
   "metadata": {
    "ExecuteTime": {
     "end_time": "2022-08-22T16:27:34.866166Z",
     "start_time": "2022-08-22T16:27:34.863646Z"
    },
    "hidden": true
   },
   "outputs": [],
   "source": [
    "ehrenreich_20_species = ['Fe'] #note: different!\n",
    "\n",
    "ehrenreich_20_SNRs = np.array([9]) # computed together\n",
    "\n",
    "ehrenreich_20_frame = pd.DataFrame({'SNR': ehrenreich_20_SNRs,\n",
    "                             'species': ehrenreich_20_species})\n",
    "\n",
    "ehrenreich_20_frame['lead'] = 'D Ehrenreich'\n",
    "ehrenreich_20_frame['planet'] = 'WASP-76 b'\n",
    "ehrenreich_20_frame['observation'] = 'transit'\n",
    "ehrenreich_20_frame['instrument'] = 'ESPRESSO'\n",
    "ehrenreich_20_frame['year'] = 2020"
   ]
  },
  {
   "cell_type": "code",
   "execution_count": 171,
   "metadata": {
    "ExecuteTime": {
     "end_time": "2022-08-22T16:27:34.870640Z",
     "start_time": "2022-08-22T16:27:34.867303Z"
    },
    "hidden": true
   },
   "outputs": [],
   "source": [
    "hoeijmakers_20_species = ['Fe'] #note: different!\n",
    "\n",
    "hoeijmakers_20_SNRs = np.array([9]) # computed together\n",
    "\n",
    "hoeijmakers_20_frame = pd.DataFrame({'SNR': hoeijmakers_20_SNRs,\n",
    "                             'species': hoeijmakers_20_species})\n",
    "\n",
    "hoeijmakers_20_frame['lead'] = 'HJ Hoeijmakers'\n",
    "hoeijmakers_20_frame['planet'] = 'WASP-121 b'\n",
    "hoeijmakers_20_frame['observation'] = 'transit'\n",
    "hoeijmakers_20_frame['instrument'] = 'HARPS'\n",
    "hoeijmakers_20_frame['year'] = 2020"
   ]
  },
  {
   "cell_type": "code",
   "execution_count": 172,
   "metadata": {
    "ExecuteTime": {
     "end_time": "2022-08-22T16:27:34.874763Z",
     "start_time": "2022-08-22T16:27:34.871693Z"
    },
    "hidden": true
   },
   "outputs": [],
   "source": [
    "merritt_21_species = ['Sc+', 'Fe',' Ca', 'Cr', 'V', 'H', 'K'] #note: different!\n",
    "\n",
    "merritt_21_SNRs = np.array([3.5, 3.5, 3.5, 3.5, 3.5, 3.5, 3.5]) # computed together\n",
    "\n",
    "merritt_21_frame = pd.DataFrame({'SNR': merritt_21_SNRs,\n",
    "                             'species': merritt_21_species})\n",
    "\n",
    "merritt_21_frame['lead'] = 'S Merritt'\n",
    "merritt_21_frame['planet'] = 'WASP-121 b'\n",
    "merritt_21_frame['observation'] = 'transit'\n",
    "merritt_21_frame['instrument'] = 'UVES'\n",
    "merritt_21_frame['year'] = 2021"
   ]
  },
  {
   "cell_type": "code",
   "execution_count": 173,
   "metadata": {
    "ExecuteTime": {
     "end_time": "2022-08-22T16:27:34.879076Z",
     "start_time": "2022-08-22T16:27:34.875705Z"
    },
    "hidden": true
   },
   "outputs": [],
   "source": [
    "nugroho_20b_species = ['Fe'] #note: different!\n",
    "\n",
    "nugroho_20b_SNRs = np.array([6.4]) # computed together\n",
    "\n",
    "nugroho_20b_frame = pd.DataFrame({'SNR': nugroho_20b_SNRs,\n",
    "                             'species': nugroho_20b_species})\n",
    "\n",
    "nugroho_20b_frame['lead'] = 'S Nugroho'\n",
    "nugroho_20b_frame['planet'] = 'WASP-33 b'\n",
    "nugroho_20b_frame['observation'] = 'emission'\n",
    "nugroho_20b_frame['instrument'] = 'Subaru/IRD'\n",
    "nugroho_20b_frame['year'] = 2020"
   ]
  },
  {
   "cell_type": "code",
   "execution_count": 174,
   "metadata": {
    "ExecuteTime": {
     "end_time": "2022-08-22T16:27:34.882662Z",
     "start_time": "2022-08-22T16:27:34.879918Z"
    },
    "hidden": true
   },
   "outputs": [],
   "source": [
    "cont_22_species = ['Si'] #note: different!\n",
    "\n",
    "cont_22_SNRs = np.array([4.8]) # computed together\n",
    "\n",
    "cont_22_frame = pd.DataFrame({'SNR': cont_21_SNRs,\n",
    "                             'species': cont_21_species})\n",
    "\n",
    "cont_22_frame['lead'] = 'S Nugroho'\n",
    "cont_22_frame['planet'] = 'WASP-33 b'\n",
    "cont_22_frame['observation'] = 'emission'\n",
    "cont_22_frame['instrument'] = 'CARMENES'\n",
    "cont_22_frame['year'] = 2022"
   ]
  },
  {
   "cell_type": "code",
   "execution_count": 175,
   "metadata": {
    "ExecuteTime": {
     "end_time": "2022-08-22T16:27:34.886609Z",
     "start_time": "2022-08-22T16:27:34.883557Z"
    },
    "hidden": true
   },
   "outputs": [],
   "source": [
    "# todo: add\n",
    "cont_22_2_species = ['Si'] #note: different!\n",
    "\n",
    "cont_22_2_SNRs = np.array([5.4]) # computed together\n",
    "\n",
    "cont_22_2_frame = pd.DataFrame({'SNR': cont_22_2_SNRs,\n",
    "                             'species': cont_22_2_species})\n",
    "\n",
    "cont_22_2_frame['lead'] = 'cont'\n",
    "cont_22_2_frame['planet'] = 'KELT-20 b'\n",
    "cont_22_2_frame['observation'] = 'emission'\n",
    "cont_22_2_frame['instrument'] = 'CARMENES'\n",
    "cont_22_2_frame['year'] = 2022"
   ]
  },
  {
   "cell_type": "code",
   "execution_count": 176,
   "metadata": {
    "ExecuteTime": {
     "end_time": "2022-08-22T16:27:34.890504Z",
     "start_time": "2022-08-22T16:27:34.887624Z"
    },
    "hidden": true
   },
   "outputs": [],
   "source": [
    "herman_22_species = ['Fe'] #note: different!\n",
    "\n",
    "herman_22_SNRs = np.array([10.4]) # computed together\n",
    "\n",
    "herman_22_frame = pd.DataFrame({'SNR': herman_22_SNRs,\n",
    "                             'species': herman_22_species})\n",
    "\n",
    "herman_22_frame['lead'] = 'M Herman'\n",
    "herman_22_frame['planet'] = 'WASP-33 b'\n",
    "herman_22_frame['observation'] = 'emission'\n",
    "herman_22_frame['instrument'] = 'ESPaDOnS, HDS'\n",
    "herman_22_frame['year'] = 2022"
   ]
  },
  {
   "cell_type": "code",
   "execution_count": 177,
   "metadata": {
    "ExecuteTime": {
     "end_time": "2022-08-22T16:27:34.894468Z",
     "start_time": "2022-08-22T16:27:34.891509Z"
    },
    "hidden": true
   },
   "outputs": [],
   "source": [
    "yan_20_species = ['Fe'] #note: different!\n",
    "\n",
    "yan_20_SNRs = np.array([8.7]) # computed together\n",
    "\n",
    "yan_20_frame = pd.DataFrame({'SNR': yan_20_SNRs,\n",
    "                             'species': yan_20_species})\n",
    "\n",
    "yan_20_frame['lead'] = 'F Yan'\n",
    "yan_20_frame['planet'] = 'WASP-189 b'\n",
    "yan_20_frame['observation'] = 'emission'\n",
    "yan_20_frame['instrument'] = 'HARPS-N'\n",
    "yan_20_frame['year'] = 2020\n"
   ]
  },
  {
   "cell_type": "code",
   "execution_count": 178,
   "metadata": {
    "ExecuteTime": {
     "end_time": "2022-08-22T16:27:34.898465Z",
     "start_time": "2022-08-22T16:27:34.895503Z"
    },
    "hidden": true
   },
   "outputs": [],
   "source": [
    "stangret_21_species = ['Fe', 'Fe+', 'Ti', 'H alpha', 'H beta', 'Ca H&K'] #note: different!\n",
    "\n",
    "stangret_21_SNRs = np.array([5.1, 5.4, 4.2, 0, 0, 0]) # computed together\n",
    "\n",
    "stangret_21_frame = pd.DataFrame({'SNR': stangret_21_SNRs,\n",
    "                             'species': stangret_21_species})\n",
    "\n",
    "stangret_21_frame['lead'] = 'F Stangret'\n",
    "stangret_21_frame['planet'] = 'WASP-189 b'\n",
    "stangret_21_frame['observation'] = 'transit'\n",
    "stangret_21_frame['instrument'] = 'HARPS-N'\n",
    "stangret_21_frame['year'] = 2021"
   ]
  },
  {
   "cell_type": "markdown",
   "metadata": {
    "hidden": true
   },
   "source": [
    "non-detections of above: HAT-P-57b, KELT-7b, KELT-17b, KELT-21b, MASCARA-1b\n",
    "Al I,\n",
    "B I, Ca I, Cr I, Fe I, Fe II, H2O, K I, Li I, Mg I, Mg II, N I, Na I,\n",
    "Si I, Si II, Ti I, TiO, V I, V II, VO, and Y I"
   ]
  },
  {
   "cell_type": "code",
   "execution_count": 179,
   "metadata": {
    "ExecuteTime": {
     "end_time": "2022-08-22T16:27:34.902382Z",
     "start_time": "2022-08-22T16:27:34.899398Z"
    },
    "hidden": true
   },
   "outputs": [],
   "source": [
    "chen_20_species = ['Na'] #note: different!\n",
    "\n",
    "chen_20_SNRs = np.array([4.9]) # computed together\n",
    "\n",
    "chen_20_frame = pd.DataFrame({'SNR': chen_20_SNRs,\n",
    "                             'species': chen_20_species})\n",
    "\n",
    "chen_20_frame['lead'] = 'S chen'\n",
    "chen_20_frame['planet'] = 'WASP-21 b'\n",
    "chen_20_frame['observation'] = 'transit'\n",
    "chen_20_frame['instrument'] = 'HARPS-N'\n",
    "chen_20_frame['year'] = 2020"
   ]
  },
  {
   "cell_type": "code",
   "execution_count": 180,
   "metadata": {
    "ExecuteTime": {
     "end_time": "2022-08-22T16:27:34.906049Z",
     "start_time": "2022-08-22T16:27:34.903317Z"
    },
    "hidden": true
   },
   "outputs": [],
   "source": [
    "sanchez_lopez_20_species = ['H2O']\n",
    "\n",
    "sanchez_lopez_20_SNRs = np.array([5.2])\n",
    "\n",
    "sanchez_lopez_20_frame = pd.DataFrame({'SNR': sanchez_lopez_20_SNRs,\n",
    "                             'species': sanchez_lopez_20_species})\n",
    "\n",
    "sanchez_lopez_20_frame['lead'] = 'A Sanchez-Lopez'\n",
    "sanchez_lopez_20_frame['planet'] = 'HD 209458 b'\n",
    "sanchez_lopez_20_frame['observation'] = 'transit'\n",
    "sanchez_lopez_20_frame['instrument'] = 'CARMENES'\n",
    "sanchez_lopez_20_frame['year'] = 2020"
   ]
  },
  {
   "cell_type": "code",
   "execution_count": 181,
   "metadata": {
    "ExecuteTime": {
     "end_time": "2022-08-22T16:27:34.909697Z",
     "start_time": "2022-08-22T16:27:34.906919Z"
    },
    "hidden": true
   },
   "outputs": [],
   "source": [
    "sanchez_lopez_20_2_species = ['H2O']\n",
    "\n",
    "sanchez_lopez_20_2_SNRs = np.array([np.nan])\n",
    "\n",
    "sanchez_lopez_20_2_frame = pd.DataFrame({'SNR': sanchez_lopez_20_2_SNRs,\n",
    "                             'species': sanchez_lopez_20_2_species})\n",
    "\n",
    "sanchez_lopez_20_2_frame['lead'] = 'A Sanchez-Lopez'\n",
    "sanchez_lopez_20_2_frame['planet'] = 'HD 189733 b'\n",
    "sanchez_lopez_20_2_frame['observation'] = 'transit'\n",
    "sanchez_lopez_20_2_frame['instrument'] = 'CARMENES'\n",
    "sanchez_lopez_20_2_frame['year'] = 2020"
   ]
  },
  {
   "cell_type": "code",
   "execution_count": 182,
   "metadata": {
    "ExecuteTime": {
     "end_time": "2022-08-22T16:27:34.913911Z",
     "start_time": "2022-08-22T16:27:34.910647Z"
    },
    "hidden": true
   },
   "outputs": [],
   "source": [
    "borsa_20_species = ['Fe', 'Fe+',\n",
    "                   'Cr', 'V', 'Ca+', 'Mn', 'Mg', 'H beta',\n",
    "                   'Mg', 'Na', 'H alpha', 'Li', 'K']\n",
    "\n",
    "borsa_20_SNRs = np.array([13.3, 4.4, 4.2, 6.6, 4, 3.9, 4, 3.9, 4, 4, 4, 4, 4]) # taking the 1 UT\n",
    "\n",
    "borsa_20_frame = pd.DataFrame({'SNR': borsa_20_SNRs,\n",
    "                             'species': borsa_20_species})\n",
    "\n",
    "borsa_20_frame['lead'] = 'F Borsa'\n",
    "borsa_20_frame['planet'] = 'WASP-121 b'\n",
    "borsa_20_frame['observation'] = 'transit'\n",
    "borsa_20_frame['instrument'] = 'ESPRESSO'\n",
    "borsa_20_frame['year'] = 2020"
   ]
  },
  {
   "cell_type": "code",
   "execution_count": 183,
   "metadata": {
    "ExecuteTime": {
     "end_time": "2022-08-22T16:27:34.918174Z",
     "start_time": "2022-08-22T16:27:34.914935Z"
    },
    "hidden": true
   },
   "outputs": [],
   "source": [
    "yan_20b_species = ['H alpha', 'H beta', 'H gamma']\n",
    "\n",
    "yan_20b_SNRs = np.array([20, 8, 2.3]) # taking the 1 UT\n",
    "\n",
    "yan_20b_frame = pd.DataFrame({'SNR': yan_20b_SNRs,\n",
    "                             'species': yan_20b_species})\n",
    "\n",
    "yan_20b_frame['lead'] = 'F Yan'\n",
    "yan_20b_frame['planet'] = 'WASP-33 b'\n",
    "yan_20b_frame['observation'] = 'transit'\n",
    "yan_20b_frame['instrument'] = 'HARPS, CARMENES'\n",
    "yan_20b_frame['year'] = 2020"
   ]
  },
  {
   "cell_type": "code",
   "execution_count": 184,
   "metadata": {
    "ExecuteTime": {
     "end_time": "2022-08-22T16:27:34.920729Z",
     "start_time": "2022-08-22T16:27:34.919371Z"
    },
    "hidden": true
   },
   "outputs": [],
   "source": [
    "# todo: check kasper"
   ]
  },
  {
   "cell_type": "code",
   "execution_count": 185,
   "metadata": {
    "ExecuteTime": {
     "end_time": "2022-08-22T16:27:34.924681Z",
     "start_time": "2022-08-22T16:27:34.921664Z"
    },
    "hidden": true
   },
   "outputs": [],
   "source": [
    "borsa_21_species = ['H alpha', 'H beta']\n",
    "\n",
    "borsa_21_SNRs = np.array([np.nan, np.nan]) # taking the 1 UT\n",
    "\n",
    "borsa_21_frame = pd.DataFrame({'SNR': borsa_21_SNRs,\n",
    "                             'species': borsa_21_species})\n",
    "\n",
    "borsa_21_frame['lead'] = 'F Borsa'\n",
    "borsa_21_frame['planet'] = 'WASP-33 b'\n",
    "borsa_21_frame['observation'] = 'transit'\n",
    "borsa_21_frame['instrument'] = 'HARPS'\n",
    "borsa_21_frame['year'] = 2021"
   ]
  },
  {
   "cell_type": "code",
   "execution_count": 186,
   "metadata": {
    "ExecuteTime": {
     "end_time": "2022-08-22T16:27:34.928717Z",
     "start_time": "2022-08-22T16:27:34.925627Z"
    },
    "hidden": true
   },
   "outputs": [],
   "source": [
    "nugroho_21_species = ['OH', 'H2O']\n",
    "\n",
    "nugroho_21_SNRs = np.array([5.4, 4]) # taking the 1 UT\n",
    "\n",
    "nugroho_21_frame = pd.DataFrame({'SNR': nugroho_21_SNRs,\n",
    "                             'species': nugroho_21_species})\n",
    "\n",
    "nugroho_21_frame['lead'] = 'S Nugroho'\n",
    "nugroho_21_frame['planet'] = 'WASP-33 b'\n",
    "nugroho_21_frame['observation'] = 'transit'\n",
    "nugroho_21_frame['instrument'] = 'IRD'\n",
    "nugroho_21_frame['year'] = 2021"
   ]
  },
  {
   "cell_type": "code",
   "execution_count": 187,
   "metadata": {
    "ExecuteTime": {
     "end_time": "2022-08-22T16:27:34.932750Z",
     "start_time": "2022-08-22T16:27:34.929588Z"
    },
    "hidden": true
   },
   "outputs": [],
   "source": [
    "sanchez_lopez_21_species = ['H2O', 'HCN']\n",
    "\n",
    "sanchez_lopez_21_SNRs = np.array([5.5, 5.2]) # taking the 1 UT\n",
    "\n",
    "sanchez_lopez_21_frame = pd.DataFrame({'SNR': sanchez_lopez_21_SNRs,\n",
    "                             'species': sanchez_lopez_21_species})\n",
    "\n",
    "sanchez_lopez_21_frame['lead'] = 'A Sanchez-Lopez'\n",
    "sanchez_lopez_21_frame['planet'] = 'WASP-76 b'\n",
    "sanchez_lopez_21_frame['observation'] = 'transit'\n",
    "sanchez_lopez_21_frame['instrument'] = ' CARMENES'\n",
    "sanchez_lopez_21_frame['year'] = 2021"
   ]
  },
  {
   "cell_type": "code",
   "execution_count": 188,
   "metadata": {
    "ExecuteTime": {
     "end_time": "2022-08-22T16:27:34.936598Z",
     "start_time": "2022-08-22T16:27:34.933824Z"
    },
    "hidden": true
   },
   "outputs": [],
   "source": [
    "line_21_species = ['CO', 'H2O']\n",
    "\n",
    "line_21_SNRs = np.array([12.8, 12.8]) # taking the 1 UT\n",
    "\n",
    "line_21_frame = pd.DataFrame({'SNR': line_21_SNRs,\n",
    "                             'species': line_21_species})\n",
    "\n",
    "line_21_frame['lead'] = 'M Line'\n",
    "line_21_frame['planet'] = 'WASP-77A b'\n",
    "line_21_frame['observation'] = 'emission'\n",
    "line_21_frame['instrument'] = ' IGRINS'\n",
    "line_21_frame['year'] = 2021"
   ]
  },
  {
   "cell_type": "code",
   "execution_count": 189,
   "metadata": {
    "ExecuteTime": {
     "end_time": "2022-08-22T16:27:34.940450Z",
     "start_time": "2022-08-22T16:27:34.937451Z"
    },
    "hidden": true
   },
   "outputs": [],
   "source": [
    "seidel_21_species = ['Na']\n",
    "\n",
    "seidel_21_SNRs = np.array([0]) # taking the 1 UT\n",
    "\n",
    "seidel_21_frame = pd.DataFrame({'SNR': seidel_21_SNRs,\n",
    "                             'species': seidel_21_species})\n",
    "\n",
    "seidel_21_frame['lead'] = 'J Seidel'\n",
    "seidel_21_frame['planet'] = 'WASP-76 b'\n",
    "seidel_21_frame['observation'] = 'transit'\n",
    "seidel_21_frame['instrument'] = 'ESPRESSO'\n",
    "seidel_21_frame['year'] = 2021"
   ]
  },
  {
   "cell_type": "code",
   "execution_count": 190,
   "metadata": {
    "ExecuteTime": {
     "end_time": "2022-08-22T16:27:34.944254Z",
     "start_time": "2022-08-22T16:27:34.941329Z"
    },
    "hidden": true
   },
   "outputs": [],
   "source": [
    "chen_20b_21_species = ['Na', 'K', 'H alpha']\n",
    "\n",
    "chen_20b_21_SNRs = np.array([np.nan, np.nan, np.nan]) # taking the 1 UT\n",
    "\n",
    "chen_20b_21_frame = pd.DataFrame({'SNR': seidel_21_SNRs,\n",
    "                             'species': seidel_21_species})\n",
    "\n",
    "chen_20b_21_frame['lead'] = 'chen'\n",
    "chen_20b_21_frame['planet'] = 'WASP-52 b'\n",
    "chen_20b_21_frame['observation'] = 'transit'\n",
    "chen_20b_21_frame['instrument'] = 'ESPRESSO'\n",
    "chen_20b_21_frame['year'] = 2021"
   ]
  },
  {
   "cell_type": "code",
   "execution_count": 191,
   "metadata": {
    "ExecuteTime": {
     "end_time": "2022-08-22T16:27:34.947961Z",
     "start_time": "2022-08-22T16:27:34.945084Z"
    },
    "hidden": true
   },
   "outputs": [],
   "source": [
    "seidel_19_species = ['Na']\n",
    "\n",
    "seidel_19_SNRs = np.array([10.6]) # taking the 1 UT\n",
    "\n",
    "seidel_19_frame = pd.DataFrame({'SNR': seidel_19_SNRs,\n",
    "                             'species': seidel_19_species})\n",
    "\n",
    "seidel_19_frame['lead'] = 'J Seidel'\n",
    "seidel_19_frame['planet'] = 'WASP-76 b'\n",
    "seidel_19_frame['observation'] = 'transit'\n",
    "seidel_21_frame['instrument'] = 'HARPS'\n",
    "seidel_19_frame['year'] = 2021"
   ]
  },
  {
   "cell_type": "code",
   "execution_count": 192,
   "metadata": {
    "ExecuteTime": {
     "end_time": "2022-08-22T16:27:34.951638Z",
     "start_time": "2022-08-22T16:27:34.948868Z"
    },
    "hidden": true
   },
   "outputs": [],
   "source": [
    "de_kok_13_species = ['CO']\n",
    "\n",
    "de_kok_13_SNRs = np.array([0]) # taking the 1 UT\n",
    "\n",
    "de_kok_13_frame = pd.DataFrame({'SNR': de_kok_13_SNRs,\n",
    "                             'species': de_kok_13_species})\n",
    "\n",
    "de_kok_13_frame['lead'] = 'R de Kok'\n",
    "de_kok_13_frame['planet'] = 'HD 189733 b'\n",
    "de_kok_13_frame['observation'] = 'emission'\n",
    "de_kok_13_frame['instrument'] = 'CRIRES'\n",
    "de_kok_13_frame['year'] = 2013"
   ]
  },
  {
   "cell_type": "code",
   "execution_count": 193,
   "metadata": {
    "ExecuteTime": {
     "end_time": "2022-08-22T16:27:34.955266Z",
     "start_time": "2022-08-22T16:27:34.952611Z"
    },
    "hidden": true
   },
   "outputs": [],
   "source": [
    "rodler_13_species = ['CO']\n",
    "\n",
    "rodler_13_SNRs = np.array([3.4]) # taking the 1 UT\n",
    "\n",
    "rodler_13_frame = pd.DataFrame({'SNR': rodler_13_SNRs,\n",
    "                             'species': rodler_13_species})\n",
    "\n",
    "rodler_13_frame['lead'] = 'R de Kok'\n",
    "rodler_13_frame['planet'] = 'HD 189733 b'\n",
    "rodler_13_frame['observation'] = 'emission'\n",
    "rodler_13_frame['instrument'] = 'NIRSPEC'\n",
    "rodler_13_frame['year'] = 2013"
   ]
  },
  {
   "cell_type": "code",
   "execution_count": 194,
   "metadata": {
    "ExecuteTime": {
     "end_time": "2022-08-22T16:27:34.959059Z",
     "start_time": "2022-08-22T16:27:34.956267Z"
    },
    "hidden": true
   },
   "outputs": [],
   "source": [
    "wyttenbach_15_species = ['Na']\n",
    "\n",
    "wyttenbach_15_SNRs = np.array([10]) # taking the 1 UT\n",
    "\n",
    "wyttenbach_15_frame = pd.DataFrame({'SNR': wyttenbach_15_SNRs,\n",
    "                             'species': wyttenbach_15_species})\n",
    "\n",
    "wyttenbach_15_frame['lead'] = 'wyttenbach'\n",
    "wyttenbach_15_frame['planet'] = 'HD 189733 b'\n",
    "wyttenbach_15_frame['observation'] = 'transit'\n",
    "wyttenbach_15_frame['instrument'] = 'HARPS'\n",
    "wyttenbach_15_frame['year'] = 2015"
   ]
  },
  {
   "cell_type": "code",
   "execution_count": 195,
   "metadata": {
    "ExecuteTime": {
     "end_time": "2022-08-22T16:27:34.962808Z",
     "start_time": "2022-08-22T16:27:34.959872Z"
    },
    "hidden": true
   },
   "outputs": [],
   "source": [
    "khalafinejad_16_species = ['Na']\n",
    "\n",
    "khalafinejad_16_SNRs = np.array([0]) # taking the 1 UT\n",
    "\n",
    "khalafinejad_16_frame = pd.DataFrame({'SNR': khalafinejad_16_SNRs,\n",
    "                             'species': khalafinejad_16_species})\n",
    "\n",
    "khalafinejad_16_frame['lead'] = 'khalafinejad'\n",
    "khalafinejad_16_frame['planet'] = 'HD 189733 b'\n",
    "khalafinejad_16_frame['observation'] = 'transit'\n",
    "khalafinejad_16_frame['instrument'] = 'UVES'\n",
    "khalafinejad_16_frame['year'] = 2016"
   ]
  },
  {
   "cell_type": "code",
   "execution_count": null,
   "metadata": {
    "hidden": true
   },
   "outputs": [],
   "source": []
  },
  {
   "cell_type": "code",
   "execution_count": 196,
   "metadata": {
    "ExecuteTime": {
     "end_time": "2022-08-22T16:27:34.966524Z",
     "start_time": "2022-08-22T16:27:34.963956Z"
    },
    "hidden": true
   },
   "outputs": [],
   "source": [
    "zak_19_species = ['Na']\n",
    "\n",
    "zak_19_SNRs = np.array([8]) # taking the 1 UT\n",
    "\n",
    "zak_19_frame = pd.DataFrame({'SNR': zak_19_SNRs,\n",
    "                             'species': zak_19_species})\n",
    "\n",
    "zak_19_frame['lead'] = 'Zak'\n",
    "zak_19_frame['planet'] = 'WASP-76 b'\n",
    "zak_19_frame['observation'] = 'emission'\n",
    "zak_19_frame['instrument'] = 'HARPS'\n",
    "zak_19_frame['year'] = 2019"
   ]
  },
  {
   "cell_type": "code",
   "execution_count": 197,
   "metadata": {
    "ExecuteTime": {
     "end_time": "2022-08-22T16:27:34.969949Z",
     "start_time": "2022-08-22T16:27:34.967379Z"
    },
    "hidden": true
   },
   "outputs": [],
   "source": [
    "zak_19_2_species = ['Na']\n",
    "\n",
    "zak_19_2_SNRs = np.array([5]) # taking the 1 UT\n",
    "\n",
    "zak_19_2_frame = pd.DataFrame({'SNR': zak_19_2_SNRs,\n",
    "                             'species': zak_19_2_species})\n",
    "\n",
    "zak_19_2_frame['lead'] = 'Zak'\n",
    "zak_19_2_frame['planet'] = 'WASP-127 b'\n",
    "zak_19_2_frame['observation'] = 'emission'\n",
    "zak_19_2_frame['instrument'] = 'HARPS' # check\n",
    "zak_19_2_frame['year'] = 2019"
   ]
  },
  {
   "cell_type": "code",
   "execution_count": 198,
   "metadata": {
    "ExecuteTime": {
     "end_time": "2022-08-22T16:27:34.973232Z",
     "start_time": "2022-08-22T16:27:34.970710Z"
    },
    "hidden": true
   },
   "outputs": [],
   "source": [
    "landman_21_species = ['OH']\n",
    "\n",
    "landman_21_SNRs = np.array([6.1]) # taking the 1 UT\n",
    "\n",
    "landman_21_frame = pd.DataFrame({'SNR': landman_21_SNRs,\n",
    "                             'species': landman_21_species})\n",
    "\n",
    "landman_21_frame['lead'] = 'R Landman'\n",
    "landman_21_frame['planet'] = 'WASP-76 b'\n",
    "landman_21_frame['observation'] = 'transit'\n",
    "landman_21_frame['instrument'] = 'CARMENES'\n",
    "landman_21_frame['year'] = 2021"
   ]
  },
  {
   "cell_type": "code",
   "execution_count": 199,
   "metadata": {
    "ExecuteTime": {
     "end_time": "2022-08-22T16:27:34.976578Z",
     "start_time": "2022-08-22T16:27:34.973964Z"
    },
    "hidden": true
   },
   "outputs": [],
   "source": [
    "# todo: other snellen 2014 paper? Na?\n",
    "snellen_14_species = ['CO', 'H2O']\n",
    "\n",
    "snellen_14_SNRs = np.array([6.4, 2.]) # taking the 1 UT\n",
    "\n",
    "snellen_14_frame = pd.DataFrame({'SNR': snellen_14_SNRs,\n",
    "                             'species': snellen_14_species})\n",
    "\n",
    "snellen_14_frame['lead'] = 'I Snellen'\n",
    "snellen_14_frame['planet'] = 'Beta pic b'\n",
    "snellen_14_frame['observation'] = 'emission'\n",
    "snellen_14_frame['instrument'] = 'CRIRES'\n",
    "snellen_14_frame['year'] = 2014\n",
    "snellen_14_frame['analysis method'] = 'parameterized forward model'"
   ]
  },
  {
   "cell_type": "code",
   "execution_count": 200,
   "metadata": {
    "ExecuteTime": {
     "end_time": "2022-08-22T16:27:34.980096Z",
     "start_time": "2022-08-22T16:27:34.977347Z"
    },
    "hidden": true
   },
   "outputs": [],
   "source": [
    "yan_18_species = ['H alpha']\n",
    "\n",
    "yan_18_SNRs = np.array([0]) # taking the 1 UT\n",
    "\n",
    "yan_18_frame = pd.DataFrame({'SNR': yan_18_SNRs,\n",
    "                             'species': yan_18_species})\n",
    "\n",
    "yan_18_frame['lead'] = 'F Yan'\n",
    "yan_18_frame['planet'] = 'KELT-9 b'\n",
    "yan_18_frame['observation'] = 'transit'\n",
    "yan_18_frame['instrument'] = 'CARMENES'\n",
    "yan_18_frame['year'] = 2018"
   ]
  },
  {
   "cell_type": "code",
   "execution_count": 201,
   "metadata": {
    "ExecuteTime": {
     "end_time": "2022-08-22T16:27:34.983657Z",
     "start_time": "2022-08-22T16:27:34.980875Z"
    },
    "hidden": true
   },
   "outputs": [],
   "source": [
    "kasper_21_species = ['Fe', 'Fe+', 'Ti+', 'Ca+', 'Mg']\n",
    "\n",
    "kasper_21_SNRs = np.array([0, 0, 0, 0, 0]) # taking the 1 UT\n",
    "\n",
    "kasper_21_frame = pd.DataFrame({'SNR': kasper_21_SNRs,\n",
    "                             'species': kasper_21_species})\n",
    "\n",
    "kasper_21_frame['lead'] = 'kasper'\n",
    "kasper_21_frame['planet'] = 'WASP-76 b'\n",
    "kasper_21_frame['observation'] = 'transit'\n",
    "kasper_21_frame['instrument'] = 'MAROON-X'\n",
    "kasper_21_frame['analysis method'] = 'retrieval'\n",
    "kasper_21_frame['year'] = 2021"
   ]
  },
  {
   "cell_type": "code",
   "execution_count": 202,
   "metadata": {
    "ExecuteTime": {
     "end_time": "2022-08-22T16:27:34.987253Z",
     "start_time": "2022-08-22T16:27:34.984489Z"
    },
    "hidden": true
   },
   "outputs": [],
   "source": [
    "hoeijmakers_18_species = ['Fe', 'Fe+', 'Ti+']\n",
    "\n",
    "hoeijmakers_18_SNRs = np.array([7, 14, 9]) # taking the 1 UT\n",
    "\n",
    "hoeijmakers_18_frame = pd.DataFrame({'SNR': hoeijmakers_18_SNRs,\n",
    "                             'species': hoeijmakers_18_species})\n",
    "\n",
    "hoeijmakers_18_frame['lead'] = 'J Hoeijmakers'\n",
    "hoeijmakers_18_frame['planet'] = 'KELT-9 b'\n",
    "hoeijmakers_18_frame['observation'] = 'transit'\n",
    "hoeijmakers_18_frame['instrument'] = 'HARPS'\n",
    "hoeijmakers_18_frame['year'] = 2018"
   ]
  },
  {
   "cell_type": "code",
   "execution_count": 203,
   "metadata": {
    "ExecuteTime": {
     "end_time": "2022-08-22T16:27:34.990936Z",
     "start_time": "2022-08-22T16:27:34.988116Z"
    },
    "hidden": true
   },
   "outputs": [],
   "source": [
    "hoeijmakers_19_species = ['Na', 'Mg', 'Sc+', 'Ti+', 'Cr+', 'Fe', 'Fe+', 'Y+']\n",
    "\n",
    "hoeijmakers_19_SNRs = np.array([5,5,5,5,5,5,5,5]) # taking the 1 UT\n",
    "\n",
    "hoeijmakers_19_frame = pd.DataFrame({'SNR': hoeijmakers_19_SNRs,\n",
    "                             'species': hoeijmakers_19_species})\n",
    "\n",
    "hoeijmakers_19_frame['lead'] = 'J Hoeijmakers'\n",
    "hoeijmakers_19_frame['planet'] = 'KELT-9 b'\n",
    "hoeijmakers_19_frame['observation'] = 'transit'\n",
    "hoeijmakers_19_frame['instrument'] = 'HARPS'\n",
    "hoeijmakers_19_frame['year'] = 2019"
   ]
  },
  {
   "cell_type": "code",
   "execution_count": 204,
   "metadata": {
    "ExecuteTime": {
     "end_time": "2022-08-22T16:27:34.994588Z",
     "start_time": "2022-08-22T16:27:34.991796Z"
    },
    "hidden": true
   },
   "outputs": [],
   "source": [
    "cauley_19_species = ['Mg', 'Fe', 'Fe+', 'Ti+', 'H alpha', 'H beta']\n",
    "\n",
    "cauley_19_SNRs = np.array([7.8, 5, 5, 5, 5, 5]) # taking the 1 UT\n",
    "\n",
    "cauley_19_frame = pd.DataFrame({'SNR': cauley_19_SNRs,\n",
    "                             'species': cauley_19_species})\n",
    "\n",
    "cauley_19_frame['lead'] = 'Cauley'\n",
    "cauley_19_frame['planet'] = 'KELT-9 b'\n",
    "cauley_19_frame['observation'] = 'transit'\n",
    "cauley_19_frame['instrument'] = 'PEPSI'\n",
    "cauley_19_frame['year'] = 2019"
   ]
  },
  {
   "cell_type": "code",
   "execution_count": 205,
   "metadata": {
    "ExecuteTime": {
     "end_time": "2022-08-22T16:27:34.998234Z",
     "start_time": "2022-08-22T16:27:34.995494Z"
    },
    "hidden": true
   },
   "outputs": [],
   "source": [
    "cauley_19_species = ['Mg', 'Fe', 'Fe+', 'Ti+', 'H alpha', 'H beta']\n",
    "\n",
    "cauley_19_SNRs = np.array([7.8, 5, 5, 5, 5, 5]) # taking the 1 UT\n",
    "\n",
    "cauley_19_frame = pd.DataFrame({'SNR': cauley_19_SNRs,\n",
    "                             'species': cauley_19_species})\n",
    "\n",
    "cauley_19_frame['lead'] = 'Cauley'\n",
    "cauley_19_frame['planet'] = 'KELT-9 b'\n",
    "cauley_19_frame['observation'] = 'transit'\n",
    "cauley_19_frame['instrument'] = 'PEPSI'\n",
    "cauley_19_frame['year'] = 2019"
   ]
  },
  {
   "cell_type": "code",
   "execution_count": 206,
   "metadata": {
    "ExecuteTime": {
     "end_time": "2022-08-22T16:27:35.001813Z",
     "start_time": "2022-08-22T16:27:34.999201Z"
    },
    "hidden": true
   },
   "outputs": [],
   "source": [
    "turner_20_species = ['H alpha']\n",
    "\n",
    "turner_20_SNRs = np.array([0]) # taking the 1 UT\n",
    "\n",
    "turner_20_frame = pd.DataFrame({'SNR': turner_20_SNRs,\n",
    "                             'species': turner_20_species})\n",
    "\n",
    "turner_20_frame['lead'] = 'Turner'\n",
    "turner_20_frame['planet'] = 'KELT-9 b'\n",
    "turner_20_frame['observation'] = 'transit'\n",
    "turner_20_frame['instrument'] = 'CARMENES'\n",
    "turner_20_frame['year'] = 2020"
   ]
  },
  {
   "cell_type": "code",
   "execution_count": 207,
   "metadata": {
    "ExecuteTime": {
     "end_time": "2022-08-22T16:27:35.005745Z",
     "start_time": "2022-08-22T16:27:35.002735Z"
    },
    "hidden": true
   },
   "outputs": [],
   "source": [
    "diebert_21_species = ['Ca+']\n",
    "\n",
    "diebert_21_SNRs = np.array([0]) # taking the 1 UT\n",
    "\n",
    "diebert_21_frame = pd.DataFrame({'SNR': diebert_21_SNRs,\n",
    "                             'species': diebert_21_species})\n",
    "\n",
    "diebert_21_frame['lead'] = 'Diebert'\n",
    "diebert_21_frame['planet'] = 'WASP-76 b'\n",
    "diebert_21_frame['observation'] = 'transit'\n",
    "diebert_21_frame['instrument'] = 'CARMENES'\n",
    "diebert_21_frame['year'] = 2021"
   ]
  },
  {
   "cell_type": "code",
   "execution_count": 208,
   "metadata": {
    "ExecuteTime": {
     "end_time": "2022-08-22T16:27:35.010209Z",
     "start_time": "2022-08-22T16:27:35.006797Z"
    },
    "hidden": true
   },
   "outputs": [],
   "source": [
    "pino_20_species = ['Fe']\n",
    "\n",
    "pino_20_SNRs = np.array([0]) # taking the 1 UT\n",
    "\n",
    "pino_20_frame = pd.DataFrame({'SNR': pino_20_SNRs,\n",
    "                             'species': pino_20_species})\n",
    "\n",
    "pino_20_frame['lead'] = 'L Pino'\n",
    "pino_20_frame['planet'] = 'KELT-9 b'\n",
    "pino_20_frame['observation'] = 'transit'\n",
    "pino_20_frame['instrument'] = 'HARPS'\n",
    "pino_20_frame['year'] = 2020"
   ]
  },
  {
   "cell_type": "code",
   "execution_count": 209,
   "metadata": {
    "ExecuteTime": {
     "end_time": "2022-08-22T16:27:35.014059Z",
     "start_time": "2022-08-22T16:27:35.011211Z"
    },
    "hidden": true
   },
   "outputs": [],
   "source": [
    "yan_19_b_species = ['Ca+']\n",
    "\n",
    "yan_19_b_SNRs = np.array([0]) # taking the 1 UT\n",
    "\n",
    "yan_19_b_frame = pd.DataFrame({'SNR': yan_19_b_SNRs,\n",
    "                             'species': yan_19_b_species})\n",
    "\n",
    "yan_19_b_frame['lead'] = 'F Yan'\n",
    "yan_19_b_frame['planet'] = 'KELT-9 b'\n",
    "yan_19_b_frame['observation'] = 'transit'\n",
    "yan_19_b_frame['instrument'] = 'CARMENES'\n",
    "yan_19_b_frame['year'] = 2019"
   ]
  },
  {
   "cell_type": "code",
   "execution_count": 210,
   "metadata": {
    "ExecuteTime": {
     "end_time": "2022-08-22T16:27:35.017991Z",
     "start_time": "2022-08-22T16:27:35.015098Z"
    },
    "hidden": true
   },
   "outputs": [],
   "source": [
    "yan_19b_2_species = ['Ca+']\n",
    "\n",
    "yan_19b_2_SNRs = np.array([0]) # taking the 1 UT\n",
    "\n",
    "yan_19b_2_frame = pd.DataFrame({'SNR': yan_19b_2_SNRs,\n",
    "                             'species': yan_19b_2_species})\n",
    "\n",
    "yan_19b_2_frame['lead'] = 'F Yan'\n",
    "yan_19b_2_frame['planet'] = 'WASP-33 b'\n",
    "yan_19b_2_frame['observation'] = 'transit'\n",
    "yan_19b_2_frame['instrument'] = 'CARMENES'\n",
    "yan_19b_2_frame['year'] = 2019"
   ]
  },
  {
   "cell_type": "code",
   "execution_count": 211,
   "metadata": {
    "ExecuteTime": {
     "end_time": "2022-08-22T16:27:35.021788Z",
     "start_time": "2022-08-22T16:27:35.018982Z"
    },
    "hidden": true
   },
   "outputs": [],
   "source": [
    "santos_20_species = ['Na', 'K']\n",
    "\n",
    "santos_20_SNRs = np.array([0, 0]) # taking the 1 UT\n",
    "\n",
    "santos_20_frame = pd.DataFrame({'SNR': santos_20_SNRs,\n",
    "                             'species': santos_20_species})\n",
    "\n",
    "santos_20_frame['lead'] = 'Santos'\n",
    "santos_20_frame['planet'] = 'HD 209458 b'\n",
    "santos_20_frame['observation'] = 'transit'\n",
    "santos_20_frame['instrument'] = 'ESPRESSO'\n",
    "santos_20_frame['year'] = 2020"
   ]
  },
  {
   "cell_type": "code",
   "execution_count": 212,
   "metadata": {
    "ExecuteTime": {
     "end_time": "2022-08-22T16:27:35.026129Z",
     "start_time": "2022-08-22T16:27:35.022958Z"
    },
    "hidden": true
   },
   "outputs": [],
   "source": [
    "allart_20_species = ['Na']\n",
    "\n",
    "allart_20_SNRs = np.array([9]) # taking the 1 UT\n",
    "\n",
    "allart_20_frame = pd.DataFrame({'SNR': allart_20_SNRs,\n",
    "                             'species': allart_20_species})\n",
    "\n",
    "allart_20_frame['lead'] = 'Allart'\n",
    "allart_20_frame['planet'] = 'WASP-127 b'\n",
    "allart_20_frame['observation'] = 'transit'\n",
    "allart_20_frame['instrument'] = 'ESPRESSO'\n",
    "allart_20_frame['year'] = 2020"
   ]
  },
  {
   "cell_type": "code",
   "execution_count": 213,
   "metadata": {
    "ExecuteTime": {
     "end_time": "2022-08-22T16:27:35.030131Z",
     "start_time": "2022-08-22T16:27:35.027140Z"
    },
    "hidden": true
   },
   "outputs": [],
   "source": [
    "osagh_20_species = ['Na']\n",
    "\n",
    "osagh_20_SNRs = np.array([9]) # taking the 1 UT\n",
    "\n",
    "osagh_20_frame = pd.DataFrame({'SNR': osagh_20_SNRs,\n",
    "                             'species': osagh_20_species})\n",
    "\n",
    "osagh_20_frame['lead'] = 'Santos'\n",
    "osagh_20_frame['planet'] = 'WASP-127 b'\n",
    "osagh_20_frame['observation'] = 'transit'\n",
    "osagh_20_frame['instrument'] = 'CARMENES'\n",
    "osagh_20_frame['year'] = 2020"
   ]
  },
  {
   "cell_type": "code",
   "execution_count": 214,
   "metadata": {
    "ExecuteTime": {
     "end_time": "2022-08-22T16:27:35.033837Z",
     "start_time": "2022-08-22T16:27:35.031015Z"
    },
    "hidden": true
   },
   "outputs": [],
   "source": [
    "cauley_21_species = ['H alpha']\n",
    "\n",
    "cauley_21_SNRs = np.array([0]) # taking the 1 UT\n",
    "\n",
    "cauley_21_frame = pd.DataFrame({'SNR': cauley_21_SNRs,\n",
    "                             'species': cauley_21_species})\n",
    "\n",
    "cauley_21_frame['lead'] = 'cauley'\n",
    "cauley_21_frame['planet'] = 'WASP-33 b'\n",
    "cauley_21_frame['observation'] = 'transit'\n",
    "cauley_21_frame['instrument'] = 'PEPSI'\n",
    "cauley_21_frame['year'] = 2021"
   ]
  },
  {
   "cell_type": "code",
   "execution_count": 215,
   "metadata": {
    "ExecuteTime": {
     "end_time": "2022-08-22T16:27:35.037469Z",
     "start_time": "2022-08-22T16:27:35.034665Z"
    },
    "hidden": true
   },
   "outputs": [],
   "source": [
    "van_sluijs_22_species = ['CO']\n",
    "\n",
    "van_sluijs_22_SNRs = np.array([7.4]) \n",
    "\n",
    "van_sluijs_22_frame = pd.DataFrame({'SNR': van_sluijs_22_SNRs,\n",
    "                             'species': van_sluijs_22_species})\n",
    "\n",
    "van_sluijs_22_frame['lead'] = 'Van Sluijs'\n",
    "van_sluijs_22_frame['planet'] = 'WASP-33 b'\n",
    "van_sluijs_22_frame['observation'] = 'emission'\n",
    "van_sluijs_22_frame['instrument'] = 'MMT'\n",
    "van_sluijs_22_frame['year'] = 2022"
   ]
  },
  {
   "cell_type": "code",
   "execution_count": 216,
   "metadata": {
    "ExecuteTime": {
     "end_time": "2022-08-22T16:27:35.041008Z",
     "start_time": "2022-08-22T16:27:35.038395Z"
    },
    "hidden": true
   },
   "outputs": [],
   "source": [
    "paragas_21_species = ['He']\n",
    "\n",
    "paragas_21_SNRs = np.array([0]) \n",
    "\n",
    "paragas_21_frame = pd.DataFrame({'SNR': paragas_21_SNRs,\n",
    "                             'species': paragas_21_species})\n",
    "\n",
    "paragas_21_frame['lead'] = 'K Paragas'\n",
    "paragas_21_frame['planet'] = 'HAT-P-18 b'\n",
    "paragas_21_frame['observation'] = 'emission'\n",
    "paragas_21_frame['instrument'] = 'Hale'\n",
    "paragas_21_frame['year'] = 2021"
   ]
  },
  {
   "cell_type": "code",
   "execution_count": 217,
   "metadata": {
    "ExecuteTime": {
     "end_time": "2022-08-22T16:27:35.044441Z",
     "start_time": "2022-08-22T16:27:35.041929Z"
    },
    "hidden": true
   },
   "outputs": [],
   "source": [
    "keles_19_species = ['K']\n",
    "\n",
    "keles_19_SNRs = np.array([9]) # taking the 1 UT\n",
    "\n",
    "keles_19_frame = pd.DataFrame({'SNR': keles_19_SNRs,\n",
    "                             'species': keles_19_species})\n",
    "\n",
    "keles_19_frame['lead'] = 'cauley'\n",
    "keles_19_frame['planet'] = 'HD 189733 b'\n",
    "keles_19_frame['observation'] = 'transit'\n",
    "keles_19_frame['instrument'] = 'PEPSI'\n",
    "keles_19_frame['year'] = 2019"
   ]
  },
  {
   "cell_type": "code",
   "execution_count": 218,
   "metadata": {
    "ExecuteTime": {
     "end_time": "2022-08-22T16:27:35.048161Z",
     "start_time": "2022-08-22T16:27:35.045387Z"
    },
    "hidden": true
   },
   "outputs": [],
   "source": [
    "cabot_21_species = ['Fe', 'Fe+']\n",
    "\n",
    "cabot_21_SNRs = np.array([5.2, 3.4]) # taking the 1 UT\n",
    "\n",
    "cabot_21_frame = pd.DataFrame({'SNR': cabot_21_SNRs,\n",
    "                             'species': cabot_21_species})\n",
    "\n",
    "cabot_21_frame['lead'] = 'cabot'\n",
    "cabot_21_frame['planet'] = 'TOI-1518 b'\n",
    "cabot_21_frame['observation'] = 'emission'\n",
    "cabot_21_frame['instrument'] = 'EXPRES'\n",
    "cabot_21_frame['year'] = 2021"
   ]
  },
  {
   "cell_type": "code",
   "execution_count": 219,
   "metadata": {
    "ExecuteTime": {
     "end_time": "2022-08-22T16:27:35.051653Z",
     "start_time": "2022-08-22T16:27:35.048902Z"
    },
    "hidden": true
   },
   "outputs": [],
   "source": [
    "salz_18_species = ['He']\n",
    "\n",
    "salz_18_SNRs = np.array([0]) # taking the 1 UT\n",
    "\n",
    "salz_18_frame = pd.DataFrame({'SNR': salz_18_SNRs,\n",
    "                             'species': salz_18_species})\n",
    "\n",
    "salz_18_frame['lead'] = 'salz'\n",
    "salz_18_frame['planet'] = 'HD 189733 b'\n",
    "salz_18_frame['observation'] = 'transit'\n",
    "salz_18_frame['instrument'] = 'PEPSI' # check\n",
    "salz_18_frame['year'] = 2018"
   ]
  },
  {
   "cell_type": "code",
   "execution_count": 220,
   "metadata": {
    "ExecuteTime": {
     "end_time": "2022-08-22T16:27:35.055396Z",
     "start_time": "2022-08-22T16:27:35.052500Z"
    },
    "hidden": true
   },
   "outputs": [],
   "source": [
    "birkby_13_species = ['H2O']\n",
    "\n",
    "birkby_13_SNRs = np.array([5]) # taking the 1 UT\n",
    "\n",
    "birkby_13_frame = pd.DataFrame({'SNR': birkby_13_SNRs,\n",
    "                             'species': birkby_13_species})\n",
    "\n",
    "birkby_13_frame['lead'] = 'J Birkby'\n",
    "birkby_13_frame['planet'] = 'HD 189733 b'\n",
    "birkby_13_frame['observation'] = 'emission'\n",
    "birkby_13_frame['instrument'] = 'CRIRES' # check\n",
    "birkby_13_frame['year'] = 2013"
   ]
  },
  {
   "cell_type": "code",
   "execution_count": 221,
   "metadata": {
    "ExecuteTime": {
     "end_time": "2022-08-22T16:27:35.059388Z",
     "start_time": "2022-08-22T16:27:35.056293Z"
    },
    "hidden": true
   },
   "outputs": [],
   "source": [
    "guilluy_20_species = ['He']\n",
    "\n",
    "guilluy_20_SNRs = np.array([25]) # taking the 1 UT\n",
    "\n",
    "guilluy_20_frame = pd.DataFrame({'SNR': guilluy_20_SNRs,\n",
    "                             'species': guilluy_20_species})\n",
    "\n",
    "guilluy_20_frame['lead'] = 'guilluy'\n",
    "guilluy_20_frame['planet'] = 'HD 189733 b'\n",
    "guilluy_20_frame['observation'] = 'transit'\n",
    "guilluy_20_frame['instrument'] = 'GIARPS' # check\n",
    "guilluy_20_frame['year'] = 2020"
   ]
  },
  {
   "cell_type": "code",
   "execution_count": 222,
   "metadata": {
    "ExecuteTime": {
     "end_time": "2022-08-22T16:27:35.063291Z",
     "start_time": "2022-08-22T16:27:35.060445Z"
    },
    "hidden": true
   },
   "outputs": [],
   "source": [
    "guilluy_19_species = ['H2O', 'CH4']\n",
    "\n",
    "guilluy_19_SNRs = np.array([4.4, 4.1]) # taking the 1 UT\n",
    "\n",
    "guilluy_19_frame = pd.DataFrame({'SNR': guilluy_19_SNRs,\n",
    "                             'species': guilluy_19_species})\n",
    "\n",
    "guilluy_19_frame['lead'] = 'guilluy'\n",
    "guilluy_19_frame['planet'] = 'HD 102195 b'\n",
    "guilluy_19_frame['observation'] = 'emission'\n",
    "guilluy_19_frame['instrument'] = 'GIANO' # check\n",
    "guilluy_19_frame['year'] = 2018"
   ]
  },
  {
   "cell_type": "code",
   "execution_count": 223,
   "metadata": {
    "ExecuteTime": {
     "end_time": "2022-08-22T16:27:35.067355Z",
     "start_time": "2022-08-22T16:27:35.064311Z"
    },
    "hidden": true
   },
   "outputs": [],
   "source": [
    "casasayas_barris_18_species = ['Ca+', 'Fe+', 'Na', 'H']\n",
    "\n",
    "casasayas_barris_18_SNRs = np.array([0, 0, 0, 0]) # taking the 1 UT\n",
    "\n",
    "casasayas_barris_18_frame = pd.DataFrame({'SNR': casasayas_barris_18_SNRs,\n",
    "                             'species': casasayas_barris_18_species})\n",
    "\n",
    "casasayas_barris_18_frame['lead'] = 'casasayas_barris'\n",
    "casasayas_barris_18_frame['planet'] = 'KELT-20 b'\n",
    "casasayas_barris_18_frame['observation'] = 'transit'\n",
    "casasayas_barris_18_frame['instrument'] = 'HARPS' # and carmenes\n",
    "casasayas_barris_18_frame['year'] = 2018"
   ]
  },
  {
   "cell_type": "code",
   "execution_count": 224,
   "metadata": {
    "ExecuteTime": {
     "end_time": "2022-08-22T16:27:35.071285Z",
     "start_time": "2022-08-22T16:27:35.068175Z"
    },
    "hidden": true
   },
   "outputs": [],
   "source": [
    "palle_20_species = ['He']\n",
    "\n",
    "palle_20_SNRs = np.array([18]) # taking the 1 UT\n",
    "\n",
    "palle_20_frame = pd.DataFrame({'SNR': palle_20_SNRs,\n",
    "                             'species': palle_20_species})\n",
    "\n",
    "palle_20_frame['lead'] = 'palle'\n",
    "palle_20_frame['planet'] = 'GJ 3470 b'\n",
    "palle_20_frame['observation'] = 'transit'\n",
    "palle_20_frame['instrument'] = 'CARMENES'\n",
    "palle_20_frame['year'] = 2020"
   ]
  },
  {
   "cell_type": "code",
   "execution_count": 225,
   "metadata": {
    "ExecuteTime": {
     "end_time": "2022-08-22T16:27:35.075050Z",
     "start_time": "2022-08-22T16:27:35.072185Z"
    },
    "hidden": true
   },
   "outputs": [],
   "source": [
    "nortmann_18_species = ['He']\n",
    "\n",
    "nortmann_18_SNRs = np.array([0]) # taking the 1 UT\n",
    "\n",
    "nortmann_18_frame = pd.DataFrame({'SNR': nortmann_18_SNRs,\n",
    "                             'species': nortmann_18_species})\n",
    "\n",
    "nortmann_18_frame['lead'] = 'nortmann'\n",
    "nortmann_18_frame['planet'] = 'WASP-69 b'\n",
    "nortmann_18_frame['observation'] = 'transit'\n",
    "nortmann_18_frame['instrument'] = 'CARMENES'\n",
    "nortmann_18_frame['year'] = 2018"
   ]
  },
  {
   "cell_type": "code",
   "execution_count": 226,
   "metadata": {
    "ExecuteTime": {
     "end_time": "2022-08-22T16:27:35.079059Z",
     "start_time": "2022-08-22T16:27:35.076120Z"
    },
    "hidden": true
   },
   "outputs": [],
   "source": [
    "khalafinejad_21_species = ['Na']\n",
    "\n",
    "khalafinejad_21_SNRs = np.array([7.9]) # taking the 1 UT\n",
    "\n",
    "khalafinejad_21_frame = pd.DataFrame({'SNR': khalafinejad_21_SNRs,\n",
    "                             'species': khalafinejad_21_species})\n",
    "\n",
    "khalafinejad_21_frame['lead'] = 'khalafinejad'\n",
    "khalafinejad_21_frame['planet'] = 'WASP-69 b'\n",
    "khalafinejad_21_frame['observation'] = 'transit'\n",
    "khalafinejad_21_frame['instrument'] = 'CARMENES'\n",
    "khalafinejad_21_frame['year'] = 2021"
   ]
  },
  {
   "cell_type": "code",
   "execution_count": 227,
   "metadata": {
    "ExecuteTime": {
     "end_time": "2022-08-22T16:27:35.082769Z",
     "start_time": "2022-08-22T16:27:35.079887Z"
    },
    "hidden": true
   },
   "outputs": [],
   "source": [
    "casasayas_barris_17_species = ['Na']\n",
    "\n",
    "casasayas_barris_17_SNRs = np.array([5]) # taking the 1 UT\n",
    "\n",
    "casasayas_barris_17_frame = pd.DataFrame({'SNR': casasayas_barris_17_SNRs,\n",
    "                             'species': casasayas_barris_17_species})\n",
    "\n",
    "casasayas_barris_17_frame['lead'] = 'casasayas_barris'\n",
    "casasayas_barris_17_frame['planet'] = 'WASP-69 b'\n",
    "casasayas_barris_17_frame['observation'] = 'transit'\n",
    "casasayas_barris_17_frame['instrument'] = 'HARPS-N'\n",
    "casasayas_barris_17_frame['year'] = 2017"
   ]
  },
  {
   "cell_type": "code",
   "execution_count": 228,
   "metadata": {
    "ExecuteTime": {
     "end_time": "2022-08-22T16:27:35.086270Z",
     "start_time": "2022-08-22T16:27:35.083600Z"
    },
    "hidden": true
   },
   "outputs": [],
   "source": [
    "allart_18_species = ['He']\n",
    "\n",
    "allart_18_SNRs = np.array([0]) # taking the 1 UT\n",
    "\n",
    "allart_18_frame = pd.DataFrame({'SNR': allart_18_SNRs,\n",
    "                             'species': allart_18_species})\n",
    "\n",
    "allart_18_frame['lead'] = 'allart'\n",
    "allart_18_frame['planet'] = 'HAT-P-11 b'\n",
    "allart_18_frame['observation'] = 'transit'\n",
    "allart_18_frame['instrument'] = 'CARMENES'\n",
    "allart_18_frame['year'] = 2018"
   ]
  },
  {
   "cell_type": "code",
   "execution_count": 229,
   "metadata": {
    "ExecuteTime": {
     "end_time": "2022-08-22T16:27:35.090006Z",
     "start_time": "2022-08-22T16:27:35.087234Z"
    },
    "hidden": true
   },
   "outputs": [],
   "source": [
    "deibert_19_species = ['Na']\n",
    "\n",
    "deibert_19_SNRs = np.array([3.2]) # taking the 1 UT\n",
    "\n",
    "deibert_19_frame = pd.DataFrame({'SNR': deibert_19_SNRs,\n",
    "                             'species': deibert_19_species})\n",
    "\n",
    "deibert_19_frame['lead'] = 'deibert'\n",
    "deibert_19_frame['planet'] = 'HAT-P-12 b'\n",
    "deibert_19_frame['observation'] = 'transit'\n",
    "deibert_19_frame['instrument'] = 'HDS'\n",
    "deibert_19_frame['year'] = 2019"
   ]
  },
  {
   "cell_type": "code",
   "execution_count": 230,
   "metadata": {
    "ExecuteTime": {
     "end_time": "2022-08-22T16:27:35.093417Z",
     "start_time": "2022-08-22T16:27:35.090854Z"
    },
    "hidden": true
   },
   "outputs": [],
   "source": [
    "deibert_19_2_species = ['Na']\n",
    "\n",
    "deibert_19_2_SNRs = np.array([np.nan]) # taking the 1 UT\n",
    "\n",
    "deibert_19_2_frame = pd.DataFrame({'SNR': deibert_19_2_SNRs,\n",
    "                             'species': deibert_19_2_species})\n",
    "\n",
    "deibert_19_2_frame['lead'] = 'deibert'\n",
    "deibert_19_2_frame['planet'] = 'WASP-69 b'\n",
    "deibert_19_2_frame['observation'] = 'transit'\n",
    "deibert_19_2_frame['instrument'] = 'HDS'\n",
    "deibert_19_2_frame['year'] = 2019"
   ]
  },
  {
   "cell_type": "code",
   "execution_count": 231,
   "metadata": {
    "ExecuteTime": {
     "end_time": "2022-08-22T16:27:35.096853Z",
     "start_time": "2022-08-22T16:27:35.094193Z"
    },
    "hidden": true
   },
   "outputs": [],
   "source": [
    "allart_19_species = ['He']\n",
    "\n",
    "allart_19_SNRs = np.array([0]) # taking the 1 UT\n",
    "\n",
    "allart_19_frame = pd.DataFrame({'SNR': allart_19_SNRs,\n",
    "                             'species': allart_19_species})\n",
    "\n",
    "allart_19_frame['lead'] = 'allart'\n",
    "allart_19_frame['planet'] = 'WASP-107 b'\n",
    "allart_19_frame['observation'] = 'transit'\n",
    "allart_19_frame['instrument'] = 'CARMENES'\n",
    "allart_19_frame['year'] = 2018"
   ]
  },
  {
   "cell_type": "code",
   "execution_count": 232,
   "metadata": {
    "ExecuteTime": {
     "end_time": "2022-08-22T16:27:35.100512Z",
     "start_time": "2022-08-22T16:27:35.097697Z"
    },
    "hidden": true
   },
   "outputs": [],
   "source": [
    "brogi_12_species = ['CO']\n",
    "\n",
    "brogi_12_SNRs = np.array([6]) # taking the 1 UT\n",
    "\n",
    "brogi_12_frame = pd.DataFrame({'SNR': brogi_12_SNRs,\n",
    "                             'species': brogi_12_species})\n",
    "\n",
    "brogi_12_frame['lead'] = 'allart'\n",
    "brogi_12_frame['planet'] = 'Tau boo b'\n",
    "brogi_12_frame['observation'] = 'emission'\n",
    "brogi_12_frame['instrument'] = 'CRIRES'\n",
    "brogi_12_frame['year'] = 2012"
   ]
  },
  {
   "cell_type": "code",
   "execution_count": 233,
   "metadata": {
    "ExecuteTime": {
     "end_time": "2022-08-22T16:27:35.104270Z",
     "start_time": "2022-08-22T16:27:35.101462Z"
    },
    "hidden": true
   },
   "outputs": [],
   "source": [
    "rodler_12_species = ['CO']\n",
    "\n",
    "rodler_12_SNRs = np.array([3.4]) # taking the 1 UT\n",
    "\n",
    "rodler_12_frame = pd.DataFrame({'SNR': rodler_12_SNRs,\n",
    "                             'species': rodler_12_species})\n",
    "\n",
    "rodler_12_frame['lead'] = 'allart'\n",
    "rodler_12_frame['planet'] = 'Tau boo b'\n",
    "rodler_12_frame['observation'] = 'emission'\n",
    "rodler_12_frame['instrument'] = 'CRIRES'\n",
    "rodler_12_frame['year'] = 2012"
   ]
  },
  {
   "cell_type": "code",
   "execution_count": 234,
   "metadata": {
    "ExecuteTime": {
     "end_time": "2022-08-22T16:27:35.108370Z",
     "start_time": "2022-08-22T16:27:35.105370Z"
    },
    "hidden": true
   },
   "outputs": [],
   "source": [
    "alonso_floriano_19_species = ['He']\n",
    "\n",
    "alonso_floriano_19_SNRs = np.array([0]) # taking the 1 UT\n",
    "\n",
    "alonso_floriano_19_frame = pd.DataFrame({'SNR': alonso_floriano_19_SNRs,\n",
    "                             'species': alonso_floriano_19_species})\n",
    "\n",
    "alonso_floriano_19_frame['lead'] = 'alonso_floriano'\n",
    "alonso_floriano_19_frame['planet'] = 'HD 209458 b'\n",
    "alonso_floriano_19_frame['observation'] = 'transit'\n",
    "alonso_floriano_19_frame['instrument'] = 'CARMENES'\n",
    "alonso_floriano_19_frame['year'] = 2019"
   ]
  },
  {
   "cell_type": "code",
   "execution_count": 235,
   "metadata": {
    "ExecuteTime": {
     "end_time": "2022-08-22T16:27:35.112570Z",
     "start_time": "2022-08-22T16:27:35.109386Z"
    },
    "hidden": true
   },
   "outputs": [],
   "source": [
    "giacobbe_21_species = ['H2O', 'CH4', 'NH3', 'CO', 'HCN', 'C2H2']\n",
    "\n",
    "giacobbe_21_SNRs = np.array([9.6, 5.6, 5.3, 5.5, 9.9, 6.1, ]) # taking the 1 UT\n",
    "\n",
    "giacobbe_21_frame = pd.DataFrame({'SNR': giacobbe_21_SNRs,\n",
    "                             'species': giacobbe_21_species})\n",
    "\n",
    "giacobbe_21_frame['lead'] = 'Giacobbe'\n",
    "giacobbe_21_frame['planet'] = 'HD 209458 b'\n",
    "giacobbe_21_frame['observation'] = 'transit'\n",
    "giacobbe_21_frame['instrument'] = 'GIANO-B'\n",
    "giacobbe_21_frame['year'] = 2021"
   ]
  },
  {
   "cell_type": "code",
   "execution_count": 236,
   "metadata": {
    "ExecuteTime": {
     "end_time": "2022-08-22T16:27:35.116385Z",
     "start_time": "2022-08-22T16:27:35.113626Z"
    },
    "hidden": true
   },
   "outputs": [],
   "source": [
    "mansfield_18_species = ['He']\n",
    "\n",
    "mansfield_18_SNRs = np.array([0]) # taking the 1 UT\n",
    "\n",
    "mansfield_18_frame = pd.DataFrame({'SNR': mansfield_18_SNRs,\n",
    "                             'species': mansfield_18_species})\n",
    "\n",
    "mansfield_18_frame['lead'] = 'mansfield'\n",
    "mansfield_18_frame['planet'] = 'HAT-P-11 b'\n",
    "mansfield_18_frame['observation'] = 'transit'\n",
    "mansfield_18_frame['instrument'] = 'CARMENES' #check\n",
    "mansfield_18_frame['year'] = 2018"
   ]
  },
  {
   "cell_type": "code",
   "execution_count": 237,
   "metadata": {
    "ExecuteTime": {
     "end_time": "2022-08-22T16:27:35.119986Z",
     "start_time": "2022-08-22T16:27:35.117355Z"
    },
    "hidden": true
   },
   "outputs": [],
   "source": [
    "pelletier_21_species = ['CO']\n",
    "\n",
    "pelletier_21_SNRs = np.array([0]) # taking the 1 UT\n",
    "\n",
    "pelletier_21_frame = pd.DataFrame({'SNR': pelletier_21_SNRs,\n",
    "                             'species': pelletier_21_species})\n",
    "\n",
    "pelletier_21_frame['lead'] = 'pelletier'\n",
    "pelletier_21_frame['planet'] = 'Tau boo b'\n",
    "pelletier_21_frame['observation'] = 'transit'\n",
    "pelletier_21_frame['instrument'] = 'SPIRou'\n",
    "pelletier_21_frame['year'] = 2021"
   ]
  },
  {
   "cell_type": "code",
   "execution_count": 238,
   "metadata": {
    "ExecuteTime": {
     "end_time": "2022-08-22T16:27:35.123995Z",
     "start_time": "2022-08-22T16:27:35.120796Z"
    },
    "hidden": true
   },
   "outputs": [],
   "source": [
    "# or CO?\n",
    "# https://ui.adsabs.harvard.edu/abs/2018AJ....156..272W/abstract\n",
    "wang_18_species = ['H2O']\n",
    "\n",
    "wang_18_SNRs = np.array([0]) # taking the 1 UT\n",
    "\n",
    "wang_18_frame = pd.DataFrame({'SNR': wang_18_SNRs,\n",
    "                             'species': wang_18_species})\n",
    "\n",
    "wang_18_frame['lead'] = 'wang'\n",
    "wang_18_frame['planet'] = 'HR 8799c'\n",
    "wang_18_frame['observation'] = 'emission'\n",
    "wang_18_frame['instrument'] = 'NIRSPEC'\n",
    "wang_18_frame['year'] = 2018"
   ]
  },
  {
   "cell_type": "code",
   "execution_count": 239,
   "metadata": {
    "ExecuteTime": {
     "end_time": "2022-08-22T16:27:35.127820Z",
     "start_time": "2022-08-22T16:27:35.124863Z"
    },
    "hidden": true
   },
   "outputs": [],
   "source": [
    "zhang_21_species = ['CO']\n",
    "\n",
    "zhang_21_SNRs = np.array([0]) # taking the 1 UT\n",
    "\n",
    "zhang_21_frame = pd.DataFrame({'SNR': zhang_21_SNRs,\n",
    "                             'species': zhang_21_species})\n",
    "\n",
    "zhang_21_frame['lead'] = 'zhang'\n",
    "zhang_21_frame['planet'] = 'TYC 8998-760-1 b'\n",
    "zhang_21_frame['observation'] = 'transit'\n",
    "zhang_21_frame['instrument'] = 'SPIRou'\n",
    "zhang_21_frame['year'] = 2021"
   ]
  },
  {
   "cell_type": "code",
   "execution_count": 240,
   "metadata": {
    "ExecuteTime": {
     "end_time": "2022-08-22T16:27:35.131865Z",
     "start_time": "2022-08-22T16:27:35.128668Z"
    },
    "hidden": true
   },
   "outputs": [],
   "source": [
    "kirk_20_species = ['He']\n",
    "\n",
    "kirk_20_SNRs = np.array([0]) # taking the 1 UT\n",
    "\n",
    "kirk_20_frame = pd.DataFrame({'SNR': kirk_20_SNRs,\n",
    "                             'species': kirk_20_species})\n",
    "\n",
    "kirk_20_frame['lead'] = 'kirk'\n",
    "kirk_20_frame['planet'] = 'WASP-107 b'\n",
    "kirk_20_frame['observation'] = 'transit'\n",
    "kirk_20_frame['instrument'] = 'NIRSPEC'\n",
    "kirk_20_frame['year'] = 2020"
   ]
  },
  {
   "cell_type": "code",
   "execution_count": 241,
   "metadata": {
    "ExecuteTime": {
     "end_time": "2022-08-22T16:27:35.135469Z",
     "start_time": "2022-08-22T16:27:35.132785Z"
    },
    "hidden": true
   },
   "outputs": [],
   "source": [
    "bourrier_20_species = ['Fe']\n",
    "\n",
    "bourrier_20_SNRs = np.array([0]) # taking the 1 UT\n",
    "\n",
    "bourrier_20_frame = pd.DataFrame({'SNR': bourrier_20_SNRs,\n",
    "                             'species': bourrier_20_species})\n",
    "\n",
    "bourrier_20_frame['lead'] = 'bourrier'\n",
    "bourrier_20_frame['planet'] = 'WASP-121 b'\n",
    "bourrier_20_frame['observation'] = 'transit'\n",
    "bourrier_20_frame['instrument'] = 'HARPS'\n",
    "bourrier_20_frame['year'] = 2020"
   ]
  },
  {
   "cell_type": "code",
   "execution_count": 242,
   "metadata": {
    "ExecuteTime": {
     "end_time": "2022-08-22T16:27:35.139433Z",
     "start_time": "2022-08-22T16:27:35.136346Z"
    },
    "hidden": true
   },
   "outputs": [],
   "source": [
    "prinoth_21_species = ['Cr', 'Fe', 'Fe', 'Mg', 'Mn', 'Ti', 'Ti+', 'TiO', 'VO', 'Ca', 'Ca+', 'Na', 'Ni', 'Sc',]\n",
    "\n",
    "prinoth_21_SNRs = np.array([8, 17, 14, 8.1, 6.5, 8.7, 9.7, 5.6, 6.2, 4.4, 3.9, 3.2, 4.4, 3.0]) # taking the 1 UT\n",
    "\n",
    "prinoth_21_frame = pd.DataFrame({'SNR': prinoth_21_SNRs,\n",
    "                             'species': prinoth_21_species})\n",
    "\n",
    "prinoth_21_frame['lead'] = 'prinoth'\n",
    "prinoth_21_frame['planet'] = 'WASP-189 b'\n",
    "prinoth_21_frame['observation'] = 'transit'\n",
    "prinoth_21_frame['instrument'] = 'HARPS'\n",
    "prinoth_21_frame['year'] = 2021\n",
    "\n"
   ]
  },
  {
   "cell_type": "code",
   "execution_count": 243,
   "metadata": {
    "ExecuteTime": {
     "end_time": "2022-08-22T16:27:35.143082Z",
     "start_time": "2022-08-22T16:27:35.140224Z"
    },
    "hidden": true
   },
   "outputs": [],
   "source": [
    "wyttenbach_20_species = ['H alpha']\n",
    "\n",
    "wyttenbach_20_SNRs = np.array([24.6]) # taking the 1 UT\n",
    "\n",
    "wyttenbach_20_frame = pd.DataFrame({'SNR': wyttenbach_20_SNRs,\n",
    "                             'species': wyttenbach_20_species})\n",
    "\n",
    "wyttenbach_20_frame['lead'] = 'wyttenbach'\n",
    "wyttenbach_20_frame['planet'] = 'KELT-9 b'\n",
    "wyttenbach_20_frame['observation'] = 'transit'\n",
    "wyttenbach_20_frame['instrument'] = 'HARPS'\n",
    "wyttenbach_20_frame['year'] = 2020"
   ]
  },
  {
   "cell_type": "code",
   "execution_count": 244,
   "metadata": {
    "ExecuteTime": {
     "end_time": "2022-08-22T16:27:35.171019Z",
     "start_time": "2022-08-22T16:27:35.168332Z"
    },
    "hidden": true
   },
   "outputs": [],
   "source": [
    "wyttenbach_17_species = ['Na']\n",
    "\n",
    "wyttenbach_17_SNRs = np.array([4.5]) # taking the 1 UT\n",
    "\n",
    "wyttenbach_17_frame = pd.DataFrame({'SNR': wyttenbach_17_SNRs,\n",
    "                             'species': wyttenbach_17_species})\n",
    "\n",
    "wyttenbach_17_frame['lead'] = 'wyttenbach'\n",
    "wyttenbach_17_frame['planet'] = 'WASP-49 b'\n",
    "wyttenbach_17_frame['observation'] = 'transit'\n",
    "wyttenbach_17_frame['instrument'] = 'HARPS'\n",
    "wyttenbach_17_frame['year'] = 2017"
   ]
  },
  {
   "cell_type": "code",
   "execution_count": 245,
   "metadata": {
    "ExecuteTime": {
     "end_time": "2022-08-22T16:27:35.173421Z",
     "start_time": "2022-08-22T16:27:35.171882Z"
    },
    "hidden": true
   },
   "outputs": [],
   "source": [
    "#new ones"
   ]
  },
  {
   "cell_type": "code",
   "execution_count": 246,
   "metadata": {
    "ExecuteTime": {
     "end_time": "2022-08-22T16:27:35.177051Z",
     "start_time": "2022-08-22T16:27:35.174253Z"
    },
    "hidden": true
   },
   "outputs": [],
   "source": [
    "langveld_22_species = ['Na']\n",
    "\n",
    "langveld_22_SNRs = np.array([0]) # taking the 1 UT\n",
    "\n",
    "langveld_22_frame = pd.DataFrame({'SNR': langveld_22_SNRs,\n",
    "                             'species': langveld_22_species})\n",
    "\n",
    "langveld_22_frame['lead'] = 'langveld'\n",
    "langveld_22_frame['planet'] = 'WASP-69 b'\n",
    "langveld_22_frame['observation'] = 'transit'\n",
    "langveld_22_frame['instrument'] = 'HARPS'\n",
    "langveld_22_frame['year'] = 2022"
   ]
  },
  {
   "cell_type": "code",
   "execution_count": 247,
   "metadata": {
    "ExecuteTime": {
     "end_time": "2022-08-22T16:27:35.180770Z",
     "start_time": "2022-08-22T16:27:35.177798Z"
    },
    "hidden": true
   },
   "outputs": [],
   "source": [
    "langveld_22_2_species = ['Na']\n",
    "\n",
    "langveld_22_2_SNRs = np.array([0]) # taking the 1 UT\n",
    "\n",
    "langveld_22_2_frame = pd.DataFrame({'SNR': langveld_22_2_SNRs,\n",
    "                             'species': langveld_22_2_species})\n",
    "\n",
    "langveld_22_2_frame['lead'] = 'langveld'\n",
    "langveld_22_2_frame['planet'] = 'HD 189733 b'\n",
    "langveld_22_2_frame['observation'] = 'transit'\n",
    "langveld_22_2_frame['instrument'] = 'HARPS'\n",
    "langveld_22_2_frame['year'] = 2022"
   ]
  },
  {
   "cell_type": "code",
   "execution_count": 248,
   "metadata": {
    "ExecuteTime": {
     "end_time": "2022-08-22T16:27:35.184262Z",
     "start_time": "2022-08-22T16:27:35.181640Z"
    },
    "hidden": true
   },
   "outputs": [],
   "source": [
    "langveld_22_3_species = ['Na']\n",
    "\n",
    "langveld_22_3_SNRs = np.array([0]) # taking the 1 UT\n",
    "\n",
    "langveld_22_3_frame = pd.DataFrame({'SNR': langveld_22_3_SNRs,\n",
    "                             'species': langveld_22_3_species})\n",
    "\n",
    "langveld_22_3_frame['lead'] = 'langveld'\n",
    "langveld_22_3_frame['planet'] = 'WASP-21 b'\n",
    "langveld_22_3_frame['observation'] = 'transit'\n",
    "langveld_22_3_frame['instrument'] = 'HARPS'\n",
    "langveld_22_3_frame['year'] = 2022"
   ]
  },
  {
   "cell_type": "code",
   "execution_count": 249,
   "metadata": {
    "ExecuteTime": {
     "end_time": "2022-08-22T16:27:35.187862Z",
     "start_time": "2022-08-22T16:27:35.185161Z"
    },
    "hidden": true
   },
   "outputs": [],
   "source": [
    "langveld_22_3_species = ['Na']\n",
    "\n",
    "langveld_22_3_SNRs = np.array([0]) # taking the 1 UT\n",
    "\n",
    "langveld_22_3_frame = pd.DataFrame({'SNR': langveld_22_3_SNRs,\n",
    "                             'species': langveld_22_3_species})\n",
    "\n",
    "langveld_22_3_frame['lead'] = 'langveld'\n",
    "langveld_22_3_frame['planet'] = 'WASP-49 b'\n",
    "langveld_22_3_frame['observation'] = 'transit'\n",
    "langveld_22_3_frame['instrument'] = 'HARPS'\n",
    "langveld_22_3_frame['year'] = 2022"
   ]
  },
  {
   "cell_type": "code",
   "execution_count": 250,
   "metadata": {
    "ExecuteTime": {
     "end_time": "2022-08-22T16:27:35.191379Z",
     "start_time": "2022-08-22T16:27:35.188569Z"
    },
    "hidden": true
   },
   "outputs": [],
   "source": [
    "langveld_22_4_species = ['Na']\n",
    "\n",
    "langveld_22_4_SNRs = np.array([0]) # taking the 1 UT\n",
    "\n",
    "langveld_22_4_frame = pd.DataFrame({'SNR': langveld_22_4_SNRs,\n",
    "                             'species': langveld_22_4_species})\n",
    "\n",
    "langveld_22_4_frame['lead'] = 'langveld'\n",
    "langveld_22_4_frame['planet'] = 'WASP-79 b'\n",
    "langveld_22_4_frame['observation'] = 'transit'\n",
    "langveld_22_4_frame['instrument'] = 'HARPS'\n",
    "langveld_22_4_frame['year'] = 2022"
   ]
  },
  {
   "cell_type": "code",
   "execution_count": 251,
   "metadata": {
    "ExecuteTime": {
     "end_time": "2022-08-22T16:27:35.195260Z",
     "start_time": "2022-08-22T16:27:35.192340Z"
    },
    "hidden": true
   },
   "outputs": [],
   "source": [
    "langveld_22_5_species = ['Na']\n",
    "\n",
    "langveld_22_5_SNRs = np.array([0]) # taking the 1 UT\n",
    "\n",
    "langveld_22_5_frame = pd.DataFrame({'SNR': langveld_22_5_SNRs,\n",
    "                             'species': langveld_22_5_species})\n",
    "\n",
    "langveld_22_5_frame['lead'] = 'langveld'\n",
    "langveld_22_5_frame['planet'] = 'KELT-20 b'\n",
    "langveld_22_5_frame['observation'] = 'transit'\n",
    "langveld_22_5_frame['instrument'] = 'HARPS'\n",
    "langveld_22_5_frame['year'] = 2022"
   ]
  },
  {
   "cell_type": "code",
   "execution_count": 252,
   "metadata": {
    "ExecuteTime": {
     "end_time": "2022-08-22T16:27:35.199597Z",
     "start_time": "2022-08-22T16:27:35.196188Z"
    },
    "hidden": true
   },
   "outputs": [],
   "source": [
    "langveld_22_6_species = ['Na']\n",
    "\n",
    "langveld_22_6_SNRs = np.array([0]) # taking the 1 UT\n",
    "\n",
    "langveld_22_6_frame = pd.DataFrame({'SNR': langveld_22_6_SNRs,\n",
    "                             'species': langveld_22_6_species})\n",
    "\n",
    "langveld_22_6_frame['lead'] = 'langveld'\n",
    "langveld_22_6_frame['planet'] = 'WASP-121 b'\n",
    "langveld_22_6_frame['observation'] = 'transit'\n",
    "langveld_22_6_frame['instrument'] = 'HARPS'\n",
    "langveld_22_6_frame['year'] = 2022"
   ]
  },
  {
   "cell_type": "code",
   "execution_count": 253,
   "metadata": {
    "ExecuteTime": {
     "end_time": "2022-08-22T16:27:35.203722Z",
     "start_time": "2022-08-22T16:27:35.200528Z"
    },
    "hidden": true
   },
   "outputs": [],
   "source": [
    "langveld_22_7_species = ['Na']\n",
    "\n",
    "langveld_22_7_SNRs = np.array([0]) # taking the 1 UT\n",
    "\n",
    "langveld_22_7_frame = pd.DataFrame({'SNR': langveld_22_7_SNRs,\n",
    "                             'species': langveld_22_7_species})\n",
    "\n",
    "langveld_22_7_frame['lead'] = 'langveld'\n",
    "langveld_22_7_frame['planet'] = 'WASP-189 b'\n",
    "langveld_22_7_frame['observation'] = 'transit'\n",
    "langveld_22_7_frame['instrument'] = 'HARPS'\n",
    "langveld_22_7_frame['year'] = 2022"
   ]
  },
  {
   "cell_type": "code",
   "execution_count": 254,
   "metadata": {
    "ExecuteTime": {
     "end_time": "2022-08-22T16:27:35.207421Z",
     "start_time": "2022-08-22T16:27:35.204574Z"
    },
    "hidden": true
   },
   "outputs": [],
   "source": [
    "langveld_22_8_species = ['Na']\n",
    "\n",
    "langveld_22_8_SNRs = np.array([0]) # taking the 1 UT\n",
    "\n",
    "langveld_22_8_frame = pd.DataFrame({'SNR': langveld_22_8_SNRs,\n",
    "                             'species': langveld_22_8_species})\n",
    "\n",
    "langveld_22_8_frame['lead'] = 'langveld'\n",
    "langveld_22_8_frame['planet'] = 'KELT-9 b'\n",
    "langveld_22_8_frame['observation'] = 'transit'\n",
    "langveld_22_8_frame['instrument'] = 'HARPS'\n",
    "langveld_22_8_frame['year'] = 2022"
   ]
  },
  {
   "cell_type": "code",
   "execution_count": 255,
   "metadata": {
    "ExecuteTime": {
     "end_time": "2022-08-22T16:27:35.211322Z",
     "start_time": "2022-08-22T16:27:35.208294Z"
    },
    "hidden": true
   },
   "outputs": [],
   "source": [
    "webb_22_species = ['H2O']\n",
    "\n",
    "webb_22_SNRs = np.array([0]) # taking the 1 UT\n",
    "\n",
    "webb_22_frame = pd.DataFrame({'SNR': webb_22_SNRs,\n",
    "                             'species': webb_22_species})\n",
    "\n",
    "webb_22_frame['lead'] = 'webb'\n",
    "webb_22_frame['planet'] = 'Tau boo b'\n",
    "webb_22_frame['observation'] = 'transit'\n",
    "webb_22_frame['instrument'] = 'CARMENES'\n",
    "webb_22_frame['year'] = 2022"
   ]
  },
  {
   "cell_type": "code",
   "execution_count": 256,
   "metadata": {
    "ExecuteTime": {
     "end_time": "2022-08-22T16:27:35.215271Z",
     "start_time": "2022-08-22T16:27:35.212095Z"
    },
    "hidden": true
   },
   "outputs": [],
   "source": [
    "carleo_22_species = ['H2O', 'CH4', 'NH3', 'HCN']\n",
    "\n",
    "carleo_22_SNRs = np.array([9.94, 4.08, 7.73, 4.3]) # taking the 1 UT\n",
    "\n",
    "carleo_22_frame = pd.DataFrame({'SNR': carleo_22_SNRs,\n",
    "                             'species': carleo_22_species})\n",
    "\n",
    "carleo_22_frame['lead'] = 'carleo'\n",
    "carleo_22_frame['planet'] = 'WASP-80 b'\n",
    "carleo_22_frame['observation'] = 'transit'\n",
    "carleo_22_frame['instrument'] = 'GIANO-B'\n",
    "carleo_22_frame['year'] = 2022"
   ]
  },
  {
   "cell_type": "code",
   "execution_count": 257,
   "metadata": {
    "ExecuteTime": {
     "end_time": "2022-08-22T16:27:35.219063Z",
     "start_time": "2022-08-22T16:27:35.216259Z"
    },
    "hidden": true
   },
   "outputs": [],
   "source": [
    "guilluy_22_species = ['CH4', 'NH3', 'CO', 'C2H2', 'H2O']\n",
    "\n",
    "guilluy_22_SNRs = np.array([6.3, 5.4, 7.0, 4.5, 5.0]) # taking the 1 UT\n",
    "\n",
    "guilluy_22_frame = pd.DataFrame({'SNR': guilluy_22_SNRs,\n",
    "                             'species': guilluy_22_species})\n",
    "\n",
    "guilluy_22_frame['lead'] = 'guilluy'\n",
    "guilluy_22_frame['planet'] = 'KELT-7 b'\n",
    "guilluy_22_frame['observation'] = 'transit'\n",
    "guilluy_22_frame['instrument'] = 'horus'\n",
    "guilluy_22_frame['year'] = 2022"
   ]
  },
  {
   "cell_type": "code",
   "execution_count": 258,
   "metadata": {
    "ExecuteTime": {
     "end_time": "2022-08-22T16:27:35.222595Z",
     "start_time": "2022-08-22T16:27:35.219819Z"
    },
    "hidden": true
   },
   "outputs": [],
   "source": [
    "bello_arufe_22_species = ['Fe+']\n",
    "\n",
    "bello_arufe_22_SNRs = np.array([4.5])\n",
    "\n",
    "bello_arufe_22_frame = pd.DataFrame({'SNR': bello_arufe_22_SNRs,\n",
    "                             'species': bello_arufe_22_species})\n",
    "\n",
    "bello_arufe_22_frame['lead'] = 'Bello-Arufe'\n",
    "bello_arufe_22_frame['planet'] = 'KELT-20 b'\n",
    "bello_arufe_22_frame['observation'] = 'transit'\n",
    "bello_arufe_22_frame['instrument'] = 'FIES'\n",
    "bello_arufe_22_frame['year'] = 2022"
   ]
  },
  {
   "cell_type": "code",
   "execution_count": 259,
   "metadata": {
    "ExecuteTime": {
     "end_time": "2022-08-22T16:27:35.226153Z",
     "start_time": "2022-08-22T16:27:35.223417Z"
    },
    "hidden": true
   },
   "outputs": [],
   "source": [
    "bello_arufe_22_2_species = ['Fe+']\n",
    "\n",
    "bello_arufe_22_2_SNRs = np.array([8.5])\n",
    "\n",
    "bello_arufe_22_2_frame = pd.DataFrame({'SNR': bello_arufe_22_2_SNRs,\n",
    "                             'species': bello_arufe_22_2_species})\n",
    "\n",
    "bello_arufe_22_2_frame['lead'] = 'Bello-Arufe'\n",
    "bello_arufe_22_2_frame['planet'] = 'KELT-9 b'\n",
    "bello_arufe_22_2_frame['observation'] = 'transit'\n",
    "bello_arufe_22_2_frame['instrument'] = 'FIES'\n",
    "bello_arufe_22_2_frame['year'] = 2022"
   ]
  },
  {
   "cell_type": "code",
   "execution_count": 260,
   "metadata": {
    "ExecuteTime": {
     "end_time": "2022-08-22T16:27:35.229861Z",
     "start_time": "2022-08-22T16:27:35.226959Z"
    },
    "hidden": true
   },
   "outputs": [],
   "source": [
    "borsa_22_species = ['Fe', 'Fe+', 'Cr']\n",
    "\n",
    "borsa_22_SNRs = np.array([7.1, 3.9, 3.6])\n",
    "\n",
    "borsa_22_frame = pd.DataFrame({'SNR': borsa_22_SNRs,\n",
    "                             'species': borsa_22_species})\n",
    "\n",
    "borsa_22_frame['lead'] = 'F Borsa'\n",
    "borsa_22_frame['planet'] = 'KELT-20 b'\n",
    "borsa_22_frame['observation'] = 'transit'\n",
    "borsa_22_frame['instrument'] = 'HARPS-N'\n",
    "borsa_22_frame['year'] = 2022"
   ]
  },
  {
   "cell_type": "code",
   "execution_count": 261,
   "metadata": {
    "ExecuteTime": {
     "end_time": "2022-08-22T16:27:35.233376Z",
     "start_time": "2022-08-22T16:27:35.230735Z"
    },
    "hidden": true
   },
   "outputs": [],
   "source": [
    "johnson_22_species = ['Fe']\n",
    "\n",
    "johnson_22_SNRs = np.array([15.1])\n",
    "\n",
    "johnson_22_frame = pd.DataFrame({'SNR': johnson_22_SNRs,\n",
    "                             'species': johnson_22_species})\n",
    "\n",
    "johnson_22_frame['lead'] = 'M.C. Johnson'\n",
    "johnson_22_frame['planet'] = 'KELT-20 b'\n",
    "johnson_22_frame['observation'] = 'transit'\n",
    "johnson_22_frame['instrument'] = 'PEPSI'\n",
    "johnson_22_frame['year'] = 2022"
   ]
  },
  {
   "cell_type": "markdown",
   "metadata": {
    "ExecuteTime": {
     "end_time": "2022-08-22T16:27:35.235623Z",
     "start_time": "2022-08-22T16:27:35.234327Z"
    }
   },
   "source": [
    "# Combine it all"
   ]
  },
  {
   "cell_type": "code",
   "execution_count": 263,
   "metadata": {
    "ExecuteTime": {
     "end_time": "2022-08-22T16:27:35.486355Z",
     "start_time": "2022-08-22T16:27:35.236704Z"
    }
   },
   "outputs": [
    {
     "ename": "NameError",
     "evalue": "name 'cont_21_2_frame' is not defined",
     "output_type": "error",
     "traceback": [
      "\u001b[0;31m---------------------------------------------------------------------------\u001b[0m",
      "\u001b[0;31mNameError\u001b[0m                                 Traceback (most recent call last)",
      "Input \u001b[0;32mIn [263]\u001b[0m, in \u001b[0;36m<cell line: 1>\u001b[0;34m()\u001b[0m\n\u001b[1;32m      1\u001b[0m hrs_frame \u001b[38;5;241m=\u001b[39m pd\u001b[38;5;241m.\u001b[39mconcat([yan_20b_frame, \n\u001b[1;32m      2\u001b[0m                        boucher_21_frame,\n\u001b[1;32m      3\u001b[0m                        birkby_17_frame,\n\u001b[1;32m      4\u001b[0m                        birkby_13_frame,\n\u001b[1;32m      5\u001b[0m            sanchez_lopez_21_frame,\n\u001b[1;32m      6\u001b[0m           borsa_20_frame,\n\u001b[1;32m      7\u001b[0m           sanchez_lopez_20_frame,\n\u001b[1;32m      8\u001b[0m           chen_20_frame,\n\u001b[1;32m      9\u001b[0m           yan_20_frame,\n\u001b[1;32m     10\u001b[0m           nugroho_20b_frame,\n\u001b[1;32m     11\u001b[0m           hoeijmakers_20_frame,\n\u001b[1;32m     12\u001b[0m           ehrenreich_20_frame,\n\u001b[1;32m     13\u001b[0m           ben_yami_20_frame,\n\u001b[1;32m     14\u001b[0m           carone_20_frame,\n\u001b[1;32m     15\u001b[0m           nugroho_20_frame,\n\u001b[1;32m     16\u001b[0m           wyttenbach_13_frame,\n\u001b[1;32m     17\u001b[0m \u001b[38;5;66;03m#           sedaghati_17_frame,\u001b[39;00m\n\u001b[1;32m     18\u001b[0m           brogi_14_frame,\n\u001b[1;32m     19\u001b[0m                        paragas_21_frame,\n\u001b[1;32m     20\u001b[0m                        \n\u001b[1;32m     21\u001b[0m           brogi_13_frame,\n\u001b[1;32m     22\u001b[0m           schwarz_16_frame,\n\u001b[1;32m     23\u001b[0m           flowers_19_frame,\n\u001b[1;32m     24\u001b[0m           brogi_16_frame,\n\u001b[1;32m     25\u001b[0m           louden_15_frame,\n\u001b[1;32m     26\u001b[0m           sanchez_lopez_19_frame,\n\u001b[1;32m     27\u001b[0m           snellen_10_frame,\n\u001b[1;32m     28\u001b[0m           tabernero_20_frame,\n\u001b[1;32m     29\u001b[0m           kesseli_21_frame,\n\u001b[1;32m     30\u001b[0m           line_21_frame,\n\u001b[1;32m     31\u001b[0m                        brogi_12_frame,\n\u001b[1;32m     32\u001b[0m                        rodler_12_frame,\n\u001b[1;32m     33\u001b[0m                       seidel_21_frame,\n\u001b[1;32m     34\u001b[0m                       seidel_19_frame,\n\u001b[1;32m     35\u001b[0m                       de_kok_13_frame,\n\u001b[1;32m     36\u001b[0m                       zak_19_frame,\n\u001b[1;32m     37\u001b[0m                       landman_21_frame,\n\u001b[1;32m     38\u001b[0m                       snellen_14_frame,\n\u001b[1;32m     39\u001b[0m                       yan_20_frame,\n\u001b[1;32m     40\u001b[0m                        van_sluijs_22_frame,\n\u001b[1;32m     41\u001b[0m                        pelletier_21_frame,\n\u001b[1;32m     42\u001b[0m                       kasper_21_frame,\n\u001b[1;32m     43\u001b[0m                       hoeijmakers_18_frame,\n\u001b[1;32m     44\u001b[0m                       hoeijmakers_19_frame,\n\u001b[1;32m     45\u001b[0m                        webb_20_frame,\n\u001b[1;32m     46\u001b[0m                       cauley_19_frame,\n\u001b[1;32m     47\u001b[0m                       turner_20_frame,\n\u001b[1;32m     48\u001b[0m                       diebert_21_frame,\n\u001b[1;32m     49\u001b[0m                       pino_20_frame,\n\u001b[1;32m     50\u001b[0m                       yan_19_b_frame,\n\u001b[1;32m     51\u001b[0m                        herman_22_frame,\n\u001b[1;32m     52\u001b[0m                        cont_21_frame,\n\u001b[0;32m---> 53\u001b[0m                        \u001b[43mcont_21_2_frame\u001b[49m,\n\u001b[1;32m     54\u001b[0m                       santos_20_frame,\n\u001b[1;32m     55\u001b[0m                        mansfield_18_frame,\n\u001b[1;32m     56\u001b[0m                       allart_20_frame,\n\u001b[1;32m     57\u001b[0m                       osagh_20_frame,\n\u001b[1;32m     58\u001b[0m                       cauley_21_frame,\n\u001b[1;32m     59\u001b[0m                        deibert_19_frame,\n\u001b[1;32m     60\u001b[0m                       keles_19_frame,\n\u001b[1;32m     61\u001b[0m                       cabot_21_frame,\n\u001b[1;32m     62\u001b[0m                        khalafinejad_21_frame,\n\u001b[1;32m     63\u001b[0m                        guilluy_18_frame,\n\u001b[1;32m     64\u001b[0m                        guilluy_19_frame,\n\u001b[1;32m     65\u001b[0m                        chen_20_frame,\n\u001b[1;32m     66\u001b[0m                        stangret_21_frame,\n\u001b[1;32m     67\u001b[0m                        nortmann_18_frame,\n\u001b[1;32m     68\u001b[0m                       salz_18_frame,\n\u001b[1;32m     69\u001b[0m                        casasayas_barris_17_frame,\n\u001b[1;32m     70\u001b[0m                       casasayas_barris_19_frame,\n\u001b[1;32m     71\u001b[0m                       palle_20_frame,\n\u001b[1;32m     72\u001b[0m                        brogi_17_frame,\n\u001b[1;32m     73\u001b[0m                       allart_18_frame,\n\u001b[1;32m     74\u001b[0m                       allart_19_frame,\n\u001b[1;32m     75\u001b[0m                       alonso_floriano_19_frame,\n\u001b[1;32m     76\u001b[0m                        giacobbe_21_frame,\n\u001b[1;32m     77\u001b[0m                       mansfield_18_frame,\n\u001b[1;32m     78\u001b[0m                       kirk_20_frame,\n\u001b[1;32m     79\u001b[0m                        merritt_21_frame,\n\u001b[1;32m     80\u001b[0m                        langveld_22_frame,\n\u001b[1;32m     81\u001b[0m                        langveld_22_2_frame,\n\u001b[1;32m     82\u001b[0m                        langveld_22_3_frame,\n\u001b[1;32m     83\u001b[0m                        langveld_22_4_frame,\n\u001b[1;32m     84\u001b[0m                        langveld_22_5_frame,\n\u001b[1;32m     85\u001b[0m                        langveld_22_6_frame,\n\u001b[1;32m     86\u001b[0m                        langveld_22_7_frame,\n\u001b[1;32m     87\u001b[0m                        gandhi_19_frame,\n\u001b[1;32m     88\u001b[0m                        gandhi_22_frame,\n\u001b[1;32m     89\u001b[0m                        langveld_22_8_frame,\n\u001b[1;32m     90\u001b[0m                        brogi_line_19_frame,\n\u001b[1;32m     91\u001b[0m                        brogi_line_19_2_frame,\n\u001b[1;32m     92\u001b[0m                        brogi_18_frame,\n\u001b[1;32m     93\u001b[0m                        webb_22_frame,\n\u001b[1;32m     94\u001b[0m                        carleo_22_frame,\n\u001b[1;32m     95\u001b[0m                        guilluy_22_frame,\n\u001b[1;32m     96\u001b[0m                       bourrier_20_frame,\n\u001b[1;32m     97\u001b[0m                        borsa_21_frame,\n\u001b[1;32m     98\u001b[0m                        wang_18_frame,\n\u001b[1;32m     99\u001b[0m                       prinoth_21_frame,\n\u001b[1;32m    100\u001b[0m                       wyttenbach_20_frame,\n\u001b[1;32m    101\u001b[0m                       wyttenbach_17_frame,\n\u001b[1;32m    102\u001b[0m                       zhang_21_frame])\n",
      "\u001b[0;31mNameError\u001b[0m: name 'cont_21_2_frame' is not defined"
     ]
    }
   ],
   "source": [
    "hrs_frame = pd.concat([yan_20b_frame, \n",
    "                       boucher_21_frame,\n",
    "                       birkby_17_frame,\n",
    "                       birkby_13_frame,\n",
    "           sanchez_lopez_21_frame,\n",
    "          borsa_20_frame,\n",
    "          sanchez_lopez_20_frame,\n",
    "          chen_20_frame,\n",
    "          yan_20_frame,\n",
    "          nugroho_20b_frame,\n",
    "          hoeijmakers_20_frame,\n",
    "          ehrenreich_20_frame,\n",
    "          ben_yami_20_frame,\n",
    "          carone_20_frame,\n",
    "          nugroho_20_frame,\n",
    "          wyttenbach_13_frame,\n",
    "#           sedaghati_17_frame,\n",
    "          brogi_14_frame,\n",
    "                       paragas_21_frame,\n",
    "                       \n",
    "          brogi_13_frame,\n",
    "          schwarz_16_frame,\n",
    "          flowers_19_frame,\n",
    "          brogi_16_frame,\n",
    "          louden_15_frame,\n",
    "          sanchez_lopez_19_frame,\n",
    "          snellen_10_frame,\n",
    "          tabernero_20_frame,\n",
    "          kesseli_21_frame,\n",
    "          line_21_frame,\n",
    "                       brogi_12_frame,\n",
    "                       rodler_12_frame,\n",
    "                      seidel_21_frame,\n",
    "                      seidel_19_frame,\n",
    "                      de_kok_13_frame,\n",
    "                      zak_19_frame,\n",
    "                      landman_21_frame,\n",
    "                      snellen_14_frame,\n",
    "                      yan_20_frame,\n",
    "                       van_sluijs_22_frame,\n",
    "                       pelletier_21_frame,\n",
    "                      kasper_21_frame,\n",
    "                      hoeijmakers_18_frame,\n",
    "                      hoeijmakers_19_frame,\n",
    "                       webb_20_frame,\n",
    "                      cauley_19_frame,\n",
    "                      turner_20_frame,\n",
    "                      diebert_21_frame,\n",
    "                      pino_20_frame,\n",
    "                      yan_19_b_frame,\n",
    "                       herman_22_frame,\n",
    "                       cont_21_frame,\n",
    "                       cont_21_2_frame,\n",
    "                      santos_20_frame,\n",
    "                       mansfield_18_frame,\n",
    "                      allart_20_frame,\n",
    "                      osagh_20_frame,\n",
    "                      cauley_21_frame,\n",
    "                       deibert_19_frame,\n",
    "                      keles_19_frame,\n",
    "                      cabot_21_frame,\n",
    "                       khalafinejad_21_frame,\n",
    "                       guilluy_18_frame,\n",
    "                       guilluy_19_frame,\n",
    "                       chen_20_frame,\n",
    "                       stangret_21_frame,\n",
    "                       nortmann_18_frame,\n",
    "                      salz_18_frame,\n",
    "                       casasayas_barris_17_frame,\n",
    "                      casasayas_barris_19_frame,\n",
    "                      palle_20_frame,\n",
    "                       brogi_17_frame,\n",
    "                      allart_18_frame,\n",
    "                      allart_19_frame,\n",
    "                      alonso_floriano_19_frame,\n",
    "                       giacobbe_21_frame,\n",
    "                      mansfield_18_frame,\n",
    "                      kirk_20_frame,\n",
    "                       merritt_21_frame,\n",
    "                       langveld_22_frame,\n",
    "                       langveld_22_2_frame,\n",
    "                       langveld_22_3_frame,\n",
    "                       langveld_22_4_frame,\n",
    "                       langveld_22_5_frame,\n",
    "                       langveld_22_6_frame,\n",
    "                       langveld_22_7_frame,\n",
    "                       gandhi_19_frame,\n",
    "                       gandhi_22_frame,\n",
    "                       langveld_22_8_frame,\n",
    "                       brogi_line_19_frame,\n",
    "                       brogi_line_19_2_frame,\n",
    "                       brogi_18_frame,\n",
    "                       webb_22_frame,\n",
    "                       carleo_22_frame,\n",
    "                       guilluy_22_frame,\n",
    "                      bourrier_20_frame,\n",
    "                       borsa_21_frame,\n",
    "                       wang_18_frame,\n",
    "                      prinoth_21_frame,\n",
    "                      wyttenbach_20_frame,\n",
    "                      wyttenbach_17_frame,\n",
    "                      zhang_21_frame])"
   ]
  },
  {
   "cell_type": "code",
   "execution_count": null,
   "metadata": {
    "ExecuteTime": {
     "end_time": "2022-08-22T16:27:35.487320Z",
     "start_time": "2022-08-22T16:27:35.487314Z"
    }
   },
   "outputs": [],
   "source": [
    "%matplotlib inline"
   ]
  },
  {
   "cell_type": "code",
   "execution_count": null,
   "metadata": {
    "ExecuteTime": {
     "end_time": "2022-08-22T16:27:35.488320Z",
     "start_time": "2022-08-22T16:27:35.488310Z"
    }
   },
   "outputs": [],
   "source": [
    "hrs_frame = hrs_frame.sort_values(by=['planet'])"
   ]
  },
  {
   "cell_type": "code",
   "execution_count": null,
   "metadata": {
    "ExecuteTime": {
     "end_time": "2022-08-22T16:27:35.488755Z",
     "start_time": "2022-08-22T16:27:35.488749Z"
    }
   },
   "outputs": [],
   "source": [
    "frame_2010 = hrs_frame[hrs_frame.year == 2010]"
   ]
  },
  {
   "cell_type": "code",
   "execution_count": null,
   "metadata": {
    "ExecuteTime": {
     "end_time": "2022-08-22T16:27:35.489236Z",
     "start_time": "2022-08-22T16:27:35.489231Z"
    }
   },
   "outputs": [],
   "source": [
    "frame_2011 = hrs_frame[hrs_frame.year <= 2011]\n",
    "frame_2012 = hrs_frame[hrs_frame.year <= 2012]\n",
    "frame_2013 = hrs_frame[hrs_frame.year <= 2013]\n",
    "frame_2014 = hrs_frame[hrs_frame.year <= 2014]\n",
    "frame_2015 = hrs_frame[hrs_frame.year <= 2015]\n",
    "frame_2016 = hrs_frame[hrs_frame.year <= 2016]\n",
    "frame_2017 = hrs_frame[hrs_frame.year <= 2017]\n",
    "frame_2018 = hrs_frame[hrs_frame.year <= 2018]\n",
    "frame_2019 = hrs_frame[hrs_frame.year <= 2019]\n",
    "frame_2020 = hrs_frame[hrs_frame.year <= 2020]\n",
    "frame_2021 = hrs_frame[hrs_frame.year <= 2021]\n",
    "frame_2022 = hrs_frame[hrs_frame.year <= 2022]"
   ]
  },
  {
   "cell_type": "code",
   "execution_count": null,
   "metadata": {
    "ExecuteTime": {
     "end_time": "2022-08-22T16:27:35.489827Z",
     "start_time": "2022-08-22T16:27:35.489823Z"
    }
   },
   "outputs": [],
   "source": [
    "hrs_frame = hrs_frame.replace({'species': 'C2H2'}, {'species': r'C$_2$H$_2$'}, regex=True)\n",
    "hrs_frame = hrs_frame.replace({'species': 'NH3'}, {'species': r'NH$_3$'}, regex=True)\n",
    "hrs_frame = hrs_frame.replace({'species': 'CH4'}, {'species': r'CH$_4$'}, regex=True)\n",
    "hrs_frame = hrs_frame.replace({'species': 'H2O'}, {'species': r'H$_2$O'}, regex=True)\n",
    "hrs_frame = hrs_frame.replace({'species': 'H alpha'}, {'species': r'H$\\alpha$'})\n",
    "hrs_frame = hrs_frame.replace({'species': 'H beta'}, {'species': r'H$\\beta$'})\n",
    "hrs_frame = hrs_frame.replace({'species': 'H gamma'}, {'species': r'H$\\gamma$'})"
   ]
  },
  {
   "cell_type": "code",
   "execution_count": null,
   "metadata": {
    "ExecuteTime": {
     "end_time": "2022-08-22T16:27:35.490558Z",
     "start_time": "2022-08-22T16:27:35.490554Z"
    }
   },
   "outputs": [],
   "source": [
    "import matplotlib as mpl\n",
    "mpl.rcParams['figure.dpi'] = 300"
   ]
  },
  {
   "cell_type": "code",
   "execution_count": null,
   "metadata": {
    "ExecuteTime": {
     "end_time": "2022-08-22T16:27:35.491205Z",
     "start_time": "2022-08-22T16:27:35.491200Z"
    }
   },
   "outputs": [],
   "source": [
    "from matplotlib import rc\n",
    "rc('font', family='serif',\n",
    "                  style='normal', variant='normal',\n",
    "                  stretch='normal', weight='normal')"
   ]
  },
  {
   "cell_type": "code",
   "execution_count": null,
   "metadata": {
    "ExecuteTime": {
     "end_time": "2022-08-22T16:27:35.491828Z",
     "start_time": "2022-08-22T16:27:35.491823Z"
    }
   },
   "outputs": [],
   "source": [
    "year = 2010\n",
    "\n",
    "\n",
    "fig, ax = plt.subplots(figsize=(20,8))\n",
    "p = ax.scatter(hrs_frame['planet'], hrs_frame['species'], c='white')\n",
    "p = ax.scatter(hrs_frame[hrs_frame.year <= year]['planet'], hrs_frame[hrs_frame.year <= year]['species'], \n",
    "               c=hrs_frame[hrs_frame.year <= year]['SNR'], vmin=0, vmax=25)\n",
    "c = plt.colorbar(p, pad=0)\n",
    "c.set_label(label='SNR', fontsize=25)\n",
    "# ax.xticks(rotation = 45);\n",
    "\n",
    "ax.set_title(f'The state of HRS detections: {year}', fontsize=15)\n",
    "\n",
    "ax.tick_params(axis='x', which='major', labelsize=10, rotation = 35)\n",
    "ax.tick_params(axis='y', which='major', labelsize=10)\n",
    "ax.tick_params(axis='both', which='minor', labelsize=8)\n",
    "\n",
    "plt.tight_layout()\n",
    "\n",
    "plt.savefig('2010.jpg', bbox_inches='tight')"
   ]
  },
  {
   "cell_type": "code",
   "execution_count": null,
   "metadata": {
    "ExecuteTime": {
     "end_time": "2022-08-22T16:27:35.492349Z",
     "start_time": "2022-08-22T16:27:35.492343Z"
    }
   },
   "outputs": [],
   "source": [
    "year = 2011\n",
    "\n",
    "\n",
    "fig, ax = plt.subplots(figsize=(20,8))\n",
    "p = ax.scatter(hrs_frame['planet'], hrs_frame['species'], c='white')\n",
    "p = ax.scatter(hrs_frame[hrs_frame.year <= year]['planet'], hrs_frame[hrs_frame.year <= year]['species'], \n",
    "               c=hrs_frame[hrs_frame.year <= year]['SNR'],vmin=0, vmax=25)\n",
    "c = plt.colorbar(p, pad=0)\n",
    "c.set_label(label='SNR', fontsize=25)\n",
    "# ax.xticks(rotation = 45);\n",
    "\n",
    "ax.set_title(f'The state of HRS detections: {year}', fontsize=15)\n",
    "\n",
    "ax.tick_params(axis='x', which='major', labelsize=10, rotation = 35)\n",
    "ax.tick_params(axis='y', which='major', labelsize=10)\n",
    "ax.tick_params(axis='both', which='minor', labelsize=8)\n",
    "plt.tight_layout()\n",
    "plt.savefig('2011.jpg', bbox_inches='tight')"
   ]
  },
  {
   "cell_type": "code",
   "execution_count": null,
   "metadata": {
    "ExecuteTime": {
     "end_time": "2022-08-22T16:27:35.492794Z",
     "start_time": "2022-08-22T16:27:35.492788Z"
    }
   },
   "outputs": [],
   "source": [
    "year = 2012\n",
    "\n",
    "\n",
    "fig, ax = plt.subplots(figsize=(20,8))\n",
    "p = ax.scatter(hrs_frame['planet'], hrs_frame['species'], c='white')\n",
    "p = ax.scatter(hrs_frame[hrs_frame.year <= year]['planet'], hrs_frame[hrs_frame.year <= year]['species'], \n",
    "               c=hrs_frame[hrs_frame.year <= year]['SNR'],vmin=0, vmax=25)\n",
    "c = plt.colorbar(p, pad=0)\n",
    "c.set_label(label='SNR', fontsize=25)\n",
    "# ax.xticks(rotation = 45);\n",
    "\n",
    "ax.set_title(f'The state of HRS detections: {year}', fontsize=15)\n",
    "\n",
    "ax.tick_params(axis='x', which='major', labelsize=10, rotation = 35)\n",
    "ax.tick_params(axis='y', which='major', labelsize=10)\n",
    "ax.tick_params(axis='both', which='minor', labelsize=8)\n",
    "\n",
    "plt.tight_layout()\n",
    "plt.savefig('2012.jpg', bbox_inches='tight')"
   ]
  },
  {
   "cell_type": "code",
   "execution_count": null,
   "metadata": {
    "ExecuteTime": {
     "end_time": "2022-08-22T16:27:35.493825Z",
     "start_time": "2022-08-22T16:27:35.493820Z"
    }
   },
   "outputs": [],
   "source": [
    "year = 2013\n",
    "\n",
    "\n",
    "fig, ax = plt.subplots(figsize=(20,8))\n",
    "p = ax.scatter(hrs_frame['planet'], hrs_frame['species'], c='white')\n",
    "p = ax.scatter(hrs_frame[hrs_frame.year <= year]['planet'], hrs_frame[hrs_frame.year <= year]['species'], \n",
    "               c=hrs_frame[hrs_frame.year <= year]['SNR'],vmin=0, vmax=25)\n",
    "c = plt.colorbar(p, pad=0)\n",
    "c.set_label(label='SNR', fontsize=25)\n",
    "# ax.xticks(rotation = 45);\n",
    "\n",
    "ax.set_title(f'The state of HRS detections: {year}', fontsize=15)\n",
    "\n",
    "ax.tick_params(axis='x', which='major', labelsize=10, rotation = 35)\n",
    "ax.tick_params(axis='y', which='major', labelsize=10)\n",
    "ax.tick_params(axis='both', which='minor', labelsize=8)\n",
    "\n",
    "plt.tight_layout()\n",
    "\n",
    "plt.savefig('2013.jpg', bbox_inches='tight')"
   ]
  },
  {
   "cell_type": "code",
   "execution_count": null,
   "metadata": {
    "ExecuteTime": {
     "end_time": "2022-08-22T16:27:35.494728Z",
     "start_time": "2022-08-22T16:27:35.494719Z"
    }
   },
   "outputs": [],
   "source": [
    "year = 2014\n",
    "\n",
    "\n",
    "fig, ax = plt.subplots(figsize=(20,8))\n",
    "p = ax.scatter(hrs_frame['planet'], hrs_frame['species'], c='white')\n",
    "p = ax.scatter(hrs_frame[hrs_frame.year <= year]['planet'], hrs_frame[hrs_frame.year <= year]['species'], \n",
    "               c=hrs_frame[hrs_frame.year <= year]['SNR'],vmin=0, vmax=25)\n",
    "c = plt.colorbar(p, pad=0)\n",
    "c.set_label(label='SNR', fontsize=25)\n",
    "# ax.xticks(rotation = 45);\n",
    "\n",
    "ax.set_title(f'The state of HRS detections: {year}', fontsize=15)\n",
    "\n",
    "ax.tick_params(axis='x', which='major', labelsize=10, rotation = 35)\n",
    "ax.tick_params(axis='y', which='major', labelsize=10)\n",
    "ax.tick_params(axis='both', which='minor', labelsize=8)\n",
    "plt.tight_layout()\n",
    "plt.savefig('2014.jpg', bbox_inches='tight')"
   ]
  },
  {
   "cell_type": "code",
   "execution_count": null,
   "metadata": {
    "ExecuteTime": {
     "end_time": "2022-08-22T16:27:35.495276Z",
     "start_time": "2022-08-22T16:27:35.495266Z"
    }
   },
   "outputs": [],
   "source": [
    "year = 2015\n",
    "\n",
    "\n",
    "fig, ax = plt.subplots(figsize=(20,8))\n",
    "p = ax.scatter(hrs_frame['planet'], hrs_frame['species'], c='white')\n",
    "p = ax.scatter(hrs_frame[hrs_frame.year <= year]['planet'], hrs_frame[hrs_frame.year <= year]['species'], \n",
    "               c=hrs_frame[hrs_frame.year <= year]['SNR'],vmin=0, vmax=25)\n",
    "c = plt.colorbar(p, pad=0)\n",
    "c.set_label(label='SNR', fontsize=25)\n",
    "# ax.xticks(rotation = 45);\n",
    "\n",
    "ax.set_title(f'The state of HRS detections: {year}', fontsize=15)\n",
    "\n",
    "ax.tick_params(axis='x', which='major', labelsize=10, rotation = 35)\n",
    "ax.tick_params(axis='y', which='major', labelsize=10)\n",
    "ax.tick_params(axis='both', which='minor', labelsize=8)\n",
    "plt.tight_layout()\n",
    "plt.savefig('2015.jpg', bbox_inches='tight')"
   ]
  },
  {
   "cell_type": "code",
   "execution_count": null,
   "metadata": {
    "ExecuteTime": {
     "end_time": "2022-08-22T16:27:35.495965Z",
     "start_time": "2022-08-22T16:27:35.495960Z"
    }
   },
   "outputs": [],
   "source": [
    "year = 2016\n",
    "\n",
    "\n",
    "fig, ax = plt.subplots(figsize=(20,8))\n",
    "p = ax.scatter(hrs_frame['planet'], hrs_frame['species'], c='white')\n",
    "p = ax.scatter(hrs_frame[hrs_frame.year <= year]['planet'], hrs_frame[hrs_frame.year <= year]['species'], \n",
    "               c=hrs_frame[hrs_frame.year <= year]['SNR'],vmin=0, vmax=25)\n",
    "c = plt.colorbar(p, pad=0)\n",
    "c.set_label(label='SNR', fontsize=25)\n",
    "# ax.xticks(rotation = 45);\n",
    "\n",
    "ax.set_title(f'The state of HRS detections: {year}', fontsize=15)\n",
    "\n",
    "ax.tick_params(axis='x', which='major', labelsize=10, rotation = 35)\n",
    "ax.tick_params(axis='y', which='major', labelsize=10)\n",
    "ax.tick_params(axis='both', which='minor', labelsize=8)\n",
    "plt.tight_layout()\n",
    "plt.savefig('2016.jpg', bbox_inches='tight')"
   ]
  },
  {
   "cell_type": "code",
   "execution_count": null,
   "metadata": {
    "ExecuteTime": {
     "end_time": "2022-08-22T16:27:35.496488Z",
     "start_time": "2022-08-22T16:27:35.496483Z"
    }
   },
   "outputs": [],
   "source": [
    "year = 2017\n",
    "\n",
    "\n",
    "fig, ax = plt.subplots(figsize=(20,8))\n",
    "p = ax.scatter(hrs_frame['planet'], hrs_frame['species'], c='white')\n",
    "p = ax.scatter(hrs_frame[hrs_frame.year <= year]['planet'], hrs_frame[hrs_frame.year <= year]['species'], \n",
    "               c=hrs_frame[hrs_frame.year <= year]['SNR'],vmin=0, vmax=25)\n",
    "c = plt.colorbar(p, pad=0)\n",
    "c.set_label(label='SNR', fontsize=25)\n",
    "# ax.xticks(rotation = 45);\n",
    "\n",
    "ax.set_title(f'The state of HRS detections: {year}', fontsize=15)\n",
    "\n",
    "ax.tick_params(axis='x', which='major', labelsize=10, rotation = 35)\n",
    "ax.tick_params(axis='y', which='major', labelsize=10)\n",
    "ax.tick_params(axis='both', which='minor', labelsize=8)\n",
    "plt.tight_layout()\n",
    "plt.savefig('2017.jpg', bbox_inches='tight')"
   ]
  },
  {
   "cell_type": "code",
   "execution_count": null,
   "metadata": {
    "ExecuteTime": {
     "end_time": "2022-08-22T16:27:35.497009Z",
     "start_time": "2022-08-22T16:27:35.497003Z"
    }
   },
   "outputs": [],
   "source": [
    "year = 2018\n",
    "\n",
    "\n",
    "fig, ax = plt.subplots(figsize=(20,8))\n",
    "p = ax.scatter(hrs_frame['planet'], hrs_frame['species'], c='white')\n",
    "p = ax.scatter(hrs_frame[hrs_frame.year <= year]['planet'], hrs_frame[hrs_frame.year <= year]['species'], \n",
    "               c=hrs_frame[hrs_frame.year <= year]['SNR'],vmin=0, vmax=25)\n",
    "c = plt.colorbar(p, pad=0)\n",
    "c.set_label(label='SNR', fontsize=25)\n",
    "# ax.xticks(rotation = 45);\n",
    "\n",
    "ax.set_title(f'The state of HRS detections: {year}', fontsize=15)\n",
    "\n",
    "ax.tick_params(axis='x', which='major', labelsize=10, rotation = 35)\n",
    "ax.tick_params(axis='y', which='major', labelsize=10)\n",
    "ax.tick_params(axis='both', which='minor', labelsize=8)\n",
    "plt.tight_layout()\n",
    "plt.savefig('2018.jpg', bbox_inches='tight')"
   ]
  },
  {
   "cell_type": "code",
   "execution_count": null,
   "metadata": {
    "ExecuteTime": {
     "end_time": "2022-08-22T16:27:35.497748Z",
     "start_time": "2022-08-22T16:27:35.497740Z"
    }
   },
   "outputs": [],
   "source": [
    "year = 2019\n",
    "\n",
    "\n",
    "fig, ax = plt.subplots(figsize=(20,8))\n",
    "p = ax.scatter(hrs_frame['planet'], hrs_frame['species'], c='white')\n",
    "p = ax.scatter(hrs_frame[hrs_frame.year <= year]['planet'], hrs_frame[hrs_frame.year <= year]['species'], \n",
    "               c=hrs_frame[hrs_frame.year <= year]['SNR'],vmin=0, vmax=25)\n",
    "c = plt.colorbar(p, pad=0)\n",
    "c.set_label(label='SNR', fontsize=25)\n",
    "# ax.xticks(rotation = 45);\n",
    "\n",
    "ax.set_title(f'The state of HRS detections: {year}', fontsize=15)\n",
    "\n",
    "ax.tick_params(axis='x', which='major', labelsize=10, rotation = 35)\n",
    "ax.tick_params(axis='y', which='major', labelsize=10)\n",
    "ax.tick_params(axis='both', which='minor', labelsize=8)\n",
    "plt.tight_layout()\n",
    "\n",
    "plt.savefig('2019.jpg', bbox_inches='tight')"
   ]
  },
  {
   "cell_type": "code",
   "execution_count": null,
   "metadata": {
    "ExecuteTime": {
     "end_time": "2022-08-22T16:27:35.498233Z",
     "start_time": "2022-08-22T16:27:35.498227Z"
    }
   },
   "outputs": [],
   "source": [
    "year = 2020\n",
    "\n",
    "\n",
    "fig, ax = plt.subplots(figsize=(20,8))\n",
    "p = ax.scatter(hrs_frame['planet'], hrs_frame['species'], c='white')\n",
    "p = ax.scatter(hrs_frame[hrs_frame.year <= year]['planet'], hrs_frame[hrs_frame.year <= year]['species'], \n",
    "               c=hrs_frame[hrs_frame.year <= year]['SNR'],vmin=0, vmax=25)\n",
    "c = plt.colorbar(p, pad=0)\n",
    "c.set_label(label='SNR', fontsize=25)\n",
    "# ax.xticks(rotation = 45);\n",
    "\n",
    "ax.set_title(f'The state of HRS detections: {year}', fontsize=15)\n",
    "\n",
    "ax.tick_params(axis='x', which='major', labelsize=10, rotation = 35)\n",
    "ax.tick_params(axis='y', which='major', labelsize=10)\n",
    "ax.tick_params(axis='both', which='minor', labelsize=8)\n",
    "plt.tight_layout()\n",
    "plt.savefig('2020.jpg', bbox_inches='tight')"
   ]
  },
  {
   "cell_type": "code",
   "execution_count": null,
   "metadata": {
    "ExecuteTime": {
     "end_time": "2022-08-22T16:27:35.498760Z",
     "start_time": "2022-08-22T16:27:35.498755Z"
    }
   },
   "outputs": [],
   "source": [
    "year = 2021\n",
    "\n",
    "\n",
    "fig, ax = plt.subplots(figsize=(20,8))\n",
    "p = ax.scatter(hrs_frame['planet'], hrs_frame['species'], c='white')\n",
    "p = ax.scatter(hrs_frame[hrs_frame.year <= year]['planet'], hrs_frame[hrs_frame.year <= year]['species'], \n",
    "               c=hrs_frame[hrs_frame.year <= year]['SNR'],vmin=0, vmax=25)\n",
    "c = plt.colorbar(p, pad=0)\n",
    "c.set_label(label='SNR', fontsize=25)\n",
    "# ax.xticks(rotation = 45);\n",
    "\n",
    "ax.set_title(f'The state of HRS detections: {year}', fontsize=15)\n",
    "\n",
    "ax.tick_params(axis='x', which='major', labelsize=10, rotation = 35)\n",
    "ax.tick_params(axis='y', which='major', labelsize=10)\n",
    "ax.tick_params(axis='both', which='minor', labelsize=8)\n",
    "\n",
    "plt.tight_layout()\n",
    "\n",
    "plt.savefig('2021.jpg', bbox_inches='tight')"
   ]
  },
  {
   "cell_type": "code",
   "execution_count": null,
   "metadata": {
    "ExecuteTime": {
     "end_time": "2022-08-22T16:27:35.499167Z",
     "start_time": "2022-08-22T16:27:35.499162Z"
    }
   },
   "outputs": [],
   "source": [
    "len(hrs_frame.sort_values(by='species'))"
   ]
  },
  {
   "cell_type": "code",
   "execution_count": null,
   "metadata": {
    "ExecuteTime": {
     "end_time": "2022-08-22T16:27:35.499814Z",
     "start_time": "2022-08-22T16:27:35.499809Z"
    }
   },
   "outputs": [],
   "source": [
    "len(hrs_frame['planet'])"
   ]
  },
  {
   "cell_type": "code",
   "execution_count": null,
   "metadata": {
    "ExecuteTime": {
     "end_time": "2022-08-22T16:27:35.500384Z",
     "start_time": "2022-08-22T16:27:35.500376Z"
    },
    "scrolled": false
   },
   "outputs": [],
   "source": [
    "year = 2022\n",
    "\n",
    "\n",
    "fig, ax = plt.subplots(figsize=(20,8))\n",
    "# ax.grid(True)\n",
    "p = ax.scatter(hrs_frame['planet'], hrs_frame['species'], c='white')\n",
    "p = ax.scatter(hrs_frame[hrs_frame.year <= year]['planet'], hrs_frame[hrs_frame.year <= year]['species'], \n",
    "               c=hrs_frame[hrs_frame.year <= year]['SNR'],vmin=0, vmax=25)\n",
    "c = plt.colorbar(p, pad=0)\n",
    "c.set_label(label='SNR', fontsize=25)\n",
    "# ax.xticks(rotation = 45);\n",
    "\n",
    "ax.set_title(f'The state of HRS detections: {year}', fontsize=15)\n",
    "\n",
    "ax.tick_params(axis='x', which='major', labelsize=10, rotation = 35)\n",
    "ax.tick_params(axis='y', which='major', labelsize=10)\n",
    "ax.tick_params(axis='both', which='minor', labelsize=8)\n",
    "plt.tight_layout()\n",
    "\n",
    "plt.savefig('2022.jpg', bbox_inches='tight')"
   ]
  },
  {
   "cell_type": "code",
   "execution_count": null,
   "metadata": {
    "ExecuteTime": {
     "end_time": "2022-08-22T16:27:35.501039Z",
     "start_time": "2022-08-22T16:27:35.501031Z"
    }
   },
   "outputs": [],
   "source": [
    "year = 2022\n",
    "\n",
    "\n",
    "fig, ax = plt.subplots(figsize=(20,8))\n",
    "# ax.grid(True)\n",
    "p = ax.scatter(hrs_frame['planet'], hrs_frame['species'], c='white')\n",
    "p = ax.scatter(hrs_frame[hrs_frame.year <= year]['planet'], hrs_frame[hrs_frame.year <= year]['species'], \n",
    "               c=hrs_frame[hrs_frame.year <= year]['SNR'],vmin=0, vmax=25)\n",
    "c = plt.colorbar(p, pad=0)\n",
    "c.set_label(label='SNR', fontsize=25)\n",
    "# ax.xticks(rotation = 45);\n",
    "\n",
    "ax.set_title(f'The state of HRS detections: {year}', fontsize=15)\n",
    "\n",
    "ax.tick_params(axis='x', which='major', labelsize=10, rotation = 35)\n",
    "ax.tick_params(axis='y', which='major', labelsize=10)\n",
    "ax.tick_params(axis='both', which='minor', labelsize=8)\n",
    "\n",
    "left, bottom, width, height = [.1, 0.48, 0.2, 0.4]\n",
    "ax2 = fig.add_axes([left, bottom, width, height])\n",
    "ax2.set_ylabel('Count')\n",
    "ax2.set_xlabel('Year')\n",
    "\n",
    "\n",
    "hrs_frame.hist('year', bins=np.arange(2010, 2024), ax=ax2, color='goldenrod', label='Detections',\n",
    "              grid=False)\n",
    "# papers_frame.hist('year', bins=np.arange(2010, 2022), ax=ax2, color='gray', label='Papers')\n",
    "ax2.set_xlim([2010, 2023])\n",
    "ax2.set_title('')\n",
    "\n",
    "\n",
    "plt.tight_layout()\n",
    "\n",
    "plt.savefig('2022_histogram_small.jpg', bbox_inches='tight')"
   ]
  },
  {
   "cell_type": "code",
   "execution_count": null,
   "metadata": {
    "ExecuteTime": {
     "end_time": "2022-08-22T16:27:35.501923Z",
     "start_time": "2022-08-22T16:27:35.501918Z"
    }
   },
   "outputs": [],
   "source": [
    "year = 2022\n",
    "\n",
    "\n",
    "\n",
    "\n",
    "fig, ax = plt.subplots(figsize=(22,10))\n",
    "# ax.grid(True)\n",
    "p = ax.scatter(hrs_frame['planet'], hrs_frame['species'], c='white')\n",
    "p = ax.scatter(hrs_frame[hrs_frame.year <= year]['planet'], hrs_frame[hrs_frame.year <= year]['species'], \n",
    "               c=hrs_frame[hrs_frame.year <= year]['SNR'], s=80, marker='s')\n",
    "c = plt.colorbar(p,  pad=0)\n",
    "c.set_label(label='SNR', fontsize=25)\n",
    "# ax.xticks(rotation = 45);\n",
    "\n",
    "ax.set_title(f'The state of HRS detections: {year}', fontsize=25)\n",
    "ax.set_xlabel(f'Planet', fontsize=25)\n",
    "ax.set_ylabel(f'Species', fontsize=25)\n",
    "\n",
    "ax.tick_params(axis='x', which='major', labelsize=12, rotation = 35)\n",
    "ax.tick_params(axis='y', which='major', labelsize=12)\n",
    "ax.tick_params(axis='both', which='minor', labelsize=8)\n",
    "\n",
    "\n",
    "left, bottom, width, height = [.16, 0.45, 0.2, 0.4]\n",
    "ax2 = fig.add_axes([left, bottom, width, height])\n",
    "ax2.set_ylabel('Count')\n",
    "ax2.set_xlabel('Year')\n",
    "\n",
    "\n",
    "hrs_frame.hist('year', bins=np.arange(2010, 2024), ax=ax2, color='goldenrod', label='Detections',\n",
    "              grid=False)\n",
    "# papers_frame.hist('year', bins=np.arange(2010, 2022), ax=ax2, color='gray', label='Papers')\n",
    "ax2.set_xlim([2010, 2023])\n",
    "ax2.set_title('')\n",
    "\n",
    "\n",
    "\n",
    "plt.savefig('2022_histogram.jpg', bbox_inches='tight')"
   ]
  },
  {
   "cell_type": "code",
   "execution_count": null,
   "metadata": {
    "ExecuteTime": {
     "end_time": "2022-08-22T16:27:35.502676Z",
     "start_time": "2022-08-22T16:27:35.502670Z"
    }
   },
   "outputs": [],
   "source": [
    "year = 2022\n",
    "\n",
    "\n",
    "\n",
    "\n",
    "fig, ax = plt.subplots(figsize=(22,10))\n",
    "# ax.grid(True)\n",
    "p = ax.scatter(hrs_frame['planet'], hrs_frame['species'], c='white')\n",
    "p = ax.scatter(hrs_frame[hrs_frame.year <= year]['planet'], hrs_frame[hrs_frame.year <= year]['species'], \n",
    "               c=hrs_frame[hrs_frame.year <= year]['SNR'], s=80)\n",
    "c = plt.colorbar(p,  pad=0)\n",
    "c.set_label(label='SNR', fontsize=25)\n",
    "# ax.xticks(rotation = 45);\n",
    "\n",
    "ax.set_title(f'The state of HRS detections: {year}', fontsize=25)\n",
    "ax.set_xlabel(f'Planet', fontsize=25)\n",
    "ax.set_ylabel(f'Species', fontsize=25)\n",
    "\n",
    "ax.tick_params(axis='x', which='major', labelsize=12, rotation = 35)\n",
    "ax.tick_params(axis='y', which='major', labelsize=12)\n",
    "ax.tick_params(axis='both', which='minor', labelsize=8)\n",
    "\n",
    "\n",
    "left, bottom, width, height = [.16, 0.45, 0.2, 0.4]\n",
    "ax2 = fig.add_axes([left, bottom, width, height])\n",
    "ax2.set_ylabel('Count')\n",
    "ax2.set_xlabel('Year')\n",
    "\n",
    "ax.grid(True)\n",
    "\n",
    "\n",
    "hrs_frame.hist('year', bins=np.arange(2010, 2024), ax=ax2, color='goldenrod', label='Detections',\n",
    "              grid=False)\n",
    "# papers_frame.hist('year', bins=np.arange(2010, 2022), ax=ax2, color='gray', label='Papers')\n",
    "ax2.set_xlim([2010, 2023])\n",
    "ax2.set_title('')\n",
    "ax.text(-2, -10, f\"\"\"Arjun Savel — {datetime.today().strftime('%Y-%m-%d')}\"\"\", fontsize=15)\n",
    "\n",
    "\n",
    "plt.savefig('2022_histogram.jpg', bbox_inches='tight')"
   ]
  },
  {
   "cell_type": "code",
   "execution_count": null,
   "metadata": {
    "ExecuteTime": {
     "end_time": "2022-08-22T16:27:35.503444Z",
     "start_time": "2022-08-22T16:27:35.503439Z"
    }
   },
   "outputs": [],
   "source": [
    "hrs_frame['lead'].value_counts()"
   ]
  },
  {
   "cell_type": "code",
   "execution_count": null,
   "metadata": {
    "ExecuteTime": {
     "end_time": "2022-08-22T16:27:35.504161Z",
     "start_time": "2022-08-22T16:27:35.504151Z"
    }
   },
   "outputs": [],
   "source": [
    "hrs_frame['species'].value_counts()"
   ]
  },
  {
   "cell_type": "code",
   "execution_count": null,
   "metadata": {
    "ExecuteTime": {
     "end_time": "2022-08-22T16:27:35.504838Z",
     "start_time": "2022-08-22T16:27:35.504833Z"
    }
   },
   "outputs": [],
   "source": [
    "hrs_frame['instrument'].value_counts()"
   ]
  },
  {
   "cell_type": "code",
   "execution_count": null,
   "metadata": {
    "ExecuteTime": {
     "end_time": "2022-08-22T16:27:35.505476Z",
     "start_time": "2022-08-22T16:27:35.505471Z"
    }
   },
   "outputs": [],
   "source": [
    "hrs_frame['observation'].value_counts()"
   ]
  },
  {
   "cell_type": "code",
   "execution_count": null,
   "metadata": {},
   "outputs": [],
   "source": []
  },
  {
   "cell_type": "code",
   "execution_count": null,
   "metadata": {
    "ExecuteTime": {
     "end_time": "2022-08-22T16:27:35.506360Z",
     "start_time": "2022-08-22T16:27:35.506355Z"
    }
   },
   "outputs": [],
   "source": [
    "np.arange(2010, 2023)"
   ]
  },
  {
   "cell_type": "code",
   "execution_count": null,
   "metadata": {
    "ExecuteTime": {
     "end_time": "2022-08-22T16:27:35.507142Z",
     "start_time": "2022-08-22T16:27:35.507136Z"
    }
   },
   "outputs": [],
   "source": [
    "#add OH nugroho: https://iopscience.iop.org/article/10.3847/2041-8213/abec71/meta"
   ]
  },
  {
   "cell_type": "code",
   "execution_count": null,
   "metadata": {
    "ExecuteTime": {
     "end_time": "2022-08-22T16:27:35.507614Z",
     "start_time": "2022-08-22T16:27:35.507610Z"
    }
   },
   "outputs": [],
   "source": [
    "species = hrs_frame['species'].value_counts().index.values"
   ]
  },
  {
   "cell_type": "code",
   "execution_count": null,
   "metadata": {
    "ExecuteTime": {
     "end_time": "2022-08-22T16:27:35.508103Z",
     "start_time": "2022-08-22T16:27:35.508099Z"
    }
   },
   "outputs": [],
   "source": [
    "species[species=='H beta'] = 'H'"
   ]
  },
  {
   "cell_type": "code",
   "execution_count": null,
   "metadata": {
    "ExecuteTime": {
     "end_time": "2022-08-22T16:27:35.508666Z",
     "start_time": "2022-08-22T16:27:35.508661Z"
    }
   },
   "outputs": [],
   "source": [
    "species"
   ]
  },
  {
   "cell_type": "code",
   "execution_count": null,
   "metadata": {
    "ExecuteTime": {
     "end_time": "2022-08-22T16:27:35.509170Z",
     "start_time": "2022-08-22T16:27:35.509165Z"
    }
   },
   "outputs": [],
   "source": [
    "atoms_species = [s for s in species if '+' not in s and ' ' not in s and '2' not in s and len(s) < 3 and s != 'CO']\n",
    "\n"
   ]
  },
  {
   "cell_type": "code",
   "execution_count": null,
   "metadata": {
    "ExecuteTime": {
     "end_time": "2022-08-22T16:27:35.509920Z",
     "start_time": "2022-08-22T16:27:35.509915Z"
    }
   },
   "outputs": [],
   "source": [
    "species_counts = hrs_frame['species'].value_counts().values"
   ]
  },
  {
   "cell_type": "code",
   "execution_count": null,
   "metadata": {
    "ExecuteTime": {
     "end_time": "2022-08-22T16:27:35.510471Z",
     "start_time": "2022-08-22T16:27:35.510466Z"
    }
   },
   "outputs": [],
   "source": [
    "species_counts_atoms = species_counts[np.where(np.in1d(species, atoms_species))[0]]"
   ]
  },
  {
   "cell_type": "code",
   "execution_count": null,
   "metadata": {
    "ExecuteTime": {
     "end_time": "2022-08-22T16:27:35.510932Z",
     "start_time": "2022-08-22T16:27:35.510927Z"
    }
   },
   "outputs": [],
   "source": [
    "papers_frame = hrs_frame.drop_duplicates(subset=['lead', 'planet', 'observation', 'instrument', 'year'])"
   ]
  },
  {
   "cell_type": "code",
   "execution_count": null,
   "metadata": {
    "ExecuteTime": {
     "end_time": "2022-08-22T16:27:35.511522Z",
     "start_time": "2022-08-22T16:27:35.511517Z"
    }
   },
   "outputs": [],
   "source": [
    "papers_frame"
   ]
  },
  {
   "cell_type": "code",
   "execution_count": null,
   "metadata": {
    "ExecuteTime": {
     "end_time": "2022-08-22T16:27:35.512071Z",
     "start_time": "2022-08-22T16:27:35.512065Z"
    }
   },
   "outputs": [],
   "source": [
    "fig, ax = plt.subplots(figsize=(10,6))\n",
    "\n",
    "hrs_frame.hist('year', bins=np.arange(2010, 2023), ax=ax, color='teal', label='Detections')\n",
    "papers_frame.hist('year', bins=np.arange(2010, 2023), ax=ax, color='gray', label='Papers')\n",
    "ax.grid(False)\n",
    "ax.set_xlim([2010, 2022])\n",
    "ax.set_ylabel('Count', fontsize=18)\n",
    "ax.set_xlabel('Year', fontsize=18)\n",
    "ax.set_title('HRS over the years', fontsize=18)\n",
    "plt.legend(fontsize=18)"
   ]
  },
  {
   "cell_type": "code",
   "execution_count": null,
   "metadata": {
    "ExecuteTime": {
     "end_time": "2022-08-22T16:27:35.512876Z",
     "start_time": "2022-08-22T16:27:35.512870Z"
    }
   },
   "outputs": [],
   "source": [
    "papers_frame.species"
   ]
  },
  {
   "cell_type": "markdown",
   "metadata": {},
   "source": [
    "# Thinking about water"
   ]
  },
  {
   "cell_type": "code",
   "execution_count": null,
   "metadata": {
    "ExecuteTime": {
     "end_time": "2022-08-22T16:27:35.514011Z",
     "start_time": "2022-08-22T16:27:35.514005Z"
    }
   },
   "outputs": [],
   "source": [
    "%matplotlib inline"
   ]
  },
  {
   "cell_type": "code",
   "execution_count": null,
   "metadata": {
    "ExecuteTime": {
     "end_time": "2022-08-22T16:27:35.514600Z",
     "start_time": "2022-08-22T16:27:35.514594Z"
    }
   },
   "outputs": [],
   "source": [
    "# number of papers\n",
    "\n",
    "water_frame = hrs_frame[hrs_frame.species=='H$_2$O']\n",
    "\n",
    "len(water_frame) / len(hrs_frame)"
   ]
  },
  {
   "cell_type": "code",
   "execution_count": null,
   "metadata": {
    "ExecuteTime": {
     "end_time": "2022-08-22T16:27:35.515224Z",
     "start_time": "2022-08-22T16:27:35.515219Z"
    }
   },
   "outputs": [],
   "source": [
    "import matplotlib"
   ]
  },
  {
   "cell_type": "code",
   "execution_count": null,
   "metadata": {
    "ExecuteTime": {
     "end_time": "2022-08-22T16:27:35.515931Z",
     "start_time": "2022-08-22T16:27:35.515926Z"
    }
   },
   "outputs": [],
   "source": [
    "%matplotlib inline"
   ]
  },
  {
   "cell_type": "code",
   "execution_count": null,
   "metadata": {
    "ExecuteTime": {
     "end_time": "2022-08-22T16:27:35.516887Z",
     "start_time": "2022-08-22T16:27:35.516881Z"
    }
   },
   "outputs": [],
   "source": [
    "fig, ax = plt.subplots(figsize=(10,6), facecolor='#264e5a')\n",
    "\n",
    "hrs_frame.hist('year', bins=np.arange(2010, 2023), ax=ax, color='#264e5a', label='Detections')\n",
    "water_frame.hist('year', bins=np.arange(2010, 2023), ax=ax, color='gray', label='Water detections')\n",
    "ax.grid(False)\n",
    "ax.set_xlim([2010, 2022])\n",
    "ax.set_ylabel('Count', fontsize=25, color='white')\n",
    "ax.set_xlabel('Year', fontsize=25, color='white')\n",
    "ax.set_title('', fontsize=18)\n",
    "plt.legend(fontsize=25)\n",
    "plt.yticks((1, 10, 100), color='white')\n",
    "plt.xticks((2010, 2012, 2014, 2016, 2018, 2020, 2022), color='white')\n",
    "\n",
    "plt.yscale('log')\n",
    "\n",
    "\n",
    "plt.savefig('water.jpg', dpi=300)"
   ]
  },
  {
   "cell_type": "code",
   "execution_count": null,
   "metadata": {
    "ExecuteTime": {
     "end_time": "2022-08-22T16:27:35.517466Z",
     "start_time": "2022-08-22T16:27:35.517460Z"
    }
   },
   "outputs": [],
   "source": [
    "water_frame"
   ]
  },
  {
   "cell_type": "code",
   "execution_count": null,
   "metadata": {
    "ExecuteTime": {
     "end_time": "2022-08-22T16:27:35.518242Z",
     "start_time": "2022-08-22T16:27:35.518237Z"
    }
   },
   "outputs": [],
   "source": [
    "# now, which of these were retrievals? I should make a flag for method."
   ]
  },
  {
   "cell_type": "code",
   "execution_count": null,
   "metadata": {},
   "outputs": [],
   "source": []
  },
  {
   "cell_type": "markdown",
   "metadata": {},
   "source": [
    "# Experimental plotting"
   ]
  },
  {
   "cell_type": "code",
   "execution_count": null,
   "metadata": {
    "ExecuteTime": {
     "end_time": "2022-08-22T16:27:35.519077Z",
     "start_time": "2022-08-22T16:27:35.519072Z"
    }
   },
   "outputs": [],
   "source": [
    "from bokeh.models import (\n",
    "    ColumnDataSource,\n",
    "    LinearColorMapper,\n",
    "    LogColorMapper,\n",
    "    ColorBar,\n",
    "    BasicTicker,\n",
    ")\n",
    "from bokeh.plotting import figure, output_file\n",
    "from bokeh.io import show as show_\n",
    "from bokeh.sampledata.periodic_table import elements\n",
    "from bokeh.transform import dodge\n",
    "from csv import reader\n",
    "from matplotlib.colors import Normalize, LogNorm, to_hex\n",
    "from matplotlib.cm import (\n",
    "    plasma,\n",
    "    inferno,\n",
    "    magma,\n",
    "    viridis,\n",
    "    cividis,\n",
    "    turbo,\n",
    "    ScalarMappable,\n",
    ")\n",
    "from pandas import options\n",
    "from typing import List\n",
    "import warnings"
   ]
  },
  {
   "cell_type": "code",
   "execution_count": null,
   "metadata": {
    "ExecuteTime": {
     "end_time": "2022-08-22T16:27:35.519502Z",
     "start_time": "2022-08-22T16:27:35.519497Z"
    }
   },
   "outputs": [],
   "source": [
    "elements.loc[118] = [' ', 'H2O'] + list(np.ones(len(elements.columns) - 2))\n",
    "elements.loc[119] = [' ', 'CO'] + list(np.ones(len(elements.columns) - 2))\n",
    "elements.loc[120] = [' ', 'HCN'] + list(np.ones(len(elements.columns) - 2))\n",
    "elements.loc[121] = [' ', 'TiO'] + list(np.ones(len(elements.columns) - 2))\n",
    "\n",
    "elements.loc[122] = [' ', 'Sr+'] + list(np.ones(len(elements.columns) - 2))\n",
    "elements.loc[123] = [' ', 'Ca+'] + list(np.ones(len(elements.columns) - 2))\n",
    "elements.loc[124] = [' ', 'Fe+'] + list(np.ones(len(elements.columns) - 2))"
   ]
  },
  {
   "cell_type": "code",
   "execution_count": null,
   "metadata": {
    "ExecuteTime": {
     "end_time": "2022-08-22T16:27:35.520061Z",
     "start_time": "2022-08-22T16:27:35.520055Z"
    }
   },
   "outputs": [],
   "source": [
    "\n",
    "\n",
    "\n",
    "def ptable_plotter(\n",
    "    filename: str,\n",
    "    show: bool = True,\n",
    "    output_filename: str = None,\n",
    "    width: int = 1050,\n",
    "    cmap: str = \"plasma\",\n",
    "    alpha: float = 0.65,\n",
    "    extended: bool = True,\n",
    "    periods_remove: List[int] = None,\n",
    "    groups_remove: List[int] = None,\n",
    "    log_scale: bool = False,\n",
    "    cbar_height: float = None,\n",
    "    cbar_standoff: int = 12,\n",
    "    cbar_fontsize: int = 14,\n",
    "    blank_color: str = \"#c4c4c4\",\n",
    "    under_value: float = None,\n",
    "    under_color: str = \"#140F0E\",\n",
    "    over_value: float = None,\n",
    "    over_color: str = \"#140F0E\",\n",
    "    special_elements: List[str] = None,\n",
    "    special_color: str = \"#6F3023\",\n",
    ") -> figure:\n",
    "\n",
    "    \"\"\"\n",
    "    Plot a heatmap over the periodic table of elements.\n",
    "    Parameters\n",
    "    ----------\n",
    "    filename : str\n",
    "        Path to the .csv file containing the data to be plotted.\n",
    "    show : str\n",
    "        If True, the plot will be shown.\n",
    "    output_filename : str\n",
    "        If not None, the plot will be saved to the specified (.html) file.\n",
    "    width : float\n",
    "        Width of the plot.\n",
    "    cmap : str\n",
    "        plasma, inferno, viridis, magma, cividis, turbo\n",
    "    alpha : float\n",
    "        Alpha value (transparency).\n",
    "    extended : bool\n",
    "        If True, the lanthanoids and actinoids will be shown.\n",
    "    periods_remove : List[int]\n",
    "        Period numbers to be removed from the plot.\n",
    "    groups_remove : List[int]\n",
    "        Group numbers to be removed from the plot.\n",
    "    log_scale : bool\n",
    "        If True, the colorbar will be logarithmic.\n",
    "    cbar_height : int\n",
    "        Height of the colorbar.\n",
    "    cbar_standoff : int\n",
    "        Distance between the colorbar and the plot.\n",
    "    cbar_fontsize : int\n",
    "        Fontsize of the colorbar label.\n",
    "    blank_color : str\n",
    "        Hexadecimal color of the elements without data.\n",
    "    under_value : float\n",
    "        Values <= under_value will be colored with under_color.\n",
    "    under_color : str\n",
    "        Hexadecimal color to be used for the lower bound color.\n",
    "    over_value : float\n",
    "        Values >= over_value will be colored with over_color.\n",
    "    under_color : str\n",
    "        Hexadecial color to be used for the upper bound color.\n",
    "    special_elements: List[str]\n",
    "        List of elements to be colored with special_color.\n",
    "    special_color: str\n",
    "        Hexadecimal color to be used for the special elements.\n",
    "    Returns\n",
    "    -------\n",
    "    figure\n",
    "        Bokeh figure object.\n",
    "    \"\"\"\n",
    "\n",
    "    options.mode.chained_assignment = None\n",
    "\n",
    "    # Assign color palette based on input argument\n",
    "    if cmap == \"plasma\":\n",
    "        cmap = plasma\n",
    "        bokeh_palette = \"Plasma256\"\n",
    "    elif cmap == \"inferno\":\n",
    "        cmap = inferno\n",
    "        bokeh_palette = \"Inferno256\"\n",
    "    elif cmap == \"magma\":\n",
    "        cmap = magma\n",
    "        bokeh_palette = \"Magma256\"\n",
    "    elif cmap == \"viridis\":\n",
    "        cmap = viridis\n",
    "        bokeh_palette = \"Viridis256\"\n",
    "    elif cmap == \"cividis\":\n",
    "        cmap = cividis\n",
    "        bokeh_palette = \"Cividis256\"\n",
    "    elif cmap == \"turbo\":\n",
    "        cmap = turbo\n",
    "        bokeh_palette = \"Turbo256\"\n",
    "    else:\n",
    "        ValueError(\"Invalid color map.\")\n",
    "\n",
    "    # Define number of and groups\n",
    "    period_label = [\"1\", \"2\", \"3\", \"4\", \"5\", \"6\", \"7\"]\n",
    "    group_range = [str(x) for x in range(1, 19)]\n",
    "\n",
    "    # Remove any groups or periods\n",
    "    if groups_remove:\n",
    "        for gr in groups_remove:\n",
    "            gr = gr.strip()\n",
    "            group_range.remove(str(gr))\n",
    "    if periods_remove:\n",
    "        for pr in periods_remove:\n",
    "            pr = pr.strip()\n",
    "            period_label.remove(str(pr))\n",
    "\n",
    "    # Read in data from CSV file\n",
    "    data_elements = species\n",
    "    data_list = species_counts\n",
    "#     for row in reader(open(filename)):\n",
    "# #         data_elements.append(row[0])\n",
    "# #         data_list.append(row[1])\n",
    "#         data_elements.append(0)\n",
    "#         data_list.append(0)\n",
    "#     for i in range(113):\n",
    "#         data_list.append(0)\n",
    "#         data_elements.append(0)\n",
    "    data = [float(i) for i in data_list]\n",
    "\n",
    "    if len(data) != len(data_elements):\n",
    "        raise ValueError(\"Unequal number of atomic elements and data points\")\n",
    "\n",
    "    period_label.append(\"blank\")\n",
    "    period_label.append(\"La\")\n",
    "    period_label.append(\"Ac\")\n",
    "    period_label.append(\"blank2\")\n",
    "    period_label.append(\"ee\")\n",
    "    period_label.append(\"ef\")\n",
    "\n",
    "    if extended:\n",
    "        count = 0\n",
    "        for i in range(56, 70):\n",
    "            elements.period[i] = \"La\"\n",
    "            elements.group[i] = str(count + 4)\n",
    "            count += 1\n",
    "\n",
    "        count = 0\n",
    "        for i in range(88, 102):\n",
    "            elements.period[i] = \"Ac\"\n",
    "            elements.group[i] = str(count + 4)\n",
    "            count += 1\n",
    "        count = 0\n",
    "        for i in range(118, 122):\n",
    "            elements.period[i] = \"ee\"\n",
    "            elements.group[i] = str(count + 4)\n",
    "            count += 1\n",
    "            \n",
    "        count = 0\n",
    "        for i in range(122, 127):\n",
    "            elements.period[i] = \"ef\"\n",
    "            elements.group[i] = str(count + 4)\n",
    "            count += 1\n",
    "\n",
    "    # Define matplotlib and bokeh color map\n",
    "    if log_scale:\n",
    "        for datum in data:\n",
    "            if datum < 0:\n",
    "                raise ValueError(\n",
    "                    f\"Entry for element {datum} is negative but log-scale is selected\"\n",
    "                )\n",
    "        color_mapper = LogColorMapper(\n",
    "            palette=bokeh_palette, low=min(data), high=max(data)\n",
    "        )\n",
    "        norm = LogNorm(vmin=min(data), vmax=max(data))\n",
    "    else:\n",
    "        color_mapper = LinearColorMapper(\n",
    "            palette=bokeh_palette, low=min(data), high=max(data)\n",
    "        )\n",
    "        norm = Normalize(vmin=min(data), vmax=max(data))\n",
    "    color_scale = ScalarMappable(norm=norm, cmap=cmap).to_rgba(data, alpha=None)\n",
    "\n",
    "    # Set blank color\n",
    "    color_list = [blank_color] * len(elements)\n",
    "\n",
    "    # Compare elements in dataset with elements in periodic table\n",
    "    for i, data_element in enumerate(data_elements):\n",
    "        element_entry = elements.symbol[\n",
    "            elements.symbol.str.lower() == data_element.lower()\n",
    "        ]\n",
    "        if element_entry.empty == False:\n",
    "            element_index = element_entry.index[0]\n",
    "        else:\n",
    "            warnings.warn(\"Invalid chemical symbol: \" + data_element)\n",
    "        if color_list[element_index] != blank_color:\n",
    "            warnings.warn(\"Multiple entries for element \" + data_element)\n",
    "        elif under_value is not None and data[i] <= under_value:\n",
    "            color_list[element_index] = under_color\n",
    "        elif over_value is not None and data[i] >= over_value:\n",
    "            color_list[element_index] = over_color\n",
    "        else:\n",
    "            color_list[element_index] = to_hex(color_scale[i])\n",
    "\n",
    "    if special_elements:\n",
    "        for k, v in elements[\"symbol\"].iteritems():\n",
    "            if v in special_elements:\n",
    "                color_list[k] = special_color\n",
    "\n",
    "    # Define figure properties for visualizing data\n",
    "    source = ColumnDataSource(\n",
    "        data=dict(\n",
    "            group=[str(x) for x in elements[\"group\"]],\n",
    "            period=[str(y) for y in elements[\"period\"]],\n",
    "            sym=elements[\"symbol\"],\n",
    "            atomic_number=elements[\"atomic number\"],\n",
    "            type_color=color_list,\n",
    "        )\n",
    "    )\n",
    "\n",
    "    # Plot the periodic table\n",
    "    p = figure(x_range=group_range, y_range=list(reversed(period_label)), tools=\"save\")\n",
    "    p.plot_width = width\n",
    "    p.outline_line_color = None\n",
    "    p.background_fill_color = None\n",
    "    p.border_fill_color = None\n",
    "    p.toolbar_location = \"above\"\n",
    "    p.rect(\"group\", \"period\", 0.9, 0.9, source=source, alpha=alpha, color=\"type_color\")\n",
    "    p.axis.visible = False\n",
    "    text_props = {\n",
    "        \"source\": source,\n",
    "        \"angle\": 0,\n",
    "        \"color\": \"black\",\n",
    "        \"text_align\": \"left\",\n",
    "        \"text_baseline\": \"middle\",\n",
    "    }\n",
    "    x = dodge(\"group\", -0.4, range=p.x_range)\n",
    "    y = dodge(\"period\", 0.3, range=p.y_range)\n",
    "    p.text(\n",
    "        x=x,\n",
    "        y=\"period\",\n",
    "        text=\"sym\",\n",
    "        text_font_style=\"bold\",\n",
    "        text_font_size=\"14pt\",\n",
    "        **text_props,\n",
    "    )\n",
    "    p.text(x=x, y=y, text=\"atomic_number\", text_font_size=\"11pt\", **text_props)\n",
    "\n",
    "    color_bar = ColorBar(\n",
    "        color_mapper=color_mapper,\n",
    "        ticker=BasicTicker(desired_num_ticks=10),\n",
    "        border_line_color=None,\n",
    "        label_standoff=cbar_standoff,\n",
    "        location=(0, 0),\n",
    "        orientation=\"vertical\",\n",
    "        scale_alpha=alpha,\n",
    "        major_label_text_font_size=f\"{cbar_fontsize}pt\",\n",
    "    )\n",
    "\n",
    "    if cbar_height is not None:\n",
    "        color_bar.height = cbar_height\n",
    "\n",
    "    p.add_layout(color_bar, \"right\")\n",
    "    p.grid.grid_line_color = None\n",
    "\n",
    "    if output_filename:\n",
    "        output_file(output_filename)\n",
    "\n",
    "    if show:\n",
    "        show_(p)\n",
    "\n",
    "    return p"
   ]
  },
  {
   "cell_type": "code",
   "execution_count": null,
   "metadata": {
    "ExecuteTime": {
     "end_time": "2022-08-22T16:27:35.520719Z",
     "start_time": "2022-08-22T16:27:35.520714Z"
    }
   },
   "outputs": [],
   "source": [
    "ptable_plotter('e', show='True')"
   ]
  },
  {
   "cell_type": "code",
   "execution_count": null,
   "metadata": {
    "ExecuteTime": {
     "end_time": "2022-08-22T16:27:35.521183Z",
     "start_time": "2022-08-22T16:27:35.521178Z"
    }
   },
   "outputs": [],
   "source": [
    "%matplotlib notebook"
   ]
  },
  {
   "cell_type": "code",
   "execution_count": null,
   "metadata": {
    "ExecuteTime": {
     "end_time": "2022-08-22T16:27:35.521927Z",
     "start_time": "2022-08-22T16:27:35.521918Z"
    }
   },
   "outputs": [],
   "source": [
    "from bokeh.resources import INLINE\n",
    "import bokeh.io\n",
    "from bokeh import *\n",
    "bokeh.io.output_notebook(INLINE)"
   ]
  },
  {
   "cell_type": "code",
   "execution_count": null,
   "metadata": {
    "ExecuteTime": {
     "end_time": "2022-08-22T16:27:35.522461Z",
     "start_time": "2022-08-22T16:27:35.522456Z"
    }
   },
   "outputs": [],
   "source": [
    "elements"
   ]
  }
 ],
 "metadata": {
  "kernelspec": {
   "display_name": "Python 3 (ipykernel)",
   "language": "python",
   "name": "python3"
  },
  "language_info": {
   "codemirror_mode": {
    "name": "ipython",
    "version": 3
   },
   "file_extension": ".py",
   "mimetype": "text/x-python",
   "name": "python",
   "nbconvert_exporter": "python",
   "pygments_lexer": "ipython3",
   "version": "3.10.5"
  }
 },
 "nbformat": 4,
 "nbformat_minor": 2
}
