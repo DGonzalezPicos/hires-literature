{
 "cells": [
  {
   "cell_type": "code",
   "execution_count": 1,
   "metadata": {
    "ExecuteTime": {
     "end_time": "2022-08-31T18:28:51.744318Z",
     "start_time": "2022-08-31T18:28:51.156693Z"
    }
   },
   "outputs": [],
   "source": [
    "import numpy as np\n",
    "import pandas as pd\n",
    "import matplotlib.pyplot as plt"
   ]
  },
  {
   "cell_type": "markdown",
   "metadata": {},
   "source": [
    "# theory"
   ]
  },
  {
   "cell_type": "code",
   "execution_count": 2,
   "metadata": {
    "ExecuteTime": {
     "end_time": "2022-08-31T18:28:51.748904Z",
     "start_time": "2022-08-31T18:28:51.745647Z"
    }
   },
   "outputs": [],
   "source": [
    "pino_18_frame =  pd.DataFrame({'lead': ['Pino']})\n",
    "\n",
    "pino_18_frame['title'] = 'Diagnosing aerosols in extrasolar giant planets with cross-correlation function of water bands'\n",
    "pino_18_frame['lead'] = 'Pino'\n",
    "pino_18_frame['observation'] = 'transit'\n",
    "pino_18_frame['dimensions'] = 1\n",
    "pino_18_frame['year'] = 2018\n",
    "pino_18_frame['url'] = 'https://www.aanda.org/articles/aa/pdf/2018/11/aa32986-18.pdf'\n"
   ]
  },
  {
   "cell_type": "code",
   "execution_count": 3,
   "metadata": {
    "ExecuteTime": {
     "end_time": "2022-08-31T18:28:51.752878Z",
     "start_time": "2022-08-31T18:28:51.749888Z"
    }
   },
   "outputs": [],
   "source": [
    "frame = kaltenegger_20_frame = pd.DataFrame({'lead': ['Kaltenegger']})\n",
    "\n",
    "frame['title'] = 'Diagnosing aerosols in extrasolar giant planets with cross-correlation function of water bands'\n",
    "frame['dimensions'] = 1\n",
    "frame['observation'] = 'transit'\n",
    "frame['year'] = 2020\n",
    "frame['url'] = 'https://iopscience.iop.org/article/10.3847/2041-8213/ab789f/meta'\n"
   ]
  },
  {
   "cell_type": "code",
   "execution_count": 4,
   "metadata": {
    "ExecuteTime": {
     "end_time": "2022-08-31T18:28:51.757952Z",
     "start_time": "2022-08-31T18:28:51.754625Z"
    }
   },
   "outputs": [],
   "source": [
    "frame = lee_22_frame = pd.DataFrame({'lead': ['E Lee']})\n",
    "\n",
    "frame['title'] = 'The Mantis Network II: Examining the 3D high-resolution observable properties of the UHJs WASP-121b and WASP-189b through GCM modelling'\n",
    "frame['dimensions'] = 3\n",
    "frame['observation'] = 'transit'\n",
    "frame['year'] = 2022\n",
    "frame['url'] = 'https://ui.adsabs.harvard.edu/abs/2022MNRAS.tmp.2141L/abstract'\n"
   ]
  },
  {
   "cell_type": "code",
   "execution_count": 5,
   "metadata": {
    "ExecuteTime": {
     "end_time": "2022-08-31T18:28:51.761639Z",
     "start_time": "2022-08-31T18:28:51.758919Z"
    }
   },
   "outputs": [],
   "source": [
    "frame = kaltenegger_21_frame = pd.DataFrame({'lead': ['Kaltenegger']})\n",
    "\n",
    "frame['title'] = 'Finding Signs of Life in Transits: High-resolution Transmission Spectra of Earth-line Planets around FGKM Host Stars'\n",
    "frame['dimensions'] = 1\n",
    "frame['observation'] = 'transit'\n",
    "frame['year'] = 2021\n",
    "frame['url'] = 'https://iopscience.iop.org/article/10.3847/2041-8213/abe634/meta'\n"
   ]
  },
  {
   "cell_type": "code",
   "execution_count": 6,
   "metadata": {
    "ExecuteTime": {
     "end_time": "2022-08-31T18:28:51.765425Z",
     "start_time": "2022-08-31T18:28:51.762654Z"
    }
   },
   "outputs": [],
   "source": [
    "frame = snellen_13_frame = pd.DataFrame({'lead': ['snellen']})\n",
    "\n",
    "frame['title'] = 'FINDING EXTRATERRESTRIAL LIFE USING GROUND-BASED HIGH-DISPERSION SPECTROSCOPY'\n",
    "frame['dimensions'] = 1\n",
    "frame['observation'] = 'transit'\n",
    "frame['year'] = 2013\n",
    "frame['url'] = 'https://iopscience.iop.org/article/10.1088/0004-637X/764/2/182/meta'\n"
   ]
  },
  {
   "cell_type": "code",
   "execution_count": 7,
   "metadata": {
    "ExecuteTime": {
     "end_time": "2022-08-31T18:28:51.769651Z",
     "start_time": "2022-08-31T18:28:51.766276Z"
    }
   },
   "outputs": [],
   "source": [
    "frame = kaltenegger_20b_frame = pd.DataFrame({'lead': ['Kaltenegger']})\n",
    "\n",
    "frame['title'] = 'Finding Signs of Life on Transiting Earthlike Planets: High-resolution Transmission Spectra of Earth through Time around FGKM Host Stars'\n",
    "frame['dimensions'] = 1\n",
    "frame['observation'] = 'transit'\n",
    "frame['year'] = 2020\n",
    "frame['url'] = 'https://iopscience.iop.org/article/10.3847/1538-4357/abb9b2/meta'\n"
   ]
  },
  {
   "cell_type": "code",
   "execution_count": 8,
   "metadata": {
    "ExecuteTime": {
     "end_time": "2022-08-31T18:28:51.773450Z",
     "start_time": "2022-08-31T18:28:51.770605Z"
    }
   },
   "outputs": [],
   "source": [
    "frame = quanz_14_frame = pd.DataFrame({'lead': ['Quanz']})\n",
    "\n",
    "frame['title'] = 'Direct detection of exoplanets in the 3–10 μm range with E-ELT/METIS'\n",
    "frame['dimensions'] = 1\n",
    "frame['observation'] = 'transit'\n",
    "frame['year'] = 2014\n",
    "frame['url'] = 'https://www.cambridge.org/core/journals/international-journal-of-astrobiology/article/direct-detection-of-exoplanets-in-the-310-m-range-with-eeltmetis/FF4F11F8023EFB19D14A5F78F5808132'\n",
    "\n",
    "\n",
    "\n"
   ]
  },
  {
   "cell_type": "code",
   "execution_count": 9,
   "metadata": {
    "ExecuteTime": {
     "end_time": "2022-08-31T18:28:51.777558Z",
     "start_time": "2022-08-31T18:28:51.774380Z"
    }
   },
   "outputs": [],
   "source": [
    "# theory or obs?\n",
    "frame = zhang_20_frame = pd.DataFrame({'lead': ['Y zhang']})\n",
    "\n",
    "frame['title'] = 'Search for He I airglow emission from the hot Jupiter τ Boo b'\n",
    "frame['dimensions'] = 1\n",
    "frame['observation'] = 'emission'\n",
    "frame['year'] = 2020\n",
    "frame['url'] = 'https://ui.adsabs.harvard.edu/abs/2020A%26A...641A.161Z/abstract'\n",
    "\n",
    "\n",
    "\n"
   ]
  },
  {
   "cell_type": "code",
   "execution_count": 10,
   "metadata": {
    "ExecuteTime": {
     "end_time": "2022-08-31T18:28:51.782776Z",
     "start_time": "2022-08-31T18:28:51.780071Z"
    }
   },
   "outputs": [],
   "source": [
    "frame = kempton_14_frame = pd.DataFrame({'lead': ['kempton']})\n",
    "\n",
    "frame['title'] = 'High Resolution Transmission Spectroscopy as a Diagnostic for Jovian Exoplanet Atmospheres: Constraints from Theoretical Models'\n",
    "frame['dimensions'] = 3\n",
    "frame['observation'] = 'transit'\n",
    "frame['year'] = 2014\n",
    "frame['url'] = 'https://ui.adsabs.harvard.edu/abs/2014ApJ...795...24K/abstract'\n",
    "\n",
    "\n",
    "\n",
    "\n"
   ]
  },
  {
   "cell_type": "code",
   "execution_count": 11,
   "metadata": {
    "ExecuteTime": {
     "end_time": "2022-08-31T18:28:51.787184Z",
     "start_time": "2022-08-31T18:28:51.783716Z"
    }
   },
   "outputs": [],
   "source": [
    "frame = strachan_20_frame = pd.DataFrame({'lead': ['strachan']})\n",
    "\n",
    "frame['title'] = 'Diagnosing aerosols in extrasolar giant planets with cross-correlation function of water bands'\n",
    "frame['dimensions'] = 1 # kind of\n",
    "frame['observation'] = 'reflected light'\n",
    "frame['year'] = 2020\n",
    "frame['url'] = 'https://academic.oup.com/mnras/article-abstract/493/2/1596/5729057'\n"
   ]
  },
  {
   "cell_type": "code",
   "execution_count": 12,
   "metadata": {
    "ExecuteTime": {
     "end_time": "2022-08-31T18:28:51.791351Z",
     "start_time": "2022-08-31T18:28:51.788143Z"
    }
   },
   "outputs": [],
   "source": [
    "frame = savel_22_frame = pd.DataFrame({'lead': ['savel']})\n",
    "\n",
    "frame['title'] = 'No Umbrella Needed: Confronting the Hypothesis of Iron Rain on WASP-76b with Post-processed General Circulation Models'\n",
    "frame['dimensions'] = 3 # kind of\n",
    "frame['observation'] = 'transit'\n",
    "frame['year'] = 2022\n",
    "frame['url'] = 'https://ui.adsabs.harvard.edu/abs/2022ApJ...926...85S/abstract'\n"
   ]
  },
  {
   "cell_type": "code",
   "execution_count": 13,
   "metadata": {
    "ExecuteTime": {
     "end_time": "2022-08-31T18:28:51.795367Z",
     "start_time": "2022-08-31T18:28:51.792355Z"
    }
   },
   "outputs": [],
   "source": [
    "frame = rauscher_14_frame = pd.DataFrame({'lead': ['rauscher']})\n",
    "\n",
    "frame['title'] = 'The Atmospheric Circulation and Observable Properties of Non-synchronously Rotating Hot Jupiters'\n",
    "frame['dimensions'] = 3\n",
    "frame['observation'] = 'transit'\n",
    "frame['year'] = 2014\n",
    "frame['url'] = 'https://ui.adsabs.harvard.edu/abs/2014ApJ...790...79R/abstract'\n",
    "\n"
   ]
  },
  {
   "cell_type": "code",
   "execution_count": 14,
   "metadata": {
    "ExecuteTime": {
     "end_time": "2022-08-31T18:28:51.799115Z",
     "start_time": "2022-08-31T18:28:51.796417Z"
    }
   },
   "outputs": [],
   "source": [
    "frame = damiano_19_frame = pd.DataFrame({'lead': ['damiano']})\n",
    "\n",
    "frame['title'] = 'A Principal Component Analysis-based method to analyse high-resolution spectroscopic data'\n",
    "frame['dimensions'] = 1\n",
    "frame['observation'] = 'transit'\n",
    "frame['year'] = 2019\n",
    "frame['url'] = 'https://arxiv.org/abs/1906.11218'\n"
   ]
  },
  {
   "cell_type": "code",
   "execution_count": 15,
   "metadata": {
    "ExecuteTime": {
     "end_time": "2022-08-31T18:28:51.803152Z",
     "start_time": "2022-08-31T18:28:51.800089Z"
    }
   },
   "outputs": [],
   "source": [
    "frame = dreizler_8_frame = pd.DataFrame({'lead': ['dreizler']})\n",
    "\n",
    "frame['title'] = \"\"\"On the possibility of detecting extrasolar planets' atmospheres with the Rossiter-McLaughlin effect\"\"\"\n",
    "frame['dimensions'] = 1\n",
    "frame['observation'] = 'transit'\n",
    "frame['year'] = 2008\n",
    "frame['url'] = 'https://www.aanda.org/articles/aa/abs/2009/20/aa10656-08/aa10656-08.html'"
   ]
  },
  {
   "cell_type": "code",
   "execution_count": 16,
   "metadata": {
    "ExecuteTime": {
     "end_time": "2022-08-31T18:28:51.807042Z",
     "start_time": "2022-08-31T18:28:51.804153Z"
    }
   },
   "outputs": [],
   "source": [
    "frame = kozakis_20_frame = pd.DataFrame({'lead': ['kozakis']})\n",
    "\n",
    "frame['title'] = \"\"\"High-resolution Spectra of Earth-like Planets Orbiting Red Giant Host Stars\"\"\"\n",
    "frame['dimensions'] = 1\n",
    "frame['observation'] = 'reflection, emission'\n",
    "frame['year'] = 2020\n",
    "frame['url'] = 'https://www.aanda.org/articles/aa/abs/2009/20/aa10656-08/aa10656-08.html'"
   ]
  },
  {
   "cell_type": "code",
   "execution_count": 17,
   "metadata": {
    "ExecuteTime": {
     "end_time": "2022-08-31T18:28:51.810872Z",
     "start_time": "2022-08-31T18:28:51.807995Z"
    }
   },
   "outputs": [],
   "source": [
    "frame = cauley_18_frame = pd.DataFrame({'lead': ['cauley']})\n",
    "\n",
    "frame['title'] = \"\"\"The Effects of Stellar Activity on Optical High-resolution Exoplanet Transmission Spectra\"\"\"\n",
    "frame['dimensions'] = 1\n",
    "frame['observation'] = 'transit'\n",
    "frame['year'] = 2018\n",
    "frame['url'] = 'https://iopscience.iop.org/article/10.3847/1538-3881/aaddf9/meta'"
   ]
  },
  {
   "cell_type": "code",
   "execution_count": 18,
   "metadata": {
    "ExecuteTime": {
     "end_time": "2022-08-31T18:28:51.814701Z",
     "start_time": "2022-08-31T18:28:51.811935Z"
    }
   },
   "outputs": [],
   "source": [
    "frame = mille_ricci_kempton_12_frame = pd.DataFrame({'lead': ['miller-ricci kempton']})\n",
    "\n",
    "frame['title'] = \"\"\"Constraining High-speed Winds in Exoplanet Atmospheres through Observations of Anomalous Doppler Shifts during Transit\"\"\"\n",
    "frame['dimensions'] = 3\n",
    "frame['observation'] = 'transit'\n",
    "frame['year'] = 2012\n",
    "frame['url'] = 'https://ui.adsabs.harvard.edu/abs/2012ApJ...751..117M/abstract'"
   ]
  },
  {
   "cell_type": "code",
   "execution_count": 19,
   "metadata": {
    "ExecuteTime": {
     "end_time": "2022-08-31T18:28:51.818668Z",
     "start_time": "2022-08-31T18:28:51.815688Z"
    }
   },
   "outputs": [],
   "source": [
    "frame = de_kok_14_frame = pd.DataFrame({'lead': ['de Kok']})\n",
    "\n",
    "frame['title'] = \"\"\"Identifying new opportunities for exoplanet characterisation at high spectral resolution\"\"\"\n",
    "frame['dimensions'] = 1\n",
    "frame['observation'] = 'transit, emission'\n",
    "frame['year'] = 2014\n",
    "frame['url'] = 'https://www.aanda.org/articles/aa/abs/2014/01/aa22947-13/aa22947-13.html'"
   ]
  },
  {
   "cell_type": "code",
   "execution_count": 20,
   "metadata": {
    "ExecuteTime": {
     "end_time": "2022-08-31T18:28:51.822488Z",
     "start_time": "2022-08-31T18:28:51.819527Z"
    }
   },
   "outputs": [],
   "source": [
    "frame = molliere_14_frame = pd.DataFrame({'lead': ['molliere']})\n",
    "\n",
    "frame['title'] = \"\"\"Detecting isotopologues in exoplanet atmospheres using ground-based high-dispersion spectroscopy\"\"\"\n",
    "frame['dimensions'] = 1\n",
    "frame['observation'] = 'emission, reflection'\n",
    "frame['year'] = 2014\n",
    "frame['url'] = 'https://www.aanda.org/articles/aa/abs/2019/02/aa34169-18/aa34169-18.html'\n"
   ]
  },
  {
   "cell_type": "code",
   "execution_count": 21,
   "metadata": {
    "ExecuteTime": {
     "end_time": "2022-08-31T18:28:51.826399Z",
     "start_time": "2022-08-31T18:28:51.823495Z"
    }
   },
   "outputs": [],
   "source": [
    "frame = serindag_19_frame = pd.DataFrame({'lead': ['serindag']})\n",
    "\n",
    "frame['title'] = \"\"\"Testing the Detectability of Extraterrestrial O2 with the Extremely Large Telescopes Using Real Data with Real Noise\"\"\"\n",
    "frame['dimensions'] = 1\n",
    "frame['observation'] = 'transit'\n",
    "frame['year'] = 2019\n",
    "frame['url'] = 'https://iopscience.iop.org/article/10.3847/2041-8213/aafa1f/meta'\n"
   ]
  },
  {
   "cell_type": "code",
   "execution_count": 22,
   "metadata": {
    "ExecuteTime": {
     "end_time": "2022-08-31T18:28:51.830273Z",
     "start_time": "2022-08-31T18:28:51.827459Z"
    }
   },
   "outputs": [],
   "source": [
    "# calling this theory because not performed on an exoplanet\n",
    "frame = de_regt_22_frame = pd.DataFrame({'lead': ['de Regt']})\n",
    "\n",
    "frame['title'] = \"\"\"A quantitative assessment of the VO line list: Inaccuracies hamper high-resolution VO detections in exoplanet atmospheres\"\"\"\n",
    "frame['dimensions'] = 1\n",
    "frame['observation'] = 'emission'\n",
    "frame['year'] = 2022\n",
    "frame['url'] = 'https://www.aanda.org/articles/aa/abs/2022/05/aa42683-21/aa42683-21.html'\n"
   ]
  },
  {
   "cell_type": "code",
   "execution_count": 23,
   "metadata": {
    "ExecuteTime": {
     "end_time": "2022-08-31T18:28:51.833974Z",
     "start_time": "2022-08-31T18:28:51.831263Z"
    }
   },
   "outputs": [],
   "source": [
    "# calling this theory because not performed on an exoplanet\n",
    "frame = dash_22_frame = pd.DataFrame({'lead': ['dash']})\n",
    "\n",
    "frame['title'] = \"\"\"Linking atmospheric chemistry of the hot Jupiter HD 209458b to its formation location through infrared transmission and emission spectra\"\"\"\n",
    "frame['dimensions'] = 1\n",
    "frame['observation'] = 'emission, transit'\n",
    "frame['year'] = 2022\n",
    "frame['url'] = 'https://arxiv.org/pdf/2204.04103.pdf'\n"
   ]
  },
  {
   "cell_type": "code",
   "execution_count": 24,
   "metadata": {
    "ExecuteTime": {
     "end_time": "2022-08-31T18:28:51.837767Z",
     "start_time": "2022-08-31T18:28:51.835097Z"
    }
   },
   "outputs": [],
   "source": [
    "# calling this theory because not performed on an exoplanet\n",
    "frame = malsky_22_frame = pd.DataFrame({'lead': ['malsky']})\n",
    "\n",
    "frame['title'] = \"\"\"Modeling the High-resolution Emission Spectra of Clear and Cloudy Nontransiting Hot Jupiters\"\"\"\n",
    "frame['dimensions'] = 3\n",
    "frame['observation'] = 'emission'\n",
    "frame['year'] = 2022\n",
    "frame['url'] = 'https://ui.adsabs.harvard.edu/abs/2021ApJ...923...62M/abstract'\n"
   ]
  },
  {
   "cell_type": "code",
   "execution_count": 25,
   "metadata": {
    "ExecuteTime": {
     "end_time": "2022-08-31T18:28:51.841930Z",
     "start_time": "2022-08-31T18:28:51.838864Z"
    }
   },
   "outputs": [],
   "source": [
    "# calling this theory because not performed on an exoplanet\n",
    "frame = martins_16_frame = pd.DataFrame({'lead': ['martins']})\n",
    "\n",
    "frame['title'] = \"\"\"Reflected Light from Giant Planets in Habitable Zones: Tapping into the Power of the Cross-Correlation Function\"\"\"\n",
    "frame['dimensions'] = 1\n",
    "frame['observation'] = 'reflected light'\n",
    "frame['year'] = 2016\n",
    "frame['url'] = 'https://ui.adsabs.harvard.edu/abs/2016OLEB...46..487M/abstract'\n"
   ]
  },
  {
   "cell_type": "code",
   "execution_count": 26,
   "metadata": {
    "ExecuteTime": {
     "end_time": "2022-08-31T18:28:51.845906Z",
     "start_time": "2022-08-31T18:28:51.842919Z"
    }
   },
   "outputs": [],
   "source": [
    "# calling this theory because not performed on an exoplanet\n",
    "frame = harada_21_frame = pd.DataFrame({'lead': ['harada']})\n",
    "\n",
    "frame['title'] = \"\"\"Signatures of Clouds in Hot Jupiter Atmospheres: Modeled High-resolution Emission Spectra from 3D General Circulation Models\"\"\"\n",
    "frame['dimensions'] = 3\n",
    "frame['observation'] = 'emission'\n",
    "frame['year'] = 2021\n",
    "frame['url'] = 'https://ui.adsabs.harvard.edu/abs/2021ApJ...909...85H/abstract'\n"
   ]
  },
  {
   "cell_type": "code",
   "execution_count": 27,
   "metadata": {
    "ExecuteTime": {
     "end_time": "2022-08-31T18:28:51.849843Z",
     "start_time": "2022-08-31T18:28:51.846936Z"
    }
   },
   "outputs": [],
   "source": [
    "# calling this theory because not performed on an exoplanet\n",
    "frame = otten_21_frame = pd.DataFrame({'lead': ['otten']})\n",
    "\n",
    "frame['title'] = \"\"\"Direct characterization of young giant exoplanets at high spectral resolution by coupling SPHERE and CRIRES+\"\"\"\n",
    "frame['dimensions'] = 1\n",
    "frame['observation'] = 'direct imaging'\n",
    "frame['year'] = 2021\n",
    "frame['url'] = 'https://ui.adsabs.harvard.edu/abs/2021A%26A...646A.150O/abstract'\n"
   ]
  },
  {
   "cell_type": "code",
   "execution_count": 28,
   "metadata": {
    "ExecuteTime": {
     "end_time": "2022-08-31T18:28:51.857912Z",
     "start_time": "2022-08-31T18:28:51.854856Z"
    }
   },
   "outputs": [],
   "source": [
    "# calling this theory because not performed on an exoplanet\n",
    "frame = fisher_20_frame = pd.DataFrame({'lead': ['Fisher']})\n",
    "\n",
    "frame['title'] = \"\"\"Interpreting High-resolution Spectroscopy of Exoplanets using Cross-correlations and Supervised Machine Learning\"\"\"\n",
    "frame['dimensions'] = 1\n",
    "frame['observation'] = 'transit'\n",
    "frame['year'] = 2020\n",
    "frame['url'] = 'https://iopscience.iop.org/article/10.3847/1538-3881/ab7a92/meta#ajab7a92s3'\n"
   ]
  },
  {
   "cell_type": "code",
   "execution_count": 29,
   "metadata": {
    "ExecuteTime": {
     "end_time": "2022-08-31T18:28:51.861754Z",
     "start_time": "2022-08-31T18:28:51.858860Z"
    }
   },
   "outputs": [],
   "source": [
    "# calling this theory because not performed on an exoplanet\n",
    "frame = finnerty_21_frame = pd.DataFrame({'lead': ['Finnerty']})\n",
    "\n",
    "frame['title'] = \"\"\"Contrast and Temperature Dependence of Multi-epoch High-resolution Cross-correlation Exoplanet Spectroscopy\"\"\"\n",
    "frame['dimensions'] = 1\n",
    "frame['observation'] = 'transit'\n",
    "frame['year'] = 2021\n",
    "frame['url'] = 'https://iopscience.iop.org/article/10.3847/1538-3881/abd6ec/meta'\n"
   ]
  },
  {
   "cell_type": "code",
   "execution_count": 30,
   "metadata": {
    "ExecuteTime": {
     "end_time": "2022-08-31T18:28:51.865422Z",
     "start_time": "2022-08-31T18:28:51.862861Z"
    }
   },
   "outputs": [],
   "source": [
    "# calling this theory because not performed on an exoplanet\n",
    "frame = shulyak_19_frame = pd.DataFrame({'lead': ['shulyak']})\n",
    "\n",
    "frame['title'] = \"\"\"Remote sensing of exoplanetary atmospheres with ground-based high-resolution near-infrared spectroscopy\"\"\"\n",
    "frame['dimensions'] = 1\n",
    "frame['observation'] = 'emission'\n",
    "frame['year'] = 2019\n",
    "frame['url'] = 'https://www.aanda.org/articles/aa/abs/2019/09/aa35691-19/aa35691-19.html'\n"
   ]
  },
  {
   "cell_type": "code",
   "execution_count": 31,
   "metadata": {
    "ExecuteTime": {
     "end_time": "2022-08-31T18:28:51.869113Z",
     "start_time": "2022-08-31T18:28:51.866362Z"
    }
   },
   "outputs": [],
   "source": [
    "# calling this theory because not performed on an exoplanet\n",
    "frame = fujii_21_frame = pd.DataFrame({'lead': ['fujii']})\n",
    "\n",
    "frame['title'] = \"\"\"Detecting Atmospheric Molecules of Nontransiting Temperate Terrestrial Exoplanets Using High-resolution Spectroscopy in the Mid-infrared Domain\"\"\"\n",
    "frame['dimensions'] = 1\n",
    "frame['observation'] = 'emission'\n",
    "frame['year'] = 2021\n",
    "frame['url'] = 'https://iopscience.iop.org/article/10.3847/1538-3881/abe129/meta'\n"
   ]
  },
  {
   "cell_type": "code",
   "execution_count": 32,
   "metadata": {
    "ExecuteTime": {
     "end_time": "2022-08-31T18:28:51.873416Z",
     "start_time": "2022-08-31T18:28:51.870192Z"
    }
   },
   "outputs": [],
   "source": [
    "# calling this theory because not performed on an exoplanet\n",
    "frame = udry_14_frame = pd.DataFrame({'lead': ['udry']})\n",
    "\n",
    "frame['title'] = \"\"\"Exoplanet Science with the European Extremely Large Telescope. The Case for Visible and Near-IR Spectroscopy at High Resolution\"\"\"\n",
    "frame['dimensions'] = 1\n",
    "frame['observation'] = 'emission'\n",
    "frame['year'] = 2014\n",
    "frame['url'] = 'https://arxiv.org/abs/1412.1048'\n",
    "\n",
    "\n",
    "\n",
    "\n",
    "\n"
   ]
  },
  {
   "cell_type": "code",
   "execution_count": 33,
   "metadata": {
    "ExecuteTime": {
     "end_time": "2022-08-31T18:28:51.877567Z",
     "start_time": "2022-08-31T18:28:51.874566Z"
    }
   },
   "outputs": [],
   "source": [
    "# calling this theory because not performed on an exoplanet\n",
    "frame = morello_22_frame = pd.DataFrame({'lead': ['morello']})\n",
    "\n",
    "frame['title'] = \"\"\"The strange case of Na I in the atmosphere of HD 209458 b. Reconciling low- and high-resolution spectroscopic observations\"\"\"\n",
    "frame['dimensions'] = 1\n",
    "frame['observation'] = 'transit'\n",
    "frame['year'] = 2022\n",
    "frame['url'] = 'https://ui.adsabs.harvard.edu/abs/2022A%26A...657A..97M/abstract'\n",
    "\n",
    "\n",
    "\n",
    "\n",
    "\n"
   ]
  },
  {
   "cell_type": "code",
   "execution_count": 34,
   "metadata": {
    "ExecuteTime": {
     "end_time": "2022-08-31T18:28:51.881551Z",
     "start_time": "2022-08-31T18:28:51.878565Z"
    }
   },
   "outputs": [],
   "source": [
    "# calling this theory because not performed on an exoplanet\n",
    "frame = young_20_frame = pd.DataFrame({'lead': ['young']})\n",
    "\n",
    "frame['title'] = \"\"\"Non-local thermodynamic equilibrium transmission spectrum modelling of HD 209458b\"\"\"\n",
    "frame['dimensions'] = 1\n",
    "frame['observation'] = 'transit'\n",
    "frame['year'] = 2020\n",
    "frame['url'] = 'https://www.aanda.org/articles/aa/pdf/2020/09/aa37672-20.pdf'\n",
    "\n",
    "\n",
    "\n",
    "\n",
    "\n"
   ]
  },
  {
   "cell_type": "code",
   "execution_count": 35,
   "metadata": {
    "ExecuteTime": {
     "end_time": "2022-08-31T18:28:51.885539Z",
     "start_time": "2022-08-31T18:28:51.882789Z"
    }
   },
   "outputs": [],
   "source": [
    "# calling this theory because not performed on an exoplanet\n",
    "frame = rodler_14_frame = pd.DataFrame({'lead': ['rodler']})\n",
    "\n",
    "frame['title'] = \"\"\"FEASIBILITY STUDIES FOR THE DETECTION OF O2 IN AN EARTH-LIKE EXOPLANET\"\"\"\n",
    "frame['dimensions'] = 1\n",
    "frame['observation'] = 'transit'\n",
    "frame['year'] = 2014\n",
    "frame['url'] = 'https://iopscience.iop.org/article/10.1088/0004-637X/781/1/54/meta'"
   ]
  },
  {
   "cell_type": "code",
   "execution_count": 36,
   "metadata": {
    "ExecuteTime": {
     "end_time": "2022-08-31T18:28:51.889024Z",
     "start_time": "2022-08-31T18:28:51.886386Z"
    }
   },
   "outputs": [],
   "source": [
    "# calling this theory because not performed on an exoplanet\n",
    "frame = hawker_19_frame = pd.DataFrame({'lead': ['hawker']})\n",
    "\n",
    "frame['title'] = \"\"\"High-resolution spectroscopy and high contrast imaging with the ELT: looking for O2 in Proxima b \"\"\"\n",
    "frame['dimensions'] = 1\n",
    "frame['observation'] = 'emission'\n",
    "frame['year'] = 2019\n",
    "frame['url'] = 'https://academic.oup.com/mnras/article/484/4/4855/5306461'"
   ]
  },
  {
   "cell_type": "code",
   "execution_count": 37,
   "metadata": {
    "ExecuteTime": {
     "end_time": "2022-08-31T18:28:51.893264Z",
     "start_time": "2022-08-31T18:28:51.889973Z"
    }
   },
   "outputs": [],
   "source": [
    "# calling this theory because not performed on an exoplanet\n",
    "frame = wardenier_22_frame = pd.DataFrame({'lead': ['wardenier']})\n",
    "\n",
    "frame['title'] = \"\"\"Decomposing the iron cross-correlation signal of the ultra-hot Jupiter WASP-76b in transmission using 3D Monte Carlo radiative transfer\"\"\"\n",
    "frame['dimensions'] = 3\n",
    "frame['observation'] = 'transit'\n",
    "frame['year'] = 2022\n",
    "frame['url'] = 'https://ui.adsabs.harvard.edu/abs/2021MNRAS.506.1258W/abstract'"
   ]
  },
  {
   "cell_type": "code",
   "execution_count": 38,
   "metadata": {
    "ExecuteTime": {
     "end_time": "2022-08-31T18:28:51.896794Z",
     "start_time": "2022-08-31T18:28:51.894195Z"
    }
   },
   "outputs": [],
   "source": [
    "frame = gandhi_20_frame = pd.DataFrame({'lead': ['gandhi']})\n",
    "\n",
    "frame['title'] = \"\"\"Seeing above the clouds with high-resolution spectroscopy\"\"\"\n",
    "frame['dimensions'] = 1\n",
    "frame['observation'] = 'transit'\n",
    "frame['year'] = 2020\n",
    "frame['url'] = 'https://ui.adsabs.harvard.edu/abs/2020MNRAS.498..194G/abstract'"
   ]
  },
  {
   "cell_type": "code",
   "execution_count": 39,
   "metadata": {
    "ExecuteTime": {
     "end_time": "2022-08-31T18:28:51.900430Z",
     "start_time": "2022-08-31T18:28:51.897722Z"
    }
   },
   "outputs": [],
   "source": [
    "# calling this theory because not performed on an exoplanet\n",
    "frame = lopez_morales_19_frame = pd.DataFrame({'lead': ['lopez_morales']})\n",
    "\n",
    "frame['title'] = \"\"\"Seeing above the clouds with high-resolution spectroscopy\"\"\"\n",
    "frame['dimensions'] = 1\n",
    "frame['observation'] = 'transit'\n",
    "frame['year'] = 2019\n",
    "frame['url'] = 'https://ui.adsabs.harvard.edu/abs/2019BAAS...51c.162L/abstract'"
   ]
  },
  {
   "cell_type": "code",
   "execution_count": 40,
   "metadata": {
    "ExecuteTime": {
     "end_time": "2022-08-31T18:28:51.903844Z",
     "start_time": "2022-08-31T18:28:51.901219Z"
    }
   },
   "outputs": [],
   "source": [
    "# calling this theory because not performed on an exoplanet\n",
    "frame = fossati_18_frame = pd.DataFrame({'lead': ['fossati']})\n",
    "\n",
    "frame['title'] = \"\"\"A data-driven approach to constraining the atmospheric temperature structure of the ultra-hot Jupiter KELT-9b\"\"\"\n",
    "frame['dimensions'] = 1\n",
    "frame['observation'] = 'transit'\n",
    "frame['year'] = 2018\n",
    "frame['url'] = 'https://www.aanda.org/articles/aa/pdf/2020/11/aa39061-20.pdf'\n"
   ]
  },
  {
   "cell_type": "code",
   "execution_count": 41,
   "metadata": {
    "ExecuteTime": {
     "end_time": "2022-08-31T18:28:51.907436Z",
     "start_time": "2022-08-31T18:28:51.904639Z"
    }
   },
   "outputs": [],
   "source": [
    "frame = zhang_17_frame = pd.DataFrame({'lead': ['j zhang']})\n",
    "\n",
    "frame['title'] = \"\"\"Constraining Hot Jupiter Atmospheric Structure and Dynamics through Doppler-shifted Emission Spectra\"\"\"\n",
    "frame['dimensions'] = 3\n",
    "frame['observation'] = 'transit'\n",
    "frame['year'] = 2017\n",
    "frame['url'] = 'https://ui.adsabs.harvard.edu/abs/2017ApJ...851...84Z/abstract'\n"
   ]
  },
  {
   "cell_type": "code",
   "execution_count": 42,
   "metadata": {
    "ExecuteTime": {
     "end_time": "2022-08-31T18:28:51.910794Z",
     "start_time": "2022-08-31T18:28:51.908137Z"
    }
   },
   "outputs": [],
   "source": [
    "#todo: read stellar activity\n",
    "frame = genest_22_frame = pd.DataFrame({'lead': ['genest']})\n",
    "\n",
    "frame['title'] = \"\"\"On the Effect of Stellar Activity on Low-resolution Transit Spectroscopy and the use of High Resolution as Mitigation\"\"\"\n",
    "frame['dimensions'] = 1\n",
    "frame['observation'] = 'transit'\n",
    "frame['year'] = 2022\n",
    "frame['url'] = 'https://ui.adsabs.harvard.edu/abs/2022AJ....163..231G/abstract'\n"
   ]
  },
  {
   "cell_type": "code",
   "execution_count": 43,
   "metadata": {
    "ExecuteTime": {
     "end_time": "2022-08-31T18:28:51.914122Z",
     "start_time": "2022-08-31T18:28:51.911613Z"
    }
   },
   "outputs": [],
   "source": [
    "# calling this theory because not performed on an exoplanet\n",
    "frame = ben_ami_18_frame = pd.DataFrame({'lead': ['ben_ami']})\n",
    "\n",
    "frame['title'] = \"\"\"High-resolution Spectroscopy Using Fabry-Perot Interferometer Arrays: An Application to Searches for O2 in Exoplanetary Atmospheres\"\"\"\n",
    "frame['dimensions'] = 1\n",
    "frame['observation'] = 'transit'\n",
    "frame['year'] = 2018\n",
    "frame['url'] = 'https://ui.adsabs.harvard.edu/abs/2018ApJ...861...79B/abstract'"
   ]
  },
  {
   "cell_type": "code",
   "execution_count": 44,
   "metadata": {
    "ExecuteTime": {
     "end_time": "2022-08-31T18:28:51.917549Z",
     "start_time": "2022-08-31T18:28:51.914929Z"
    }
   },
   "outputs": [],
   "source": [
    "# calling this theory because not performed on an exoplanet\n",
    "frame = garcia_munoz_18_frame = pd.DataFrame({'lead': ['garcia_munoz']})\n",
    "\n",
    "frame['title'] = \"\"\"On Mapping Exoplanet Atmospheres with High-dispersion Spectro-polarimetry: Some Model Predictions\"\"\"\n",
    "frame['dimensions'] = 1\n",
    "frame['observation'] = 'reflected light'\n",
    "frame['year'] = 2018\n",
    "frame['url'] = 'https://ui.adsabs.harvard.edu/abs/2018ApJ...854..108G/abstract'\n"
   ]
  },
  {
   "cell_type": "code",
   "execution_count": 45,
   "metadata": {
    "ExecuteTime": {
     "end_time": "2022-08-31T18:28:51.920933Z",
     "start_time": "2022-08-31T18:28:51.918420Z"
    }
   },
   "outputs": [],
   "source": [
    "frame = lampon_20_frame = pd.DataFrame({'lead': ['lampon']})\n",
    "\n",
    "frame['title'] = \"\"\"Modelling the He I triplet absorption at 10 830 Å in the atmosphere of HD 209458 b\"\"\"\n",
    "frame['dimensions'] = 1\n",
    "frame['observation'] = 'transit'\n",
    "frame['year'] = 2020\n",
    "frame['url'] = 'https://ui.adsabs.harvard.edu/abs/2020A%26A...636A..13L/abstract'\n"
   ]
  },
  {
   "cell_type": "code",
   "execution_count": 46,
   "metadata": {
    "ExecuteTime": {
     "end_time": "2022-08-31T18:28:51.924427Z",
     "start_time": "2022-08-31T18:28:51.921734Z"
    }
   },
   "outputs": [],
   "source": [
    "frame = leung_19_frame = pd.DataFrame({'lead': ['leung']})\n",
    "\n",
    "frame['title'] = \"\"\"High-resolution Spectral Discriminants of Ocean Loss for M-dwarf Terrestrial Exoplanets\"\"\"\n",
    "frame['dimensions'] = 1\n",
    "frame['observation'] = 'transit'\n",
    "frame['year'] = 2020\n",
    "frame['url'] = 'https://ui.adsabs.harvard.edu/abs/2020AJ....160...11L/abstract'\n"
   ]
  },
  {
   "cell_type": "code",
   "execution_count": 47,
   "metadata": {
    "ExecuteTime": {
     "end_time": "2022-08-31T18:28:51.927880Z",
     "start_time": "2022-08-31T18:28:51.925330Z"
    }
   },
   "outputs": [],
   "source": [
    "frame = showman_13_frame = pd.DataFrame({'lead': ['showman']})\n",
    "\n",
    "frame['title'] = \"\"\"Doppler Signatures of the Atmospheric Circulation on Hot Jupiters\"\"\"\n",
    "frame['dimensions'] = 3\n",
    "frame['observation'] = 'transit'\n",
    "frame['year'] = 2013\n",
    "frame['url'] = 'https://ui.adsabs.harvard.edu/abs/2013ApJ...762...24S/abstract'\n"
   ]
  },
  {
   "cell_type": "code",
   "execution_count": 48,
   "metadata": {
    "ExecuteTime": {
     "end_time": "2022-08-31T18:28:51.931512Z",
     "start_time": "2022-08-31T18:28:51.928721Z"
    }
   },
   "outputs": [],
   "source": [
    "frame = martins_13_frame = pd.DataFrame({'lead': ['martins']})\n",
    "\n",
    "frame['title'] = \"\"\"Spectroscopic direct detection of reflected light from extrasolar planets\"\"\"\n",
    "frame['dimensions'] = 1\n",
    "frame['observation'] = 'reflected light'\n",
    "frame['year'] = 2013\n",
    "frame['url'] = 'https://ui.adsabs.harvard.edu/abs/2013MNRAS.436.1215M/abstract'\n"
   ]
  },
  {
   "cell_type": "code",
   "execution_count": 49,
   "metadata": {
    "ExecuteTime": {
     "end_time": "2022-08-31T18:28:51.934776Z",
     "start_time": "2022-08-31T18:28:51.932275Z"
    }
   },
   "outputs": [],
   "source": [
    "frame = santos_15_frame = pd.DataFrame({'lead': ['santos']})\n",
    "\n",
    "frame['title'] = \"\"\"Spectroscopic direct detection of reflected light from extrasolar planets\"\"\"\n",
    "frame['dimensions'] = 1\n",
    "frame['observation'] = 'reflected light'\n",
    "frame['year'] = 2015\n",
    "frame['url'] = 'https://www.aanda.org/articles/aa/pdf/2015/11/aa26673-15.pdf'\n",
    "\n",
    "\n"
   ]
  },
  {
   "cell_type": "code",
   "execution_count": 50,
   "metadata": {
    "ExecuteTime": {
     "end_time": "2022-08-31T18:28:51.937694Z",
     "start_time": "2022-08-31T18:28:51.935563Z"
    }
   },
   "outputs": [],
   "source": [
    "frame = aronson_15_frame = pd.DataFrame({'lead': ['aronson']})\n",
    "\n",
    "frame['title'] = \"\"\"Using near-infrared spectroscopy for characterization of transiting exoplanets\"\"\"\n",
    "frame['dimensions'] = 1\n",
    "frame['observation'] = 'transit'\n",
    "frame['year'] = 2015\n",
    "frame['url'] = 'https://ui.adsabs.harvard.edu/abs/2015A%26A...578A.133A/abstract'\n",
    "\n",
    "\n"
   ]
  },
  {
   "cell_type": "code",
   "execution_count": 51,
   "metadata": {
    "ExecuteTime": {
     "end_time": "2022-08-31T18:28:51.940625Z",
     "start_time": "2022-08-31T18:28:51.938331Z"
    }
   },
   "outputs": [],
   "source": [
    "frame = snellen_15_frame = pd.DataFrame({'lead': ['snellen']})\n",
    "\n",
    "frame['title'] = \"\"\"Combining high-dispersion spectroscopy with high contrast imaging: Probing rocky planets around our nearest neighbors\"\"\"\n",
    "frame['dimensions'] = 1\n",
    "frame['observation'] = 'transit, direct imaging'\n",
    "frame['year'] = 2015\n",
    "frame['url'] = 'https://ui.adsabs.harvard.edu/abs/2015A%26A...576A..59S/abstract'\n",
    "\n",
    "\n"
   ]
  },
  {
   "cell_type": "code",
   "execution_count": 52,
   "metadata": {
    "ExecuteTime": {
     "end_time": "2022-08-31T18:28:51.944183Z",
     "start_time": "2022-08-31T18:28:51.941328Z"
    }
   },
   "outputs": [],
   "source": [
    "frame = quanz_15_frame = pd.DataFrame({'lead': ['quanz']})\n",
    "\n",
    "frame['title'] = \"\"\"https://ui.adsabs.harvard.edu/abs/2015IJAsB..14..279Q/abstract\"\"\"\n",
    "frame['dimensions'] = 1\n",
    "frame['observation'] = 'direct imaging'\n",
    "frame['year'] = 2015\n",
    "frame['url'] = 'https://ui.adsabs.harvard.edu/abs/2015IJAsB..14..279Q/abstract'\n",
    "\n",
    "\n"
   ]
  },
  {
   "cell_type": "code",
   "execution_count": 53,
   "metadata": {
    "ExecuteTime": {
     "end_time": "2022-08-31T18:28:51.947305Z",
     "start_time": "2022-08-31T18:28:51.944847Z"
    }
   },
   "outputs": [],
   "source": [
    "frame = beltz_21_frame = pd.DataFrame({'lead': ['beltz']})\n",
    "\n",
    "frame['title'] = \"\"\"A Significant Increase in Detection of High-resolution Emission Spectra Using a Three-dimensional Atmospheric Model of a Hot Jupiter\"\"\"\n",
    "frame['dimensions'] = 3\n",
    "frame['observation'] = 'emission'\n",
    "frame['year'] = 2021\n",
    "frame['url'] = 'https://ui.adsabs.harvard.edu/abs/2021AJ....161....1B/abstract'\n",
    "\n",
    "\n"
   ]
  },
  {
   "cell_type": "code",
   "execution_count": 54,
   "metadata": {
    "ExecuteTime": {
     "end_time": "2022-08-31T18:28:51.950490Z",
     "start_time": "2022-08-31T18:28:51.947996Z"
    }
   },
   "outputs": [],
   "source": [
    "frame = beltz_22_frame = pd.DataFrame({'lead': ['beltz']})\n",
    "\n",
    "frame['title'] = \"\"\"Magnetic Drag and 3-D Effects in Theoretical High-Resolution Emission Spectra of Ultrahot Jupiters: the Case of WASP-76b\"\"\"\n",
    "frame['dimensions'] = 3\n",
    "frame['observation'] = 'emission'\n",
    "frame['year'] = 2022\n",
    "frame['url'] = 'https://ui.adsabs.harvard.edu/abs/2022arXiv220412996B/abstract'\n",
    "\n",
    "\n"
   ]
  },
  {
   "cell_type": "code",
   "execution_count": 55,
   "metadata": {
    "ExecuteTime": {
     "end_time": "2022-08-31T18:28:51.953833Z",
     "start_time": "2022-08-31T18:28:51.951328Z"
    }
   },
   "outputs": [],
   "source": [
    "frame = hood_20_frame = pd.DataFrame({'lead': ['hood']})\n",
    "\n",
    "frame['title'] = \"\"\"Prospects for Characterizing the Haziest Sub-Neptune Exoplanets with High-resolution Spectroscopy\"\"\"\n",
    "frame['dimensions'] = 1\n",
    "frame['observation'] = 'transit'\n",
    "frame['year'] = 2020\n",
    "frame['url'] = 'https://ui.adsabs.harvard.edu/abs/2020AJ....160..198H/abstract'\n",
    "\n",
    "\n",
    "\n",
    "\n"
   ]
  },
  {
   "cell_type": "code",
   "execution_count": 56,
   "metadata": {
    "ExecuteTime": {
     "end_time": "2022-08-31T18:28:51.960073Z",
     "start_time": "2022-08-31T18:28:51.954630Z"
    }
   },
   "outputs": [],
   "source": [
    "theory_frame = pd.concat([hood_20_frame,\n",
    "                         beltz_22_frame,\n",
    "                         beltz_21_frame,\n",
    "                         quanz_15_frame,\n",
    "                         snellen_15_frame,\n",
    "                         aronson_15_frame,\n",
    "                         santos_15_frame,\n",
    "                         martins_13_frame,\n",
    "                          lee_22_frame,\n",
    "                         showman_13_frame,\n",
    "                         leung_19_frame,\n",
    "                         lampon_20_frame,\n",
    "                         garcia_munoz_18_frame,\n",
    "                         ben_ami_18_frame,\n",
    "                         genest_22_frame,\n",
    "                         zhang_17_frame,\n",
    "                         fossati_18_frame,\n",
    "                         lopez_morales_19_frame,\n",
    "                         gandhi_20_frame,\n",
    "                         wardenier_22_frame,\n",
    "                         hawker_19_frame,\n",
    "                         rodler_14_frame,\n",
    "                         young_20_frame, \n",
    "                         morello_22_frame,\n",
    "                         udry_14_frame,\n",
    "                         fujii_21_frame,\n",
    "                         shulyak_19_frame,\n",
    "                         finnerty_21_frame,\n",
    "                         fisher_20_frame,\n",
    "                         otten_21_frame,\n",
    "                         harada_21_frame,\n",
    "                         martins_16_frame,\n",
    "                         malsky_22_frame,\n",
    "                         dash_22_frame,\n",
    "                         de_regt_22_frame,\n",
    "                         serindag_19_frame,\n",
    "                         molliere_14_frame,\n",
    "                         de_kok_14_frame,\n",
    "                         mille_ricci_kempton_12_frame,\n",
    "                         cauley_18_frame,\n",
    "                         kozakis_20_frame,\n",
    "                         dreizler_8_frame,\n",
    "                         damiano_19_frame,\n",
    "                         rauscher_14_frame,\n",
    "                         savel_22_frame,\n",
    "                         strachan_20_frame,\n",
    "                         kempton_14_frame,\n",
    "                         zhang_20_frame,\n",
    "                         quanz_14_frame,\n",
    "                         kaltenegger_20b_frame,\n",
    "                         snellen_13_frame,\n",
    "                         kaltenegger_21_frame,\n",
    "                         kaltenegger_20_frame,\n",
    "                         pino_18_frame])"
   ]
  },
  {
   "cell_type": "code",
   "execution_count": 59,
   "metadata": {
    "ExecuteTime": {
     "end_time": "2022-08-31T18:29:04.669602Z",
     "start_time": "2022-08-31T18:29:04.647231Z"
    }
   },
   "outputs": [],
   "source": [
    "from plots import *"
   ]
  },
  {
   "cell_type": "code",
   "execution_count": 60,
   "metadata": {
    "ExecuteTime": {
     "end_time": "2022-08-31T18:29:05.209147Z",
     "start_time": "2022-08-31T18:29:04.974477Z"
    }
   },
   "outputs": [
    {
     "data": {
      "image/svg+xml": [
       "<?xml version=\"1.0\" encoding=\"utf-8\" standalone=\"no\"?>\n",
       "<!DOCTYPE svg PUBLIC \"-//W3C//DTD SVG 1.1//EN\"\n",
       "  \"http://www.w3.org/Graphics/SVG/1.1/DTD/svg11.dtd\">\n",
       "<svg xmlns:xlink=\"http://www.w3.org/1999/xlink\" width=\"620.320312pt\" height=\"416.559781pt\" viewBox=\"0 0 620.320312 416.559781\" xmlns=\"http://www.w3.org/2000/svg\" version=\"1.1\">\n",
       " <metadata>\n",
       "  <rdf:RDF xmlns:dc=\"http://purl.org/dc/elements/1.1/\" xmlns:cc=\"http://creativecommons.org/ns#\" xmlns:rdf=\"http://www.w3.org/1999/02/22-rdf-syntax-ns#\">\n",
       "   <cc:Work>\n",
       "    <dc:type rdf:resource=\"http://purl.org/dc/dcmitype/StillImage\"/>\n",
       "    <dc:date>2022-08-31T14:29:05.190057</dc:date>\n",
       "    <dc:format>image/svg+xml</dc:format>\n",
       "    <dc:creator>\n",
       "     <cc:Agent>\n",
       "      <dc:title>Matplotlib v3.5.2, https://matplotlib.org/</dc:title>\n",
       "     </cc:Agent>\n",
       "    </dc:creator>\n",
       "   </cc:Work>\n",
       "  </rdf:RDF>\n",
       " </metadata>\n",
       " <defs>\n",
       "  <style type=\"text/css\">*{stroke-linejoin: round; stroke-linecap: butt}</style>\n",
       " </defs>\n",
       " <g id=\"figure_1\">\n",
       "  <g id=\"patch_1\">\n",
       "   <path d=\"M 0 416.559781 \n",
       "L 620.320312 416.559781 \n",
       "L 620.320312 0 \n",
       "L 0 0 \n",
       "L 0 416.559781 \n",
       "z\n",
       "\" style=\"fill: none\"/>\n",
       "  </g>\n",
       "  <g id=\"axes_1\">\n",
       "   <g id=\"patch_2\">\n",
       "    <path d=\"M 55.120312 358.356094 \n",
       "L 613.120312 358.356094 \n",
       "L 613.120312 32.196094 \n",
       "L 55.120312 32.196094 \n",
       "z\n",
       "\" style=\"fill: #ffffff\"/>\n",
       "   </g>\n",
       "   <g id=\"patch_3\">\n",
       "    <path d=\"M 80.483949 358.356094 \n",
       "L 131.211222 358.356094 \n",
       "L 131.211222 337.647522 \n",
       "L 80.483949 337.647522 \n",
       "z\n",
       "\" clip-path=\"url(#p4c05fc0425)\" style=\"fill: #008080\"/>\n",
       "   </g>\n",
       "   <g id=\"patch_4\">\n",
       "    <path d=\"M 131.211222 358.356094 \n",
       "L 181.938494 358.356094 \n",
       "L 181.938494 358.356094 \n",
       "L 131.211222 358.356094 \n",
       "z\n",
       "\" clip-path=\"url(#p4c05fc0425)\" style=\"fill: #008080\"/>\n",
       "   </g>\n",
       "   <g id=\"patch_5\">\n",
       "    <path d=\"M 181.938494 358.356094 \n",
       "L 232.665767 358.356094 \n",
       "L 232.665767 337.647522 \n",
       "L 181.938494 337.647522 \n",
       "z\n",
       "\" clip-path=\"url(#p4c05fc0425)\" style=\"fill: #008080\"/>\n",
       "   </g>\n",
       "   <g id=\"patch_6\">\n",
       "    <path d=\"M 232.665767 358.356094 \n",
       "L 283.39304 358.356094 \n",
       "L 283.39304 296.230379 \n",
       "L 232.665767 296.230379 \n",
       "z\n",
       "\" clip-path=\"url(#p4c05fc0425)\" style=\"fill: #008080\"/>\n",
       "   </g>\n",
       "   <g id=\"patch_7\">\n",
       "    <path d=\"M 283.39304 358.356094 \n",
       "L 334.120312 358.356094 \n",
       "L 334.120312 213.396094 \n",
       "L 283.39304 213.396094 \n",
       "z\n",
       "\" clip-path=\"url(#p4c05fc0425)\" style=\"fill: #008080\"/>\n",
       "   </g>\n",
       "   <g id=\"patch_8\">\n",
       "    <path d=\"M 334.120313 358.356094 \n",
       "L 384.847585 358.356094 \n",
       "L 384.847585 254.813237 \n",
       "L 334.120313 254.813237 \n",
       "z\n",
       "\" clip-path=\"url(#p4c05fc0425)\" style=\"fill: #008080\"/>\n",
       "   </g>\n",
       "   <g id=\"patch_9\">\n",
       "    <path d=\"M 384.847585 358.356094 \n",
       "L 435.574858 358.356094 \n",
       "L 435.574858 337.647522 \n",
       "L 384.847585 337.647522 \n",
       "z\n",
       "\" clip-path=\"url(#p4c05fc0425)\" style=\"fill: #008080\"/>\n",
       "   </g>\n",
       "   <g id=\"patch_10\">\n",
       "    <path d=\"M 435.574858 358.356094 \n",
       "L 486.302131 358.356094 \n",
       "L 486.302131 151.270379 \n",
       "L 435.574858 151.270379 \n",
       "z\n",
       "\" clip-path=\"url(#p4c05fc0425)\" style=\"fill: #008080\"/>\n",
       "   </g>\n",
       "   <g id=\"patch_11\">\n",
       "    <path d=\"M 486.302131 358.356094 \n",
       "L 537.029403 358.356094 \n",
       "L 537.029403 130.561808 \n",
       "L 486.302131 130.561808 \n",
       "z\n",
       "\" clip-path=\"url(#p4c05fc0425)\" style=\"fill: #008080\"/>\n",
       "   </g>\n",
       "   <g id=\"patch_12\">\n",
       "    <path d=\"M 537.029403 358.356094 \n",
       "L 587.756676 358.356094 \n",
       "L 587.756676 47.727522 \n",
       "L 537.029403 47.727522 \n",
       "z\n",
       "\" clip-path=\"url(#p4c05fc0425)\" style=\"fill: #008080\"/>\n",
       "   </g>\n",
       "   <g id=\"matplotlib.axis_1\">\n",
       "    <g id=\"xtick_1\">\n",
       "     <g id=\"line2d_1\">\n",
       "      <defs>\n",
       "       <path id=\"m659789183c\" d=\"M 0 0 \n",
       "L 0 3.5 \n",
       "\" style=\"stroke: #000000; stroke-width: 0.8\"/>\n",
       "      </defs>\n",
       "      <g>\n",
       "       <use xlink:href=\"#m659789183c\" x=\"80.483949\" y=\"358.356094\" style=\"stroke: #000000; stroke-width: 0.8\"/>\n",
       "      </g>\n",
       "     </g>\n",
       "     <g id=\"text_1\">\n",
       "      <!-- 2008 -->\n",
       "      <g transform=\"translate(67.758949 372.954531)scale(0.1 -0.1)\">\n",
       "       <defs>\n",
       "        <path id=\"DejaVuSerif-32\" d=\"M 819 3553 \n",
       "L 469 3553 \n",
       "L 469 4384 \n",
       "Q 803 4563 1142 4656 \n",
       "Q 1481 4750 1806 4750 \n",
       "Q 2534 4750 2956 4397 \n",
       "Q 3378 4044 3378 3438 \n",
       "Q 3378 2753 2422 1800 \n",
       "Q 2347 1728 2309 1691 \n",
       "L 1131 513 \n",
       "L 3078 513 \n",
       "L 3078 1088 \n",
       "L 3444 1088 \n",
       "L 3444 0 \n",
       "L 434 0 \n",
       "L 434 341 \n",
       "L 1850 1753 \n",
       "Q 2319 2222 2519 2614 \n",
       "Q 2719 3006 2719 3438 \n",
       "Q 2719 3909 2473 4175 \n",
       "Q 2228 4441 1797 4441 \n",
       "Q 1350 4441 1106 4219 \n",
       "Q 863 3997 819 3553 \n",
       "z\n",
       "\" transform=\"scale(0.015625)\"/>\n",
       "        <path id=\"DejaVuSerif-30\" d=\"M 2034 219 \n",
       "Q 2513 219 2750 744 \n",
       "Q 2988 1269 2988 2328 \n",
       "Q 2988 3391 2750 3916 \n",
       "Q 2513 4441 2034 4441 \n",
       "Q 1556 4441 1318 3916 \n",
       "Q 1081 3391 1081 2328 \n",
       "Q 1081 1269 1318 744 \n",
       "Q 1556 219 2034 219 \n",
       "z\n",
       "M 2034 -91 \n",
       "Q 1275 -91 848 546 \n",
       "Q 422 1184 422 2328 \n",
       "Q 422 3475 848 4112 \n",
       "Q 1275 4750 2034 4750 \n",
       "Q 2797 4750 3222 4112 \n",
       "Q 3647 3475 3647 2328 \n",
       "Q 3647 1184 3222 546 \n",
       "Q 2797 -91 2034 -91 \n",
       "z\n",
       "\" transform=\"scale(0.015625)\"/>\n",
       "        <path id=\"DejaVuSerif-38\" d=\"M 2981 1275 \n",
       "Q 2981 1775 2732 2051 \n",
       "Q 2484 2328 2034 2328 \n",
       "Q 1584 2328 1336 2051 \n",
       "Q 1088 1775 1088 1275 \n",
       "Q 1088 772 1336 495 \n",
       "Q 1584 219 2034 219 \n",
       "Q 2484 219 2732 495 \n",
       "Q 2981 772 2981 1275 \n",
       "z\n",
       "M 2853 3541 \n",
       "Q 2853 3966 2637 4203 \n",
       "Q 2422 4441 2034 4441 \n",
       "Q 1650 4441 1433 4203 \n",
       "Q 1216 3966 1216 3541 \n",
       "Q 1216 3113 1433 2875 \n",
       "Q 1650 2638 2034 2638 \n",
       "Q 2422 2638 2637 2875 \n",
       "Q 2853 3113 2853 3541 \n",
       "z\n",
       "M 2516 2484 \n",
       "Q 3047 2413 3344 2092 \n",
       "Q 3641 1772 3641 1275 \n",
       "Q 3641 619 3225 264 \n",
       "Q 2809 -91 2034 -91 \n",
       "Q 1263 -91 845 264 \n",
       "Q 428 619 428 1275 \n",
       "Q 428 1772 725 2092 \n",
       "Q 1022 2413 1556 2484 \n",
       "Q 1084 2569 832 2842 \n",
       "Q 581 3116 581 3541 \n",
       "Q 581 4103 968 4426 \n",
       "Q 1356 4750 2034 4750 \n",
       "Q 2713 4750 3100 4426 \n",
       "Q 3488 4103 3488 3541 \n",
       "Q 3488 3116 3236 2842 \n",
       "Q 2984 2569 2516 2484 \n",
       "z\n",
       "\" transform=\"scale(0.015625)\"/>\n",
       "       </defs>\n",
       "       <use xlink:href=\"#DejaVuSerif-32\"/>\n",
       "       <use xlink:href=\"#DejaVuSerif-30\" x=\"63.623047\"/>\n",
       "       <use xlink:href=\"#DejaVuSerif-30\" x=\"127.246094\"/>\n",
       "       <use xlink:href=\"#DejaVuSerif-38\" x=\"190.869141\"/>\n",
       "      </g>\n",
       "     </g>\n",
       "    </g>\n",
       "    <g id=\"xtick_2\">\n",
       "     <g id=\"line2d_2\">\n",
       "      <g>\n",
       "       <use xlink:href=\"#m659789183c\" x=\"152.951481\" y=\"358.356094\" style=\"stroke: #000000; stroke-width: 0.8\"/>\n",
       "      </g>\n",
       "     </g>\n",
       "     <g id=\"text_2\">\n",
       "      <!-- 2010 -->\n",
       "      <g transform=\"translate(140.226481 372.954531)scale(0.1 -0.1)\">\n",
       "       <defs>\n",
       "        <path id=\"DejaVuSerif-31\" d=\"M 909 0 \n",
       "L 909 331 \n",
       "L 1722 331 \n",
       "L 1722 4213 \n",
       "L 781 3603 \n",
       "L 781 4013 \n",
       "L 1919 4750 \n",
       "L 2350 4750 \n",
       "L 2350 331 \n",
       "L 3163 331 \n",
       "L 3163 0 \n",
       "L 909 0 \n",
       "z\n",
       "\" transform=\"scale(0.015625)\"/>\n",
       "       </defs>\n",
       "       <use xlink:href=\"#DejaVuSerif-32\"/>\n",
       "       <use xlink:href=\"#DejaVuSerif-30\" x=\"63.623047\"/>\n",
       "       <use xlink:href=\"#DejaVuSerif-31\" x=\"127.246094\"/>\n",
       "       <use xlink:href=\"#DejaVuSerif-30\" x=\"190.869141\"/>\n",
       "      </g>\n",
       "     </g>\n",
       "    </g>\n",
       "    <g id=\"xtick_3\">\n",
       "     <g id=\"line2d_3\">\n",
       "      <g>\n",
       "       <use xlink:href=\"#m659789183c\" x=\"225.419014\" y=\"358.356094\" style=\"stroke: #000000; stroke-width: 0.8\"/>\n",
       "      </g>\n",
       "     </g>\n",
       "     <g id=\"text_3\">\n",
       "      <!-- 2012 -->\n",
       "      <g transform=\"translate(212.694014 372.954531)scale(0.1 -0.1)\">\n",
       "       <use xlink:href=\"#DejaVuSerif-32\"/>\n",
       "       <use xlink:href=\"#DejaVuSerif-30\" x=\"63.623047\"/>\n",
       "       <use xlink:href=\"#DejaVuSerif-31\" x=\"127.246094\"/>\n",
       "       <use xlink:href=\"#DejaVuSerif-32\" x=\"190.869141\"/>\n",
       "      </g>\n",
       "     </g>\n",
       "    </g>\n",
       "    <g id=\"xtick_4\">\n",
       "     <g id=\"line2d_4\">\n",
       "      <g>\n",
       "       <use xlink:href=\"#m659789183c\" x=\"297.886546\" y=\"358.356094\" style=\"stroke: #000000; stroke-width: 0.8\"/>\n",
       "      </g>\n",
       "     </g>\n",
       "     <g id=\"text_4\">\n",
       "      <!-- 2014 -->\n",
       "      <g transform=\"translate(285.161546 372.954531)scale(0.1 -0.1)\">\n",
       "       <defs>\n",
       "        <path id=\"DejaVuSerif-34\" d=\"M 2234 1581 \n",
       "L 2234 4063 \n",
       "L 641 1581 \n",
       "L 2234 1581 \n",
       "z\n",
       "M 3609 0 \n",
       "L 1484 0 \n",
       "L 1484 331 \n",
       "L 2234 331 \n",
       "L 2234 1247 \n",
       "L 197 1247 \n",
       "L 197 1588 \n",
       "L 2241 4750 \n",
       "L 2859 4750 \n",
       "L 2859 1581 \n",
       "L 3750 1581 \n",
       "L 3750 1247 \n",
       "L 2859 1247 \n",
       "L 2859 331 \n",
       "L 3609 331 \n",
       "L 3609 0 \n",
       "z\n",
       "\" transform=\"scale(0.015625)\"/>\n",
       "       </defs>\n",
       "       <use xlink:href=\"#DejaVuSerif-32\"/>\n",
       "       <use xlink:href=\"#DejaVuSerif-30\" x=\"63.623047\"/>\n",
       "       <use xlink:href=\"#DejaVuSerif-31\" x=\"127.246094\"/>\n",
       "       <use xlink:href=\"#DejaVuSerif-34\" x=\"190.869141\"/>\n",
       "      </g>\n",
       "     </g>\n",
       "    </g>\n",
       "    <g id=\"xtick_5\">\n",
       "     <g id=\"line2d_5\">\n",
       "      <g>\n",
       "       <use xlink:href=\"#m659789183c\" x=\"370.354079\" y=\"358.356094\" style=\"stroke: #000000; stroke-width: 0.8\"/>\n",
       "      </g>\n",
       "     </g>\n",
       "     <g id=\"text_5\">\n",
       "      <!-- 2016 -->\n",
       "      <g transform=\"translate(357.629079 372.954531)scale(0.1 -0.1)\">\n",
       "       <defs>\n",
       "        <path id=\"DejaVuSerif-36\" d=\"M 2094 219 \n",
       "Q 2534 219 2771 542 \n",
       "Q 3009 866 3009 1472 \n",
       "Q 3009 2078 2771 2401 \n",
       "Q 2534 2725 2094 2725 \n",
       "Q 1647 2725 1412 2412 \n",
       "Q 1178 2100 1178 1509 \n",
       "Q 1178 888 1415 553 \n",
       "Q 1653 219 2094 219 \n",
       "z\n",
       "M 1075 2569 \n",
       "Q 1288 2803 1556 2918 \n",
       "Q 1825 3034 2163 3034 \n",
       "Q 2859 3034 3264 2615 \n",
       "Q 3669 2197 3669 1472 \n",
       "Q 3669 763 3233 336 \n",
       "Q 2797 -91 2069 -91 \n",
       "Q 1278 -91 853 498 \n",
       "Q 428 1088 428 2181 \n",
       "Q 428 3406 931 4078 \n",
       "Q 1434 4750 2350 4750 \n",
       "Q 2597 4750 2869 4703 \n",
       "Q 3141 4656 3425 4563 \n",
       "L 3425 3794 \n",
       "L 3072 3794 \n",
       "Q 3034 4109 2831 4275 \n",
       "Q 2628 4441 2284 4441 \n",
       "Q 1678 4441 1381 3981 \n",
       "Q 1084 3522 1075 2569 \n",
       "z\n",
       "\" transform=\"scale(0.015625)\"/>\n",
       "       </defs>\n",
       "       <use xlink:href=\"#DejaVuSerif-32\"/>\n",
       "       <use xlink:href=\"#DejaVuSerif-30\" x=\"63.623047\"/>\n",
       "       <use xlink:href=\"#DejaVuSerif-31\" x=\"127.246094\"/>\n",
       "       <use xlink:href=\"#DejaVuSerif-36\" x=\"190.869141\"/>\n",
       "      </g>\n",
       "     </g>\n",
       "    </g>\n",
       "    <g id=\"xtick_6\">\n",
       "     <g id=\"line2d_6\">\n",
       "      <g>\n",
       "       <use xlink:href=\"#m659789183c\" x=\"442.821611\" y=\"358.356094\" style=\"stroke: #000000; stroke-width: 0.8\"/>\n",
       "      </g>\n",
       "     </g>\n",
       "     <g id=\"text_6\">\n",
       "      <!-- 2018 -->\n",
       "      <g transform=\"translate(430.096611 372.954531)scale(0.1 -0.1)\">\n",
       "       <use xlink:href=\"#DejaVuSerif-32\"/>\n",
       "       <use xlink:href=\"#DejaVuSerif-30\" x=\"63.623047\"/>\n",
       "       <use xlink:href=\"#DejaVuSerif-31\" x=\"127.246094\"/>\n",
       "       <use xlink:href=\"#DejaVuSerif-38\" x=\"190.869141\"/>\n",
       "      </g>\n",
       "     </g>\n",
       "    </g>\n",
       "    <g id=\"xtick_7\">\n",
       "     <g id=\"line2d_7\">\n",
       "      <g>\n",
       "       <use xlink:href=\"#m659789183c\" x=\"515.289144\" y=\"358.356094\" style=\"stroke: #000000; stroke-width: 0.8\"/>\n",
       "      </g>\n",
       "     </g>\n",
       "     <g id=\"text_7\">\n",
       "      <!-- 2020 -->\n",
       "      <g transform=\"translate(502.564144 372.954531)scale(0.1 -0.1)\">\n",
       "       <use xlink:href=\"#DejaVuSerif-32\"/>\n",
       "       <use xlink:href=\"#DejaVuSerif-30\" x=\"63.623047\"/>\n",
       "       <use xlink:href=\"#DejaVuSerif-32\" x=\"127.246094\"/>\n",
       "       <use xlink:href=\"#DejaVuSerif-30\" x=\"190.869141\"/>\n",
       "      </g>\n",
       "     </g>\n",
       "    </g>\n",
       "    <g id=\"xtick_8\">\n",
       "     <g id=\"line2d_8\">\n",
       "      <g>\n",
       "       <use xlink:href=\"#m659789183c\" x=\"587.756676\" y=\"358.356094\" style=\"stroke: #000000; stroke-width: 0.8\"/>\n",
       "      </g>\n",
       "     </g>\n",
       "     <g id=\"text_8\">\n",
       "      <!-- 2022 -->\n",
       "      <g transform=\"translate(575.031676 372.954531)scale(0.1 -0.1)\">\n",
       "       <use xlink:href=\"#DejaVuSerif-32\"/>\n",
       "       <use xlink:href=\"#DejaVuSerif-30\" x=\"63.623047\"/>\n",
       "       <use xlink:href=\"#DejaVuSerif-32\" x=\"127.246094\"/>\n",
       "       <use xlink:href=\"#DejaVuSerif-32\" x=\"190.869141\"/>\n",
       "      </g>\n",
       "     </g>\n",
       "    </g>\n",
       "    <g id=\"text_9\">\n",
       "     <!-- Year -->\n",
       "     <g transform=\"translate(306.135938 398.030313)scale(0.25 -0.25)\">\n",
       "      <defs>\n",
       "       <path id=\"DejaVuSerif-59\" d=\"M 1209 0 \n",
       "L 1209 331 \n",
       "L 1806 331 \n",
       "L 1806 2009 \n",
       "L 366 4331 \n",
       "L -72 4331 \n",
       "L -72 4666 \n",
       "L 1663 4666 \n",
       "L 1663 4331 \n",
       "L 1119 4331 \n",
       "L 2284 2444 \n",
       "L 3450 4331 \n",
       "L 2925 4331 \n",
       "L 2925 4666 \n",
       "L 4281 4666 \n",
       "L 4281 4331 \n",
       "L 3841 4331 \n",
       "L 2438 2069 \n",
       "L 2438 331 \n",
       "L 3034 331 \n",
       "L 3034 0 \n",
       "L 1209 0 \n",
       "z\n",
       "\" transform=\"scale(0.015625)\"/>\n",
       "       <path id=\"DejaVuSerif-65\" d=\"M 3469 1600 \n",
       "L 991 1600 \n",
       "L 991 1575 \n",
       "Q 991 903 1244 561 \n",
       "Q 1497 219 1991 219 \n",
       "Q 2369 219 2611 417 \n",
       "Q 2853 616 2950 1006 \n",
       "L 3413 1006 \n",
       "Q 3275 459 2904 184 \n",
       "Q 2534 -91 1931 -91 \n",
       "Q 1203 -91 761 389 \n",
       "Q 319 869 319 1663 \n",
       "Q 319 2450 753 2931 \n",
       "Q 1188 3413 1894 3413 \n",
       "Q 2647 3413 3050 2948 \n",
       "Q 3453 2484 3469 1600 \n",
       "z\n",
       "M 2791 1931 \n",
       "Q 2772 2513 2545 2808 \n",
       "Q 2319 3103 1894 3103 \n",
       "Q 1497 3103 1269 2806 \n",
       "Q 1041 2509 991 1931 \n",
       "L 2791 1931 \n",
       "z\n",
       "\" transform=\"scale(0.015625)\"/>\n",
       "       <path id=\"DejaVuSerif-61\" d=\"M 2547 1044 \n",
       "L 2547 1747 \n",
       "L 1806 1747 \n",
       "Q 1378 1747 1168 1562 \n",
       "Q 959 1378 959 997 \n",
       "Q 959 650 1171 447 \n",
       "Q 1384 244 1747 244 \n",
       "Q 2106 244 2326 466 \n",
       "Q 2547 688 2547 1044 \n",
       "z\n",
       "M 3122 2075 \n",
       "L 3122 331 \n",
       "L 3634 331 \n",
       "L 3634 0 \n",
       "L 2547 0 \n",
       "L 2547 359 \n",
       "Q 2356 128 2106 18 \n",
       "Q 1856 -91 1522 -91 \n",
       "Q 969 -91 644 203 \n",
       "Q 319 497 319 997 \n",
       "Q 319 1513 691 1797 \n",
       "Q 1063 2081 1741 2081 \n",
       "L 2547 2081 \n",
       "L 2547 2309 \n",
       "Q 2547 2688 2317 2895 \n",
       "Q 2088 3103 1672 3103 \n",
       "Q 1328 3103 1125 2947 \n",
       "Q 922 2791 872 2484 \n",
       "L 575 2484 \n",
       "L 575 3156 \n",
       "Q 875 3284 1158 3348 \n",
       "Q 1441 3413 1709 3413 \n",
       "Q 2400 3413 2761 3070 \n",
       "Q 3122 2728 3122 2075 \n",
       "z\n",
       "\" transform=\"scale(0.015625)\"/>\n",
       "       <path id=\"DejaVuSerif-72\" d=\"M 3059 3328 \n",
       "L 3059 2497 \n",
       "L 2728 2497 \n",
       "Q 2713 2744 2591 2866 \n",
       "Q 2469 2988 2234 2988 \n",
       "Q 1809 2988 1582 2694 \n",
       "Q 1356 2400 1356 1850 \n",
       "L 1356 331 \n",
       "L 2022 331 \n",
       "L 2022 0 \n",
       "L 263 0 \n",
       "L 263 331 \n",
       "L 781 331 \n",
       "L 781 2994 \n",
       "L 231 2994 \n",
       "L 231 3322 \n",
       "L 1356 3322 \n",
       "L 1356 2731 \n",
       "Q 1525 3078 1790 3245 \n",
       "Q 2056 3413 2438 3413 \n",
       "Q 2578 3413 2733 3391 \n",
       "Q 2888 3369 3059 3328 \n",
       "z\n",
       "\" transform=\"scale(0.015625)\"/>\n",
       "      </defs>\n",
       "      <use xlink:href=\"#DejaVuSerif-59\"/>\n",
       "      <use xlink:href=\"#DejaVuSerif-65\" x=\"57.265625\"/>\n",
       "      <use xlink:href=\"#DejaVuSerif-61\" x=\"116.445312\"/>\n",
       "      <use xlink:href=\"#DejaVuSerif-72\" x=\"176.064453\"/>\n",
       "     </g>\n",
       "    </g>\n",
       "   </g>\n",
       "   <g id=\"matplotlib.axis_2\">\n",
       "    <g id=\"ytick_1\">\n",
       "     <g id=\"line2d_9\">\n",
       "      <defs>\n",
       "       <path id=\"mc7efdb1ad3\" d=\"M 0 0 \n",
       "L -3.5 0 \n",
       "\" style=\"stroke: #000000; stroke-width: 0.8\"/>\n",
       "      </defs>\n",
       "      <g>\n",
       "       <use xlink:href=\"#mc7efdb1ad3\" x=\"55.120312\" y=\"358.356094\" style=\"stroke: #000000; stroke-width: 0.8\"/>\n",
       "      </g>\n",
       "     </g>\n",
       "     <g id=\"text_10\">\n",
       "      <!-- 0 -->\n",
       "      <g transform=\"translate(41.757812 362.155313)scale(0.1 -0.1)\">\n",
       "       <use xlink:href=\"#DejaVuSerif-30\"/>\n",
       "      </g>\n",
       "     </g>\n",
       "    </g>\n",
       "    <g id=\"ytick_2\">\n",
       "     <g id=\"line2d_10\">\n",
       "      <g>\n",
       "       <use xlink:href=\"#mc7efdb1ad3\" x=\"55.120312\" y=\"316.938951\" style=\"stroke: #000000; stroke-width: 0.8\"/>\n",
       "      </g>\n",
       "     </g>\n",
       "     <g id=\"text_11\">\n",
       "      <!-- 2 -->\n",
       "      <g transform=\"translate(41.757812 320.73817)scale(0.1 -0.1)\">\n",
       "       <use xlink:href=\"#DejaVuSerif-32\"/>\n",
       "      </g>\n",
       "     </g>\n",
       "    </g>\n",
       "    <g id=\"ytick_3\">\n",
       "     <g id=\"line2d_11\">\n",
       "      <g>\n",
       "       <use xlink:href=\"#mc7efdb1ad3\" x=\"55.120312\" y=\"275.521808\" style=\"stroke: #000000; stroke-width: 0.8\"/>\n",
       "      </g>\n",
       "     </g>\n",
       "     <g id=\"text_12\">\n",
       "      <!-- 4 -->\n",
       "      <g transform=\"translate(41.757812 279.321027)scale(0.1 -0.1)\">\n",
       "       <use xlink:href=\"#DejaVuSerif-34\"/>\n",
       "      </g>\n",
       "     </g>\n",
       "    </g>\n",
       "    <g id=\"ytick_4\">\n",
       "     <g id=\"line2d_12\">\n",
       "      <g>\n",
       "       <use xlink:href=\"#mc7efdb1ad3\" x=\"55.120312\" y=\"234.104665\" style=\"stroke: #000000; stroke-width: 0.8\"/>\n",
       "      </g>\n",
       "     </g>\n",
       "     <g id=\"text_13\">\n",
       "      <!-- 6 -->\n",
       "      <g transform=\"translate(41.757812 237.903884)scale(0.1 -0.1)\">\n",
       "       <use xlink:href=\"#DejaVuSerif-36\"/>\n",
       "      </g>\n",
       "     </g>\n",
       "    </g>\n",
       "    <g id=\"ytick_5\">\n",
       "     <g id=\"line2d_13\">\n",
       "      <g>\n",
       "       <use xlink:href=\"#mc7efdb1ad3\" x=\"55.120312\" y=\"192.687522\" style=\"stroke: #000000; stroke-width: 0.8\"/>\n",
       "      </g>\n",
       "     </g>\n",
       "     <g id=\"text_14\">\n",
       "      <!-- 8 -->\n",
       "      <g transform=\"translate(41.757812 196.486741)scale(0.1 -0.1)\">\n",
       "       <use xlink:href=\"#DejaVuSerif-38\"/>\n",
       "      </g>\n",
       "     </g>\n",
       "    </g>\n",
       "    <g id=\"ytick_6\">\n",
       "     <g id=\"line2d_14\">\n",
       "      <g>\n",
       "       <use xlink:href=\"#mc7efdb1ad3\" x=\"55.120312\" y=\"151.270379\" style=\"stroke: #000000; stroke-width: 0.8\"/>\n",
       "      </g>\n",
       "     </g>\n",
       "     <g id=\"text_15\">\n",
       "      <!-- 10 -->\n",
       "      <g transform=\"translate(35.395312 155.069598)scale(0.1 -0.1)\">\n",
       "       <use xlink:href=\"#DejaVuSerif-31\"/>\n",
       "       <use xlink:href=\"#DejaVuSerif-30\" x=\"63.623047\"/>\n",
       "      </g>\n",
       "     </g>\n",
       "    </g>\n",
       "    <g id=\"ytick_7\">\n",
       "     <g id=\"line2d_15\">\n",
       "      <g>\n",
       "       <use xlink:href=\"#mc7efdb1ad3\" x=\"55.120312\" y=\"109.853237\" style=\"stroke: #000000; stroke-width: 0.8\"/>\n",
       "      </g>\n",
       "     </g>\n",
       "     <g id=\"text_16\">\n",
       "      <!-- 12 -->\n",
       "      <g transform=\"translate(35.395312 113.652455)scale(0.1 -0.1)\">\n",
       "       <use xlink:href=\"#DejaVuSerif-31\"/>\n",
       "       <use xlink:href=\"#DejaVuSerif-32\" x=\"63.623047\"/>\n",
       "      </g>\n",
       "     </g>\n",
       "    </g>\n",
       "    <g id=\"ytick_8\">\n",
       "     <g id=\"line2d_16\">\n",
       "      <g>\n",
       "       <use xlink:href=\"#mc7efdb1ad3\" x=\"55.120312\" y=\"68.436094\" style=\"stroke: #000000; stroke-width: 0.8\"/>\n",
       "      </g>\n",
       "     </g>\n",
       "     <g id=\"text_17\">\n",
       "      <!-- 14 -->\n",
       "      <g transform=\"translate(35.395312 72.235313)scale(0.1 -0.1)\">\n",
       "       <use xlink:href=\"#DejaVuSerif-31\"/>\n",
       "       <use xlink:href=\"#DejaVuSerif-34\" x=\"63.623047\"/>\n",
       "      </g>\n",
       "     </g>\n",
       "    </g>\n",
       "    <g id=\"text_18\">\n",
       "     <!-- Count -->\n",
       "     <g transform=\"translate(26.196094 233.490938)rotate(-90)scale(0.25 -0.25)\">\n",
       "      <defs>\n",
       "       <path id=\"DejaVuSerif-43\" d=\"M 4513 1234 \n",
       "Q 4306 581 3820 245 \n",
       "Q 3334 -91 2591 -91 \n",
       "Q 2134 -91 1743 65 \n",
       "Q 1353 222 1050 525 \n",
       "Q 700 875 529 1320 \n",
       "Q 359 1766 359 2328 \n",
       "Q 359 3416 987 4083 \n",
       "Q 1616 4750 2644 4750 \n",
       "Q 3025 4750 3456 4650 \n",
       "Q 3888 4550 4384 4347 \n",
       "L 4384 3272 \n",
       "L 4031 3272 \n",
       "Q 3916 3859 3567 4137 \n",
       "Q 3219 4416 2591 4416 \n",
       "Q 1844 4416 1459 3886 \n",
       "Q 1075 3356 1075 2328 \n",
       "Q 1075 1303 1459 773 \n",
       "Q 1844 244 2591 244 \n",
       "Q 3113 244 3450 492 \n",
       "Q 3788 741 3938 1234 \n",
       "L 4513 1234 \n",
       "z\n",
       "\" transform=\"scale(0.015625)\"/>\n",
       "       <path id=\"DejaVuSerif-6f\" d=\"M 1925 219 \n",
       "Q 2388 219 2623 584 \n",
       "Q 2859 950 2859 1663 \n",
       "Q 2859 2375 2623 2739 \n",
       "Q 2388 3103 1925 3103 \n",
       "Q 1463 3103 1227 2739 \n",
       "Q 991 2375 991 1663 \n",
       "Q 991 950 1228 584 \n",
       "Q 1466 219 1925 219 \n",
       "z\n",
       "M 1925 -91 \n",
       "Q 1200 -91 759 389 \n",
       "Q 319 869 319 1663 \n",
       "Q 319 2456 758 2934 \n",
       "Q 1197 3413 1925 3413 \n",
       "Q 2653 3413 3092 2934 \n",
       "Q 3531 2456 3531 1663 \n",
       "Q 3531 869 3092 389 \n",
       "Q 2653 -91 1925 -91 \n",
       "z\n",
       "\" transform=\"scale(0.015625)\"/>\n",
       "       <path id=\"DejaVuSerif-75\" d=\"M 2266 3322 \n",
       "L 3341 3322 \n",
       "L 3341 331 \n",
       "L 3884 331 \n",
       "L 3884 0 \n",
       "L 2766 0 \n",
       "L 2766 588 \n",
       "Q 2606 256 2353 82 \n",
       "Q 2100 -91 1766 -91 \n",
       "Q 1213 -91 952 223 \n",
       "Q 691 538 691 1209 \n",
       "L 691 2988 \n",
       "L 172 2988 \n",
       "L 172 3322 \n",
       "L 1269 3322 \n",
       "L 1269 1388 \n",
       "Q 1269 781 1417 556 \n",
       "Q 1566 331 1947 331 \n",
       "Q 2347 331 2556 625 \n",
       "Q 2766 919 2766 1478 \n",
       "L 2766 2988 \n",
       "L 2266 2988 \n",
       "L 2266 3322 \n",
       "z\n",
       "\" transform=\"scale(0.015625)\"/>\n",
       "       <path id=\"DejaVuSerif-6e\" d=\"M 263 0 \n",
       "L 263 331 \n",
       "L 781 331 \n",
       "L 781 2988 \n",
       "L 231 2988 \n",
       "L 231 3322 \n",
       "L 1356 3322 \n",
       "L 1356 2731 \n",
       "Q 1516 3069 1770 3241 \n",
       "Q 2025 3413 2363 3413 \n",
       "Q 2913 3413 3172 3097 \n",
       "Q 3431 2781 3431 2113 \n",
       "L 3431 331 \n",
       "L 3944 331 \n",
       "L 3944 0 \n",
       "L 2356 0 \n",
       "L 2356 331 \n",
       "L 2853 331 \n",
       "L 2853 1931 \n",
       "Q 2853 2541 2703 2767 \n",
       "Q 2553 2994 2175 2994 \n",
       "Q 1775 2994 1565 2701 \n",
       "Q 1356 2409 1356 1850 \n",
       "L 1356 331 \n",
       "L 1856 331 \n",
       "L 1856 0 \n",
       "L 263 0 \n",
       "z\n",
       "\" transform=\"scale(0.015625)\"/>\n",
       "       <path id=\"DejaVuSerif-74\" d=\"M 691 2988 \n",
       "L 184 2988 \n",
       "L 184 3322 \n",
       "L 691 3322 \n",
       "L 691 4353 \n",
       "L 1269 4353 \n",
       "L 1269 3322 \n",
       "L 2350 3322 \n",
       "L 2350 2988 \n",
       "L 1269 2988 \n",
       "L 1269 878 \n",
       "Q 1269 456 1350 337 \n",
       "Q 1431 219 1650 219 \n",
       "Q 1875 219 1978 351 \n",
       "Q 2081 484 2088 781 \n",
       "L 2522 781 \n",
       "Q 2497 328 2275 118 \n",
       "Q 2053 -91 1600 -91 \n",
       "Q 1103 -91 897 129 \n",
       "Q 691 350 691 878 \n",
       "L 691 2988 \n",
       "z\n",
       "\" transform=\"scale(0.015625)\"/>\n",
       "      </defs>\n",
       "      <use xlink:href=\"#DejaVuSerif-43\"/>\n",
       "      <use xlink:href=\"#DejaVuSerif-6f\" x=\"76.513672\"/>\n",
       "      <use xlink:href=\"#DejaVuSerif-75\" x=\"136.71875\"/>\n",
       "      <use xlink:href=\"#DejaVuSerif-6e\" x=\"201.123047\"/>\n",
       "      <use xlink:href=\"#DejaVuSerif-74\" x=\"265.527344\"/>\n",
       "     </g>\n",
       "    </g>\n",
       "   </g>\n",
       "   <g id=\"patch_13\">\n",
       "    <path d=\"M 55.120312 358.356094 \n",
       "L 55.120312 32.196094 \n",
       "\" style=\"fill: none; stroke: #000000; stroke-width: 0.8; stroke-linejoin: miter; stroke-linecap: square\"/>\n",
       "   </g>\n",
       "   <g id=\"patch_14\">\n",
       "    <path d=\"M 613.120312 358.356094 \n",
       "L 613.120312 32.196094 \n",
       "\" style=\"fill: none; stroke: #000000; stroke-width: 0.8; stroke-linejoin: miter; stroke-linecap: square\"/>\n",
       "   </g>\n",
       "   <g id=\"patch_15\">\n",
       "    <path d=\"M 55.120313 358.356094 \n",
       "L 613.120313 358.356094 \n",
       "\" style=\"fill: none; stroke: #000000; stroke-width: 0.8; stroke-linejoin: miter; stroke-linecap: square\"/>\n",
       "   </g>\n",
       "   <g id=\"patch_16\">\n",
       "    <path d=\"M 55.120313 32.196094 \n",
       "L 613.120313 32.196094 \n",
       "\" style=\"fill: none; stroke: #000000; stroke-width: 0.8; stroke-linejoin: miter; stroke-linecap: square\"/>\n",
       "   </g>\n",
       "   <g id=\"text_19\">\n",
       "    <!-- ~22% of the 54 theory papers -->\n",
       "    <g transform=\"translate(80.483949 93.977237)scale(0.14 -0.14)\">\n",
       "     <defs>\n",
       "      <path id=\"DejaVuSerif-7e\" d=\"M 4684 2522 \n",
       "L 4684 2059 \n",
       "Q 4372 1784 4090 1653 \n",
       "Q 3809 1522 3519 1522 \n",
       "Q 3219 1522 2675 1728 \n",
       "L 2644 1741 \n",
       "Q 2609 1753 2541 1781 \n",
       "Q 2081 1959 1784 1959 \n",
       "Q 1497 1959 1226 1845 \n",
       "Q 956 1731 678 1491 \n",
       "L 678 1966 \n",
       "Q 991 2238 1270 2364 \n",
       "Q 1550 2491 1844 2491 \n",
       "Q 2144 2491 2688 2284 \n",
       "L 2719 2272 \n",
       "Q 2753 2259 2816 2234 \n",
       "Q 3269 2053 3572 2053 \n",
       "Q 3859 2053 4134 2168 \n",
       "Q 4409 2284 4684 2522 \n",
       "z\n",
       "\" transform=\"scale(0.015625)\"/>\n",
       "      <path id=\"DejaVuSerif-25\" d=\"M 1434 4459 \n",
       "Q 1159 4459 1004 4200 \n",
       "Q 850 3941 850 3475 \n",
       "Q 850 3016 1008 2753 \n",
       "Q 1166 2491 1434 2491 \n",
       "Q 1700 2491 1854 2752 \n",
       "Q 2009 3013 2009 3475 \n",
       "Q 2009 3938 1854 4198 \n",
       "Q 1700 4459 1434 4459 \n",
       "z\n",
       "M 4653 2169 \n",
       "Q 4381 2169 4226 1906 \n",
       "Q 4072 1644 4072 1178 \n",
       "Q 4072 719 4228 458 \n",
       "Q 4384 197 4653 197 \n",
       "Q 4922 197 5075 458 \n",
       "Q 5228 719 5228 1178 \n",
       "Q 5228 1641 5073 1905 \n",
       "Q 4919 2169 4653 2169 \n",
       "z\n",
       "M 4653 2450 \n",
       "Q 5147 2450 5437 2106 \n",
       "Q 5728 1763 5728 1178 \n",
       "Q 5728 594 5436 251 \n",
       "Q 5144 -91 4653 -91 \n",
       "Q 4153 -91 3862 251 \n",
       "Q 3572 594 3572 1178 \n",
       "Q 3572 1766 3864 2108 \n",
       "Q 4156 2450 4653 2450 \n",
       "z\n",
       "M 4263 4750 \n",
       "L 4738 4750 \n",
       "L 1819 -91 \n",
       "L 1344 -91 \n",
       "L 4263 4750 \n",
       "z\n",
       "M 1428 4750 \n",
       "Q 1922 4750 2215 4408 \n",
       "Q 2509 4066 2509 3481 \n",
       "Q 2509 2891 2217 2550 \n",
       "Q 1925 2209 1428 2209 \n",
       "Q 931 2209 642 2551 \n",
       "Q 353 2894 353 3481 \n",
       "Q 353 4063 643 4406 \n",
       "Q 934 4750 1428 4750 \n",
       "z\n",
       "\" transform=\"scale(0.015625)\"/>\n",
       "      <path id=\"DejaVuSerif-20\" transform=\"scale(0.015625)\"/>\n",
       "      <path id=\"DejaVuSerif-66\" d=\"M 2753 4078 \n",
       "L 2450 4078 \n",
       "Q 2447 4313 2317 4434 \n",
       "Q 2188 4556 1941 4556 \n",
       "Q 1619 4556 1487 4379 \n",
       "Q 1356 4203 1356 3750 \n",
       "L 1356 3322 \n",
       "L 2284 3322 \n",
       "L 2284 2988 \n",
       "L 1356 2988 \n",
       "L 1356 331 \n",
       "L 2094 331 \n",
       "L 2094 0 \n",
       "L 231 0 \n",
       "L 231 331 \n",
       "L 781 331 \n",
       "L 781 2988 \n",
       "L 231 2988 \n",
       "L 231 3322 \n",
       "L 781 3322 \n",
       "L 781 3738 \n",
       "Q 781 4294 1070 4578 \n",
       "Q 1359 4863 1919 4863 \n",
       "Q 2128 4863 2337 4825 \n",
       "Q 2547 4788 2753 4709 \n",
       "L 2753 4078 \n",
       "z\n",
       "\" transform=\"scale(0.015625)\"/>\n",
       "      <path id=\"DejaVuSerif-68\" d=\"M 263 0 \n",
       "L 263 331 \n",
       "L 781 331 \n",
       "L 781 4531 \n",
       "L 231 4531 \n",
       "L 231 4863 \n",
       "L 1356 4863 \n",
       "L 1356 2731 \n",
       "Q 1516 3069 1770 3241 \n",
       "Q 2025 3413 2363 3413 \n",
       "Q 2913 3413 3172 3097 \n",
       "Q 3431 2781 3431 2113 \n",
       "L 3431 331 \n",
       "L 3944 331 \n",
       "L 3944 0 \n",
       "L 2356 0 \n",
       "L 2356 331 \n",
       "L 2853 331 \n",
       "L 2853 1931 \n",
       "Q 2853 2541 2704 2764 \n",
       "Q 2556 2988 2175 2988 \n",
       "Q 1775 2988 1565 2697 \n",
       "Q 1356 2406 1356 1850 \n",
       "L 1356 331 \n",
       "L 1856 331 \n",
       "L 1856 0 \n",
       "L 263 0 \n",
       "z\n",
       "\" transform=\"scale(0.015625)\"/>\n",
       "      <path id=\"DejaVuSerif-35\" d=\"M 3219 4666 \n",
       "L 3219 4153 \n",
       "L 1081 4153 \n",
       "L 1081 2816 \n",
       "Q 1244 2928 1461 2984 \n",
       "Q 1678 3041 1947 3041 \n",
       "Q 2703 3041 3140 2622 \n",
       "Q 3578 2203 3578 1478 \n",
       "Q 3578 738 3136 323 \n",
       "Q 2694 -91 1894 -91 \n",
       "Q 1572 -91 1234 -12 \n",
       "Q 897 66 544 225 \n",
       "L 544 1131 \n",
       "L 897 1131 \n",
       "Q 925 688 1179 453 \n",
       "Q 1434 219 1894 219 \n",
       "Q 2388 219 2653 544 \n",
       "Q 2919 869 2919 1478 \n",
       "Q 2919 2084 2655 2407 \n",
       "Q 2391 2731 1894 2731 \n",
       "Q 1613 2731 1398 2631 \n",
       "Q 1184 2531 1019 2322 \n",
       "L 750 2322 \n",
       "L 750 4666 \n",
       "L 3219 4666 \n",
       "z\n",
       "\" transform=\"scale(0.015625)\"/>\n",
       "      <path id=\"DejaVuSerif-79\" d=\"M 1381 -609 \n",
       "L 1600 -56 \n",
       "L 359 2988 \n",
       "L -19 2988 \n",
       "L -19 3322 \n",
       "L 1509 3322 \n",
       "L 1509 2988 \n",
       "L 978 2988 \n",
       "L 1913 703 \n",
       "L 2847 2988 \n",
       "L 2350 2988 \n",
       "L 2350 3322 \n",
       "L 3597 3322 \n",
       "L 3597 2988 \n",
       "L 3225 2988 \n",
       "L 1703 -750 \n",
       "Q 1547 -1138 1356 -1280 \n",
       "Q 1166 -1422 819 -1422 \n",
       "Q 672 -1422 517 -1397 \n",
       "Q 363 -1372 206 -1325 \n",
       "L 206 -691 \n",
       "L 500 -691 \n",
       "Q 519 -903 608 -995 \n",
       "Q 697 -1088 884 -1088 \n",
       "Q 1056 -1088 1161 -992 \n",
       "Q 1266 -897 1381 -609 \n",
       "z\n",
       "\" transform=\"scale(0.015625)\"/>\n",
       "      <path id=\"DejaVuSerif-70\" d=\"M 1313 1825 \n",
       "L 1313 1497 \n",
       "Q 1313 897 1542 583 \n",
       "Q 1772 269 2209 269 \n",
       "Q 2650 269 2876 622 \n",
       "Q 3103 975 3103 1663 \n",
       "Q 3103 2353 2876 2703 \n",
       "Q 2650 3053 2209 3053 \n",
       "Q 1772 3053 1542 2737 \n",
       "Q 1313 2422 1313 1825 \n",
       "z\n",
       "M 738 2988 \n",
       "L 184 2988 \n",
       "L 184 3322 \n",
       "L 1313 3322 \n",
       "L 1313 2803 \n",
       "Q 1481 3116 1742 3264 \n",
       "Q 2003 3413 2388 3413 \n",
       "Q 3000 3413 3387 2928 \n",
       "Q 3775 2444 3775 1663 \n",
       "Q 3775 881 3387 395 \n",
       "Q 3000 -91 2388 -91 \n",
       "Q 2003 -91 1742 57 \n",
       "Q 1481 206 1313 519 \n",
       "L 1313 -997 \n",
       "L 1856 -997 \n",
       "L 1856 -1331 \n",
       "L 184 -1331 \n",
       "L 184 -997 \n",
       "L 738 -997 \n",
       "L 738 2988 \n",
       "z\n",
       "\" transform=\"scale(0.015625)\"/>\n",
       "      <path id=\"DejaVuSerif-73\" d=\"M 359 184 \n",
       "L 359 959 \n",
       "L 691 959 \n",
       "Q 703 588 923 403 \n",
       "Q 1144 219 1575 219 \n",
       "Q 1963 219 2166 364 \n",
       "Q 2369 509 2369 788 \n",
       "Q 2369 1006 2220 1140 \n",
       "Q 2072 1275 1594 1428 \n",
       "L 1178 1569 \n",
       "Q 750 1706 558 1912 \n",
       "Q 366 2119 366 2438 \n",
       "Q 366 2894 700 3153 \n",
       "Q 1034 3413 1625 3413 \n",
       "Q 1888 3413 2178 3344 \n",
       "Q 2469 3275 2778 3144 \n",
       "L 2778 2419 \n",
       "L 2447 2419 \n",
       "Q 2434 2741 2221 2922 \n",
       "Q 2009 3103 1644 3103 \n",
       "Q 1281 3103 1095 2975 \n",
       "Q 909 2847 909 2591 \n",
       "Q 909 2381 1050 2254 \n",
       "Q 1191 2128 1613 1997 \n",
       "L 2069 1856 \n",
       "Q 2541 1709 2748 1489 \n",
       "Q 2956 1269 2956 922 \n",
       "Q 2956 450 2595 179 \n",
       "Q 2234 -91 1600 -91 \n",
       "Q 1278 -91 972 -22 \n",
       "Q 666 47 359 184 \n",
       "z\n",
       "\" transform=\"scale(0.015625)\"/>\n",
       "     </defs>\n",
       "     <use xlink:href=\"#DejaVuSerif-7e\"/>\n",
       "     <use xlink:href=\"#DejaVuSerif-32\" x=\"83.789062\"/>\n",
       "     <use xlink:href=\"#DejaVuSerif-32\" x=\"147.412109\"/>\n",
       "     <use xlink:href=\"#DejaVuSerif-25\" x=\"211.035156\"/>\n",
       "     <use xlink:href=\"#DejaVuSerif-20\" x=\"306.054688\"/>\n",
       "     <use xlink:href=\"#DejaVuSerif-6f\" x=\"337.841797\"/>\n",
       "     <use xlink:href=\"#DejaVuSerif-66\" x=\"398.046875\"/>\n",
       "     <use xlink:href=\"#DejaVuSerif-20\" x=\"435.058594\"/>\n",
       "     <use xlink:href=\"#DejaVuSerif-74\" x=\"466.845703\"/>\n",
       "     <use xlink:href=\"#DejaVuSerif-68\" x=\"507.03125\"/>\n",
       "     <use xlink:href=\"#DejaVuSerif-65\" x=\"571.435547\"/>\n",
       "     <use xlink:href=\"#DejaVuSerif-20\" x=\"630.615234\"/>\n",
       "     <use xlink:href=\"#DejaVuSerif-35\" x=\"662.402344\"/>\n",
       "     <use xlink:href=\"#DejaVuSerif-34\" x=\"726.025391\"/>\n",
       "     <use xlink:href=\"#DejaVuSerif-20\" x=\"789.648438\"/>\n",
       "     <use xlink:href=\"#DejaVuSerif-74\" x=\"821.435547\"/>\n",
       "     <use xlink:href=\"#DejaVuSerif-68\" x=\"861.621094\"/>\n",
       "     <use xlink:href=\"#DejaVuSerif-65\" x=\"926.025391\"/>\n",
       "     <use xlink:href=\"#DejaVuSerif-6f\" x=\"985.205078\"/>\n",
       "     <use xlink:href=\"#DejaVuSerif-72\" x=\"1045.410156\"/>\n",
       "     <use xlink:href=\"#DejaVuSerif-79\" x=\"1093.212891\"/>\n",
       "     <use xlink:href=\"#DejaVuSerif-20\" x=\"1149.707031\"/>\n",
       "     <use xlink:href=\"#DejaVuSerif-70\" x=\"1181.494141\"/>\n",
       "     <use xlink:href=\"#DejaVuSerif-61\" x=\"1245.507812\"/>\n",
       "     <use xlink:href=\"#DejaVuSerif-70\" x=\"1305.126953\"/>\n",
       "     <use xlink:href=\"#DejaVuSerif-65\" x=\"1369.140625\"/>\n",
       "     <use xlink:href=\"#DejaVuSerif-72\" x=\"1428.320312\"/>\n",
       "     <use xlink:href=\"#DejaVuSerif-73\" x=\"1476.123047\"/>\n",
       "    </g>\n",
       "    <!-- use 3D models -->\n",
       "    <g transform=\"translate(80.483949 109.853237)scale(0.14 -0.14)\">\n",
       "     <defs>\n",
       "      <path id=\"DejaVuSerif-33\" d=\"M 622 4469 \n",
       "Q 988 4606 1323 4678 \n",
       "Q 1659 4750 1953 4750 \n",
       "Q 2638 4750 3022 4454 \n",
       "Q 3406 4159 3406 3634 \n",
       "Q 3406 3213 3140 2930 \n",
       "Q 2875 2647 2388 2547 \n",
       "Q 2963 2466 3280 2130 \n",
       "Q 3597 1794 3597 1259 \n",
       "Q 3597 606 3158 257 \n",
       "Q 2719 -91 1894 -91 \n",
       "Q 1528 -91 1179 -12 \n",
       "Q 831 66 488 225 \n",
       "L 488 1131 \n",
       "L 838 1131 \n",
       "Q 869 681 1141 450 \n",
       "Q 1413 219 1906 219 \n",
       "Q 2384 219 2661 495 \n",
       "Q 2938 772 2938 1253 \n",
       "Q 2938 1803 2653 2086 \n",
       "Q 2369 2369 1819 2369 \n",
       "L 1522 2369 \n",
       "L 1522 2688 \n",
       "L 1678 2688 \n",
       "Q 2225 2688 2498 2914 \n",
       "Q 2772 3141 2772 3597 \n",
       "Q 2772 4006 2547 4223 \n",
       "Q 2322 4441 1900 4441 \n",
       "Q 1478 4441 1245 4241 \n",
       "Q 1013 4041 972 3647 \n",
       "L 622 3647 \n",
       "L 622 4469 \n",
       "z\n",
       "\" transform=\"scale(0.015625)\"/>\n",
       "      <path id=\"DejaVuSerif-44\" d=\"M 1581 331 \n",
       "L 2163 331 \n",
       "Q 3072 331 3558 850 \n",
       "Q 4044 1369 4044 2338 \n",
       "Q 4044 3306 3559 3818 \n",
       "Q 3075 4331 2163 4331 \n",
       "L 1581 4331 \n",
       "L 1581 331 \n",
       "z\n",
       "M 353 0 \n",
       "L 353 331 \n",
       "L 947 331 \n",
       "L 947 4331 \n",
       "L 353 4331 \n",
       "L 353 4666 \n",
       "L 2209 4666 \n",
       "Q 3416 4666 4089 4050 \n",
       "Q 4763 3434 4763 2338 \n",
       "Q 4763 1238 4088 619 \n",
       "Q 3413 0 2209 0 \n",
       "L 353 0 \n",
       "z\n",
       "\" transform=\"scale(0.015625)\"/>\n",
       "      <path id=\"DejaVuSerif-6d\" d=\"M 3316 2675 \n",
       "Q 3481 3041 3739 3227 \n",
       "Q 3997 3413 4341 3413 \n",
       "Q 4863 3413 5119 3089 \n",
       "Q 5375 2766 5375 2113 \n",
       "L 5375 331 \n",
       "L 5894 331 \n",
       "L 5894 0 \n",
       "L 4300 0 \n",
       "L 4300 331 \n",
       "L 4800 331 \n",
       "L 4800 2047 \n",
       "Q 4800 2556 4650 2772 \n",
       "Q 4500 2988 4153 2988 \n",
       "Q 3769 2988 3567 2697 \n",
       "Q 3366 2406 3366 1850 \n",
       "L 3366 331 \n",
       "L 3866 331 \n",
       "L 3866 0 \n",
       "L 2291 0 \n",
       "L 2291 331 \n",
       "L 2791 331 \n",
       "L 2791 2069 \n",
       "Q 2791 2566 2641 2777 \n",
       "Q 2491 2988 2144 2988 \n",
       "Q 1759 2988 1557 2697 \n",
       "Q 1356 2406 1356 1850 \n",
       "L 1356 331 \n",
       "L 1856 331 \n",
       "L 1856 0 \n",
       "L 263 0 \n",
       "L 263 331 \n",
       "L 781 331 \n",
       "L 781 2994 \n",
       "L 231 2994 \n",
       "L 231 3322 \n",
       "L 1356 3322 \n",
       "L 1356 2731 \n",
       "Q 1516 3063 1762 3238 \n",
       "Q 2009 3413 2322 3413 \n",
       "Q 2709 3413 2968 3220 \n",
       "Q 3228 3028 3316 2675 \n",
       "z\n",
       "\" transform=\"scale(0.015625)\"/>\n",
       "      <path id=\"DejaVuSerif-64\" d=\"M 3359 331 \n",
       "L 3909 331 \n",
       "L 3909 0 \n",
       "L 2784 0 \n",
       "L 2784 519 \n",
       "Q 2616 206 2355 57 \n",
       "Q 2094 -91 1709 -91 \n",
       "Q 1097 -91 708 395 \n",
       "Q 319 881 319 1663 \n",
       "Q 319 2444 706 2928 \n",
       "Q 1094 3413 1709 3413 \n",
       "Q 2094 3413 2355 3264 \n",
       "Q 2616 3116 2784 2803 \n",
       "L 2784 4531 \n",
       "L 2241 4531 \n",
       "L 2241 4863 \n",
       "L 3359 4863 \n",
       "L 3359 331 \n",
       "z\n",
       "M 2784 1497 \n",
       "L 2784 1825 \n",
       "Q 2784 2422 2554 2737 \n",
       "Q 2325 3053 1888 3053 \n",
       "Q 1444 3053 1217 2703 \n",
       "Q 991 2353 991 1663 \n",
       "Q 991 975 1217 622 \n",
       "Q 1444 269 1888 269 \n",
       "Q 2325 269 2554 583 \n",
       "Q 2784 897 2784 1497 \n",
       "z\n",
       "\" transform=\"scale(0.015625)\"/>\n",
       "      <path id=\"DejaVuSerif-6c\" d=\"M 1313 331 \n",
       "L 1856 331 \n",
       "L 1856 0 \n",
       "L 184 0 \n",
       "L 184 331 \n",
       "L 738 331 \n",
       "L 738 4531 \n",
       "L 184 4531 \n",
       "L 184 4863 \n",
       "L 1313 4863 \n",
       "L 1313 331 \n",
       "z\n",
       "\" transform=\"scale(0.015625)\"/>\n",
       "     </defs>\n",
       "     <use xlink:href=\"#DejaVuSerif-75\"/>\n",
       "     <use xlink:href=\"#DejaVuSerif-73\" x=\"64.404297\"/>\n",
       "     <use xlink:href=\"#DejaVuSerif-65\" x=\"115.722656\"/>\n",
       "     <use xlink:href=\"#DejaVuSerif-20\" x=\"174.902344\"/>\n",
       "     <use xlink:href=\"#DejaVuSerif-33\" x=\"206.689453\"/>\n",
       "     <use xlink:href=\"#DejaVuSerif-44\" x=\"270.3125\"/>\n",
       "     <use xlink:href=\"#DejaVuSerif-20\" x=\"350.488281\"/>\n",
       "     <use xlink:href=\"#DejaVuSerif-6d\" x=\"382.275391\"/>\n",
       "     <use xlink:href=\"#DejaVuSerif-6f\" x=\"477.099609\"/>\n",
       "     <use xlink:href=\"#DejaVuSerif-64\" x=\"537.304688\"/>\n",
       "     <use xlink:href=\"#DejaVuSerif-65\" x=\"601.318359\"/>\n",
       "     <use xlink:href=\"#DejaVuSerif-6c\" x=\"660.498047\"/>\n",
       "     <use xlink:href=\"#DejaVuSerif-73\" x=\"692.480469\"/>\n",
       "    </g>\n",
       "   </g>\n",
       "   <g id=\"text_20\">\n",
       "    <!-- Hi-res theory papers -->\n",
       "    <g transform=\"translate(202.985547 26.196094)scale(0.25 -0.25)\">\n",
       "     <defs>\n",
       "      <path id=\"DejaVuSerif-48\" d=\"M 353 0 \n",
       "L 353 331 \n",
       "L 947 331 \n",
       "L 947 4331 \n",
       "L 353 4331 \n",
       "L 353 4666 \n",
       "L 2175 4666 \n",
       "L 2175 4331 \n",
       "L 1581 4331 \n",
       "L 1581 2719 \n",
       "L 4000 2719 \n",
       "L 4000 4331 \n",
       "L 3406 4331 \n",
       "L 3406 4666 \n",
       "L 5228 4666 \n",
       "L 5228 4331 \n",
       "L 4634 4331 \n",
       "L 4634 331 \n",
       "L 5228 331 \n",
       "L 5228 0 \n",
       "L 3406 0 \n",
       "L 3406 331 \n",
       "L 4000 331 \n",
       "L 4000 2338 \n",
       "L 1581 2338 \n",
       "L 1581 331 \n",
       "L 2175 331 \n",
       "L 2175 0 \n",
       "L 353 0 \n",
       "z\n",
       "\" transform=\"scale(0.015625)\"/>\n",
       "      <path id=\"DejaVuSerif-69\" d=\"M 622 4353 \n",
       "Q 622 4497 726 4603 \n",
       "Q 831 4709 978 4709 \n",
       "Q 1122 4709 1226 4603 \n",
       "Q 1331 4497 1331 4353 \n",
       "Q 1331 4206 1228 4103 \n",
       "Q 1125 4000 978 4000 \n",
       "Q 831 4000 726 4103 \n",
       "Q 622 4206 622 4353 \n",
       "z\n",
       "M 1356 331 \n",
       "L 1900 331 \n",
       "L 1900 0 \n",
       "L 231 0 \n",
       "L 231 331 \n",
       "L 781 331 \n",
       "L 781 2988 \n",
       "L 231 2988 \n",
       "L 231 3322 \n",
       "L 1356 3322 \n",
       "L 1356 331 \n",
       "z\n",
       "\" transform=\"scale(0.015625)\"/>\n",
       "      <path id=\"DejaVuSerif-2d\" d=\"M 281 1959 \n",
       "L 1881 1959 \n",
       "L 1881 1472 \n",
       "L 281 1472 \n",
       "L 281 1959 \n",
       "z\n",
       "\" transform=\"scale(0.015625)\"/>\n",
       "     </defs>\n",
       "     <use xlink:href=\"#DejaVuSerif-48\"/>\n",
       "     <use xlink:href=\"#DejaVuSerif-69\" x=\"87.207031\"/>\n",
       "     <use xlink:href=\"#DejaVuSerif-2d\" x=\"119.189453\"/>\n",
       "     <use xlink:href=\"#DejaVuSerif-72\" x=\"152.978516\"/>\n",
       "     <use xlink:href=\"#DejaVuSerif-65\" x=\"200.78125\"/>\n",
       "     <use xlink:href=\"#DejaVuSerif-73\" x=\"259.960938\"/>\n",
       "     <use xlink:href=\"#DejaVuSerif-20\" x=\"311.279297\"/>\n",
       "     <use xlink:href=\"#DejaVuSerif-74\" x=\"343.066406\"/>\n",
       "     <use xlink:href=\"#DejaVuSerif-68\" x=\"383.251953\"/>\n",
       "     <use xlink:href=\"#DejaVuSerif-65\" x=\"447.65625\"/>\n",
       "     <use xlink:href=\"#DejaVuSerif-6f\" x=\"506.835938\"/>\n",
       "     <use xlink:href=\"#DejaVuSerif-72\" x=\"567.041016\"/>\n",
       "     <use xlink:href=\"#DejaVuSerif-79\" x=\"614.84375\"/>\n",
       "     <use xlink:href=\"#DejaVuSerif-20\" x=\"671.337891\"/>\n",
       "     <use xlink:href=\"#DejaVuSerif-70\" x=\"703.125\"/>\n",
       "     <use xlink:href=\"#DejaVuSerif-61\" x=\"767.138672\"/>\n",
       "     <use xlink:href=\"#DejaVuSerif-70\" x=\"826.757812\"/>\n",
       "     <use xlink:href=\"#DejaVuSerif-65\" x=\"890.771484\"/>\n",
       "     <use xlink:href=\"#DejaVuSerif-72\" x=\"949.951172\"/>\n",
       "     <use xlink:href=\"#DejaVuSerif-73\" x=\"997.753906\"/>\n",
       "    </g>\n",
       "   </g>\n",
       "   <g id=\"text_21\">\n",
       "    <!-- (c) Arjun Savel, Hayley Beltz, and Isaac Malsky 2022. -->\n",
       "    <g transform=\"translate(27.220312 390.972094)scale(0.1 -0.1)\">\n",
       "     <defs>\n",
       "      <path id=\"DejaVuSerif-28\" d=\"M 2041 -997 \n",
       "Q 1281 -656 893 83 \n",
       "Q 506 822 506 1931 \n",
       "Q 506 3044 893 3783 \n",
       "Q 1281 4522 2041 4863 \n",
       "L 2041 4556 \n",
       "Q 1559 4225 1350 3623 \n",
       "Q 1141 3022 1141 1931 \n",
       "Q 1141 844 1350 242 \n",
       "Q 1559 -359 2041 -691 \n",
       "L 2041 -997 \n",
       "z\n",
       "\" transform=\"scale(0.015625)\"/>\n",
       "      <path id=\"DejaVuSerif-63\" d=\"M 3291 997 \n",
       "Q 3169 466 2822 187 \n",
       "Q 2475 -91 1925 -91 \n",
       "Q 1200 -91 759 389 \n",
       "Q 319 869 319 1663 \n",
       "Q 319 2459 759 2936 \n",
       "Q 1200 3413 1925 3413 \n",
       "Q 2241 3413 2553 3339 \n",
       "Q 2866 3266 3181 3116 \n",
       "L 3181 2266 \n",
       "L 2847 2266 \n",
       "Q 2781 2703 2561 2903 \n",
       "Q 2341 3103 1931 3103 \n",
       "Q 1466 3103 1228 2742 \n",
       "Q 991 2381 991 1663 \n",
       "Q 991 944 1227 581 \n",
       "Q 1463 219 1931 219 \n",
       "Q 2303 219 2525 412 \n",
       "Q 2747 606 2828 997 \n",
       "L 3291 997 \n",
       "z\n",
       "\" transform=\"scale(0.015625)\"/>\n",
       "      <path id=\"DejaVuSerif-29\" d=\"M 453 -997 \n",
       "L 453 -691 \n",
       "Q 934 -359 1145 242 \n",
       "Q 1356 844 1356 1931 \n",
       "Q 1356 3022 1145 3623 \n",
       "Q 934 4225 453 4556 \n",
       "L 453 4863 \n",
       "Q 1216 4522 1603 3783 \n",
       "Q 1991 3044 1991 1931 \n",
       "Q 1991 822 1603 83 \n",
       "Q 1216 -656 453 -997 \n",
       "z\n",
       "\" transform=\"scale(0.015625)\"/>\n",
       "      <path id=\"DejaVuSerif-41\" d=\"M 1281 1691 \n",
       "L 2994 1691 \n",
       "L 2138 3909 \n",
       "L 1281 1691 \n",
       "z\n",
       "M -38 0 \n",
       "L -38 331 \n",
       "L 372 331 \n",
       "L 2034 4666 \n",
       "L 2559 4666 \n",
       "L 4225 331 \n",
       "L 4684 331 \n",
       "L 4684 0 \n",
       "L 2988 0 \n",
       "L 2988 331 \n",
       "L 3506 331 \n",
       "L 3116 1356 \n",
       "L 1153 1356 \n",
       "L 763 331 \n",
       "L 1275 331 \n",
       "L 1275 0 \n",
       "L -38 0 \n",
       "z\n",
       "\" transform=\"scale(0.015625)\"/>\n",
       "      <path id=\"DejaVuSerif-6a\" d=\"M 641 4353 \n",
       "Q 641 4497 745 4603 \n",
       "Q 850 4709 997 4709 \n",
       "Q 1141 4709 1245 4603 \n",
       "Q 1350 4497 1350 4353 \n",
       "Q 1350 4206 1248 4103 \n",
       "Q 1147 4000 997 4000 \n",
       "Q 850 4000 745 4103 \n",
       "Q 641 4206 641 4353 \n",
       "z\n",
       "M 781 2988 \n",
       "L 238 2988 \n",
       "L 238 3322 \n",
       "L 1356 3322 \n",
       "L 1356 -325 \n",
       "Q 1356 -838 1051 -1130 \n",
       "Q 747 -1422 213 -1422 \n",
       "Q -13 -1422 -217 -1370 \n",
       "Q -422 -1319 -616 -1216 \n",
       "L -616 -531 \n",
       "L -319 -531 \n",
       "Q -297 -831 -164 -972 \n",
       "Q -31 -1113 225 -1113 \n",
       "Q 509 -1113 645 -920 \n",
       "Q 781 -728 781 -325 \n",
       "L 781 2988 \n",
       "z\n",
       "\" transform=\"scale(0.015625)\"/>\n",
       "      <path id=\"DejaVuSerif-53\" d=\"M 594 225 \n",
       "L 594 1288 \n",
       "L 953 1284 \n",
       "Q 969 753 1261 498 \n",
       "Q 1553 244 2150 244 \n",
       "Q 2706 244 2998 464 \n",
       "Q 3291 684 3291 1106 \n",
       "Q 3291 1444 3114 1625 \n",
       "Q 2938 1806 2369 1978 \n",
       "L 1753 2163 \n",
       "Q 1084 2366 811 2669 \n",
       "Q 538 2972 538 3500 \n",
       "Q 538 4094 959 4422 \n",
       "Q 1381 4750 2144 4750 \n",
       "Q 2469 4750 2856 4679 \n",
       "Q 3244 4609 3681 4475 \n",
       "L 3681 3481 \n",
       "L 3328 3481 \n",
       "Q 3275 3975 2998 4195 \n",
       "Q 2722 4416 2156 4416 \n",
       "Q 1663 4416 1405 4214 \n",
       "Q 1147 4013 1147 3628 \n",
       "Q 1147 3294 1340 3103 \n",
       "Q 1534 2913 2163 2725 \n",
       "L 2741 2553 \n",
       "Q 3375 2363 3645 2067 \n",
       "Q 3916 1772 3916 1275 \n",
       "Q 3916 597 3481 253 \n",
       "Q 3047 -91 2188 -91 \n",
       "Q 1803 -91 1404 -12 \n",
       "Q 1006 66 594 225 \n",
       "z\n",
       "\" transform=\"scale(0.015625)\"/>\n",
       "      <path id=\"DejaVuSerif-76\" d=\"M 1581 0 \n",
       "L 359 2988 \n",
       "L -19 2988 \n",
       "L -19 3322 \n",
       "L 1509 3322 \n",
       "L 1509 2988 \n",
       "L 978 2988 \n",
       "L 1913 703 \n",
       "L 2847 2988 \n",
       "L 2350 2988 \n",
       "L 2350 3322 \n",
       "L 3597 3322 \n",
       "L 3597 2988 \n",
       "L 3225 2988 \n",
       "L 2003 0 \n",
       "L 1581 0 \n",
       "z\n",
       "\" transform=\"scale(0.015625)\"/>\n",
       "      <path id=\"DejaVuSerif-2c\" d=\"M 231 -622 \n",
       "Q 525 -406 662 -114 \n",
       "Q 800 178 800 594 \n",
       "L 800 709 \n",
       "L 1416 709 \n",
       "Q 1391 175 1164 -208 \n",
       "Q 938 -591 481 -872 \n",
       "L 231 -622 \n",
       "z\n",
       "\" transform=\"scale(0.015625)\"/>\n",
       "      <path id=\"DejaVuSerif-42\" d=\"M 1581 331 \n",
       "L 2516 331 \n",
       "Q 3078 331 3337 575 \n",
       "Q 3597 819 3597 1350 \n",
       "Q 3597 1878 3339 2120 \n",
       "Q 3081 2363 2516 2363 \n",
       "L 1581 2363 \n",
       "L 1581 331 \n",
       "z\n",
       "M 1581 2694 \n",
       "L 2375 2694 \n",
       "Q 2888 2694 3123 2891 \n",
       "Q 3359 3088 3359 3513 \n",
       "Q 3359 3941 3123 4136 \n",
       "Q 2888 4331 2375 4331 \n",
       "L 1581 4331 \n",
       "L 1581 2694 \n",
       "z\n",
       "M 353 0 \n",
       "L 353 331 \n",
       "L 947 331 \n",
       "L 947 4331 \n",
       "L 353 4331 \n",
       "L 353 4666 \n",
       "L 2656 4666 \n",
       "Q 3363 4666 3720 4377 \n",
       "Q 4078 4088 4078 3513 \n",
       "Q 4078 3097 3829 2850 \n",
       "Q 3581 2603 3103 2547 \n",
       "Q 3697 2472 4005 2167 \n",
       "Q 4313 1863 4313 1350 \n",
       "Q 4313 656 3875 328 \n",
       "Q 3438 0 2509 0 \n",
       "L 353 0 \n",
       "z\n",
       "\" transform=\"scale(0.015625)\"/>\n",
       "      <path id=\"DejaVuSerif-7a\" d=\"M 256 0 \n",
       "L 256 269 \n",
       "L 2338 2988 \n",
       "L 691 2988 \n",
       "L 691 2413 \n",
       "L 359 2413 \n",
       "L 359 3322 \n",
       "L 3078 3322 \n",
       "L 3078 3053 \n",
       "L 997 331 \n",
       "L 2803 331 \n",
       "L 2803 934 \n",
       "L 3138 934 \n",
       "L 3138 0 \n",
       "L 256 0 \n",
       "z\n",
       "\" transform=\"scale(0.015625)\"/>\n",
       "      <path id=\"DejaVuSerif-49\" d=\"M 1581 331 \n",
       "L 2175 331 \n",
       "L 2175 0 \n",
       "L 353 0 \n",
       "L 353 331 \n",
       "L 947 331 \n",
       "L 947 4331 \n",
       "L 353 4331 \n",
       "L 353 4666 \n",
       "L 2175 4666 \n",
       "L 2175 4331 \n",
       "L 1581 4331 \n",
       "L 1581 331 \n",
       "z\n",
       "\" transform=\"scale(0.015625)\"/>\n",
       "      <path id=\"DejaVuSerif-4d\" d=\"M 353 0 \n",
       "L 353 331 \n",
       "L 947 331 \n",
       "L 947 4331 \n",
       "L 319 4331 \n",
       "L 319 4666 \n",
       "L 1678 4666 \n",
       "L 3316 1344 \n",
       "L 4953 4666 \n",
       "L 6228 4666 \n",
       "L 6228 4331 \n",
       "L 5606 4331 \n",
       "L 5606 331 \n",
       "L 6203 331 \n",
       "L 6203 0 \n",
       "L 4378 0 \n",
       "L 4378 331 \n",
       "L 4972 331 \n",
       "L 4972 3938 \n",
       "L 3372 684 \n",
       "L 2931 684 \n",
       "L 1331 3938 \n",
       "L 1331 331 \n",
       "L 1925 331 \n",
       "L 1925 0 \n",
       "L 353 0 \n",
       "z\n",
       "\" transform=\"scale(0.015625)\"/>\n",
       "      <path id=\"DejaVuSerif-6b\" d=\"M 1831 0 \n",
       "L 219 0 \n",
       "L 219 331 \n",
       "L 738 331 \n",
       "L 738 4531 \n",
       "L 184 4531 \n",
       "L 184 4863 \n",
       "L 1313 4863 \n",
       "L 1313 1697 \n",
       "L 2713 2988 \n",
       "L 2234 2988 \n",
       "L 2234 3322 \n",
       "L 3738 3322 \n",
       "L 3738 2988 \n",
       "L 3169 2988 \n",
       "L 2181 2075 \n",
       "L 3444 331 \n",
       "L 3922 331 \n",
       "L 3922 0 \n",
       "L 2284 0 \n",
       "L 2284 331 \n",
       "L 2759 331 \n",
       "L 1766 1697 \n",
       "L 1313 1275 \n",
       "L 1313 331 \n",
       "L 1831 331 \n",
       "L 1831 0 \n",
       "z\n",
       "\" transform=\"scale(0.015625)\"/>\n",
       "      <path id=\"DejaVuSerif-2e\" d=\"M 603 325 \n",
       "Q 603 500 722 622 \n",
       "Q 841 744 1019 744 \n",
       "Q 1191 744 1312 622 \n",
       "Q 1434 500 1434 325 \n",
       "Q 1434 153 1312 31 \n",
       "Q 1191 -91 1019 -91 \n",
       "Q 841 -91 722 29 \n",
       "Q 603 150 603 325 \n",
       "z\n",
       "\" transform=\"scale(0.015625)\"/>\n",
       "     </defs>\n",
       "     <use xlink:href=\"#DejaVuSerif-28\"/>\n",
       "     <use xlink:href=\"#DejaVuSerif-63\" x=\"39.013672\"/>\n",
       "     <use xlink:href=\"#DejaVuSerif-29\" x=\"95.019531\"/>\n",
       "     <use xlink:href=\"#DejaVuSerif-20\" x=\"134.033203\"/>\n",
       "     <use xlink:href=\"#DejaVuSerif-41\" x=\"165.820312\"/>\n",
       "     <use xlink:href=\"#DejaVuSerif-72\" x=\"238.037109\"/>\n",
       "     <use xlink:href=\"#DejaVuSerif-6a\" x=\"285.839844\"/>\n",
       "     <use xlink:href=\"#DejaVuSerif-75\" x=\"316.845703\"/>\n",
       "     <use xlink:href=\"#DejaVuSerif-6e\" x=\"381.25\"/>\n",
       "     <use xlink:href=\"#DejaVuSerif-20\" x=\"445.654297\"/>\n",
       "     <use xlink:href=\"#DejaVuSerif-53\" x=\"477.441406\"/>\n",
       "     <use xlink:href=\"#DejaVuSerif-61\" x=\"545.947266\"/>\n",
       "     <use xlink:href=\"#DejaVuSerif-76\" x=\"605.566406\"/>\n",
       "     <use xlink:href=\"#DejaVuSerif-65\" x=\"662.060547\"/>\n",
       "     <use xlink:href=\"#DejaVuSerif-6c\" x=\"721.240234\"/>\n",
       "     <use xlink:href=\"#DejaVuSerif-2c\" x=\"753.222656\"/>\n",
       "     <use xlink:href=\"#DejaVuSerif-20\" x=\"785.009766\"/>\n",
       "     <use xlink:href=\"#DejaVuSerif-48\" x=\"816.796875\"/>\n",
       "     <use xlink:href=\"#DejaVuSerif-61\" x=\"904.003906\"/>\n",
       "     <use xlink:href=\"#DejaVuSerif-79\" x=\"963.623047\"/>\n",
       "     <use xlink:href=\"#DejaVuSerif-6c\" x=\"1020.117188\"/>\n",
       "     <use xlink:href=\"#DejaVuSerif-65\" x=\"1052.099609\"/>\n",
       "     <use xlink:href=\"#DejaVuSerif-79\" x=\"1111.279297\"/>\n",
       "     <use xlink:href=\"#DejaVuSerif-20\" x=\"1167.773438\"/>\n",
       "     <use xlink:href=\"#DejaVuSerif-42\" x=\"1199.560547\"/>\n",
       "     <use xlink:href=\"#DejaVuSerif-65\" x=\"1273.046875\"/>\n",
       "     <use xlink:href=\"#DejaVuSerif-6c\" x=\"1332.226562\"/>\n",
       "     <use xlink:href=\"#DejaVuSerif-74\" x=\"1364.208984\"/>\n",
       "     <use xlink:href=\"#DejaVuSerif-7a\" x=\"1404.394531\"/>\n",
       "     <use xlink:href=\"#DejaVuSerif-2c\" x=\"1457.080078\"/>\n",
       "     <use xlink:href=\"#DejaVuSerif-20\" x=\"1488.867188\"/>\n",
       "     <use xlink:href=\"#DejaVuSerif-61\" x=\"1520.654297\"/>\n",
       "     <use xlink:href=\"#DejaVuSerif-6e\" x=\"1580.273438\"/>\n",
       "     <use xlink:href=\"#DejaVuSerif-64\" x=\"1644.677734\"/>\n",
       "     <use xlink:href=\"#DejaVuSerif-20\" x=\"1708.691406\"/>\n",
       "     <use xlink:href=\"#DejaVuSerif-49\" x=\"1740.478516\"/>\n",
       "     <use xlink:href=\"#DejaVuSerif-73\" x=\"1779.980469\"/>\n",
       "     <use xlink:href=\"#DejaVuSerif-61\" x=\"1831.298828\"/>\n",
       "     <use xlink:href=\"#DejaVuSerif-61\" x=\"1890.917969\"/>\n",
       "     <use xlink:href=\"#DejaVuSerif-63\" x=\"1950.537109\"/>\n",
       "     <use xlink:href=\"#DejaVuSerif-20\" x=\"2006.542969\"/>\n",
       "     <use xlink:href=\"#DejaVuSerif-4d\" x=\"2038.330078\"/>\n",
       "     <use xlink:href=\"#DejaVuSerif-61\" x=\"2140.722656\"/>\n",
       "     <use xlink:href=\"#DejaVuSerif-6c\" x=\"2200.341797\"/>\n",
       "     <use xlink:href=\"#DejaVuSerif-73\" x=\"2232.324219\"/>\n",
       "     <use xlink:href=\"#DejaVuSerif-6b\" x=\"2283.642578\"/>\n",
       "     <use xlink:href=\"#DejaVuSerif-79\" x=\"2344.238281\"/>\n",
       "     <use xlink:href=\"#DejaVuSerif-20\" x=\"2400.732422\"/>\n",
       "     <use xlink:href=\"#DejaVuSerif-32\" x=\"2432.519531\"/>\n",
       "     <use xlink:href=\"#DejaVuSerif-30\" x=\"2496.142578\"/>\n",
       "     <use xlink:href=\"#DejaVuSerif-32\" x=\"2559.765625\"/>\n",
       "     <use xlink:href=\"#DejaVuSerif-32\" x=\"2623.388672\"/>\n",
       "     <use xlink:href=\"#DejaVuSerif-2e\" x=\"2687.011719\"/>\n",
       "    </g>\n",
       "   </g>\n",
       "   <g id=\"text_22\">\n",
       "    <g id=\"patch_17\">\n",
       "     <a xlink:href=\"https://doi.org/10.5281/zenodo.2842910\">\n",
       "      <path d=\"M 23.220312 413.359781 \n",
       "L 118.33125 413.359781 \n",
       "L 118.33125 395.681656 \n",
       "L 23.220312 395.681656 \n",
       "z\n",
       "\" style=\"fill: #ffffff; opacity: 0.000001; stroke: #ffffff; stroke-linejoin: miter\"/>\n",
       "     </a>\n",
       "    </g>\n",
       "    <a xlink:href=\"https://doi.org/10.5281/zenodo.2842910\">\n",
       "     <!-- Cite with Zenodo -->\n",
       "     <g style=\"fill: #000080\" transform=\"translate(27.220312 407.280094)scale(0.1 -0.1)\">\n",
       "      <defs>\n",
       "       <path id=\"DejaVuSerif-77\" d=\"M 3072 3322 \n",
       "L 3922 728 \n",
       "L 4672 2988 \n",
       "L 4191 2988 \n",
       "L 4191 3322 \n",
       "L 5394 3322 \n",
       "L 5394 2988 \n",
       "L 5025 2988 \n",
       "L 4038 0 \n",
       "L 3559 0 \n",
       "L 2741 2484 \n",
       "L 1919 0 \n",
       "L 1459 0 \n",
       "L 475 2988 \n",
       "L 103 2988 \n",
       "L 103 3322 \n",
       "L 1606 3322 \n",
       "L 1606 2988 \n",
       "L 1069 2988 \n",
       "L 1813 728 \n",
       "L 2669 3322 \n",
       "L 3072 3322 \n",
       "z\n",
       "\" transform=\"scale(0.015625)\"/>\n",
       "       <path id=\"DejaVuSerif-5a\" d=\"M 288 0 \n",
       "L 288 225 \n",
       "L 3194 4281 \n",
       "L 781 4281 \n",
       "L 781 3584 \n",
       "L 397 3584 \n",
       "L 397 4666 \n",
       "L 4084 4666 \n",
       "L 4084 4441 \n",
       "L 1178 384 \n",
       "L 3816 384 \n",
       "L 3816 1038 \n",
       "L 4197 1038 \n",
       "L 4197 0 \n",
       "L 288 0 \n",
       "z\n",
       "\" transform=\"scale(0.015625)\"/>\n",
       "      </defs>\n",
       "      <use xlink:href=\"#DejaVuSerif-43\"/>\n",
       "      <use xlink:href=\"#DejaVuSerif-69\" x=\"76.513672\"/>\n",
       "      <use xlink:href=\"#DejaVuSerif-74\" x=\"108.496094\"/>\n",
       "      <use xlink:href=\"#DejaVuSerif-65\" x=\"148.681641\"/>\n",
       "      <use xlink:href=\"#DejaVuSerif-20\" x=\"207.861328\"/>\n",
       "      <use xlink:href=\"#DejaVuSerif-77\" x=\"239.648438\"/>\n",
       "      <use xlink:href=\"#DejaVuSerif-69\" x=\"325.244141\"/>\n",
       "      <use xlink:href=\"#DejaVuSerif-74\" x=\"357.226562\"/>\n",
       "      <use xlink:href=\"#DejaVuSerif-68\" x=\"397.412109\"/>\n",
       "      <use xlink:href=\"#DejaVuSerif-20\" x=\"461.816406\"/>\n",
       "      <use xlink:href=\"#DejaVuSerif-5a\" x=\"493.603516\"/>\n",
       "      <use xlink:href=\"#DejaVuSerif-65\" x=\"563.085938\"/>\n",
       "      <use xlink:href=\"#DejaVuSerif-6e\" x=\"622.265625\"/>\n",
       "      <use xlink:href=\"#DejaVuSerif-6f\" x=\"686.669922\"/>\n",
       "      <use xlink:href=\"#DejaVuSerif-64\" x=\"746.875\"/>\n",
       "      <use xlink:href=\"#DejaVuSerif-6f\" x=\"810.888672\"/>\n",
       "     </g>\n",
       "    </a>\n",
       "   </g>\n",
       "  </g>\n",
       " </g>\n",
       " <defs>\n",
       "  <clipPath id=\"p4c05fc0425\">\n",
       "   <rect x=\"55.120312\" y=\"32.196094\" width=\"558\" height=\"326.16\"/>\n",
       "  </clipPath>\n",
       " </defs>\n",
       "</svg>\n"
      ],
      "text/plain": [
       "<Figure size 720x432 with 1 Axes>"
      ]
     },
     "metadata": {
      "needs_background": "light"
     },
     "output_type": "display_data"
    }
   ],
   "source": [
    "\n",
    "theory_plot(theory_frame)"
   ]
  },
  {
   "cell_type": "code",
   "execution_count": null,
   "metadata": {
    "ExecuteTime": {
     "end_time": "2022-08-31T18:28:52.693904Z",
     "start_time": "2022-08-31T18:28:52.693897Z"
    }
   },
   "outputs": [],
   "source": [
    "theory_frame.to_csv('theory_frame.csv')"
   ]
  },
  {
   "cell_type": "markdown",
   "metadata": {},
   "source": [
    "# data"
   ]
  },
  {
   "cell_type": "code",
   "execution_count": null,
   "metadata": {
    "ExecuteTime": {
     "end_time": "2022-08-31T18:28:52.694527Z",
     "start_time": "2022-08-31T18:28:52.694520Z"
    }
   },
   "outputs": [],
   "source": [
    "keles_22_species = ['Al', 'Fe', 'Ca', 'Mg', 'Na', 'K', 'Ti', 'Mn', 'Ba', 'Sr', 'S', 'Zr', 'V', 'Cr']\n",
    "\n",
    "keles_22_SNRs = np.array([np.nan,np.nan,np.nan,np.nan,np.nan,np.nan,\n",
    "                          np.nan,np.nan,np.nan,np.nan,np.nan,np.nan,np.nan,np.nan])\n",
    "frame = keles_22_frame = pd.DataFrame({'SNR': keles_22_SNRs,\n",
    "                             'species': keles_22_species})\n",
    "\n",
    "frame['lead'] = 'keles'\n",
    "frame['planet'] = '55 Cancri e'\n",
    "frame['observation'] = 'transit'\n",
    "frame['instrument'] = 'PEPSI'\n",
    "frame['year'] = 2022\n",
    "frame['new data?'] = True\n",
    "frame['analysis type'] = 'parameterized model grid'\n",
    "frame['tellurics'] = 'masking'\n",
    "frame['url']= 'https://academic.oup.com/mnras/article/513/1/1544/6555041'"
   ]
  },
  {
   "cell_type": "code",
   "execution_count": null,
   "metadata": {
    "ExecuteTime": {
     "end_time": "2022-08-31T18:28:52.695748Z",
     "start_time": "2022-08-31T18:28:52.695741Z"
    }
   },
   "outputs": [],
   "source": [
    "# also a theory paper for ARIEL sims?\n",
    "guilluy_20b_species = ['H2O', 'CO', 'HCN', 'CH4', 'NH3', 'C2H2']\n",
    "\n",
    "guilluy_20b_SNRs = np.array([9.6, 5.5, 9.9, 5.6, 5.3, 6.1])\n",
    "frame = guilluy_20b_frame = pd.DataFrame({'SNR': guilluy_20b_SNRs,\n",
    "                             'species': guilluy_20b_species})\n",
    "\n",
    "frame['lead'] = 'guilluy'\n",
    "frame['planet'] = 'HD 209458 b'\n",
    "frame['observation'] = 'emission'\n",
    "frame['instrument'] = 'GIANO-B'\n",
    "frame['year'] = 2020\n",
    "frame['new data?'] = False\n",
    "frame['analysis type'] = 'parameterized model grid'\n",
    "frame['tellurics'] = 'PCA'\n",
    "frame['url']= 'https://link.springer.com/content/pdf/10.1007/s10686-021-09824-7.pdf'"
   ]
  },
  {
   "cell_type": "code",
   "execution_count": null,
   "metadata": {
    "ExecuteTime": {
     "end_time": "2022-08-31T18:28:52.696524Z",
     "start_time": "2022-08-31T18:28:52.696517Z"
    }
   },
   "outputs": [],
   "source": [
    "hoeijmakers_20b_species = ['Fe', 'Fe+', 'Cr+', 'Na', 'Mg']\n",
    "\n",
    "hoeijmakers_20b_SNRs = np.array([3.45, 4.6, 3.69, 3.40, 3.33])\n",
    "\n",
    "frame = hoeijmakers_20b_frame = pd.DataFrame({'SNR': hoeijmakers_20b_SNRs,\n",
    "                             'species': hoeijmakers_20b_species})\n",
    "\n",
    "frame['lead'] = 'J Hoeijmakers'\n",
    "frame['planet'] = 'MASCARA-2 b'\n",
    "frame['observation'] = 'emission'\n",
    "frame['instrument'] = 'EXPRES'\n",
    "frame['year'] = 2020\n",
    "frame['new data?'] = True\n",
    "frame['analysis type'] = 'isothermal model grid'\n",
    "frame['tellurics'] = 'Molecfit'\n",
    "frame['url']= 'https://www.aanda.org/articles/aa/pdf/2020/09/aa37437-20.pdf'"
   ]
  },
  {
   "cell_type": "code",
   "execution_count": null,
   "metadata": {
    "ExecuteTime": {
     "end_time": "2022-08-31T18:28:52.697500Z",
     "start_time": "2022-08-31T18:28:52.697494Z"
    }
   },
   "outputs": [],
   "source": [
    "crossfield_11_species = ['']\n",
    "\n",
    "crossfield_11_SNRs = np.array([np.nan])\n",
    "\n",
    "frame = crossfield_11_frame = pd.DataFrame({'SNR': crossfield_11_SNRs,\n",
    "                             'species': crossfield_11_species})\n",
    "\n",
    "frame['lead'] = 'crossfield'\n",
    "frame['planet'] = 'GJ 1214 b'\n",
    "frame['observation'] = 'transit'\n",
    "frame['instrument'] = 'NIRSPEC'\n",
    "frame['year'] = 2011\n",
    "frame['new data?'] = True\n",
    "frame['analysis type'] = 'self-consistent model grid (PHOENIX)'\n",
    "frame['tellurics'] = 'XTELLCORR'\n",
    "frame['url']= 'https://iopscience.iop.org/article/10.1088/0004-637X/736/2/132/pdf'"
   ]
  },
  {
   "cell_type": "code",
   "execution_count": null,
   "metadata": {
    "ExecuteTime": {
     "end_time": "2022-08-31T18:28:52.698209Z",
     "start_time": "2022-08-31T18:28:52.698203Z"
    }
   },
   "outputs": [],
   "source": [
    "yan_22_species = ['CO']\n",
    "\n",
    "yan_22_SNRs = np.array([0])\n",
    "\n",
    "frame = yan_22_frame = pd.DataFrame({'SNR': yan_22_SNRs,\n",
    "                             'species': yan_22_species})\n",
    "\n",
    "frame['lead'] = 'yan'\n",
    "frame['planet'] = 'WASP-33 b'\n",
    "frame['observation'] = 'emission'\n",
    "frame['instrument'] = 'GIANO'\n",
    "frame['year'] = 2022\n",
    "frame['new data?'] = True\n",
    "frame['analysis type'] = 'self-consistent model grid (petitRADTRANS)'\n",
    "frame['tellurics'] = 'molecfit, sysrem'\n",
    "frame['url']= 'https://www.aanda.org/articles/aa/pdf/2022/05/aa43503-22.pdf'"
   ]
  },
  {
   "cell_type": "code",
   "execution_count": null,
   "metadata": {
    "ExecuteTime": {
     "end_time": "2022-08-31T18:28:52.699180Z",
     "start_time": "2022-08-31T18:28:52.699171Z"
    }
   },
   "outputs": [],
   "source": [
    "zhang_22_species = ['H alpha', 'H beta', 'Ca+', 'Na', 'Mg', 'Fe', 'Fe+', 'Cr', 'Ca']\n",
    "\n",
    "zhang_22_SNRs = np.array([14.8, 4.8, 9, 12.1, 7, 25.3, 11.8, 6.7, 6.3])\n",
    "\n",
    "frame = zhang_22_frame = pd.DataFrame({'SNR': zhang_22_SNRs,\n",
    "                             'species': zhang_22_species})\n",
    "\n",
    "frame['lead'] = 'Y Zhang'\n",
    "frame['planet'] = 'MASCARA-4 b'\n",
    "frame['observation'] = 'emission'\n",
    "frame['instrument'] = 'ESPRESSO'\n",
    "frame['year'] = 2022\n",
    "frame['new data?'] = True\n",
    "frame['analysis type'] = 'line-fitting, self-consistent model grid (petitRADTRANS)'\n",
    "frame['tellurics'] = 'molecfit'\n",
    "frame['url']= 'https://arxiv.org/abs/2208.11427'"
   ]
  },
  {
   "cell_type": "code",
   "execution_count": null,
   "metadata": {
    "ExecuteTime": {
     "end_time": "2022-08-31T18:28:52.699848Z",
     "start_time": "2022-08-31T18:28:52.699843Z"
    }
   },
   "outputs": [],
   "source": [
    "yan_22_2_species = ['CO']\n",
    "\n",
    "yan_22_2_SNRs = np.array([0])\n",
    "\n",
    "frame = yan_22_2_frame = pd.DataFrame({'SNR': yan_22_2_SNRs,\n",
    "                             'species': yan_22_2_species})\n",
    "\n",
    "frame['lead'] = 'yan'\n",
    "frame['planet'] = 'WASP-189 b'\n",
    "frame['observation'] = 'emission'\n",
    "frame['instrument'] = 'GIANO'\n",
    "frame['year'] = 2022\n",
    "frame['new data?'] = True\n",
    "frame['analysis type'] = 'self-consistent model grid (petitRADTRANS)'\n",
    "frame['tellurics'] = 'molecfit, sysrem'\n",
    "frame['url']= 'https://www.aanda.org/articles/aa/pdf/2022/05/aa43503-22.pdf'"
   ]
  },
  {
   "cell_type": "code",
   "execution_count": null,
   "metadata": {
    "ExecuteTime": {
     "end_time": "2022-08-31T18:28:52.700946Z",
     "start_time": "2022-08-31T18:28:52.700941Z"
    }
   },
   "outputs": [],
   "source": [
    "czesla_22_species = ['H alpha', 'He']\n",
    "\n",
    "czesla_22_SNRs = np.array([np.nan, np.nan])\n",
    "\n",
    "frame = czesla_22_frame = pd.DataFrame({'SNR': czesla_22_SNRs,\n",
    "                             'species': czesla_22_species})\n",
    "\n",
    "frame['lead'] = 'czesla'\n",
    "frame['planet'] = 'HAT-P-32 b'\n",
    "frame['observation'] = 'transit'\n",
    "frame['instrument'] = 'CARMENES'\n",
    "frame['year'] = 2022\n",
    "frame['new data?'] = True\n",
    "frame['analysis type'] = 'self-consistent model grid'\n",
    "frame['tellurics'] = 'molecfit'\n",
    "frame['url']= 'https://ui.adsabs.harvard.edu/abs/2022A%26A...657A...6C/abstract'"
   ]
  },
  {
   "cell_type": "code",
   "execution_count": null,
   "metadata": {
    "ExecuteTime": {
     "end_time": "2022-08-31T18:28:52.701493Z",
     "start_time": "2022-08-31T18:28:52.701488Z"
    }
   },
   "outputs": [],
   "source": [
    "gibson_20_species = ['Fe', 'Fe+']\n",
    "\n",
    "gibson_20_SNRs = np.array([8, 0])\n",
    "\n",
    "frame = gibson_20_frame = pd.DataFrame({'SNR': gibson_20_SNRs,\n",
    "                             'species': gibson_20_species})\n",
    "\n",
    "frame['lead'] = 'gibson'\n",
    "frame['planet'] = 'WASP-121 b'\n",
    "frame['observation'] = 'transit'\n",
    "frame['instrument'] = 'UVES'\n",
    "frame['year'] = 2011\n",
    "frame['new data?'] = True\n",
    "frame['analysis type'] = 'self-consistent model grid (PHOENIX)'\n",
    "frame['tellurics'] = ''\n",
    "frame['url']= 'https://ui.adsabs.harvard.edu/abs/2020MNRAS.493.2215G/abstract'"
   ]
  },
  {
   "cell_type": "code",
   "execution_count": null,
   "metadata": {
    "ExecuteTime": {
     "end_time": "2022-08-31T18:28:52.701972Z",
     "start_time": "2022-08-31T18:28:52.701967Z"
    }
   },
   "outputs": [],
   "source": [
    "lockwood_14_species = ['H2O']\n",
    "\n",
    "lockwood_14_SNRs = np.array([6.])\n",
    "\n",
    "frame = lockwood_14_frame = pd.DataFrame({'SNR': lockwood_14_SNRs,\n",
    "                             'species': lockwood_14_species})\n",
    "\n",
    "frame['lead'] = 'lockwood'\n",
    "frame['planet'] = 'Tau bootis b'\n",
    "frame['observation'] = 'transit'\n",
    "frame['instrument'] = 'NIRSPEC'\n",
    "frame['year'] = 2014\n",
    "frame['new data?'] = True\n",
    "frame['analysis type'] = 'self-consistent models (MOOG)'\n",
    "frame['tellurics'] = 'TERRASPEC'\n",
    "frame['url']= 'https://iopscience.iop.org/article/10.1088/2041-8205/783/2/L29/pdf'"
   ]
  },
  {
   "cell_type": "code",
   "execution_count": null,
   "metadata": {
    "ExecuteTime": {
     "end_time": "2022-08-31T18:28:52.702416Z",
     "start_time": "2022-08-31T18:28:52.702411Z"
    }
   },
   "outputs": [],
   "source": [
    "stangret_22_species = ['Fe', 'Fe+', 'Ti', 'H alpha', 'H beta', 'Ca+']\n",
    "\n",
    "stangret_22_SNRs = np.array([5.1, 5.4, 4.2, 0, 0, 0])\n",
    "\n",
    "frame = stangret_22_frame = pd.DataFrame({'SNR': stangret_22_SNRs,\n",
    "                             'species': stangret_22_species})\n",
    "\n",
    "frame['lead'] = 'F Stangret'\n",
    "frame['planet'] = 'WASP-189 b'\n",
    "frame['observation'] = 'transit'\n",
    "frame['instrument'] = 'HARPS-N, HARPS'\n",
    "frame['year'] = 2022\n",
    "frame['new data?'] = True\n",
    "frame['analysis type'] = 'self-consistent models (petitRADTRANS), line-fitting'\n",
    "frame['tellurics'] = 'molecfit'\n",
    "frame['url']= 'https://www.aanda.org/articles/aa/pdf/2022/06/aa41799-21.pdf'"
   ]
  },
  {
   "cell_type": "code",
   "execution_count": null,
   "metadata": {
    "ExecuteTime": {
     "end_time": "2022-08-31T18:28:52.703078Z",
     "start_time": "2022-08-31T18:28:52.703071Z"
    }
   },
   "outputs": [],
   "source": [
    "stangret_22_2_species = ['Al I', 'B I', 'Ca I', 'Cr I', 'Fe I', 'Fe II', 'H2O,' 'K I', 'Li I', 'Mg I', 'Mg II', 'N I', 'Na I', 'Si I', 'Si II', 'Ti I', 'TiO', 'V I', 'V II', 'VO', 'Y I']\n",
    "\n",
    "stangret_22_2_SNRs = np.zeros(len(stangret_22_2_species)) * np.nan\n",
    "\n",
    "frame = stangret_22_2_frame = pd.DataFrame({'SNR': stangret_22_2_SNRs,\n",
    "                             'species': stangret_22_2_species})\n",
    "\n",
    "frame['lead'] = 'F Stangret'\n",
    "frame['planet'] = 'HAT-P-57 b'\n",
    "frame['observation'] = 'transit'\n",
    "frame['instrument'] = 'HARPS-N, HARPS'\n",
    "frame['year'] = 2022\n",
    "frame['new data?'] = True\n",
    "frame['analysis type'] = 'self-consistent models (petitRADTRANS), line-fitting'\n",
    "frame['tellurics'] = 'molecfit'\n",
    "frame['url']= 'https://www.aanda.org/articles/aa/pdf/2022/06/aa41799-21.pdf'"
   ]
  },
  {
   "cell_type": "code",
   "execution_count": null,
   "metadata": {
    "ExecuteTime": {
     "end_time": "2022-08-31T18:28:52.703738Z",
     "start_time": "2022-08-31T18:28:52.703732Z"
    }
   },
   "outputs": [],
   "source": [
    "stangret_22_3_species = ['Al I', 'B I', 'Ca I', 'Cr I', 'Fe I', 'Fe II', 'H2O,' 'K I', 'Li I', 'Mg I', 'Mg II', 'N I', 'Na I', 'Si I', 'Si II', 'Ti I', 'TiO', 'V I', 'V II', 'VO', 'Y I']\n",
    "\n",
    "stangret_22_3_SNRs = np.zeros(len(stangret_22_2_species)) * np.nan\n",
    "\n",
    "frame = stangret_22_3_frame = pd.DataFrame({'SNR': stangret_22_3_SNRs,\n",
    "                             'species': stangret_22_3_species})\n",
    "\n",
    "frame['lead'] = 'F Stangret'\n",
    "frame['planet'] = 'KELT-17 b'\n",
    "frame['observation'] = 'transit'\n",
    "frame['instrument'] = 'HARPS-N, HARPS'\n",
    "frame['year'] = 2022\n",
    "frame['new data?'] = True\n",
    "frame['analysis type'] = 'self-consistent models (petitRADTRANS), line-fitting'\n",
    "frame['tellurics'] = 'molecfit'\n",
    "frame['url']= 'https://www.aanda.org/articles/aa/pdf/2022/06/aa41799-21.pdf'"
   ]
  },
  {
   "cell_type": "code",
   "execution_count": null,
   "metadata": {
    "ExecuteTime": {
     "end_time": "2022-08-31T18:28:52.704682Z",
     "start_time": "2022-08-31T18:28:52.704677Z"
    }
   },
   "outputs": [],
   "source": [
    "stangret_22_4_species = ['Al I', 'B I', 'Ca I', 'Cr I', 'Fe I', 'Fe II', 'H2O,' 'K I', 'Li I', 'Mg I', 'Mg II', 'N I', 'Na I', 'Si I', 'Si II', 'Ti I', 'TiO', 'V I', 'V II', 'VO', 'Y I']\n",
    "\n",
    "stangret_22_4_SNRs = np.zeros(len(stangret_22_2_species)) * np.nan\n",
    "\n",
    "frame = stangret_22_4_frame = pd.DataFrame({'SNR': stangret_22_4_SNRs,\n",
    "                             'species': stangret_22_4_species})\n",
    "\n",
    "frame['lead'] = 'F Stangret'\n",
    "frame['planet'] = 'KELT-21 b'\n",
    "frame['observation'] = 'transit'\n",
    "frame['instrument'] = 'HARPS-N, HARPS'\n",
    "frame['year'] = 2022\n",
    "frame['new data?'] = True\n",
    "frame['analysis type'] = 'self-consistent models (petitRADTRANS), line-fitting'\n",
    "frame['tellurics'] = 'molecfit'\n",
    "frame['url']= 'https://www.aanda.org/articles/aa/pdf/2022/06/aa41799-21.pdf'"
   ]
  },
  {
   "cell_type": "code",
   "execution_count": null,
   "metadata": {
    "ExecuteTime": {
     "end_time": "2022-08-31T18:28:52.705483Z",
     "start_time": "2022-08-31T18:28:52.705477Z"
    }
   },
   "outputs": [],
   "source": [
    "stangret_22_5_species = ['Al I', 'B I', 'Ca I', 'Cr I', 'Fe I', 'Fe II', 'H2O,' 'K I', 'Li I', 'Mg I', 'Mg II', 'N I', 'Na I', 'Si I', 'Si II', 'Ti I', 'TiO', 'V I', 'V II', 'VO', 'Y I']\n",
    "\n",
    "stangret_22_5_SNRs = np.zeros(len(stangret_22_2_species)) * np.nan\n",
    "\n",
    "frame = stangret_22_5_frame = pd.DataFrame({'SNR': stangret_22_5_SNRs,\n",
    "                             'species': stangret_22_5_species})\n",
    "\n",
    "frame['lead'] = 'F Stangret'\n",
    "frame['planet'] = 'KELT-7 b'\n",
    "frame['observation'] = 'transit'\n",
    "frame['instrument'] = 'HARPS-N, HARPS'\n",
    "frame['year'] = 2022\n",
    "frame['new data?'] = True\n",
    "frame['analysis type'] = 'self-consistent models (petitRADTRANS), line-fitting'\n",
    "frame['tellurics'] = 'molecfit'\n",
    "frame['url']= 'https://www.aanda.org/articles/aa/pdf/2022/06/aa41799-21.pdf'"
   ]
  },
  {
   "cell_type": "code",
   "execution_count": null,
   "metadata": {
    "ExecuteTime": {
     "end_time": "2022-08-31T18:28:52.706369Z",
     "start_time": "2022-08-31T18:28:52.706361Z"
    }
   },
   "outputs": [],
   "source": [
    "stangret_22_6_species = ['Al I', 'B I', 'Ca I', 'Cr I', 'Fe I', 'Fe II', 'H2O,' 'K I', 'Li I', 'Mg I', 'Mg II', 'N I', 'Na I', 'Si I', 'Si II', 'Ti I', 'TiO', 'V I', 'V II', 'VO', 'Y I']\n",
    "\n",
    "stangret_22_6_SNRs = np.zeros(len(stangret_22_2_species)) * np.nan\n",
    "\n",
    "frame = stangret_22_6_frame = pd.DataFrame({'SNR': stangret_22_6_SNRs,\n",
    "                             'species': stangret_22_6_species})\n",
    "\n",
    "frame['lead'] = 'F Stangret'\n",
    "frame['planet'] = 'KELT-17 b'\n",
    "frame['observation'] = 'transit'\n",
    "frame['instrument'] = 'HARPS-N, HARPS'\n",
    "frame['year'] = 2022\n",
    "frame['new data?'] = True\n",
    "frame['analysis type'] = 'self-consistent models (petitRADTRANS), line-fitting'\n",
    "frame['tellurics'] = 'molecfit'\n",
    "frame['url']= 'https://www.aanda.org/articles/aa/pdf/2022/06/aa41799-21.pdf'"
   ]
  },
  {
   "cell_type": "code",
   "execution_count": null,
   "metadata": {
    "ExecuteTime": {
     "end_time": "2022-08-31T18:28:52.707045Z",
     "start_time": "2022-08-31T18:28:52.707039Z"
    }
   },
   "outputs": [],
   "source": [
    "stangret_22_7_species = ['Al I', 'B I', 'Ca I', 'Cr I', 'Fe I', 'Fe II', 'H2O,' 'K I', 'Li I', 'Mg I', 'Mg II', 'N I', 'Na I', 'Si I', 'Si II', 'Ti I', 'TiO', 'V I', 'V II', 'VO', 'Y I']\n",
    "\n",
    "stangret_22_7_SNRs = np.zeros(len(stangret_22_2_species)) * np.nan\n",
    "\n",
    "frame = stangret_22_7_frame = pd.DataFrame({'SNR': stangret_22_7_SNRs,\n",
    "                             'species': stangret_22_7_species})\n",
    "\n",
    "frame['lead'] = 'F Stangret'\n",
    "frame['planet'] = 'MASCARA-1 b'\n",
    "frame['observation'] = 'transit'\n",
    "frame['instrument'] = 'HARPS-N, HARPS'\n",
    "frame['year'] = 2022\n",
    "frame['new data?'] = True\n",
    "frame['analysis type'] = 'self-consistent models (petitRADTRANS), line-fitting'\n",
    "frame['tellurics'] = 'molecfit'\n",
    "frame['url']= 'https://www.aanda.org/articles/aa/pdf/2022/06/aa41799-21.pdf'"
   ]
  },
  {
   "cell_type": "code",
   "execution_count": null,
   "metadata": {
    "ExecuteTime": {
     "end_time": "2022-08-31T18:28:52.707684Z",
     "start_time": "2022-08-31T18:28:52.707678Z"
    }
   },
   "outputs": [],
   "source": [
    "esteves_17_species = ['H2O']\n",
    "\n",
    "esteves_17_SNRs = np.array([np.nan])\n",
    "\n",
    "frame = esteves_17_frame = pd.DataFrame({'SNR': esteves_17_SNRs,\n",
    "                             'species': esteves_17_species})\n",
    "\n",
    "frame['lead'] = 'esteves'\n",
    "frame['planet'] = '55 Cancri e'\n",
    "frame['observation'] = 'transit'\n",
    "frame['instrument'] = 'HDS, ESPaDOnS'\n",
    "frame['year'] = 2017\n",
    "frame['new data?'] = True\n",
    "frame['analysis type'] = 'parameterized forward models'\n",
    "frame['tellurics'] = 'sysrem'\n",
    "frame['url']= 'https://iopscience.iop.org/article/10.3847/1538-3881/aa7133/pdf'"
   ]
  },
  {
   "cell_type": "code",
   "execution_count": null,
   "metadata": {
    "ExecuteTime": {
     "end_time": "2022-08-31T18:28:52.708346Z",
     "start_time": "2022-08-31T18:28:52.708341Z"
    }
   },
   "outputs": [],
   "source": [
    "cauley_17_species = ['H alpha', 'Ca+']\n",
    "\n",
    "cauley_17_SNRs = np.array([0, 0])\n",
    "\n",
    "frame = cauley_17_frame = pd.DataFrame({'SNR': cauley_17_SNRs,\n",
    "                             'species': cauley_17_species})\n",
    "\n",
    "frame['lead'] = 'Cauley'\n",
    "frame['planet'] = 'HD 189733 b'\n",
    "frame['observation'] = 'transit'\n",
    "frame['instrument'] = 'HARPS, HIRES'\n",
    "frame['year'] = 2017\n",
    "frame['new data?'] = False\n",
    "frame['analysis type'] = 'line-fitting'\n",
    "frame['tellurics'] = 'molecfit'\n",
    "frame['url']= 'https://iopscience.iop.org/article/10.3847/1538-3881/aa6a15/pdf'"
   ]
  },
  {
   "cell_type": "code",
   "execution_count": null,
   "metadata": {
    "ExecuteTime": {
     "end_time": "2022-08-31T18:28:52.708901Z",
     "start_time": "2022-08-31T18:28:52.708896Z"
    }
   },
   "outputs": [],
   "source": [
    "piskorz_16_species = ['H2O']\n",
    "\n",
    "piskorz_16_SNRs = np.array([np.nan])\n",
    "\n",
    "frame = piskorz_16_frame = pd.DataFrame({'SNR': piskorz_16_SNRs,\n",
    "                             'species': piskorz_16_species})\n",
    "\n",
    "frame['lead'] = 'piskorz'\n",
    "frame['planet'] = 'HD 88133 b'\n",
    "frame['observation'] = 'emission'\n",
    "frame['instrument'] = 'HDS, ESPaDOnS'\n",
    "frame['year'] = 2016\n",
    "frame['new data?'] = True\n",
    "frame['analysis type'] = 'self-consistent model (SCARLET)'\n",
    "frame['tellurics'] = 'PCA'\n",
    "frame['url']= 'https://ui.adsabs.harvard.edu/abs/2016ApJ...832..131P/abstract'"
   ]
  },
  {
   "cell_type": "code",
   "execution_count": null,
   "metadata": {
    "ExecuteTime": {
     "end_time": "2022-08-31T18:28:52.709434Z",
     "start_time": "2022-08-31T18:28:52.709428Z"
    }
   },
   "outputs": [],
   "source": [
    "piskorz_17_species = ['H2O', 'CH4']\n",
    "\n",
    "piskorz_17_SNRs = np.array([0, np.nan])\n",
    "\n",
    "frame = piskorz_17_frame = pd.DataFrame({'SNR': piskorz_17_SNRs,\n",
    "                             'species': piskorz_17_species})\n",
    "\n",
    "frame['lead'] = 'piskorz'\n",
    "frame['planet'] = 'ups And b'\n",
    "frame['observation'] = 'emission'\n",
    "frame['instrument'] = 'NIRSPEC'\n",
    "frame['year'] = 2017\n",
    "frame['new data?'] = True\n",
    "frame['analysis type'] = 'self-consistent model (SCARLET)'\n",
    "frame['tellurics'] = 'PCA'\n",
    "frame['url']= 'https://iopscience.iop.org/article/10.3847/1538-3881/aa7dd8/pdf'"
   ]
  },
  {
   "cell_type": "code",
   "execution_count": null,
   "metadata": {
    "ExecuteTime": {
     "end_time": "2022-08-31T18:28:52.710002Z",
     "start_time": "2022-08-31T18:28:52.709996Z"
    }
   },
   "outputs": [],
   "source": [
    "# todo: check that all are 55 cancri e\n",
    "hoeijmakers_15_species = ['TiO']\n",
    "\n",
    "hoeijmakers_15_SNRs = np.array([np.nan])\n",
    "\n",
    "frame = hoeijmakers_15_frame = pd.DataFrame({'SNR': hoeijmakers_15_SNRs,\n",
    "                             'species': hoeijmakers_15_species})\n",
    "\n",
    "frame['lead'] = 'J Hoeijmakers'\n",
    "frame['planet'] = 'HD 209458 b'\n",
    "frame['observation'] = 'transit'\n",
    "frame['instrument'] = 'HDS'\n",
    "frame['year'] = 2015\n",
    "frame['new data?'] = True\n",
    "frame['analysis type'] = 'self-consistent model grid'\n",
    "frame['tellurics'] = 'normalization'\n",
    "frame['url']= 'https://www.aanda.org/articles/aa/pdf/2015/03/aa24794-14.pdf'"
   ]
  },
  {
   "cell_type": "code",
   "execution_count": null,
   "metadata": {
    "ExecuteTime": {
     "end_time": "2022-08-31T18:28:52.710717Z",
     "start_time": "2022-08-31T18:28:52.710712Z"
    }
   },
   "outputs": [],
   "source": [
    "# todo: distinguish between HARPS, HARPS-N\n",
    "# todo: add telescope?\n",
    "# todo: get statistics on the telescope\n",
    "yan_21_species = ['H alpha', 'H beta', 'H gamma']\n",
    "\n",
    "yan_21_SNRs = np.array([20, 8, 2.3])\n",
    "\n",
    "frame = yan_21_frame = pd.DataFrame({'SNR': yan_21_SNRs,\n",
    "                             'species': yan_21_species})\n",
    "\n",
    "frame['lead'] = 'yan'\n",
    "frame['planet'] = 'WASP-33 b'\n",
    "frame['observation'] = 'transit'\n",
    "frame['instrument'] = 'CARMENES, HARPS-N'\n",
    "frame['year'] = 2021\n",
    "frame['new data?'] = True\n",
    "frame['analysis type'] = 'self-consistent model grid'\n",
    "frame['tellurics'] = 'theoretical Earth spectrum'\n",
    "frame['url']= 'https://ui.adsabs.harvard.edu/abs/2021A%26A...645A..22Y/abstract'"
   ]
  },
  {
   "cell_type": "code",
   "execution_count": null,
   "metadata": {
    "ExecuteTime": {
     "end_time": "2022-08-31T18:28:52.711498Z",
     "start_time": "2022-08-31T18:28:52.711492Z"
    }
   },
   "outputs": [],
   "source": [
    "# non-transiting!\n",
    "buzard_20_species = ['H2O']\n",
    "\n",
    "buzard_20_SNRs = np.array([6.5])\n",
    "\n",
    "frame = buzard_20_frame = pd.DataFrame({'SNR': buzard_20_SNRs,\n",
    "                             'species': buzard_20_species})\n",
    "\n",
    "frame['lead'] = 'buzard'\n",
    "frame['planet'] = 'HD 187123 b'\n",
    "frame['observation'] = 'emission'\n",
    "frame['instrument'] = 'NIRSPEC'\n",
    "frame['year'] = 2020\n",
    "frame['new data?'] = True\n",
    "frame['analysis type'] = 'self-consistent model grid'\n",
    "frame['tellurics'] = 'PCA, molecfit'\n",
    "frame['url']= 'https://iopscience.iop.org/article/10.3847/1538-3881/ab8f9c/pdf'"
   ]
  },
  {
   "cell_type": "code",
   "execution_count": null,
   "metadata": {
    "ExecuteTime": {
     "end_time": "2022-08-31T18:28:52.712169Z",
     "start_time": "2022-08-31T18:28:52.712164Z"
    }
   },
   "outputs": [],
   "source": [
    "# they think the detection is dubious — it's distinct in Kp/Vsys space from the older line list,\n",
    "# and it's at a lower significance.\n",
    "serindag_21_species = ['TiO']\n",
    "\n",
    "serindag_21_SNRs = np.array([4.3])\n",
    "\n",
    "frame = serindag_21_frame = pd.DataFrame({'SNR': serindag_21_SNRs,\n",
    "                             'species': serindag_21_species})\n",
    "\n",
    "frame['lead'] = 'serindag'\n",
    "frame['planet'] = 'WASP-33 b'\n",
    "frame['observation'] = 'transit'\n",
    "frame['instrument'] = 'HDS'\n",
    "frame['year'] = 2021\n",
    "frame['new data?'] = False\n",
    "frame['analysis type'] = 'self-consistent model grid'\n",
    "frame['tellurics'] = 'masking, SVD'\n",
    "frame['url']= 'https://ui.adsabs.harvard.edu/abs/2021A%26A...645A..90S/abstract'"
   ]
  },
  {
   "cell_type": "code",
   "execution_count": null,
   "metadata": {
    "ExecuteTime": {
     "end_time": "2022-08-31T18:28:52.712746Z",
     "start_time": "2022-08-31T18:28:52.712740Z"
    }
   },
   "outputs": [],
   "source": [
    "# todo: check that all are 55 cancri e\n",
    "jindal_20_species = ['TiO', 'VO']\n",
    "\n",
    "jindal_20_SNRs = np.array([np.nan, np.nan])\n",
    "\n",
    "frame = jindal_20_frame = pd.DataFrame({'SNR': jindal_20_SNRs,\n",
    "                             'species': jindal_20_species})\n",
    "\n",
    "frame['lead'] = 'jindal'\n",
    "frame['planet'] = '55 Cancri e'\n",
    "frame['observation'] = 'transit'\n",
    "frame['instrument'] = 'GRACES'\n",
    "frame['year'] = 2018\n",
    "frame['new data?'] = True\n",
    "frame['analysis type'] = 'self-consistent model grid'\n",
    "frame['tellurics'] = 'sysrem'\n",
    "frame['url']= 'https://iopscience.iop.org/article/10.3847/1538-3881/aba1eb/meta'"
   ]
  },
  {
   "cell_type": "code",
   "execution_count": null,
   "metadata": {
    "ExecuteTime": {
     "end_time": "2022-08-31T18:28:52.713795Z",
     "start_time": "2022-08-31T18:28:52.713790Z"
    }
   },
   "outputs": [],
   "source": [
    "cont_21_species = ['Fe', 'TiO']\n",
    "\n",
    "cont_21_SNRs = np.array([7.3, 4.9])\n",
    "\n",
    "frame = cont_21_frame = pd.DataFrame({'SNR': cont_21_SNRs,\n",
    "                             'species': cont_21_species})\n",
    "\n",
    "frame['lead'] = 'cont'\n",
    "frame['planet'] = 'WASP-33 b'\n",
    "frame['observation'] = 'transit'\n",
    "frame['instrument'] = 'CARMENES'\n",
    "frame['year'] = 2021\n",
    "frame['new data?'] = True\n",
    "frame['analysis type'] = 'parameterized model grid'\n",
    "frame['tellurics'] = 'sysrem'\n",
    "frame['url']= 'https://arxiv.org/pdf/2105.10230.pdf'"
   ]
  },
  {
   "cell_type": "code",
   "execution_count": null,
   "metadata": {
    "ExecuteTime": {
     "end_time": "2022-08-31T18:28:52.714289Z",
     "start_time": "2022-08-31T18:28:52.714284Z"
    }
   },
   "outputs": [],
   "source": [
    "stangret_20_species = ['Fe', 'Fe+']\n",
    "\n",
    "stangret_20_SNRs = np.array([10.5, 8.6])\n",
    "\n",
    "frame = stangret_20_frame = pd.DataFrame({'SNR': stangret_20_SNRs,\n",
    "                             'species': stangret_20_species})\n",
    "\n",
    "frame['lead'] = 'F Stangret'\n",
    "frame['planet'] = 'KELT-20 b'\n",
    "frame['observation'] = 'transit'\n",
    "frame['instrument'] = 'HARPS-N'\n",
    "frame['year'] = 2020\n",
    "frame['new data?'] = True\n",
    "frame['analysis type'] = 'self-consistent model grid (petitRADTRANS)'\n",
    "frame['tellurics'] = 'sysrem'\n",
    "frame['url']= 'https://www.aanda.org/articles/aa/pdf/2020/06/aa37541-20.pdf'"
   ]
  },
  {
   "cell_type": "code",
   "execution_count": null,
   "metadata": {
    "ExecuteTime": {
     "end_time": "2022-08-31T18:28:52.714943Z",
     "start_time": "2022-08-31T18:28:52.714937Z"
    }
   },
   "outputs": [],
   "source": [
    "casasayas_barris_21_species = ['K']\n",
    "\n",
    "casasayas_barris_21_SNRs = np.array([np.nan])\n",
    "\n",
    "frame = casasayas_barris_21_frame = pd.DataFrame({'SNR': casasayas_barris_21_SNRs,\n",
    "                             'species': casasayas_barris_21_species})\n",
    "\n",
    "frame['lead'] = 'casasayas-barris'\n",
    "frame['planet'] = 'HD 209458 b'\n",
    "frame['observation'] = 'transit'\n",
    "frame['instrument'] = 'UVES'\n",
    "frame['year'] = 2021\n",
    "frame['new data?'] = True\n",
    "frame['analysis type'] = 'parameterized model grid'\n",
    "frame['tellurics'] = 'molecfit + DRP?'\n",
    "frame['url']= 'https://www.aanda.org/articles/aa/pdf/2021/03/aa39539-20.pdf'\n",
    "\n"
   ]
  },
  {
   "cell_type": "code",
   "execution_count": null,
   "metadata": {
    "ExecuteTime": {
     "end_time": "2022-08-31T18:28:52.715511Z",
     "start_time": "2022-08-31T18:28:52.715505Z"
    }
   },
   "outputs": [],
   "source": [
    "deibert_21_species = ['Ca+']\n",
    "\n",
    "deibert_21_SNRs = np.array([0])\n",
    "\n",
    "frame = deibert_21_frame = pd.DataFrame({'SNR': deibert_21_SNRs,\n",
    "                             'species': deibert_21_species})\n",
    "\n",
    "frame['lead'] = 'deibert'\n",
    "frame['planet'] = 'WASP-76 b'\n",
    "frame['observation'] = 'transit'\n",
    "frame['instrument'] = 'GRACES'\n",
    "frame['year'] = 2021\n",
    "frame['new data?'] = True\n",
    "frame['analysis type'] = 'self-consistent model grid (CLOUDY)'\n",
    "frame['tellurics'] = 'sysrem'\n",
    "frame['url']= 'https://iopscience.iop.org/article/10.3847/2041-8213/ac2513/pdf'\n",
    "\n"
   ]
  },
  {
   "cell_type": "code",
   "execution_count": null,
   "metadata": {
    "ExecuteTime": {
     "end_time": "2022-08-31T18:28:52.716150Z",
     "start_time": "2022-08-31T18:28:52.716144Z"
    }
   },
   "outputs": [],
   "source": [
    "deibert_21b_species = ['HCN', 'C2H2', 'NH3']\n",
    "\n",
    "deibert_21b_SNRs = np.array([np.nan, np.nan, np.nan])\n",
    "\n",
    "frame = deibert_21b_frame = pd.DataFrame({'SNR': deibert_21b_SNRs,\n",
    "                             'species': deibert_21b_species})\n",
    "\n",
    "frame['lead'] = 'Deibert'\n",
    "frame['planet'] = '55 Cancri e'\n",
    "frame['observation'] = 'transit'\n",
    "frame['instrument'] = 'CARMENES'\n",
    "frame['year'] = 2021\n",
    "frame['new data?'] = True\n",
    "frame['analysis type'] = ''\n",
    "frame['tellurics'] = ''\n",
    "frame['url']= 'https://iopscience.iop.org/article/10.3847/2041-8213/ac2513/pdf'\n",
    "\n"
   ]
  },
  {
   "cell_type": "code",
   "execution_count": null,
   "metadata": {
    "ExecuteTime": {
     "end_time": "2022-08-31T18:28:52.717069Z",
     "start_time": "2022-08-31T18:28:52.717064Z"
    }
   },
   "outputs": [],
   "source": [
    "ridden_harper_16_species = ['Na', 'Ca+']\n",
    "\n",
    "ridden_harper_16_SNRs = np.array([3, 4.1])\n",
    "\n",
    "frame = ridden_harper_16_frame = pd.DataFrame({'SNR': ridden_harper_16_SNRs,\n",
    "                             'species': ridden_harper_16_species})\n",
    "\n",
    "frame['lead'] = 'ridden-harper'\n",
    "frame['planet'] = '55 Cancri e'\n",
    "frame['observation'] = 'transit'\n",
    "frame['instrument'] = 'UVES, HARPS-N'\n",
    "frame['year'] = 2016\n",
    "frame['new data?'] = True\n",
    "frame['analysis type'] = 'parameterized model grid'\n",
    "frame['tellurics'] = 'PCA'\n",
    "frame['url']= 'https://www.aanda.org/articles/aa/pdf/2016/09/aa28448-16.pdf'\n",
    "\n"
   ]
  },
  {
   "cell_type": "code",
   "execution_count": null,
   "metadata": {
    "ExecuteTime": {
     "end_time": "2022-08-31T18:28:52.717516Z",
     "start_time": "2022-08-31T18:28:52.717511Z"
    }
   },
   "outputs": [],
   "source": [
    "rainer_21_species = ['Fe']\n",
    "\n",
    "rainer_21_SNRs = np.array([0])\n",
    "\n",
    "frame = rainer_21_frame = pd.DataFrame({'SNR': rainer_21_SNRs,\n",
    "                             'species': rainer_21_species})\n",
    "\n",
    "frame['lead'] = 'rainer'\n",
    "frame['planet'] = 'KELT-20 b'\n",
    "frame['observation'] = 'transit'\n",
    "frame['instrument'] = 'HARPS-N'\n",
    "frame['year'] = 2021\n",
    "frame['new data?'] = True\n",
    "frame['analysis type'] = 'parameterized model grid'\n",
    "frame['tellurics'] = 'normalization'\n",
    "frame['url']= 'https://www.aanda.org/articles/aa/pdf/2021/05/aa39247-20.pdf'\n",
    "\n"
   ]
  },
  {
   "cell_type": "code",
   "execution_count": null,
   "metadata": {
    "ExecuteTime": {
     "end_time": "2022-08-31T18:28:52.718066Z",
     "start_time": "2022-08-31T18:28:52.718061Z"
    }
   },
   "outputs": [],
   "source": [
    "# todo: read! it's a retrieval and it's tellurics!\n",
    "#/ have some relative abundances here\n",
    "gibson_22_species = ['K']\n",
    "\n",
    "gibson_22_SNRs = np.array([np.nan])\n",
    "\n",
    "frame = gibson_22_frame = pd.DataFrame({'SNR': gibson_22_SNRs,\n",
    "                             'species': gibson_22_species})\n",
    "\n",
    "frame['lead'] = 'gibson'\n",
    "frame['planet'] = 'WASP-121 b'\n",
    "frame['observation'] = 'transit'\n",
    "frame['instrument'] = 'UVES'\n",
    "frame['year'] = 2022\n",
    "frame['new data?'] = True\n",
    "frame['analysis type'] = 'retrieval'\n",
    "frame['tellurics'] = 'fast-filtering'\n",
    "frame['url']= 'https://academic.oup.com/mnras/article-abstract/512/3/4618/6510825'"
   ]
  },
  {
   "cell_type": "code",
   "execution_count": null,
   "metadata": {
    "ExecuteTime": {
     "end_time": "2022-08-31T18:28:52.718554Z",
     "start_time": "2022-08-31T18:28:52.718548Z"
    }
   },
   "outputs": [],
   "source": [
    "gibson_18_species = ['K']\n",
    "\n",
    "gibson_18_SNRs = np.array([np.nan])\n",
    "\n",
    "frame = gibson_18_frame = pd.DataFrame({'SNR': gibson_18_SNRs,\n",
    "                             'species': gibson_18_species})\n",
    "\n",
    "frame['lead'] = 'gibson'\n",
    "frame['planet'] = 'WASP-31 b'\n",
    "frame['observation'] = 'transit'\n",
    "frame['instrument'] = 'UVES'\n",
    "frame['year'] = 2018\n",
    "frame['new data?'] = True\n",
    "frame['analysis type'] = 'self-consistent model grid'\n",
    "frame['tellurics'] = 'masking, sysrem'\n",
    "frame['url']= 'https://academic.oup.com/mnras/article/482/1/606/5126364'"
   ]
  },
  {
   "cell_type": "code",
   "execution_count": null,
   "metadata": {
    "ExecuteTime": {
     "end_time": "2022-08-31T18:28:52.719764Z",
     "start_time": "2022-08-31T18:28:52.719757Z"
    }
   },
   "outputs": [],
   "source": [
    "pai_asnodkar_22_species = ['Fe+']\n",
    "\n",
    "pai_asnodkar_22_SNRs = np.array([0])\n",
    "\n",
    "frame = pai_asnodkar_22_frame = pd.DataFrame({'SNR': pai_asnodkar_22_SNRs,\n",
    "                             'species': pai_asnodkar_22_species})\n",
    "\n",
    "frame['lead'] = 'pai asnodkar'\n",
    "frame['planet'] = 'KELT-9 b'\n",
    "frame['observation'] = 'transit'\n",
    "frame['instrument'] = 'PEPSI'\n",
    "frame['year'] = 2022\n",
    "frame['new data?'] = True\n",
    "frame['analysis type'] = 'self-consistent model grid'\n",
    "frame['tellurics'] = '?'\n",
    "frame['url']= 'https://iopscience.iop.org/article/10.3847/1538-3881/ac51d2/pdf'"
   ]
  },
  {
   "cell_type": "code",
   "execution_count": null,
   "metadata": {
    "ExecuteTime": {
     "end_time": "2022-08-31T18:28:52.720405Z",
     "start_time": "2022-08-31T18:28:52.720399Z"
    }
   },
   "outputs": [],
   "source": [
    "khalafinejad_18_species = ['Na']\n",
    "\n",
    "khalafinejad_18_SNRs = np.array([np.nan])\n",
    "\n",
    "frame = khalafinejad_18_frame = pd.DataFrame({'SNR': khalafinejad_18_SNRs,\n",
    "                             'species': khalafinejad_18_species})\n",
    "\n",
    "frame['lead'] = 'khalafinejad'\n",
    "frame['planet'] = 'WASP-17 b'\n",
    "frame['observation'] = 'transit'\n",
    "frame['instrument'] = 'MIKE'\n",
    "frame['year'] = 2018\n",
    "frame['new data?'] = True\n",
    "frame['analysis type'] = 'self-consistent model grid'\n",
    "frame['tellurics'] = 'Moehler et al. (2014) transmission spectrum'\n",
    "frame['url']= 'https://www.aanda.org/articles/aa/abs/2018/10/aa32029-17/aa32029-17.html'"
   ]
  },
  {
   "cell_type": "code",
   "execution_count": null,
   "metadata": {
    "ExecuteTime": {
     "end_time": "2022-08-31T18:28:52.720961Z",
     "start_time": "2022-08-31T18:28:52.720956Z"
    }
   },
   "outputs": [],
   "source": [
    "kasper_20_species = ['He']\n",
    "\n",
    "kasper_20_SNRs = np.array([np.nan])\n",
    "\n",
    "frame = kasper_20_frame = pd.DataFrame({'SNR': kasper_20_SNRs,\n",
    "                             'species': kasper_20_species})\n",
    "\n",
    "frame['lead'] = 'kasper'\n",
    "frame['planet'] = 'GJ 1214 b'\n",
    "frame['observation'] = 'transit'\n",
    "frame['instrument'] = 'KECK/NIRSPEC'\n",
    "frame['year'] = 2020\n",
    "frame['new data?'] = True\n",
    "frame['analysis type'] = 'self-consistent model grid'\n",
    "frame['tellurics'] = 'Molecfit'\n",
    "frame['url']= 'https://iopscience.iop.org/article/10.3847/1538-3881/abbee6/meta'"
   ]
  },
  {
   "cell_type": "code",
   "execution_count": null,
   "metadata": {
    "ExecuteTime": {
     "end_time": "2022-08-31T18:28:52.721762Z",
     "start_time": "2022-08-31T18:28:52.721756Z"
    }
   },
   "outputs": [],
   "source": [
    "kasper_20_2_species = ['He']\n",
    "\n",
    "kasper_20_2_SNRs = np.array([np.nan])\n",
    "\n",
    "frame = kasper_20_2_frame = pd.DataFrame({'SNR': kasper_20_2_SNRs,\n",
    "                             'species': kasper_20_2_species})\n",
    "\n",
    "frame['lead'] = 'kasper'\n",
    "frame['planet'] = 'GJ 9827d b'\n",
    "frame['observation'] = 'transit'\n",
    "frame['instrument'] = 'KECK/NIRSPEC'\n",
    "frame['year'] = 2020\n",
    "frame['new data?'] = True\n",
    "frame['analysis type'] = 'self-consistent model grid'\n",
    "frame['tellurics'] = 'Molecfit'\n",
    "frame['url']= 'https://iopscience.iop.org/article/10.3847/1538-3881/abbee6/meta'"
   ]
  },
  {
   "cell_type": "code",
   "execution_count": null,
   "metadata": {
    "ExecuteTime": {
     "end_time": "2022-08-31T18:28:52.722391Z",
     "start_time": "2022-08-31T18:28:52.722385Z"
    }
   },
   "outputs": [],
   "source": [
    "kasper_20_3_species = ['He']\n",
    "\n",
    "kasper_20_3_SNRs = np.array([np.nan])\n",
    "\n",
    "frame = kasper_20_3_frame = pd.DataFrame({'SNR': kasper_20_3_SNRs,\n",
    "                             'species': kasper_20_3_species})\n",
    "\n",
    "frame['lead'] = 'kasper'\n",
    "frame['planet'] = 'GJ 97658 b'\n",
    "frame['observation'] = 'transit'\n",
    "frame['instrument'] = 'KECK/NIRSPEC'\n",
    "frame['year'] = 2020\n",
    "frame['new data?'] = True\n",
    "frame['analysis type'] = 'self-consistent model grid'\n",
    "frame['tellurics'] = 'Molecfit'\n",
    "frame['url']= 'https://iopscience.iop.org/article/10.3847/1538-3881/abbee6/meta'"
   ]
  },
  {
   "cell_type": "code",
   "execution_count": null,
   "metadata": {
    "ExecuteTime": {
     "end_time": "2022-08-31T18:28:52.723451Z",
     "start_time": "2022-08-31T18:28:52.723444Z"
    }
   },
   "outputs": [],
   "source": [
    "kasper_22_species = ['Fe', 'Ni']\n",
    "# todo: add abundances here!\n",
    "\n",
    "kasper_22_SNRs = np.array([9.8, 4.7])\n",
    "\n",
    "frame = kasper_22_frame = pd.DataFrame({'SNR': kasper_22_SNRs,\n",
    "                             'species': kasper_22_species})\n",
    "\n",
    "frame['lead'] = 'kasper'\n",
    "frame['planet'] = 'KELT-20 b'\n",
    "frame['observation'] = 'emission'\n",
    "frame['instrument'] = 'MAROON-X'\n",
    "frame['year'] = 2022\n",
    "frame['new data?'] = True\n",
    "frame['analysis type'] = 'retrieval'\n",
    "frame['tellurics'] = 'SVD (PCA?)'\n",
    "frame['url']= 'https://arxiv.org/pdf/2208.04759.pdf'"
   ]
  },
  {
   "cell_type": "code",
   "execution_count": null,
   "metadata": {
    "ExecuteTime": {
     "end_time": "2022-08-31T18:28:52.724038Z",
     "start_time": "2022-08-31T18:28:52.724033Z"
    }
   },
   "outputs": [],
   "source": [
    "mccloat_21_species = ['Na']\n",
    "# todo: add read tellurics\n",
    "\n",
    "mccloat_21_SNRs = np.array([7.])\n",
    "\n",
    "frame = mccloat_21_frame = pd.DataFrame({'SNR': mccloat_21_SNRs,\n",
    "                             'species': mccloat_21_species})\n",
    "\n",
    "frame['lead'] = 'mccloat'\n",
    "frame['planet'] = 'KELT-10 b'\n",
    "frame['observation'] = 'transit'\n",
    "frame['instrument'] = 'UVES'\n",
    "frame['year'] = 2021\n",
    "frame['new data?'] = True\n",
    "frame['analysis type'] = 'retrieval'\n",
    "frame['tellurics'] = 'molecfit'\n",
    "frame['url']= 'https://iopscience.iop.org/article/10.3847/1538-3881/ac132b/pdf'"
   ]
  },
  {
   "cell_type": "code",
   "execution_count": null,
   "metadata": {
    "ExecuteTime": {
     "end_time": "2022-08-31T18:28:52.724782Z",
     "start_time": "2022-08-31T18:28:52.724777Z"
    }
   },
   "outputs": [],
   "source": [
    "wang_21_species = ['CO', 'H2O', 'CH4']\n",
    "\n",
    "wang_21_SNRs = np.array([3, 3, np.nan]) # when combined\n",
    "\n",
    "frame = wang_21_frame = pd.DataFrame({'SNR': wang_21_SNRs,\n",
    "                             'species': wang_21_species})\n",
    "\n",
    "frame['lead'] = 'J Wang'\n",
    "frame['planet'] = 'HR 8799 b'\n",
    "frame['observation'] = 'direct imaging'\n",
    "frame['instrument'] = 'Keck Planet Imager and Characterizer'\n",
    "frame['year'] = 2021\n",
    "frame['new data?'] = True\n",
    "frame['analysis type'] = 'self-consistent forward models'\n",
    "frame['tellurics'] = 'ATRAN'\n",
    "frame['url']= 'https://iopscience.iop.org/article/10.3847/1538-3881/ac1349/pdf'"
   ]
  },
  {
   "cell_type": "code",
   "execution_count": null,
   "metadata": {
    "ExecuteTime": {
     "end_time": "2022-08-31T18:28:52.725585Z",
     "start_time": "2022-08-31T18:28:52.725576Z"
    }
   },
   "outputs": [],
   "source": [
    "wang_21_2_species = ['CO', 'H2O', 'CH4']\n",
    "\n",
    "wang_21_2_SNRs = np.array([5, 6, np.nan]) # when combined\n",
    "\n",
    "frame = wang_21_2_frame = pd.DataFrame({'SNR': wang_21_2_SNRs,\n",
    "                             'species': wang_21_2_species})\n",
    "\n",
    "frame['lead'] = 'J Wang'\n",
    "frame['planet'] = 'HR 8799 c'\n",
    "frame['observation'] = 'direct imaging'\n",
    "frame['instrument'] = 'Keck Planet Imager and Characterizer'\n",
    "frame['year'] = 2021\n",
    "frame['new data?'] = True\n",
    "frame['analysis type'] = 'self-consistent forward models'\n",
    "frame['tellurics'] = 'ATRAN'\n",
    "frame['url']= 'https://iopscience.iop.org/article/10.3847/1538-3881/ac1349/pdf'"
   ]
  },
  {
   "cell_type": "code",
   "execution_count": null,
   "metadata": {
    "ExecuteTime": {
     "end_time": "2022-08-31T18:28:52.726340Z",
     "start_time": "2022-08-31T18:28:52.726334Z"
    }
   },
   "outputs": [],
   "source": [
    "wang_21_3_species = ['CO', 'H2O', 'CH4']\n",
    "\n",
    "wang_21_3_SNRs = np.array([5, 5, np.nan]) # when combined\n",
    "\n",
    "frame = wang_21_3_frame = pd.DataFrame({'SNR': wang_21_3_SNRs,\n",
    "                             'species': wang_21_3_species})\n",
    "\n",
    "frame['lead'] = 'J Wang'\n",
    "frame['planet'] = 'HR 8799 d'\n",
    "frame['observation'] = 'direct imaging'\n",
    "frame['instrument'] = 'Keck Planet Imager and Characterizer'\n",
    "frame['year'] = 2021\n",
    "frame['new data?'] = True\n",
    "frame['analysis type'] = 'self-consistent forward models'\n",
    "frame['tellurics'] = 'ATRAN'\n",
    "frame['url']= 'https://iopscience.iop.org/article/10.3847/1538-3881/ac1349/pdf'"
   ]
  },
  {
   "cell_type": "code",
   "execution_count": null,
   "metadata": {
    "ExecuteTime": {
     "end_time": "2022-08-31T18:28:52.727174Z",
     "start_time": "2022-08-31T18:28:52.727169Z"
    }
   },
   "outputs": [],
   "source": [
    "wang_21_4_species = ['CO', 'H2O', 'CH4']\n",
    "\n",
    "wang_21_4_SNRs = np.array([5, 5, np.nan]) # when combined\n",
    "\n",
    "frame = wang_21_4_frame = pd.DataFrame({'SNR': wang_21_4_SNRs,\n",
    "                             'species': wang_21_4_species})\n",
    "\n",
    "frame['lead'] = 'J Wang'\n",
    "frame['planet'] = 'HR 8799 e'\n",
    "frame['observation'] = 'direct imaging'\n",
    "frame['instrument'] = 'Keck Planet Imager and Characterizer'\n",
    "frame['year'] = 2021\n",
    "frame['new data?'] = True\n",
    "frame['analysis type'] = 'self-consistent forward models'\n",
    "frame['tellurics'] = 'ATRAN'\n",
    "frame['url']= 'https://iopscience.iop.org/article/10.3847/1538-3881/ac1349/pdf'"
   ]
  },
  {
   "cell_type": "code",
   "execution_count": null,
   "metadata": {
    "ExecuteTime": {
     "end_time": "2022-08-31T18:28:52.727850Z",
     "start_time": "2022-08-31T18:28:52.727845Z"
    }
   },
   "outputs": [],
   "source": [
    "sedaghati_21_species = ['TiO', 'Fe']\n",
    "\n",
    "sedaghati_21_SNRs = np.array([3.2, np.nan]) # when combined\n",
    "\n",
    "frame = sedaghati_21_frame = pd.DataFrame({'SNR': sedaghati_21_SNRs,\n",
    "                             'species': sedaghati_21_species})\n",
    "\n",
    "frame['lead'] = 'sedaghati'\n",
    "frame['planet'] = 'WASP-19 b'\n",
    "frame['observation'] = 'transit'\n",
    "frame['instrument'] = 'ESPRESSO'\n",
    "frame['year'] = 2021\n",
    "frame['new data?'] = True\n",
    "frame['analysis type'] = 'self-consistent forward models'\n",
    "frame['tellurics'] = 'ATRAN'\n",
    "frame['url']= 'https://academic.oup.com/mnras/article-abstract/505/1/435/6247610?redirectedFrom=PDF'"
   ]
  },
  {
   "cell_type": "code",
   "execution_count": null,
   "metadata": {
    "ExecuteTime": {
     "end_time": "2022-08-31T18:28:52.728464Z",
     "start_time": "2022-08-31T18:28:52.728459Z"
    }
   },
   "outputs": [],
   "source": [
    "seidel_20_species = ['Na']\n",
    "\n",
    "seidel_20_SNRs = np.array([np.nan])\n",
    "\n",
    "frame = seidel_20_frame = pd.DataFrame({'SNR': seidel_20_SNRs,\n",
    "                             'species': seidel_20_species})\n",
    "\n",
    "frame['lead'] = 'seidel'\n",
    "frame['planet'] = 'WASP-127 b'\n",
    "frame['observation'] = 'transit'\n",
    "frame['instrument'] = 'HARPS'\n",
    "frame['year'] = 2020\n",
    "frame['new data?'] = True\n",
    "frame['analysis type'] = 'self-consistent model grid'\n",
    "frame['tellurics'] = 'masking (?)'\n",
    "frame['url']= 'https://www.aanda.org/articles/aa/pdf/2020/11/aa39058-20.pdf'"
   ]
  },
  {
   "cell_type": "code",
   "execution_count": null,
   "metadata": {
    "ExecuteTime": {
     "end_time": "2022-08-31T18:28:52.729167Z",
     "start_time": "2022-08-31T18:28:52.729161Z"
    }
   },
   "outputs": [],
   "source": [
    "cubillos_11_species = ['H2O']\n",
    "\n",
    "cubillos_11_SNRs = np.array([np.nan])\n",
    "\n",
    "frame = cubillos_11_frame = pd.DataFrame({'SNR': cubillos_11_SNRs,\n",
    "                             'species': cubillos_11_species})\n",
    "\n",
    "frame['lead'] = 'cubillos'\n",
    "frame['planet'] = 'HD 217107'\n",
    "frame['observation'] = 'emission'\n",
    "frame['instrument'] = 'Phoenix'\n",
    "frame['year'] = 2011\n",
    "frame['new data?'] = True\n",
    "frame['analysis type'] = 'self-consistent model grid'\n",
    "frame['tellurics'] = 'masking (?)'\n",
    "frame['url']= 'https://www.aanda.org/articles/aa/abs/2011/05/aa15802-10/aa15802-10.html'"
   ]
  },
  {
   "cell_type": "code",
   "execution_count": null,
   "metadata": {
    "ExecuteTime": {
     "end_time": "2022-08-31T18:28:52.729704Z",
     "start_time": "2022-08-31T18:28:52.729698Z"
    }
   },
   "outputs": [],
   "source": [
    "holmberg_22_species = ['H2O', 'CO']\n",
    "\n",
    "holmberg_22_SNRs = np.array([5.3, 12.9])\n",
    "\n",
    "frame = holmberg_22_frame = pd.DataFrame({'SNR': holmberg_22_SNRs,\n",
    "                             'species': holmberg_22_species})\n",
    "\n",
    "frame['lead'] = 'holmberg'\n",
    "frame['planet'] = 'MASCARA-1 b'\n",
    "frame['observation'] = 'emission'\n",
    "frame['instrument'] = 'CRIRES+'\n",
    "frame['year'] = 2022\n",
    "frame['new data?'] = True\n",
    "frame['analysis type'] = 'self-consistent model grid'\n",
    "frame['tellurics'] = 'ESO sky model'\n",
    "frame['url']= 'https://iopscience.iop.org/article/10.3847/1538-3881/ac77eb/meta'"
   ]
  },
  {
   "cell_type": "code",
   "execution_count": null,
   "metadata": {
    "ExecuteTime": {
     "end_time": "2022-08-31T18:28:52.730414Z",
     "start_time": "2022-08-31T18:28:52.730408Z"
    }
   },
   "outputs": [],
   "source": [
    "# todo: read: tellurics. and check whether it's really a null detection.\n",
    "meech_22_species = ['H2O', 'CO2']\n",
    "\n",
    "meech_22_SNRs = np.array([np.nan, np.nan])\n",
    "\n",
    "frame = meech_22_frame = pd.DataFrame({'SNR': meech_22_SNRs,\n",
    "                             'species': meech_22_species})\n",
    "\n",
    "frame['lead'] = 'meech'\n",
    "frame['planet'] = 'MASCARA-1 b'\n",
    "frame['observation'] = 'emission'\n",
    "frame['instrument'] = 'CRIRES+'\n",
    "frame['year'] = 2022\n",
    "frame['new data?'] = True\n",
    "frame['analysis type'] = 'self-consistent model grid'\n",
    "frame['tellurics'] = 'Gaussian process, airmass scaling'\n",
    "frame['url']= 'https://academic.oup.com/mnras/article/512/2/2604/6547777'"
   ]
  },
  {
   "cell_type": "code",
   "execution_count": null,
   "metadata": {
    "ExecuteTime": {
     "end_time": "2022-08-31T18:28:52.730969Z",
     "start_time": "2022-08-31T18:28:52.730964Z"
    }
   },
   "outputs": [],
   "source": [
    "konopacky_13_species = ['H2O', 'CO', 'CH4']\n",
    "\n",
    "konopacky_13_SNRs = np.array([0, 0, np.nan])\n",
    "\n",
    "frame = konopacky_13_frame = pd.DataFrame({'SNR': konopacky_13_SNRs,\n",
    "                             'species': konopacky_13_species})\n",
    "\n",
    "frame['lead'] = 'konopacky'\n",
    "frame['planet'] = 'HR 8799 c'\n",
    "frame['observation'] = 'direct imaging'\n",
    "frame['instrument'] = 'OSIRIS'\n",
    "frame['year'] = 2013\n",
    "frame['new data?'] = True\n",
    "frame['analysis type'] = 'parameterized models'\n",
    "frame['tellurics'] = 'sysrem'\n",
    "frame['url']= 'https://www.science.org/doi/full/10.1126/science.1232003?casa_token=Pbo4WwD8tOUAAAAA%3AbT1-OkoIrFlc-RaWQBW9YbyXbuJst825y64bXNqlIunXP8vVGs1OBriBwruR5VJq1F1Q_lzlixG-dA'"
   ]
  },
  {
   "cell_type": "code",
   "execution_count": null,
   "metadata": {
    "ExecuteTime": {
     "end_time": "2022-08-31T18:28:52.731565Z",
     "start_time": "2022-08-31T18:28:52.731559Z"
    }
   },
   "outputs": [],
   "source": [
    "# todo: read this.\n",
    "rasmussen_22_species = ['CO']\n",
    "\n",
    "rasmussen_22_SNRs = np.array([9.71])\n",
    "\n",
    "frame = rasmussen_22_frame = pd.DataFrame({'SNR': rasmussen_22_SNRs,\n",
    "                             'species': rasmussen_22_species})\n",
    "\n",
    "frame['lead'] = 'rasmussen'\n",
    "frame['planet'] = 'HD 209458 b'\n",
    "frame['observation'] = 'emission'\n",
    "frame['instrument'] = 'CRIRES'\n",
    "frame['year'] = 2022\n",
    "frame['new data?'] = False\n",
    "frame['analysis type'] = '3D forward model: GCM'\n",
    "frame['tellurics'] = 'airmass detrending'\n",
    "frame['url']= 'https://iopscience.iop.org/article/10.3847/1538-3881/ac6bfa/meta#ajac6bfas4'"
   ]
  },
  {
   "cell_type": "code",
   "execution_count": null,
   "metadata": {
    "ExecuteTime": {
     "end_time": "2022-08-31T18:28:52.732023Z",
     "start_time": "2022-08-31T18:28:52.732018Z"
    }
   },
   "outputs": [],
   "source": [
    "rasmussen_22_2_species = ['CO', 'H2O']\n",
    "\n",
    "rasmussen_22_2_SNRs = np.array([6.89, 6.89]) # combined\n",
    "\n",
    "frame = rasmussen_22_2_frame = pd.DataFrame({'SNR': rasmussen_22_2_SNRs,\n",
    "                             'species': rasmussen_22_2_species})\n",
    "\n",
    "frame['lead'] = 'rasmussen'\n",
    "frame['planet'] = 'HD 179949'\n",
    "frame['observation'] = 'emission'\n",
    "frame['instrument'] = 'CRIRES'\n",
    "frame['year'] = 2022\n",
    "frame['new data?'] = False\n",
    "frame['analysis type'] = '3D forward model: GCM'\n",
    "frame['tellurics'] = 'airmass detrending'\n",
    "frame['url']= 'https://iopscience.iop.org/article/10.3847/1538-3881/ac6bfa/meta#ajac6bfas4'"
   ]
  },
  {
   "cell_type": "code",
   "execution_count": null,
   "metadata": {},
   "outputs": [],
   "source": []
  },
  {
   "cell_type": "code",
   "execution_count": null,
   "metadata": {
    "ExecuteTime": {
     "end_time": "2022-08-31T18:28:52.732474Z",
     "start_time": "2022-08-31T18:28:52.732469Z"
    }
   },
   "outputs": [],
   "source": [
    "# come back\n",
    "hoeijmakers_17_species = ['']\n",
    "\n",
    "hoeijmakers_17_SNRs = np.array([np.nan])\n",
    "\n",
    "frame = hoeijmakers_17_frame = pd.DataFrame({'SNR': hoeijmakers_17_SNRs,\n",
    "                             'species': hoeijmakers_17_species})\n",
    "\n",
    "frame['lead'] = 'J Hoeijmakers'\n",
    "frame['planet'] = 'tau boo'\n",
    "frame['observation'] = 'reflected light'\n",
    "frame['instrument'] = 'HARPS-N'\n",
    "frame['year'] = 2017\n",
    "frame['new data?'] = False\n",
    "frame['analysis type'] = 'PHOENIX stellar spectrum'\n",
    "frame['tellurics'] = 'sysrem'\n",
    "frame['url']= 'https://iopscience.iop.org/article/10.3847/1538-3881/abb59c/pdf'"
   ]
  },
  {
   "cell_type": "code",
   "execution_count": null,
   "metadata": {
    "ExecuteTime": {
     "end_time": "2022-08-31T18:28:52.733288Z",
     "start_time": "2022-08-31T18:28:52.733282Z"
    }
   },
   "outputs": [],
   "source": [
    "# todo: read this: tellurics!\n",
    "cabot_19_species = ['H2O', 'CO', 'HCN']\n",
    "\n",
    "cabot_19_SNRs = np.array([4.8, 4.7, 5.0])\n",
    "\n",
    "frame = cabot_19_frame = pd.DataFrame({'SNR': cabot_19_SNRs,\n",
    "                             'species': cabot_19_species})\n",
    "\n",
    "frame['lead'] = 'cabot'\n",
    "frame['planet'] = 'HD 189733 b'\n",
    "frame['observation'] = 'transmission'\n",
    "frame['instrument'] = 'CRIRES'\n",
    "frame['year'] = 2019\n",
    "frame['new data?'] = False\n",
    "frame['analysis type'] = 'PHOENIX stellar spectrum'\n",
    "frame['tellurics'] = 'sysrem and airmass detrending'\n",
    "frame['url'] = 'https://academic.oup.com/mnras/article/482/4/4422/5173097'"
   ]
  },
  {
   "cell_type": "code",
   "execution_count": null,
   "metadata": {
    "ExecuteTime": {
     "end_time": "2022-08-31T18:28:52.733824Z",
     "start_time": "2022-08-31T18:28:52.733818Z"
    }
   },
   "outputs": [],
   "source": [
    "kesseli_20b_species = ['FeH']\n",
    "\n",
    "kesseli_20b_SNRs = np.array([3])\n",
    "\n",
    "frame = kesseli_20b_frame = pd.DataFrame({'SNR': kesseli_20b_SNRs,\n",
    "                             'species': kesseli_20b_species})\n",
    "\n",
    "frame['lead'] = 'Kesseli'\n",
    "frame['planet'] = 'MASCARA-2 b'\n",
    "frame['observation'] = 'transit'\n",
    "frame['instrument'] = 'CARMENES'\n",
    "frame['year'] = 2020\n",
    "frame['new data?'] = False\n",
    "frame['analysis type'] = 'parameterized forward models'\n",
    "frame['tellurics'] = 'sysrem'\n",
    "frame['url']= 'https://iopscience.iop.org/article/10.3847/1538-3881/abb59c/pdf'"
   ]
  },
  {
   "cell_type": "code",
   "execution_count": null,
   "metadata": {
    "ExecuteTime": {
     "end_time": "2022-08-31T18:28:52.734821Z",
     "start_time": "2022-08-31T18:28:52.734812Z"
    }
   },
   "outputs": [],
   "source": [
    "kesseli_20b_2_species = ['FeH']\n",
    "\n",
    "kesseli_20b_2_SNRs = np.array([3])\n",
    "\n",
    "frame = kesseli_20b_2_frame = pd.DataFrame({'SNR': kesseli_20b_2_SNRs,\n",
    "                             'species': kesseli_20b_2_species})\n",
    "\n",
    "frame['lead'] = 'Kesseli'\n",
    "frame['planet'] = 'WASP-33 b'\n",
    "frame['observation'] = 'transit'\n",
    "frame['instrument'] = 'CARMENES'\n",
    "frame['year'] = 2020\n",
    "frame['new data?'] = False\n",
    "frame['analysis type'] = 'parameterized forward models'\n",
    "frame['tellurics'] = 'sysrem'\n",
    "frame['url']= 'https://iopscience.iop.org/article/10.3847/1538-3881/abb59c/pdf'"
   ]
  },
  {
   "cell_type": "code",
   "execution_count": null,
   "metadata": {
    "ExecuteTime": {
     "end_time": "2022-08-31T18:28:52.735396Z",
     "start_time": "2022-08-31T18:28:52.735391Z"
    }
   },
   "outputs": [],
   "source": [
    "kesseli_20b_3_species = ['FeH']\n",
    "\n",
    "kesseli_20b_3_SNRs = np.array([np.nan])\n",
    "\n",
    "frame = kesseli_20b_3_frame = pd.DataFrame({'SNR': kesseli_20b_3_SNRs,\n",
    "                             'species': kesseli_20b_3_species})\n",
    "\n",
    "frame['lead'] = 'Kesseli'\n",
    "frame['planet'] = 'KELT-9 b'\n",
    "frame['observation'] = 'transit'\n",
    "frame['instrument'] = 'CARMENES'\n",
    "frame['year'] = 2020\n",
    "frame['new data?'] = False\n",
    "frame['analysis type'] = 'parameterized forward models'\n",
    "frame['tellurics'] = 'sysrem'\n",
    "frame['url']= 'https://iopscience.iop.org/article/10.3847/1538-3881/abb59c/pdf'"
   ]
  },
  {
   "cell_type": "code",
   "execution_count": null,
   "metadata": {
    "ExecuteTime": {
     "end_time": "2022-08-31T18:28:52.736192Z",
     "start_time": "2022-08-31T18:28:52.736184Z"
    }
   },
   "outputs": [],
   "source": [
    "kesseli_20b_4_species = ['FeH']\n",
    "\n",
    "kesseli_20b_4_SNRs = np.array([np.nan])\n",
    "\n",
    "frame = kesseli_20b_4_frame = pd.DataFrame({'SNR': kesseli_20b_4_SNRs,\n",
    "                             'species': kesseli_20b_4_species})\n",
    "\n",
    "frame['lead'] = 'Kesseli'\n",
    "frame['planet'] = 'HAT-P-57 b'\n",
    "frame['observation'] = 'transit'\n",
    "frame['instrument'] = 'CARMENES'\n",
    "frame['year'] = 2020\n",
    "frame['new data?'] = False\n",
    "frame['analysis type'] = 'parameterized forward models'\n",
    "frame['tellurics'] = 'sysrem'\n",
    "frame['url']= 'https://iopscience.iop.org/article/10.3847/1538-3881/abb59c/pdf'"
   ]
  },
  {
   "cell_type": "code",
   "execution_count": null,
   "metadata": {
    "ExecuteTime": {
     "end_time": "2022-08-31T18:28:52.736831Z",
     "start_time": "2022-08-31T18:28:52.736826Z"
    }
   },
   "outputs": [],
   "source": [
    "kesseli_20b_5_species = ['FeH']\n",
    "\n",
    "kesseli_20b_5_SNRs = np.array([np.nan])\n",
    "\n",
    "frame = kesseli_20b_5_frame = pd.DataFrame({'SNR': kesseli_20b_5_SNRs,\n",
    "                             'species': kesseli_20b_5_species})\n",
    "\n",
    "frame['lead'] = 'Kesseli'\n",
    "frame['planet'] = 'WASP-76 b'\n",
    "frame['observation'] = 'transit'\n",
    "frame['instrument'] = 'CARMENES'\n",
    "frame['year'] = 2020\n",
    "frame['new data?'] = False\n",
    "frame['analysis type'] = 'parameterized forward models'\n",
    "frame['tellurics'] = 'sysrem'\n",
    "frame['url']= 'https://iopscience.iop.org/article/10.3847/1538-3881/abb59c/pdf'"
   ]
  },
  {
   "cell_type": "code",
   "execution_count": null,
   "metadata": {
    "ExecuteTime": {
     "end_time": "2022-08-31T18:28:52.737722Z",
     "start_time": "2022-08-31T18:28:52.737716Z"
    }
   },
   "outputs": [],
   "source": [
    "kesseli_20b_6_species = ['FeH']\n",
    "\n",
    "kesseli_20b_6_SNRs = np.array([np.nan])\n",
    "\n",
    "frame = kesseli_20b_6_frame = pd.DataFrame({'SNR': kesseli_20b_6_SNRs,\n",
    "                             'species': kesseli_20b_6_species})\n",
    "\n",
    "frame['lead'] = 'Kesseli'\n",
    "frame['planet'] = 'HAT-P-32A b'\n",
    "frame['observation'] = 'transit'\n",
    "frame['instrument'] = 'CARMENES'\n",
    "frame['year'] = 2020\n",
    "frame['new data?'] = False\n",
    "frame['analysis type'] = 'parameterized forward models'\n",
    "frame['tellurics'] = 'sysrem'\n",
    "frame['url']= 'https://iopscience.iop.org/article/10.3847/1538-3881/abb59c/pdf'"
   ]
  },
  {
   "cell_type": "code",
   "execution_count": null,
   "metadata": {
    "ExecuteTime": {
     "end_time": "2022-08-31T18:28:52.738494Z",
     "start_time": "2022-08-31T18:28:52.738489Z"
    }
   },
   "outputs": [],
   "source": [
    "kesseli_20b_8_species = ['FeH']\n",
    "\n",
    "kesseli_20b_8_SNRs = np.array([np.nan])\n",
    "\n",
    "frame = kesseli_20b_8_frame = pd.DataFrame({'SNR': kesseli_20b_8_SNRs,\n",
    "                             'species': kesseli_20b_8_species})\n",
    "\n",
    "frame['lead'] = 'Kesseli'\n",
    "frame['planet'] = 'HD 209458 b'\n",
    "frame['observation'] = 'transit'\n",
    "frame['instrument'] = 'CARMENES'\n",
    "frame['year'] = 2020\n",
    "frame['new data?'] = False\n",
    "frame['analysis type'] = 'parameterized forward models'\n",
    "frame['tellurics'] = 'sysrem'\n",
    "frame['url']= 'https://iopscience.iop.org/article/10.3847/1538-3881/abb59c/pdf'"
   ]
  },
  {
   "cell_type": "code",
   "execution_count": null,
   "metadata": {
    "ExecuteTime": {
     "end_time": "2022-08-31T18:28:52.739116Z",
     "start_time": "2022-08-31T18:28:52.739111Z"
    }
   },
   "outputs": [],
   "source": [
    "kesseli_20b_7_species = ['FeH']\n",
    "\n",
    "kesseli_20b_7_SNRs = np.array([np.nan])\n",
    "\n",
    "frame = kesseli_20b_7_frame = pd.DataFrame({'SNR': kesseli_20b_7_SNRs,\n",
    "                             'species': kesseli_20b_7_species})\n",
    "\n",
    "frame['lead'] = 'Kesseli'\n",
    "frame['planet'] = 'HD 189733 b'\n",
    "frame['observation'] = 'transit'\n",
    "frame['instrument'] = 'CARMENES'\n",
    "frame['year'] = 2020\n",
    "frame['new data?'] = False\n",
    "frame['analysis type'] = 'parameterized forward models'\n",
    "frame['tellurics'] = 'sysrem'\n",
    "frame['url']= 'https://iopscience.iop.org/article/10.3847/1538-3881/abb59c/pdf'"
   ]
  },
  {
   "cell_type": "code",
   "execution_count": null,
   "metadata": {
    "ExecuteTime": {
     "end_time": "2022-08-31T18:28:52.739772Z",
     "start_time": "2022-08-31T18:28:52.739767Z"
    }
   },
   "outputs": [],
   "source": [
    "kesseli_20b_9_species = ['FeH']\n",
    "\n",
    "kesseli_20b_9_SNRs = np.array([np.nan])\n",
    "\n",
    "frame = kesseli_20b_9_frame = pd.DataFrame({'SNR': kesseli_20b_9_SNRs,\n",
    "                             'species': kesseli_20b_9_species})\n",
    "\n",
    "frame['lead'] = 'Kesseli'\n",
    "frame['planet'] = 'WASP-69 b'\n",
    "frame['observation'] = 'transit'\n",
    "frame['instrument'] = 'CARMENES'\n",
    "frame['year'] = 2020\n",
    "frame['new data?'] = False\n",
    "frame['analysis type'] = 'parameterized forward models'\n",
    "frame['tellurics'] = 'sysrem'\n",
    "frame['url']= 'https://iopscience.iop.org/article/10.3847/1538-3881/abb59c/pdf'"
   ]
  },
  {
   "cell_type": "code",
   "execution_count": null,
   "metadata": {
    "ExecuteTime": {
     "end_time": "2022-08-31T18:28:52.740589Z",
     "start_time": "2022-08-31T18:28:52.740583Z"
    }
   },
   "outputs": [],
   "source": [
    "kesseli_20b_10_species = ['FeH']\n",
    "\n",
    "kesseli_20b_10_SNRs = np.array([np.nan])\n",
    "\n",
    "frame = kesseli_20b_10_frame = pd.DataFrame({'SNR': kesseli_20b_10_SNRs,\n",
    "                             'species': kesseli_20b_10_species})\n",
    "\n",
    "frame['lead'] = 'kesseli'\n",
    "frame['planet'] = 'WASP-107 b'\n",
    "frame['observation'] = 'transit'\n",
    "frame['instrument'] = 'CARMENES'\n",
    "frame['year'] = 2020\n",
    "frame['new data?'] = False\n",
    "frame['analysis type'] = 'parameterized forward models'\n",
    "frame['tellurics'] = 'sysrem'\n",
    "frame['url']= 'https://iopscience.iop.org/article/10.3847/1538-3881/abb59c/pdf'"
   ]
  },
  {
   "cell_type": "code",
   "execution_count": null,
   "metadata": {
    "ExecuteTime": {
     "end_time": "2022-08-31T18:28:52.741138Z",
     "start_time": "2022-08-31T18:28:52.741133Z"
    }
   },
   "outputs": [],
   "source": [
    "zhang_21b_species = ['He']\n",
    "\n",
    "zhang_21b_SNRs = np.array([np.nan])\n",
    "\n",
    "frame = zhang_21b_frame = pd.DataFrame({'SNR': zhang_21b_SNRs,\n",
    "                             'species': zhang_21b_species})\n",
    "\n",
    "frame['lead'] = 'M zhang'\n",
    "frame['planet'] = '55 Cancri e'\n",
    "frame['observation'] = 'transit'\n",
    "frame['instrument'] = 'NIRSPEC'\n",
    "frame['year'] = 2021\n",
    "frame['new data?'] = True\n",
    "frame['analysis type'] = 'line-fitting'\n",
    "frame['tellurics'] = 'ATRAN'\n",
    "frame['url']= 'https://arxiv.org/pdf/2012.02198.pdf'"
   ]
  },
  {
   "cell_type": "code",
   "execution_count": null,
   "metadata": {
    "ExecuteTime": {
     "end_time": "2022-08-31T18:28:52.741786Z",
     "start_time": "2022-08-31T18:28:52.741781Z"
    }
   },
   "outputs": [],
   "source": [
    "ishizuka_21_species = ['Ti', 'Fe']\n",
    "\n",
    "ishizuka_21_SNRs = np.array([4.4, 2.8])\n",
    "\n",
    "frame = zhang_21b_frame = pd.DataFrame({'SNR': ishizuka_21_SNRs,\n",
    "                             'species': ishizuka_21_species})\n",
    "\n",
    "frame['lead'] = 'Ishizuka'\n",
    "frame['planet'] = 'HD 149026b'\n",
    "frame['observation'] = 'transit'\n",
    "frame['instrument'] = 'Subaru/IRD'\n",
    "frame['year'] = 2021\n",
    "frame['new data?'] = True\n",
    "frame['analysis type'] = 'isothermal forward models'\n",
    "frame['tellurics'] = 'sysrem'\n",
    "frame['url']= 'https://iopscience.iop.org/article/10.3847/1538-3881/abdb25/pdf'"
   ]
  },
  {
   "cell_type": "code",
   "execution_count": null,
   "metadata": {
    "ExecuteTime": {
     "end_time": "2022-08-31T18:28:52.742774Z",
     "start_time": "2022-08-31T18:28:52.742766Z"
    }
   },
   "outputs": [],
   "source": [
    "kesseli_20b_11_species = ['FeH']\n",
    "\n",
    "kesseli_20b_11_SNRs = np.array([np.nan])\n",
    "\n",
    "frame = kesseli_20b_11_frame = pd.DataFrame({'SNR': kesseli_20b_11_SNRs,\n",
    "                             'species': kesseli_20b_11_species})\n",
    "\n",
    "frame['lead'] = 'kesseli'\n",
    "frame['planet'] = 'HAT-P-11 b'\n",
    "frame['observation'] = 'transit'\n",
    "frame['instrument'] = 'CARMENES'\n",
    "frame['year'] = 2020\n",
    "frame['new data?'] = False\n",
    "frame['analysis type'] = 'parameterized forward models'\n",
    "frame['tellurics'] = 'sysrem'\n",
    "frame['url']= 'https://iopscience.iop.org/article/10.3847/1538-3881/abb59c/pdf'"
   ]
  },
  {
   "cell_type": "code",
   "execution_count": null,
   "metadata": {
    "ExecuteTime": {
     "end_time": "2022-08-31T18:28:52.743477Z",
     "start_time": "2022-08-31T18:28:52.743470Z"
    }
   },
   "outputs": [],
   "source": [
    "kesseli_20b_12_species = ['FeH']\n",
    "\n",
    "kesseli_20b_12_SNRs = np.array([np.nan])\n",
    "\n",
    "frame = kesseli_20b_12_frame = pd.DataFrame({'SNR': kesseli_20b_12_SNRs,\n",
    "                             'species': kesseli_20b_12_species})\n",
    "\n",
    "frame['lead'] = 'kesseli'\n",
    "frame['planet'] = 'GJ 436 b'\n",
    "frame['observation'] = 'transit'\n",
    "frame['instrument'] = 'CARMENES'\n",
    "frame['year'] = 2020\n",
    "frame['new data?'] = False\n",
    "frame['analysis type'] = 'parameterized forward models'\n",
    "frame['tellurics'] = 'sysrem'\n",
    "frame['url']= 'https://iopscience.iop.org/article/10.3847/1538-3881/abb59c/pdf'"
   ]
  },
  {
   "cell_type": "code",
   "execution_count": null,
   "metadata": {
    "ExecuteTime": {
     "end_time": "2022-08-31T18:28:52.744255Z",
     "start_time": "2022-08-31T18:28:52.744251Z"
    }
   },
   "outputs": [],
   "source": [
    "# todo: read this: tellurics!\n",
    "merritt_20_species = ['TiO', 'VO']\n",
    "\n",
    "merritt_20_SNRs = np.array([np.nan, np.nan])\n",
    "\n",
    "frame = merritt_20_frame = pd.DataFrame({'SNR': merritt_20_SNRs,\n",
    "                             'species': merritt_20_species})\n",
    "\n",
    "frame['lead'] = 'Merritt'\n",
    "frame['planet'] = 'WASP-121 b'\n",
    "frame['observation'] = 'transit'\n",
    "frame['instrument'] = 'HARPS'\n",
    "frame['year'] = 2020\n",
    "frame['new data?'] = False\n",
    "frame['analysis type'] = 'parameterized forward models'\n",
    "frame['tellurics'] = 'sysrem'\n",
    "frame['url']= 'https://www.aanda.org/articles/aa/pdf/2020/04/aa37409-19.pdf'"
   ]
  },
  {
   "cell_type": "code",
   "execution_count": null,
   "metadata": {
    "ExecuteTime": {
     "end_time": "2022-08-31T18:28:52.744744Z",
     "start_time": "2022-08-31T18:28:52.744739Z"
    }
   },
   "outputs": [],
   "source": [
    "# todo: read this: tellurics!\n",
    "langveld_21_species = ['Na']\n",
    "\n",
    "langveld_21_SNRs = np.array([0])\n",
    "\n",
    "frame = langveld_21_frame = pd.DataFrame({'SNR': langveld_21_SNRs,\n",
    "                             'species': langveld_21_species})\n",
    "\n",
    "frame['lead'] = 'Langveld'\n",
    "frame['planet'] = 'HD 189733 b'\n",
    "frame['observation'] = 'transit'\n",
    "frame['instrument'] = 'HARPS'\n",
    "frame['year'] = 2018\n",
    "frame['new data?'] = False\n",
    "frame['analysis type'] = 'line-fitting'\n",
    "frame['url']= 'https://academic.oup.com/mnras/article/502/3/4392/6102527'"
   ]
  },
  {
   "cell_type": "code",
   "execution_count": null,
   "metadata": {
    "ExecuteTime": {
     "end_time": "2022-08-31T18:28:52.745450Z",
     "start_time": "2022-08-31T18:28:52.745445Z"
    }
   },
   "outputs": [],
   "source": [
    "# todo: read this: stellar contamination!\n",
    "borsa_18_species = ['Na']\n",
    "\n",
    "borsa_18_SNRs = np.array([0])\n",
    "\n",
    "frame = borsa_18_frame = pd.DataFrame({'SNR': borsa_18_SNRs,\n",
    "                             'species': borsa_18_species})\n",
    "\n",
    "frame['lead'] = 'Borsa'\n",
    "frame['planet'] = 'HD 189733 b'\n",
    "frame['observation'] = 'transit'\n",
    "frame['instrument'] = 'HARPS'\n",
    "frame['year'] = 2018\n",
    "frame['new data?'] = False\n",
    "frame['analysis type'] = 'stellar mask'\n",
    "frame['url']= 'https://www.aanda.org/articles/aa/pdf/2018/09/aa33415-18.pdf'"
   ]
  },
  {
   "cell_type": "code",
   "execution_count": null,
   "metadata": {
    "ExecuteTime": {
     "end_time": "2022-08-31T18:28:52.746182Z",
     "start_time": "2022-08-31T18:28:52.746173Z"
    }
   },
   "outputs": [],
   "source": [
    "flagg_19_species = ['CO']\n",
    "\n",
    "flagg_19_SNRs = np.array([0])\n",
    "\n",
    "frame = flagg_19_frame = pd.DataFrame({'SNR': flagg_19_SNRs,\n",
    "                             'species': flagg_19_species})\n",
    "\n",
    "frame['lead'] = 'Flagg'\n",
    "frame['planet'] = 'CI Tau b'\n",
    "frame['observation'] = 'direct imaging'\n",
    "frame['instrument'] = 'IGRINS'\n",
    "frame['year'] = 2019\n",
    "frame['new data?'] = True\n",
    "frame['analysis type'] = 'A0V spectrum'\n",
    "frame['url']= 'https://iopscience.iop.org/article/10.3847/2041-8213/ab276d/pdf'"
   ]
  },
  {
   "cell_type": "code",
   "execution_count": null,
   "metadata": {
    "ExecuteTime": {
     "end_time": "2022-08-31T18:28:52.746885Z",
     "start_time": "2022-08-31T18:28:52.746877Z"
    }
   },
   "outputs": [],
   "source": [
    "charbonneau_99_species = ['TiO']\n",
    "\n",
    "charbonneau_99_SNRs = np.array([np.nan])\n",
    "\n",
    "frame = charbonneau_99_frame = pd.DataFrame({'SNR': charbonneau_99_SNRs,\n",
    "                             'species': charbonneau_99_species})\n",
    "\n",
    "frame['lead'] = 'charbonneau'\n",
    "frame['planet'] = 'Tau bootis b'\n",
    "frame['observation'] = 'emission'\n",
    "frame['instrument'] = 'Keck Hires'\n",
    "frame['year'] = 1999\n",
    "frame['new data?'] = True\n",
    "# frame['tellurics'] = 'sysrem'\n",
    "frame['analysis type'] = 'stellar spectrum'\n",
    "frame['url']= 'https://iopscience.iop.org/article/10.1086/312234/pdf'"
   ]
  },
  {
   "cell_type": "code",
   "execution_count": null,
   "metadata": {},
   "outputs": [],
   "source": []
  },
  {
   "cell_type": "code",
   "execution_count": null,
   "metadata": {
    "ExecuteTime": {
     "end_time": "2022-08-31T18:28:52.747802Z",
     "start_time": "2022-08-31T18:28:52.747797Z"
    }
   },
   "outputs": [],
   "source": [
    "herman_20_species = ['TiO']\n",
    "\n",
    "herman_20_SNRs = np.array([np.nan])\n",
    "\n",
    "frame = herman_20_frame = pd.DataFrame({'SNR': herman_20_SNRs,\n",
    "                             'species': herman_20_species})\n",
    "\n",
    "frame['lead'] = 'Herman'\n",
    "frame['planet'] = 'WASP-33 b'\n",
    "frame['observation'] = 'emission'\n",
    "frame['instrument'] = 'ESPaDOnS'\n",
    "frame['year'] = 2020\n",
    "frame['new data?'] = True\n",
    "frame['tellurics'] = 'sysrem'\n",
    "frame['analysis type'] = 'parameterized forward model'\n",
    "frame['url']= 'https://iopscience.iop.org/article/10.3847/1538-3881/ab9e77/meta'"
   ]
  },
  {
   "cell_type": "code",
   "execution_count": null,
   "metadata": {
    "ExecuteTime": {
     "end_time": "2022-08-31T18:28:52.748536Z",
     "start_time": "2022-08-31T18:28:52.748530Z"
    }
   },
   "outputs": [],
   "source": [
    "pino_18b_species = ['Na']\n",
    "\n",
    "pino_18b_SNRs = np.array([0])\n",
    "\n",
    "frame = pino_18b_frame = pd.DataFrame({'SNR': pino_18b_SNRs,\n",
    "                             'species': pino_18b_species})\n",
    "\n",
    "frame['lead'] = 'Pino'\n",
    "frame['planet'] = 'HD 189733 b'\n",
    "frame['observation'] = 'transit'\n",
    "frame['instrument'] = 'HARPS'\n",
    "frame['year'] = 2018\n",
    "frame['new data?'] = False\n",
    "frame['analysis type'] = 'parameterized forward model'\n",
    "frame['url']= 'https://www.aanda.org/articles/aa/pdf/2018/04/aa31244-17.pdf'"
   ]
  },
  {
   "cell_type": "code",
   "execution_count": null,
   "metadata": {
    "ExecuteTime": {
     "end_time": "2022-08-31T18:28:52.749276Z",
     "start_time": "2022-08-31T18:28:52.749268Z"
    }
   },
   "outputs": [],
   "source": [
    "# todo: was this earlier than snellen?\n",
    "redfield_8_species = ['Na']\n",
    "\n",
    "redfield_8_SNRs = np.array([3])\n",
    "\n",
    "frame = redfield_8_frame = pd.DataFrame({'SNR': redfield_8_SNRs,\n",
    "                             'species': redfield_8_species})\n",
    "\n",
    "frame['lead'] = 'redfield'\n",
    "frame['planet'] = 'HD 189733 b'\n",
    "frame['observation'] = 'transit'\n",
    "frame['instrument'] = 'HRS'\n",
    "frame['year'] = 2008\n",
    "frame['new data?'] = True\n",
    "frame['analysis type'] = 'line-fitting'\n",
    "frame['url']= 'https://iopscience.iop.org/article/10.1086/527475/pdf'"
   ]
  },
  {
   "cell_type": "code",
   "execution_count": null,
   "metadata": {
    "ExecuteTime": {
     "end_time": "2022-08-31T18:28:52.749943Z",
     "start_time": "2022-08-31T18:28:52.749938Z"
    }
   },
   "outputs": [],
   "source": [
    "nugroho_17_species = ['TiO']\n",
    "\n",
    "nugroho_17_SNRs = np.array([4.8])\n",
    "\n",
    "frame = nugroho_17_frame = pd.DataFrame({'SNR': nugroho_17_SNRs,\n",
    "                             'species': nugroho_17_species})\n",
    "\n",
    "frame['lead'] = 'nugroho'\n",
    "frame['planet'] = 'WASP-33 b'\n",
    "frame['observation'] = 'transit'\n",
    "frame['instrument'] = 'HDS'\n",
    "frame['year'] = 2017\n",
    "frame['new data?'] = True\n",
    "frame['tellurics'] = 'sysrem'\n",
    "frame['analysis type'] = 'parameterized forward model'\n",
    "frame['url']= 'https://ui.adsabs.harvard.edu/abs/2017AJ....154..221N/abstract'"
   ]
  },
  {
   "cell_type": "code",
   "execution_count": null,
   "metadata": {
    "ExecuteTime": {
     "end_time": "2022-08-31T18:28:52.750428Z",
     "start_time": "2022-08-31T18:28:52.750423Z"
    }
   },
   "outputs": [],
   "source": [
    "martins_14_species = ['']\n",
    "\n",
    "martins_14_SNRs = np.array([3])\n",
    "\n",
    "frame = martins_14_frame = pd.DataFrame({'SNR': martins_14_SNRs,\n",
    "                             'species': martins_14_species})\n",
    "\n",
    "frame['lead'] = 'martins'\n",
    "frame['planet'] = '51 Peg b'\n",
    "frame['observation'] = 'reflected light'\n",
    "frame['instrument'] = 'CARMENES'\n",
    "frame['year'] = 2014\n",
    "frame['new data?'] = True\n",
    "frame['analysis type'] = 'stellar mask'\n",
    "frame['url']= 'https://www.aanda.org/articles/aa/abs/2015/04/aa25298-14/aa25298-14.html'"
   ]
  },
  {
   "cell_type": "code",
   "execution_count": null,
   "metadata": {
    "ExecuteTime": {
     "end_time": "2022-08-31T18:28:52.751300Z",
     "start_time": "2022-08-31T18:28:52.751294Z"
    }
   },
   "outputs": [],
   "source": [
    "khalafinejad_21_species = ['Na']\n",
    "\n",
    "khalafinejad_21_SNRs = np.array([5])\n",
    "\n",
    "frame = khalafinejad_21_frame = pd.DataFrame({'SNR': khalafinejad_21_SNRs,\n",
    "                             'species': khalafinejad_21_species})\n",
    "\n",
    "frame['lead'] = 'khalafinejad'\n",
    "frame['planet'] = 'WASP-69 b'\n",
    "frame['observation'] = 'transit'\n",
    "frame['instrument'] = 'CARMENES'\n",
    "frame['year'] = 2021\n",
    "frame['new data?'] = True\n",
    "frame['analysis type'] = 'line-fitting'\n",
    "frame['url']= 'https://arxiv.org/pdf/2109.06335.pdf'"
   ]
  },
  {
   "cell_type": "code",
   "execution_count": null,
   "metadata": {
    "ExecuteTime": {
     "end_time": "2022-08-31T18:28:52.752038Z",
     "start_time": "2022-08-31T18:28:52.752032Z"
    }
   },
   "outputs": [],
   "source": [
    "coustenis_1998_species = ['']\n",
    "\n",
    "coustenis_1998_SNRs = np.array([np.nan])\n",
    "\n",
    "frame = coustenis_1998_frame = pd.DataFrame({'SNR': coustenis_1998_SNRs,\n",
    "                             'species': coustenis_1998_species})\n",
    "\n",
    "frame['lead'] = 'coustenis'\n",
    "frame['planet'] = '51 Peg b'\n",
    "frame['observation'] = 'emission'\n",
    "frame['instrument'] = 'CSHELL'\n",
    "frame['year'] = 1998\n",
    "frame['new data?'] = True\n",
    "frame['analysis type'] = 'line-fitting'\n",
    "frame['url']= 'https://adsabs.harvard.edu/pdf/1998ASPC..134..296C'"
   ]
  },
  {
   "cell_type": "code",
   "execution_count": null,
   "metadata": {
    "ExecuteTime": {
     "end_time": "2022-08-31T18:28:52.752901Z",
     "start_time": "2022-08-31T18:28:52.752895Z"
    }
   },
   "outputs": [],
   "source": [
    "kawauchi_22_species = ['Na']\n",
    "\n",
    "kawauchi_22_SNRs = np.array([0])\n",
    "\n",
    "frame = kawauchi_22_frame = pd.DataFrame({'SNR': kawauchi_22_SNRs,\n",
    "                             'species': kawauchi_22_species})\n",
    "\n",
    "frame['lead'] = 'kawauchi'\n",
    "frame['planet'] = 'WASP-76 b'\n",
    "frame['observation'] = 'transit'\n",
    "frame['instrument'] = 'HDS'\n",
    "frame['year'] = 2022\n",
    "frame['new data?'] = True\n",
    "frame['analysis type'] = 'line-fitting'\n",
    "frame['url']= 'https://academic.oup.com/pasj/article-abstract/74/2/225/6516560?login=true'"
   ]
  },
  {
   "cell_type": "code",
   "execution_count": null,
   "metadata": {
    "ExecuteTime": {
     "end_time": "2022-08-31T18:28:52.754146Z",
     "start_time": "2022-08-31T18:28:52.754140Z"
    }
   },
   "outputs": [],
   "source": [
    "alonso_floriano_19b_species = ['H2O']\n",
    "\n",
    "alonso_floriano_19b_SNRs = np.array([6.6])\n",
    "\n",
    "frame = alonso_floriano_19b_frame = pd.DataFrame({'SNR': alonso_floriano_19b_SNRs,\n",
    "                             'species': alonso_floriano_19b_species})\n",
    "\n",
    "frame['lead'] = 'alonso-floriano'\n",
    "frame['planet'] = 'HD 189733 b'\n",
    "frame['observation'] = 'transit'\n",
    "frame['instrument'] = 'CARMENES'\n",
    "frame['year'] = 2022\n",
    "frame['new data?'] = True\n",
    "frame['analysis type'] = 'self-consistent forward models'\n",
    "frame['tellurics'] = 'sysrem'\n",
    "frame['url']= 'https://www.aanda.org/articles/aa/abs/2019/01/aa34339-18/aa34339-18.html'"
   ]
  },
  {
   "cell_type": "code",
   "execution_count": null,
   "metadata": {
    "ExecuteTime": {
     "end_time": "2022-08-31T18:28:52.754744Z",
     "start_time": "2022-08-31T18:28:52.754738Z"
    }
   },
   "outputs": [],
   "source": [
    "#todo: water non-detection!\n",
    "allart_17_species = ['H2O']\n",
    "\n",
    "allart_17_SNRs = np.array([np.nan])\n",
    "\n",
    "frame = allart_17_frame = pd.DataFrame({'SNR': allart_17_SNRs,\n",
    "                             'species': allart_17_species})\n",
    "\n",
    "frame['lead'] = 'Allart'\n",
    "frame['planet'] = 'HD 189733 b'\n",
    "frame['observation'] = 'transit'\n",
    "frame['instrument'] = 'HARPS'\n",
    "frame['year'] = 2017\n",
    "frame['new data?'] = True\n",
    "frame['analysis type'] = 'self-consistent forward models'\n",
    "frame['tellurics'] = 'molecfit'\n",
    "frame['url']= 'https://www.aanda.org/articles/aa/pdf/2017/10/aa30814-17.pdf'"
   ]
  },
  {
   "cell_type": "code",
   "execution_count": null,
   "metadata": {
    "ExecuteTime": {
     "end_time": "2022-08-31T18:28:52.755604Z",
     "start_time": "2022-08-31T18:28:52.755598Z"
    }
   },
   "outputs": [],
   "source": [
    "fossati_21_species = ['He']\n",
    "\n",
    "fossati_21_SNRs = np.array([np.nan])\n",
    "\n",
    "frame = fossati_21_frame = pd.DataFrame({'SNR': fossati_21_SNRs,\n",
    "                             'species': fossati_21_species})\n",
    "\n",
    "frame['lead'] = 'fossati'\n",
    "frame['planet'] = 'WASP-80 b'\n",
    "frame['observation'] = 'transit'\n",
    "frame['instrument'] = 'HARPS-N, GIANO-B'\n",
    "frame['year'] = 2021\n",
    "frame['new data?'] = True\n",
    "frame['analysis type'] = 'self-consistent forward models'\n",
    "frame['tellurics'] = 'airmass detrending'\n",
    "frame['url']= 'https://www.aanda.org/articles/aa/abs/2022/02/aa42336-21/aa42336-21.html'"
   ]
  },
  {
   "cell_type": "code",
   "execution_count": null,
   "metadata": {
    "ExecuteTime": {
     "end_time": "2022-08-31T18:28:52.756819Z",
     "start_time": "2022-08-31T18:28:52.756813Z"
    }
   },
   "outputs": [],
   "source": [
    "scandariato_20_species = ['']\n",
    "\n",
    "scandariato_20_SNRs = np.array([np.nan])\n",
    "\n",
    "scandariato_20_frame = pd.DataFrame({'SNR': scandariato_20_SNRs,\n",
    "                             'species': scandariato_20_species})\n",
    "\n",
    "scandariato_20_frame['lead'] = 'Scandariato'\n",
    "scandariato_20_frame['planet'] = '51 Peg b'\n",
    "scandariato_20_frame['observation'] = 'reflected light'\n",
    "scandariato_20_frame['instrument'] = 'HARPS, HARPS-N'\n",
    "scandariato_20_frame['year'] = 2020\n",
    "scandariato_20_frame['new data?'] = True\n",
    "scandariato_20_frame['analysis type'] = 'stellar spectrum'"
   ]
  },
  {
   "cell_type": "code",
   "execution_count": null,
   "metadata": {
    "ExecuteTime": {
     "end_time": "2022-08-31T18:28:52.757539Z",
     "start_time": "2022-08-31T18:28:52.757534Z"
    }
   },
   "outputs": [],
   "source": [
    "# todo: add all new above here."
   ]
  },
  {
   "cell_type": "code",
   "execution_count": null,
   "metadata": {
    "ExecuteTime": {
     "end_time": "2022-08-31T18:28:52.758258Z",
     "start_time": "2022-08-31T18:28:52.758252Z"
    }
   },
   "outputs": [],
   "source": [
    "brogi_line_19_species = ['H2O', 'CO']\n",
    "\n",
    "brogi_line_19_SNRs = np.array([0, 0])\n",
    "\n",
    "brogi_line_19_frame = pd.DataFrame({'SNR': brogi_line_19_SNRs,\n",
    "                             'species': brogi_line_19_species})\n",
    "\n",
    "brogi_line_19_frame['lead'] = 'Brogi'\n",
    "brogi_line_19_frame['planet'] = 'HD 209458 b'\n",
    "brogi_line_19_frame['observation'] = 'transit'\n",
    "brogi_line_19_frame['instrument'] = 'CRIRES'\n",
    "brogi_line_19_frame['year'] = 2019\n",
    "brogi_line_19_frame['new data?'] = False\n",
    "brogi_line_19_frame['detection?'] = True\n",
    "brogi_line_19_frame['analysis type'] = 'retrieval'"
   ]
  },
  {
   "cell_type": "code",
   "execution_count": null,
   "metadata": {
    "ExecuteTime": {
     "end_time": "2022-08-31T18:28:52.758975Z",
     "start_time": "2022-08-31T18:28:52.758967Z"
    }
   },
   "outputs": [],
   "source": [
    "brogi_line_19_2_species = ['H2O', 'CO']\n",
    "\n",
    "brogi_line_19_2_SNRs = np.array([0, 0])\n",
    "\n",
    "brogi_line_19_2_frame = pd.DataFrame({'SNR': brogi_line_19_2_SNRs,\n",
    "                             'species': brogi_line_19_2_species})\n",
    "\n",
    "brogi_line_19_2_frame['lead'] = 'Brogi'\n",
    "brogi_line_19_2_frame['planet'] = 'HD 189733 b'\n",
    "brogi_line_19_2_frame['observation'] = 'transit'\n",
    "brogi_line_19_2_frame['instrument'] = 'CRIRES'\n",
    "brogi_line_19_2_frame['year'] = 2019\n",
    "brogi_line_19_2_frame['new data?'] = False\n",
    "brogi_line_19_2_frame['detection?'] = True\n",
    "brogi_line_19_2_frame['analysis type'] = 'retrieval'"
   ]
  },
  {
   "cell_type": "code",
   "execution_count": null,
   "metadata": {
    "ExecuteTime": {
     "end_time": "2022-08-31T18:28:52.759573Z",
     "start_time": "2022-08-31T18:28:52.759567Z"
    }
   },
   "outputs": [],
   "source": [
    "gandhi_22_species = ['Fe']\n",
    "\n",
    "gandhi_22_SNRs = np.array([0])\n",
    "\n",
    "gandhi_22_VMRs = np.array([-4.33])\n",
    "\n",
    "# phase 1: evening −4.97+0.63−0.56, −3.83+0.51−0.59\n",
    "# phase 2: evening −4.03+0.28 −0.31, morning −4.59+0.85 −1.0\n",
    "# todo: add this once more people do it :)\n",
    "\n",
    "gandhi_22_VMRs_err1 = np.array([0.26])\n",
    "\n",
    "gandhi_22_VMRs_err2 = np.array([0.27])\n",
    "\n",
    "gandhi_22_frame = pd.DataFrame({'SNR': gandhi_22_SNRs,\n",
    "                             'species': gandhi_22_species,\n",
    "                              'VMR': gandhi_22_VMRs,\n",
    "                               'VMR_err1': gandhi_22_VMRs_err1,\n",
    "                               'VMR_err2': gandhi_22_VMRs_err2})\n",
    "\n",
    "gandhi_22_frame['lead'] = 'Gandhi'\n",
    "gandhi_22_frame['planet'] = 'WASP-76 b'\n",
    "gandhi_22_frame['observation'] = 'transit'\n",
    "gandhi_22_frame['instrument'] = 'ESPRESSO'\n",
    "gandhi_22_frame['year'] = 2022\n",
    "gandhi_22_frame['new data?'] = False\n",
    "gandhi_22_frame['detection?'] = True\n",
    "gandhi_22_frame['analysis type'] = 'retrieval, 2D'\n",
    "gandhi_22_frame['url'] = 'https://ui.adsabs.harvard.edu/abs/2022MNRAS.515..749G/abstract'\n",
    "\n"
   ]
  },
  {
   "cell_type": "code",
   "execution_count": null,
   "metadata": {
    "ExecuteTime": {
     "end_time": "2022-08-31T18:28:52.760470Z",
     "start_time": "2022-08-31T18:28:52.760465Z"
    }
   },
   "outputs": [],
   "source": [
    "gandhi_19_species = ['H2O', 'CO']\n",
    "\n",
    "gandhi_19_SNRs = np.array([0, 0])\n",
    "\n",
    "gandhi_19_frame = pd.DataFrame({'SNR': gandhi_19_SNRs,\n",
    "                             'species': gandhi_19_species})\n",
    "\n",
    "gandhi_19_frame['lead'] = 'Gandhi'\n",
    "gandhi_19_frame['planet'] = 'HD 209458 b'\n",
    "gandhi_19_frame['observation'] = 'transit'\n",
    "gandhi_19_frame['instrument'] = 'CRIRES'\n",
    "gandhi_19_frame['year'] = 2019\n",
    "gandhi_19_frame['analysis type'] = 'retrieval'\n",
    "gandhi_19_frame['new data?'] = False\n",
    "gandhi_19_frame['detection?'] = True\n",
    "gandhi_19_frame['url'] = 'https://ui.adsabs.harvard.edu/abs/2019AJ....158..228G/abstract'"
   ]
  },
  {
   "cell_type": "code",
   "execution_count": null,
   "metadata": {
    "ExecuteTime": {
     "end_time": "2022-08-31T18:28:52.761164Z",
     "start_time": "2022-08-31T18:28:52.761158Z"
    }
   },
   "outputs": [],
   "source": [
    "brogi_17_species = ['H2O', 'CO']\n",
    "\n",
    "brogi_17_SNRs = np.array([0, 0])\n",
    "\n",
    "brogi_17_frame = pd.DataFrame({'SNR': brogi_17_SNRs,\n",
    "                             'species': brogi_17_species})\n",
    "\n",
    "brogi_17_frame['lead'] = 'Brogi'\n",
    "brogi_17_frame['planet'] = 'HD 209458 b'\n",
    "brogi_17_frame['observation'] = 'transit'\n",
    "brogi_17_frame['instrument'] = 'CRIRES'\n",
    "brogi_17_frame['year'] = 2017\n",
    "brogi_17_frame['analysis type'] = 'joint'\n",
    "brogi_17_frame['new data?'] = False\n",
    "brogi_17_frame['detection?'] = True\n",
    "brogi_17_frame['url'] = 'https://ui.adsabs.harvard.edu/abs/2017ApJ...839L...2B/abstract'"
   ]
  },
  {
   "cell_type": "code",
   "execution_count": null,
   "metadata": {
    "ExecuteTime": {
     "end_time": "2022-08-31T18:28:52.762101Z",
     "start_time": "2022-08-31T18:28:52.762094Z"
    }
   },
   "outputs": [],
   "source": [
    "# think about how to do non-detections for a single species...\n",
    "# like what's the difference between a non-detection and a non-listed SNR?\n",
    "# maybe use np.nan for non-detection"
   ]
  },
  {
   "cell_type": "code",
   "execution_count": null,
   "metadata": {
    "ExecuteTime": {
     "end_time": "2022-08-31T18:28:52.762707Z",
     "start_time": "2022-08-31T18:28:52.762702Z"
    }
   },
   "outputs": [],
   "source": [
    "brogi_17_species = ['H2O', 'CO']\n",
    "\n",
    "brogi_17_SNRs = np.array([0, 0])\n",
    "\n",
    "brogi_17_frame = pd.DataFrame({'SNR': brogi_17_SNRs,\n",
    "                             'species': brogi_17_species})\n",
    "\n",
    "brogi_17_frame['lead'] = 'Brogi'\n",
    "brogi_17_frame['planet'] = 'HD 209458 b'\n",
    "brogi_17_frame['observation'] = 'transit'\n",
    "brogi_17_frame['instrument'] = 'CRIRES'\n",
    "brogi_17_frame['year'] = 2017\n",
    "brogi_17_frame['analysis type'] = 'joint'\n",
    "brogi_17_frame['new data?'] = False\n",
    "brogi_17_frame['detection?'] = False\n",
    "brogi_17_frame['url'] = 'https://ui.adsabs.harvard.edu/abs/2017ApJ...839L...2B/abstract'"
   ]
  },
  {
   "cell_type": "code",
   "execution_count": null,
   "metadata": {
    "ExecuteTime": {
     "end_time": "2022-08-31T18:28:52.763725Z",
     "start_time": "2022-08-31T18:28:52.763718Z"
    }
   },
   "outputs": [],
   "source": [
    "brogi_18_species = ['H2O']\n",
    "\n",
    "brogi_18_SNRs = np.array([5.5])\n",
    "\n",
    "brogi_18_frame = pd.DataFrame({'SNR': brogi_18_SNRs,\n",
    "                             'species': brogi_18_species})\n",
    "\n",
    "brogi_18_frame['lead'] = 'Brogi'\n",
    "brogi_18_frame['planet'] = 'HD 189733 b'\n",
    "brogi_18_frame['observation'] = 'transit'\n",
    "brogi_18_frame['instrument'] = 'GIANO'\n",
    "brogi_18_frame['year'] = 2018\n",
    "brogi_18_frame['analysis type'] = 'parameterized forward model'\n",
    "brogi_18_frame['new data?'] = True\n",
    "brogi_18_frame['url'] = 'https://ui.adsabs.harvard.edu/abs/2018A%26A...615A..16B/abstract'"
   ]
  },
  {
   "cell_type": "code",
   "execution_count": null,
   "metadata": {},
   "outputs": [],
   "source": []
  },
  {
   "cell_type": "code",
   "execution_count": null,
   "metadata": {
    "ExecuteTime": {
     "end_time": "2022-08-31T18:28:52.764524Z",
     "start_time": "2022-08-31T18:28:52.764519Z"
    }
   },
   "outputs": [],
   "source": [
    "kesseli_21_species = ['H',\n",
    "          'Li',\n",
    "          'Na',\n",
    "          'Mg',\n",
    "          'K',\n",
    "          'Ca+',\n",
    "          'V',\n",
    "          'Cr',\n",
    "          'Mn',\n",
    "          'Fe',\n",
    "          'Co',\n",
    "          'Ni',\n",
    "          'Sr+']\n",
    "\n",
    "kesseli_21_SNRs = [5.31,\n",
    "       6.03,\n",
    "       10.63,\n",
    "       6.94,\n",
    "       4.22,\n",
    "       7.8,\n",
    "       8.19,\n",
    "       6.82,\n",
    "       5.82,\n",
    "       14.24,\n",
    "       4.03,\n",
    "       5.01,\n",
    "       5.77]\n",
    "\n",
    "\n",
    "kesseli_21_frame = pd.DataFrame({'SNR': kesseli_21_SNRs,\n",
    "                             'species':kesseli_21_species})\n",
    "\n",
    "kesseli_21_frame['lead'] = 'Aurora Kesseli'\n",
    "kesseli_21_frame['observation'] = 'transit'\n",
    "kesseli_21_frame['planet'] = 'WASP-76 b'\n",
    "kesseli_21_frame['instrument'] = 'ESPRESSO'\n",
    "kesseli_21_frame['year'] = 2020"
   ]
  },
  {
   "cell_type": "code",
   "execution_count": null,
   "metadata": {
    "ExecuteTime": {
     "end_time": "2022-08-31T18:28:52.765398Z",
     "start_time": "2022-08-31T18:28:52.765391Z"
    }
   },
   "outputs": [],
   "source": [
    "tabernero_20_species = ['Ca+ K',\n",
    "                       'Ca+ H',\n",
    "                       'Mn',\n",
    "                       'Fe',\n",
    "                       'Mg',\n",
    "                       'Mg b',\n",
    "                       'Na D2',\n",
    "                       'Na D1',\n",
    "                       'H alpha',\n",
    "                       'Li',\n",
    "                       'K']\n",
    "\n",
    "tabernero_20_SNRs = np.array([[7.1,7.2],\n",
    "                             [8.5, 5.6],\n",
    "                             [4.7, 5],\n",
    "                             [4.7, 6.7],\n",
    "                             [2.8, 3.7],\n",
    "                             [5.0, 7.5],\n",
    "                             [9.2, 6.7],\n",
    "                             [7.5, 7.0],\n",
    "                             [4.0, np.nan],\n",
    "                             [4.4, 5.7],\n",
    "                             [3.8, 5.7]])\n",
    "\n",
    "tabernero_20_SNRs = np.nanmean(tabernero_20_SNRs, axis=1)\n",
    "\n",
    "tabernero_20_frame = pd.DataFrame({'SNR': tabernero_20_SNRs,\n",
    "                             'species': tabernero_20_species})\n",
    "\n",
    "tabernero_20_frame['lead'] = 'HM Tabernero'\n",
    "tabernero_20_frame['planet'] = 'WASP-76 b'\n",
    "tabernero_20_frame['observation'] = 'transit'\n",
    "tabernero_20_frame['instrument'] = 'ESPRESSO'\n",
    "tabernero_20_frame['year'] = 2020"
   ]
  },
  {
   "cell_type": "code",
   "execution_count": null,
   "metadata": {
    "ExecuteTime": {
     "end_time": "2022-08-31T18:28:52.765837Z",
     "start_time": "2022-08-31T18:28:52.765833Z"
    }
   },
   "outputs": [],
   "source": [
    "snellen_10_species = ['CO']\n",
    "\n",
    "snellen_10_SNRs = np.array([5.6])\n",
    "\n",
    "snellen_10_frame = pd.DataFrame({'SNR': snellen_10_SNRs,\n",
    "                             'species': snellen_10_species})\n",
    "\n",
    "snellen_10_frame['lead'] = 'I Snellen'\n",
    "snellen_10_frame['instrument'] = 'CRIRES'\n",
    "snellen_10_frame['observation'] = 'transit'\n",
    "snellen_10_frame['planet'] = 'HD 209458 b'\n",
    "snellen_10_frame['year'] = 2010"
   ]
  },
  {
   "cell_type": "code",
   "execution_count": null,
   "metadata": {
    "ExecuteTime": {
     "end_time": "2022-08-31T18:28:52.766291Z",
     "start_time": "2022-08-31T18:28:52.766286Z"
    }
   },
   "outputs": [],
   "source": [
    "sanchez_lopez_19_species = ['H2O']\n",
    "\n",
    "sanchez_lopez_19_SNRs = np.array([6.4])\n",
    "\n",
    "sanchez_lopez_19_frame = pd.DataFrame({'SNR': sanchez_lopez_19_SNRs,\n",
    "                             'species': sanchez_lopez_19_species})\n",
    "\n",
    "sanchez_lopez_19_frame['lead'] = 'A Sanchez-Lopez'\n",
    "sanchez_lopez_19_frame['planet'] = 'HD 209458 b'\n",
    "sanchez_lopez_19_frame['observation'] = 'transit'\n",
    "sanchez_lopez_19_frame['instrument'] = 'CARMENES'\n",
    "sanchez_lopez_19_frame['year'] = 2019"
   ]
  },
  {
   "cell_type": "code",
   "execution_count": null,
   "metadata": {
    "ExecuteTime": {
     "end_time": "2022-08-31T18:28:52.767099Z",
     "start_time": "2022-08-31T18:28:52.767094Z"
    }
   },
   "outputs": [],
   "source": [
    "louden_15_species = ['Na']\n",
    "\n",
    "louden_15_SNRs = np.array([0]) # not reported\n",
    "\n",
    "louden_15_frame = pd.DataFrame({'SNR': louden_15_SNRs,\n",
    "                             'species': louden_15_species})\n",
    "\n",
    "louden_15_frame['lead'] = 'T Louden'\n",
    "louden_15_frame['planet'] = 'HD 189733 b'\n",
    "louden_15_frame['observation'] = 'transit'\n",
    "louden_15_frame['instrument'] = 'HARPS'\n",
    "louden_15_frame['year'] = 2015\n",
    "louden_15_frame['detection?'] = True"
   ]
  },
  {
   "cell_type": "code",
   "execution_count": null,
   "metadata": {
    "ExecuteTime": {
     "end_time": "2022-08-31T18:28:52.767859Z",
     "start_time": "2022-08-31T18:28:52.767854Z"
    }
   },
   "outputs": [],
   "source": [
    "boucher_21_species = ['H2O']\n",
    "\n",
    "boucher_21_SNRs = np.array([5.9]) # not reported\n",
    "\n",
    "boucher_21_frame = pd.DataFrame({'SNR': boucher_21_SNRs,\n",
    "                             'species': boucher_21_species})\n",
    "\n",
    "boucher_21_frame['lead'] = 'A Boucher'\n",
    "boucher_21_frame['planet'] = 'HD 189733 b'\n",
    "boucher_21_frame['observation'] = 'transit'\n",
    "boucher_21_frame['instrument'] = 'SPIRou'\n",
    "boucher_21_frame['year'] = 2021\n",
    "boucher_21_frame['detection?'] = True"
   ]
  },
  {
   "cell_type": "code",
   "execution_count": null,
   "metadata": {
    "ExecuteTime": {
     "end_time": "2022-08-31T18:28:52.768369Z",
     "start_time": "2022-08-31T18:28:52.768363Z"
    }
   },
   "outputs": [],
   "source": [
    "brogi_16_species = ['H2O',\n",
    "                   'CO']\n",
    "\n",
    "brogi_16_SNRs = np.array([5.5, 5.1]) # not reported\n",
    "\n",
    "brogi_16_frame = pd.DataFrame({'SNR': brogi_16_SNRs,\n",
    "                             'species': brogi_16_species})\n",
    "\n",
    "brogi_16_frame['lead'] = 'M Brogi'\n",
    "brogi_16_frame['planet'] = 'HD 189733 b'\n",
    "brogi_16_frame['observation'] = 'transit'\n",
    "brogi_16_frame['instrument'] = 'CRIRES'\n",
    "brogi_16_frame['year'] = 2016\n",
    "brogi_16_frame['detection?'] = True"
   ]
  },
  {
   "cell_type": "code",
   "execution_count": null,
   "metadata": {
    "ExecuteTime": {
     "end_time": "2022-08-31T18:28:52.768925Z",
     "start_time": "2022-08-31T18:28:52.768915Z"
    }
   },
   "outputs": [],
   "source": [
    "flowers_19_species = ['H2O',\n",
    "                   'CO']\n",
    "\n",
    "flowers_19_SNRs = np.array([8.2, 8.2]) # computed together\n",
    "\n",
    "flowers_19_frame = pd.DataFrame({'SNR': flowers_19_SNRs,\n",
    "                             'species': flowers_19_species})\n",
    "\n",
    "flowers_19_frame['lead'] = 'E Flowers'\n",
    "flowers_19_frame['planet'] = 'HD 189733 b'\n",
    "flowers_19_frame['observation'] = 'transit'\n",
    "flowers_19_frame['instrument'] = 'CRIRES'\n",
    "flowers_19_frame['year'] = 2019\n",
    "flowers_19_frame['detection?'] = True"
   ]
  },
  {
   "cell_type": "code",
   "execution_count": null,
   "metadata": {
    "ExecuteTime": {
     "end_time": "2022-08-31T18:28:52.769809Z",
     "start_time": "2022-08-31T18:28:52.769804Z"
    }
   },
   "outputs": [],
   "source": [
    "schwarz_16_species = ['CO', 'H2O']\n",
    "\n",
    "schwarz_16_SNRs = np.array([11.6, 7.7])\n",
    "\n",
    "schwarz_16_frame = pd.DataFrame({'SNR': schwarz_16_SNRs,\n",
    "                             'species': schwarz_16_species})\n",
    "\n",
    "schwarz_16_frame['lead'] = 'H Schwarz'\n",
    "schwarz_16_frame['planet'] = 'GQ Lupi'\n",
    "schwarz_16_frame['observation'] = 'direct image'\n",
    "schwarz_16_frame['instrument'] = 'CRIRES'\n",
    "schwarz_16_frame['year'] = 2016\n",
    "schwarz_16_frame['detection?'] = True"
   ]
  },
  {
   "cell_type": "code",
   "execution_count": null,
   "metadata": {
    "ExecuteTime": {
     "end_time": "2022-08-31T18:28:52.770492Z",
     "start_time": "2022-08-31T18:28:52.770487Z"
    }
   },
   "outputs": [],
   "source": [
    "schwarz_15_species = ['CO']\n",
    "\n",
    "schwarz_15_SNRs = np.array([3])\n",
    "\n",
    "schwarz_15_frame = pd.DataFrame({'SNR': schwarz_15_SNRs,\n",
    "                             'species': schwarz_15_species})\n",
    "\n",
    "schwarz_15_frame['lead'] = 'H Schwarz'\n",
    "schwarz_15_frame['planet'] = 'HD 209458 b'\n",
    "schwarz_15_frame['observation'] = 'direct image'\n",
    "schwarz_15_frame['instrument'] = 'CRIRES'\n",
    "schwarz_15_frame['year'] = 2015\n",
    "\n",
    "schwarz_15_frame['analysis type'] = 'paramaterized forward model'\n",
    "schwarz_15_frame['new data?'] = True\n",
    "schwarz_15_frame['detection?'] = False # less than 4 sigma\n",
    "schwarz_15_frame['url'] = 'https://ui.adsabs.harvard.edu/abs/2017ApJ...839L...2B/abstract'"
   ]
  },
  {
   "cell_type": "code",
   "execution_count": null,
   "metadata": {
    "ExecuteTime": {
     "end_time": "2022-08-31T18:28:52.771210Z",
     "start_time": "2022-08-31T18:28:52.771205Z"
    }
   },
   "outputs": [],
   "source": [
    "brogi_13_species = ['CO', 'H2O']\n",
    "\n",
    "brogi_13_SNRs = np.array([5.9, 5.9]) # computed together\n",
    "\n",
    "brogi_13_frame = pd.DataFrame({'SNR': brogi_13_SNRs,\n",
    "                             'species': brogi_13_species})\n",
    "\n",
    "brogi_13_frame['lead'] = 'M Brogi'\n",
    "brogi_13_frame['planet'] = '51 Peg b'\n",
    "brogi_13_frame['observation'] = 'emission'\n",
    "brogi_13_frame['instrument'] = 'CRIRES'\n",
    "brogi_13_frame['year'] = 2013"
   ]
  },
  {
   "cell_type": "code",
   "execution_count": null,
   "metadata": {
    "ExecuteTime": {
     "end_time": "2022-08-31T18:28:52.771696Z",
     "start_time": "2022-08-31T18:28:52.771691Z"
    }
   },
   "outputs": [],
   "source": [
    "birkby_17_species = ['H2O']\n",
    "\n",
    "birkby_17_SNRs = np.array([5.6]) # computed together\n",
    "\n",
    "birkby_17_frame = pd.DataFrame({'SNR': birkby_17_SNRs,\n",
    "                             'species': birkby_17_species})\n",
    "\n",
    "birkby_17_frame['lead'] = 'J Birkby'\n",
    "birkby_17_frame['planet'] = '51 Peg b'\n",
    "birkby_17_frame['observation'] = 'emission'\n",
    "birkby_17_frame['instrument'] = 'CRIRES'\n",
    "birkby_17_frame['year'] = 2017"
   ]
  },
  {
   "cell_type": "code",
   "execution_count": null,
   "metadata": {
    "ExecuteTime": {
     "end_time": "2022-08-31T18:28:52.772396Z",
     "start_time": "2022-08-31T18:28:52.772391Z"
    }
   },
   "outputs": [],
   "source": [
    "brogi_14_species = ['CO', 'H2O']\n",
    "\n",
    "brogi_14_SNRs = np.array([6.3, 6.3]) # computed together\n",
    "\n",
    "brogi_14_frame = pd.DataFrame({'SNR': brogi_14_SNRs,\n",
    "                             'species': brogi_14_species})\n",
    "\n",
    "brogi_14_frame['lead'] = 'M Brogi'\n",
    "brogi_14_frame['planet'] = 'HD 179949 b'\n",
    "brogi_14_frame['observation'] = 'emission'\n",
    "brogi_14_frame['instrument'] = 'CRIRES'\n",
    "brogi_14_frame['year'] = 2014"
   ]
  },
  {
   "cell_type": "code",
   "execution_count": null,
   "metadata": {
    "ExecuteTime": {
     "end_time": "2022-08-31T18:28:52.773114Z",
     "start_time": "2022-08-31T18:28:52.773109Z"
    }
   },
   "outputs": [],
   "source": [
    "webb_20_species = ['H2O']\n",
    "\n",
    "webb_20_SNRs = np.array([3]) # computed together\n",
    "\n",
    "webb_20_frame = pd.DataFrame({'SNR': webb_20_SNRs,\n",
    "                             'species': webb_20_species})\n",
    "\n",
    "webb_20_frame['lead'] = 'M Brogi'\n",
    "webb_20_frame['planet'] = 'HD 179949 b'\n",
    "webb_20_frame['observation'] = 'emission'\n",
    "webb_20_frame['instrument'] = 'CRIRES'\n",
    "webb_20_frame['year'] = 2014"
   ]
  },
  {
   "cell_type": "code",
   "execution_count": null,
   "metadata": {
    "ExecuteTime": {
     "end_time": "2022-08-31T18:28:52.774056Z",
     "start_time": "2022-08-31T18:28:52.774051Z"
    }
   },
   "outputs": [],
   "source": [
    "sedaghati_17_species = ['TiO', 'Na', 'H2O'] #note: different!\n",
    "\n",
    "sedaghati_17_SNRs = np.array([7.7, 3.4, 7.9]) # computed together\n",
    "\n",
    "sedaghati_17_frame = pd.DataFrame({'SNR': sedaghati_17_SNRs,\n",
    "                             'species': sedaghati_17_species})\n",
    "\n",
    "sedaghati_17_frame['lead'] = 'E Sedaghati'\n",
    "sedaghati_17_frame['planet'] = 'WASP-19 b'\n",
    "sedaghati_17_frame['observation'] = 'emission'\n",
    "sedaghati_17_frame['instrument'] = 'CRIRES'\n",
    "sedaghati_17_frame['year'] = 2017"
   ]
  },
  {
   "cell_type": "code",
   "execution_count": null,
   "metadata": {
    "ExecuteTime": {
     "end_time": "2022-08-31T18:28:52.774695Z",
     "start_time": "2022-08-31T18:28:52.774688Z"
    }
   },
   "outputs": [],
   "source": [
    "wyttenbach_13_species = ['Na'] #note: different!\n",
    "\n",
    "wyttenbach_13_SNRs = np.array([4.5]) # computed together\n",
    "\n",
    "wyttenbach_13_frame = pd.DataFrame({'SNR': wyttenbach_13_SNRs,\n",
    "                             'species': wyttenbach_13_species})\n",
    "\n",
    "wyttenbach_13_frame['lead'] = 'wyttenbach'\n",
    "wyttenbach_13_frame['planet'] = 'WASP-49 b'\n",
    "wyttenbach_13_frame['observation'] = 'transit'\n",
    "wyttenbach_13_frame['instrument'] = 'HARPS'\n",
    "wyttenbach_13_frame['year'] = 2016"
   ]
  },
  {
   "cell_type": "code",
   "execution_count": null,
   "metadata": {
    "ExecuteTime": {
     "end_time": "2022-08-31T18:28:52.775287Z",
     "start_time": "2022-08-31T18:28:52.775282Z"
    }
   },
   "outputs": [],
   "source": [
    "nugroho_20_species = ['Fe', 'Ca+', 'Na', 'Fe+'] #note: different!\n",
    "\n",
    "nugroho_20_SNRs = np.array([14.43, 8.35, 5.77, 13.47]) # computed together\n",
    "\n",
    "nugroho_20_frame = pd.DataFrame({'SNR': nugroho_20_SNRs,\n",
    "                             'species': nugroho_20_species})\n",
    "\n",
    "nugroho_20_frame['lead'] = 'S Nugroho'\n",
    "nugroho_20_frame['planet'] = 'KELT-20 b'\n",
    "nugroho_20_frame['observation'] = 'transit'\n",
    "nugroho_20_frame['instrument'] = 'HARPS, CARMENES'\n",
    "nugroho_20_frame['year'] = 2020"
   ]
  },
  {
   "cell_type": "code",
   "execution_count": null,
   "metadata": {
    "ExecuteTime": {
     "end_time": "2022-08-31T18:28:52.776112Z",
     "start_time": "2022-08-31T18:28:52.776106Z"
    }
   },
   "outputs": [],
   "source": [
    "carone_20_species = ['Na', 'K'] #note: different!\n",
    "\n",
    "carone_20_SNRs = np.array([2.4, 2.4]) # computed together\n",
    "\n",
    "carone_20_frame = pd.DataFrame({'SNR': carone_20_SNRs,\n",
    "                             'species': carone_20_species})\n",
    "\n",
    "carone_20_frame['lead'] = 'L Carone'\n",
    "carone_20_frame['planet'] = 'WASP-117 b'\n",
    "carone_20_frame['observation'] = 'transit'\n",
    "carone_20_frame['instrument'] = 'ESPRESSO'\n",
    "carone_20_frame['year'] = 2020"
   ]
  },
  {
   "cell_type": "code",
   "execution_count": null,
   "metadata": {
    "ExecuteTime": {
     "end_time": "2022-08-31T18:28:52.776837Z",
     "start_time": "2022-08-31T18:28:52.776832Z"
    }
   },
   "outputs": [],
   "source": [
    "ben_yami_20_species = ['Fe', 'Cr', 'V', 'Fe+'] #note: different!\n",
    "\n",
    "ben_yami_20_SNRs = np.array([6.0, 3.6, 4.5, 3.6]) # computed together\n",
    "\n",
    "ben_yami_20_frame = pd.DataFrame({'SNR': ben_yami_20_SNRs,\n",
    "                             'species': ben_yami_20_species})\n",
    "\n",
    "ben_yami_20_frame['lead'] = 'M Ben-Yami'\n",
    "ben_yami_20_frame['planet'] = 'WASP-121 b'\n",
    "ben_yami_20_frame['observation'] = 'transit'\n",
    "ben_yami_20_frame['instrument'] = 'HARPS'\n",
    "ben_yami_20_frame['year'] = 2020"
   ]
  },
  {
   "cell_type": "code",
   "execution_count": null,
   "metadata": {
    "ExecuteTime": {
     "end_time": "2022-08-31T18:28:52.777382Z",
     "start_time": "2022-08-31T18:28:52.777376Z"
    }
   },
   "outputs": [],
   "source": [
    "ehrenreich_20_species = ['Fe'] #note: different!\n",
    "\n",
    "ehrenreich_20_SNRs = np.array([9]) # computed together\n",
    "\n",
    "ehrenreich_20_frame = pd.DataFrame({'SNR': ehrenreich_20_SNRs,\n",
    "                             'species': ehrenreich_20_species})\n",
    "\n",
    "ehrenreich_20_frame['lead'] = 'D Ehrenreich'\n",
    "ehrenreich_20_frame['planet'] = 'WASP-76 b'\n",
    "ehrenreich_20_frame['observation'] = 'transit'\n",
    "ehrenreich_20_frame['instrument'] = 'ESPRESSO'\n",
    "ehrenreich_20_frame['year'] = 2020"
   ]
  },
  {
   "cell_type": "code",
   "execution_count": null,
   "metadata": {
    "ExecuteTime": {
     "end_time": "2022-08-31T18:28:52.778228Z",
     "start_time": "2022-08-31T18:28:52.778221Z"
    }
   },
   "outputs": [],
   "source": [
    "hoeijmakers_20_species = ['Fe'] #note: different!\n",
    "\n",
    "hoeijmakers_20_SNRs = np.array([9]) # computed together\n",
    "\n",
    "hoeijmakers_20_frame = pd.DataFrame({'SNR': hoeijmakers_20_SNRs,\n",
    "                             'species': hoeijmakers_20_species})\n",
    "\n",
    "hoeijmakers_20_frame['lead'] = 'J Hoeijmakers'\n",
    "hoeijmakers_20_frame['planet'] = 'WASP-121 b'\n",
    "hoeijmakers_20_frame['observation'] = 'transit'\n",
    "hoeijmakers_20_frame['instrument'] = 'HARPS'\n",
    "hoeijmakers_20_frame['year'] = 2020"
   ]
  },
  {
   "cell_type": "code",
   "execution_count": null,
   "metadata": {
    "ExecuteTime": {
     "end_time": "2022-08-31T18:28:52.779007Z",
     "start_time": "2022-08-31T18:28:52.779001Z"
    }
   },
   "outputs": [],
   "source": [
    "merritt_21_species = ['Sc+', 'Fe',' Ca', 'Cr', 'V', 'H', 'K'] #note: different!\n",
    "\n",
    "merritt_21_SNRs = np.array([3.5, 3.5, 3.5, 3.5, 3.5, 3.5, 3.5]) # computed together\n",
    "\n",
    "merritt_21_frame = pd.DataFrame({'SNR': merritt_21_SNRs,\n",
    "                             'species': merritt_21_species})\n",
    "\n",
    "merritt_21_frame['lead'] = 'S Merritt'\n",
    "merritt_21_frame['planet'] = 'WASP-121 b'\n",
    "merritt_21_frame['observation'] = 'transit'\n",
    "merritt_21_frame['instrument'] = 'UVES'\n",
    "merritt_21_frame['year'] = 2021"
   ]
  },
  {
   "cell_type": "code",
   "execution_count": null,
   "metadata": {
    "ExecuteTime": {
     "end_time": "2022-08-31T18:28:52.779676Z",
     "start_time": "2022-08-31T18:28:52.779671Z"
    }
   },
   "outputs": [],
   "source": [
    "nugroho_20b_species = ['Fe'] #note: different!\n",
    "\n",
    "nugroho_20b_SNRs = np.array([6.4]) # computed together\n",
    "\n",
    "nugroho_20b_frame = pd.DataFrame({'SNR': nugroho_20b_SNRs,\n",
    "                             'species': nugroho_20b_species})\n",
    "\n",
    "nugroho_20b_frame['lead'] = 'S Nugroho'\n",
    "nugroho_20b_frame['planet'] = 'WASP-33 b'\n",
    "nugroho_20b_frame['observation'] = 'emission'\n",
    "nugroho_20b_frame['instrument'] = 'Subaru/IRD'\n",
    "nugroho_20b_frame['year'] = 2020"
   ]
  },
  {
   "cell_type": "code",
   "execution_count": null,
   "metadata": {
    "ExecuteTime": {
     "end_time": "2022-08-31T18:28:52.780516Z",
     "start_time": "2022-08-31T18:28:52.780511Z"
    }
   },
   "outputs": [],
   "source": [
    "cont_22_species = ['Si'] #note: different!\n",
    "\n",
    "cont_22_SNRs = np.array([4.8]) # computed together\n",
    "\n",
    "cont_22_frame = pd.DataFrame({'SNR': cont_21_SNRs,\n",
    "                             'species': cont_21_species})\n",
    "\n",
    "cont_22_frame['lead'] = 'S Nugroho'\n",
    "cont_22_frame['planet'] = 'WASP-33 b'\n",
    "cont_22_frame['observation'] = 'emission'\n",
    "cont_22_frame['instrument'] = 'CARMENES'\n",
    "cont_22_frame['year'] = 2022"
   ]
  },
  {
   "cell_type": "code",
   "execution_count": null,
   "metadata": {
    "ExecuteTime": {
     "end_time": "2022-08-31T18:28:52.781170Z",
     "start_time": "2022-08-31T18:28:52.781165Z"
    }
   },
   "outputs": [],
   "source": [
    "# todo: add\n",
    "cont_22_2_species = ['Si'] #note: different!\n",
    "\n",
    "cont_22_2_SNRs = np.array([5.4]) # computed together\n",
    "\n",
    "cont_22_2_frame = pd.DataFrame({'SNR': cont_22_2_SNRs,\n",
    "                             'species': cont_22_2_species})\n",
    "\n",
    "cont_22_2_frame['lead'] = 'cont'\n",
    "cont_22_2_frame['planet'] = 'KELT-20 b'\n",
    "cont_22_2_frame['observation'] = 'emission'\n",
    "cont_22_2_frame['instrument'] = 'CARMENES'\n",
    "cont_22_2_frame['year'] = 2022"
   ]
  },
  {
   "cell_type": "code",
   "execution_count": null,
   "metadata": {
    "ExecuteTime": {
     "end_time": "2022-08-31T18:28:52.781920Z",
     "start_time": "2022-08-31T18:28:52.781915Z"
    }
   },
   "outputs": [],
   "source": [
    "herman_22_species = ['Fe'] #note: different!\n",
    "\n",
    "herman_22_SNRs = np.array([10.4]) # computed together\n",
    "\n",
    "herman_22_frame = pd.DataFrame({'SNR': herman_22_SNRs,\n",
    "                             'species': herman_22_species})\n",
    "\n",
    "herman_22_frame['lead'] = 'M Herman'\n",
    "herman_22_frame['planet'] = 'WASP-33 b'\n",
    "herman_22_frame['observation'] = 'emission'\n",
    "herman_22_frame['instrument'] = 'ESPaDOnS, HDS'\n",
    "herman_22_frame['year'] = 2022"
   ]
  },
  {
   "cell_type": "code",
   "execution_count": null,
   "metadata": {
    "ExecuteTime": {
     "end_time": "2022-08-31T18:28:52.782533Z",
     "start_time": "2022-08-31T18:28:52.782528Z"
    }
   },
   "outputs": [],
   "source": [
    "yan_20_species = ['Fe'] #note: different!\n",
    "\n",
    "yan_20_SNRs = np.array([8.7]) # computed together\n",
    "\n",
    "yan_20_frame = pd.DataFrame({'SNR': yan_20_SNRs,\n",
    "                             'species': yan_20_species})\n",
    "\n",
    "yan_20_frame['lead'] = 'F Yan'\n",
    "yan_20_frame['planet'] = 'WASP-189 b'\n",
    "yan_20_frame['observation'] = 'emission'\n",
    "yan_20_frame['instrument'] = 'HARPS-N'\n",
    "yan_20_frame['year'] = 2020\n"
   ]
  },
  {
   "cell_type": "code",
   "execution_count": null,
   "metadata": {
    "ExecuteTime": {
     "end_time": "2022-08-31T18:28:52.783123Z",
     "start_time": "2022-08-31T18:28:52.783117Z"
    }
   },
   "outputs": [],
   "source": [
    "stangret_21_species = ['Fe', 'Fe+', 'Ti', 'H alpha', 'H beta', 'Ca H&K'] #note: different!\n",
    "\n",
    "stangret_21_SNRs = np.array([5.1, 5.4, 4.2, 0, 0, 0]) # computed together\n",
    "\n",
    "stangret_21_frame = pd.DataFrame({'SNR': stangret_21_SNRs,\n",
    "                             'species': stangret_21_species})\n",
    "\n",
    "stangret_21_frame['lead'] = 'F Stangret'\n",
    "stangret_21_frame['planet'] = 'WASP-189 b'\n",
    "stangret_21_frame['observation'] = 'transit'\n",
    "stangret_21_frame['instrument'] = 'HARPS-N'\n",
    "stangret_21_frame['year'] = 2021"
   ]
  },
  {
   "cell_type": "markdown",
   "metadata": {},
   "source": [
    "non-detections of above: HAT-P-57b, KELT-7b, KELT-17b, KELT-21b, MASCARA-1b\n",
    "Al I,\n",
    "B I, Ca I, Cr I, Fe I, Fe II, H2O, K I, Li I, Mg I, Mg II, N I, Na I,\n",
    "Si I, Si II, Ti I, TiO, V I, V II, VO, and Y I"
   ]
  },
  {
   "cell_type": "code",
   "execution_count": null,
   "metadata": {
    "ExecuteTime": {
     "end_time": "2022-08-31T18:28:52.783777Z",
     "start_time": "2022-08-31T18:28:52.783770Z"
    }
   },
   "outputs": [],
   "source": [
    "chen_20_species = ['Na'] #note: different!\n",
    "\n",
    "chen_20_SNRs = np.array([4.9]) # computed together\n",
    "\n",
    "chen_20_frame = pd.DataFrame({'SNR': chen_20_SNRs,\n",
    "                             'species': chen_20_species})\n",
    "\n",
    "chen_20_frame['lead'] = 'S chen'\n",
    "chen_20_frame['planet'] = 'WASP-21 b'\n",
    "chen_20_frame['observation'] = 'transit'\n",
    "chen_20_frame['instrument'] = 'HARPS-N'\n",
    "chen_20_frame['year'] = 2020"
   ]
  },
  {
   "cell_type": "code",
   "execution_count": null,
   "metadata": {
    "ExecuteTime": {
     "end_time": "2022-08-31T18:28:52.784567Z",
     "start_time": "2022-08-31T18:28:52.784558Z"
    }
   },
   "outputs": [],
   "source": [
    "sanchez_lopez_20_species = ['H2O']\n",
    "\n",
    "sanchez_lopez_20_SNRs = np.array([5.2])\n",
    "\n",
    "sanchez_lopez_20_frame = pd.DataFrame({'SNR': sanchez_lopez_20_SNRs,\n",
    "                             'species': sanchez_lopez_20_species})\n",
    "\n",
    "sanchez_lopez_20_frame['lead'] = 'A Sanchez-Lopez'\n",
    "sanchez_lopez_20_frame['planet'] = 'HD 209458 b'\n",
    "sanchez_lopez_20_frame['observation'] = 'transit'\n",
    "sanchez_lopez_20_frame['instrument'] = 'CARMENES'\n",
    "sanchez_lopez_20_frame['year'] = 2020"
   ]
  },
  {
   "cell_type": "code",
   "execution_count": null,
   "metadata": {
    "ExecuteTime": {
     "end_time": "2022-08-31T18:28:52.785108Z",
     "start_time": "2022-08-31T18:28:52.785103Z"
    }
   },
   "outputs": [],
   "source": [
    "sanchez_lopez_20_2_species = ['H2O']\n",
    "\n",
    "sanchez_lopez_20_2_SNRs = np.array([np.nan])\n",
    "\n",
    "sanchez_lopez_20_2_frame = pd.DataFrame({'SNR': sanchez_lopez_20_2_SNRs,\n",
    "                             'species': sanchez_lopez_20_2_species})\n",
    "\n",
    "sanchez_lopez_20_2_frame['lead'] = 'A Sanchez-Lopez'\n",
    "sanchez_lopez_20_2_frame['planet'] = 'HD 189733 b'\n",
    "sanchez_lopez_20_2_frame['observation'] = 'transit'\n",
    "sanchez_lopez_20_2_frame['instrument'] = 'CARMENES'\n",
    "sanchez_lopez_20_2_frame['year'] = 2020"
   ]
  },
  {
   "cell_type": "code",
   "execution_count": null,
   "metadata": {
    "ExecuteTime": {
     "end_time": "2022-08-31T18:28:52.785758Z",
     "start_time": "2022-08-31T18:28:52.785753Z"
    }
   },
   "outputs": [],
   "source": [
    "borsa_20_species = ['Fe', 'Fe+',\n",
    "                   'Cr', 'V', 'Ca+', 'Mn', 'Mg', 'H beta',\n",
    "                   'Mg', 'Na', 'H alpha', 'Li', 'K']\n",
    "\n",
    "borsa_20_SNRs = np.array([13.3, 4.4, 4.2, 6.6, 4, 3.9, 4, 3.9, 4, 4, 4, 4, 4]) # taking the 1 UT\n",
    "\n",
    "borsa_20_frame = pd.DataFrame({'SNR': borsa_20_SNRs,\n",
    "                             'species': borsa_20_species})\n",
    "\n",
    "borsa_20_frame['lead'] = 'F Borsa'\n",
    "borsa_20_frame['planet'] = 'WASP-121 b'\n",
    "borsa_20_frame['observation'] = 'transit'\n",
    "borsa_20_frame['instrument'] = 'ESPRESSO'\n",
    "borsa_20_frame['year'] = 2020"
   ]
  },
  {
   "cell_type": "code",
   "execution_count": null,
   "metadata": {
    "ExecuteTime": {
     "end_time": "2022-08-31T18:28:52.786706Z",
     "start_time": "2022-08-31T18:28:52.786701Z"
    }
   },
   "outputs": [],
   "source": [
    "yan_20b_species = ['H alpha', 'H beta', 'H gamma']\n",
    "\n",
    "yan_20b_SNRs = np.array([20, 8, 2.3]) # taking the 1 UT\n",
    "\n",
    "yan_20b_frame = pd.DataFrame({'SNR': yan_20b_SNRs,\n",
    "                             'species': yan_20b_species})\n",
    "\n",
    "yan_20b_frame['lead'] = 'F Yan'\n",
    "yan_20b_frame['planet'] = 'WASP-33 b'\n",
    "yan_20b_frame['observation'] = 'transit'\n",
    "yan_20b_frame['instrument'] = 'HARPS, CARMENES'\n",
    "yan_20b_frame['year'] = 2020"
   ]
  },
  {
   "cell_type": "code",
   "execution_count": null,
   "metadata": {
    "ExecuteTime": {
     "end_time": "2022-08-31T18:28:52.787175Z",
     "start_time": "2022-08-31T18:28:52.787171Z"
    }
   },
   "outputs": [],
   "source": [
    "# todo: check kasper"
   ]
  },
  {
   "cell_type": "code",
   "execution_count": null,
   "metadata": {
    "ExecuteTime": {
     "end_time": "2022-08-31T18:28:52.788051Z",
     "start_time": "2022-08-31T18:28:52.788044Z"
    }
   },
   "outputs": [],
   "source": [
    "borsa_21_species = ['H alpha', 'H beta']\n",
    "\n",
    "borsa_21_SNRs = np.array([np.nan, np.nan]) # taking the 1 UT\n",
    "\n",
    "borsa_21_frame = pd.DataFrame({'SNR': borsa_21_SNRs,\n",
    "                             'species': borsa_21_species})\n",
    "\n",
    "borsa_21_frame['lead'] = 'F Borsa'\n",
    "borsa_21_frame['planet'] = 'WASP-33 b'\n",
    "borsa_21_frame['observation'] = 'transit'\n",
    "borsa_21_frame['instrument'] = 'HARPS'\n",
    "borsa_21_frame['year'] = 2021"
   ]
  },
  {
   "cell_type": "code",
   "execution_count": null,
   "metadata": {
    "ExecuteTime": {
     "end_time": "2022-08-31T18:28:52.788802Z",
     "start_time": "2022-08-31T18:28:52.788797Z"
    }
   },
   "outputs": [],
   "source": [
    "nugroho_21_species = ['OH', 'H2O']\n",
    "\n",
    "nugroho_21_SNRs = np.array([5.4, 4]) # taking the 1 UT\n",
    "\n",
    "nugroho_21_frame = pd.DataFrame({'SNR': nugroho_21_SNRs,\n",
    "                             'species': nugroho_21_species})\n",
    "\n",
    "nugroho_21_frame['lead'] = 'S Nugroho'\n",
    "nugroho_21_frame['planet'] = 'WASP-33 b'\n",
    "nugroho_21_frame['observation'] = 'transit'\n",
    "nugroho_21_frame['instrument'] = 'IRD'\n",
    "nugroho_21_frame['year'] = 2021"
   ]
  },
  {
   "cell_type": "code",
   "execution_count": null,
   "metadata": {
    "ExecuteTime": {
     "end_time": "2022-08-31T18:28:52.789715Z",
     "start_time": "2022-08-31T18:28:52.789708Z"
    }
   },
   "outputs": [],
   "source": [
    "sanchez_lopez_21_species = ['H2O', 'HCN']\n",
    "\n",
    "sanchez_lopez_21_SNRs = np.array([5.5, 5.2]) # taking the 1 UT\n",
    "\n",
    "sanchez_lopez_21_frame = pd.DataFrame({'SNR': sanchez_lopez_21_SNRs,\n",
    "                             'species': sanchez_lopez_21_species})\n",
    "\n",
    "sanchez_lopez_21_frame['lead'] = 'A Sanchez-Lopez'\n",
    "sanchez_lopez_21_frame['planet'] = 'WASP-76 b'\n",
    "sanchez_lopez_21_frame['observation'] = 'transit'\n",
    "sanchez_lopez_21_frame['instrument'] = 'CARMENES'\n",
    "sanchez_lopez_21_frame['year'] = 2021"
   ]
  },
  {
   "cell_type": "code",
   "execution_count": null,
   "metadata": {
    "ExecuteTime": {
     "end_time": "2022-08-31T18:28:52.790705Z",
     "start_time": "2022-08-31T18:28:52.790699Z"
    }
   },
   "outputs": [],
   "source": [
    "line_21_species = ['CO', 'H2O']\n",
    "\n",
    "line_21_SNRs = np.array([12.8, 12.8]) # taking the 1 UT\n",
    "\n",
    "line_21_frame = pd.DataFrame({'SNR': line_21_SNRs,\n",
    "                             'species': line_21_species})\n",
    "\n",
    "line_21_frame['lead'] = 'M Line'\n",
    "line_21_frame['planet'] = 'WASP-77A b'\n",
    "line_21_frame['observation'] = 'emission'\n",
    "line_21_frame['instrument'] = 'IGRINS'\n",
    "line_21_frame['year'] = 2021"
   ]
  },
  {
   "cell_type": "code",
   "execution_count": null,
   "metadata": {
    "ExecuteTime": {
     "end_time": "2022-08-31T18:28:52.791524Z",
     "start_time": "2022-08-31T18:28:52.791518Z"
    }
   },
   "outputs": [],
   "source": [
    "seidel_21_species = ['Na']\n",
    "\n",
    "seidel_21_SNRs = np.array([0]) # taking the 1 UT\n",
    "\n",
    "seidel_21_frame = pd.DataFrame({'SNR': seidel_21_SNRs,\n",
    "                             'species': seidel_21_species})\n",
    "\n",
    "seidel_21_frame['lead'] = 'J Seidel'\n",
    "seidel_21_frame['planet'] = 'WASP-76 b'\n",
    "seidel_21_frame['observation'] = 'transit'\n",
    "seidel_21_frame['instrument'] = 'ESPRESSO'\n",
    "seidel_21_frame['year'] = 2021"
   ]
  },
  {
   "cell_type": "code",
   "execution_count": null,
   "metadata": {
    "ExecuteTime": {
     "end_time": "2022-08-31T18:28:52.791955Z",
     "start_time": "2022-08-31T18:28:52.791949Z"
    }
   },
   "outputs": [],
   "source": [
    "chen_20b_21_species = ['Na', 'K', 'H alpha']\n",
    "\n",
    "chen_20b_21_SNRs = np.array([np.nan, np.nan, np.nan]) # taking the 1 UT\n",
    "\n",
    "chen_20b_21_frame = pd.DataFrame({'SNR': seidel_21_SNRs,\n",
    "                             'species': seidel_21_species})\n",
    "\n",
    "chen_20b_21_frame['lead'] = 'chen'\n",
    "chen_20b_21_frame['planet'] = 'WASP-52 b'\n",
    "chen_20b_21_frame['observation'] = 'transit'\n",
    "chen_20b_21_frame['instrument'] = 'ESPRESSO'\n",
    "chen_20b_21_frame['year'] = 2021"
   ]
  },
  {
   "cell_type": "code",
   "execution_count": null,
   "metadata": {
    "ExecuteTime": {
     "end_time": "2022-08-31T18:28:52.792765Z",
     "start_time": "2022-08-31T18:28:52.792760Z"
    }
   },
   "outputs": [],
   "source": [
    "seidel_19_species = ['Na']\n",
    "\n",
    "seidel_19_SNRs = np.array([10.6]) # taking the 1 UT\n",
    "\n",
    "seidel_19_frame = pd.DataFrame({'SNR': seidel_19_SNRs,\n",
    "                             'species': seidel_19_species})\n",
    "\n",
    "seidel_19_frame['lead'] = 'J Seidel'\n",
    "seidel_19_frame['planet'] = 'WASP-76 b'\n",
    "seidel_19_frame['observation'] = 'transit'\n",
    "seidel_21_frame['instrument'] = 'HARPS'\n",
    "seidel_19_frame['year'] = 2021"
   ]
  },
  {
   "cell_type": "code",
   "execution_count": null,
   "metadata": {
    "ExecuteTime": {
     "end_time": "2022-08-31T18:28:52.793819Z",
     "start_time": "2022-08-31T18:28:52.793814Z"
    }
   },
   "outputs": [],
   "source": [
    "de_kok_13_species = ['CO']\n",
    "\n",
    "de_kok_13_SNRs = np.array([0]) # taking the 1 UT\n",
    "\n",
    "de_kok_13_frame = pd.DataFrame({'SNR': de_kok_13_SNRs,\n",
    "                             'species': de_kok_13_species})\n",
    "\n",
    "de_kok_13_frame['lead'] = 'R de Kok'\n",
    "de_kok_13_frame['planet'] = 'HD 189733 b'\n",
    "de_kok_13_frame['observation'] = 'emission'\n",
    "de_kok_13_frame['instrument'] = 'CRIRES'\n",
    "de_kok_13_frame['year'] = 2013"
   ]
  },
  {
   "cell_type": "code",
   "execution_count": null,
   "metadata": {
    "ExecuteTime": {
     "end_time": "2022-08-31T18:28:52.794645Z",
     "start_time": "2022-08-31T18:28:52.794639Z"
    }
   },
   "outputs": [],
   "source": [
    "rodler_13_species = ['CO']\n",
    "\n",
    "rodler_13_SNRs = np.array([3.4]) # taking the 1 UT\n",
    "\n",
    "rodler_13_frame = pd.DataFrame({'SNR': rodler_13_SNRs,\n",
    "                             'species': rodler_13_species})\n",
    "\n",
    "rodler_13_frame['lead'] = 'R de Kok'\n",
    "rodler_13_frame['planet'] = 'HD 189733 b'\n",
    "rodler_13_frame['observation'] = 'emission'\n",
    "rodler_13_frame['instrument'] = 'NIRSPEC'\n",
    "rodler_13_frame['year'] = 2013"
   ]
  },
  {
   "cell_type": "code",
   "execution_count": null,
   "metadata": {
    "ExecuteTime": {
     "end_time": "2022-08-31T18:28:52.795246Z",
     "start_time": "2022-08-31T18:28:52.795240Z"
    }
   },
   "outputs": [],
   "source": [
    "wyttenbach_15_species = ['Na']\n",
    "\n",
    "wyttenbach_15_SNRs = np.array([10]) # taking the 1 UT\n",
    "\n",
    "wyttenbach_15_frame = pd.DataFrame({'SNR': wyttenbach_15_SNRs,\n",
    "                             'species': wyttenbach_15_species})\n",
    "\n",
    "wyttenbach_15_frame['lead'] = 'wyttenbach'\n",
    "wyttenbach_15_frame['planet'] = 'HD 189733 b'\n",
    "wyttenbach_15_frame['observation'] = 'transit'\n",
    "wyttenbach_15_frame['instrument'] = 'HARPS'\n",
    "wyttenbach_15_frame['year'] = 2015"
   ]
  },
  {
   "cell_type": "code",
   "execution_count": null,
   "metadata": {
    "ExecuteTime": {
     "end_time": "2022-08-31T18:28:52.795714Z",
     "start_time": "2022-08-31T18:28:52.795709Z"
    }
   },
   "outputs": [],
   "source": [
    "khalafinejad_16_species = ['Na']\n",
    "\n",
    "khalafinejad_16_SNRs = np.array([0]) # taking the 1 UT\n",
    "\n",
    "khalafinejad_16_frame = pd.DataFrame({'SNR': khalafinejad_16_SNRs,\n",
    "                             'species': khalafinejad_16_species})\n",
    "\n",
    "khalafinejad_16_frame['lead'] = 'khalafinejad'\n",
    "khalafinejad_16_frame['planet'] = 'HD 189733 b'\n",
    "khalafinejad_16_frame['observation'] = 'transit'\n",
    "khalafinejad_16_frame['instrument'] = 'UVES'\n",
    "khalafinejad_16_frame['year'] = 2016"
   ]
  },
  {
   "cell_type": "code",
   "execution_count": null,
   "metadata": {},
   "outputs": [],
   "source": []
  },
  {
   "cell_type": "code",
   "execution_count": null,
   "metadata": {
    "ExecuteTime": {
     "end_time": "2022-08-31T18:28:52.796165Z",
     "start_time": "2022-08-31T18:28:52.796160Z"
    }
   },
   "outputs": [],
   "source": [
    "zak_19_species = ['Na']\n",
    "\n",
    "zak_19_SNRs = np.array([8]) # taking the 1 UT\n",
    "\n",
    "zak_19_frame = pd.DataFrame({'SNR': zak_19_SNRs,\n",
    "                             'species': zak_19_species})\n",
    "\n",
    "zak_19_frame['lead'] = 'Zak'\n",
    "zak_19_frame['planet'] = 'WASP-76 b'\n",
    "zak_19_frame['observation'] = 'emission'\n",
    "zak_19_frame['instrument'] = 'HARPS'\n",
    "zak_19_frame['year'] = 2019"
   ]
  },
  {
   "cell_type": "code",
   "execution_count": null,
   "metadata": {
    "ExecuteTime": {
     "end_time": "2022-08-31T18:28:52.797016Z",
     "start_time": "2022-08-31T18:28:52.797011Z"
    }
   },
   "outputs": [],
   "source": [
    "zak_19_2_species = ['Na']\n",
    "\n",
    "zak_19_2_SNRs = np.array([5]) # taking the 1 UT\n",
    "\n",
    "zak_19_2_frame = pd.DataFrame({'SNR': zak_19_2_SNRs,\n",
    "                             'species': zak_19_2_species})\n",
    "\n",
    "zak_19_2_frame['lead'] = 'Zak'\n",
    "zak_19_2_frame['planet'] = 'WASP-127 b'\n",
    "zak_19_2_frame['observation'] = 'emission'\n",
    "zak_19_2_frame['instrument'] = 'HARPS' # check\n",
    "zak_19_2_frame['year'] = 2019"
   ]
  },
  {
   "cell_type": "code",
   "execution_count": null,
   "metadata": {
    "ExecuteTime": {
     "end_time": "2022-08-31T18:28:52.797574Z",
     "start_time": "2022-08-31T18:28:52.797567Z"
    }
   },
   "outputs": [],
   "source": [
    "landman_21_species = ['OH']\n",
    "\n",
    "landman_21_SNRs = np.array([6.1]) # taking the 1 UT\n",
    "\n",
    "landman_21_frame = pd.DataFrame({'SNR': landman_21_SNRs,\n",
    "                             'species': landman_21_species})\n",
    "\n",
    "landman_21_frame['lead'] = 'R Landman'\n",
    "landman_21_frame['planet'] = 'WASP-76 b'\n",
    "landman_21_frame['observation'] = 'transit'\n",
    "landman_21_frame['instrument'] = 'CARMENES'\n",
    "landman_21_frame['year'] = 2021"
   ]
  },
  {
   "cell_type": "code",
   "execution_count": null,
   "metadata": {
    "ExecuteTime": {
     "end_time": "2022-08-31T18:28:52.798376Z",
     "start_time": "2022-08-31T18:28:52.798370Z"
    }
   },
   "outputs": [],
   "source": [
    "# todo: other snellen 2014 paper? Na?\n",
    "snellen_14_species = ['CO', 'H2O']\n",
    "\n",
    "snellen_14_SNRs = np.array([6.4, 2.]) # taking the 1 UT\n",
    "\n",
    "snellen_14_frame = pd.DataFrame({'SNR': snellen_14_SNRs,\n",
    "                             'species': snellen_14_species})\n",
    "\n",
    "snellen_14_frame['lead'] = 'I Snellen'\n",
    "snellen_14_frame['planet'] = 'Beta pic b'\n",
    "snellen_14_frame['observation'] = 'emission'\n",
    "snellen_14_frame['instrument'] = 'CRIRES'\n",
    "snellen_14_frame['year'] = 2014\n",
    "snellen_14_frame['analysis method'] = 'parameterized forward model'"
   ]
  },
  {
   "cell_type": "code",
   "execution_count": null,
   "metadata": {
    "ExecuteTime": {
     "end_time": "2022-08-31T18:28:52.798948Z",
     "start_time": "2022-08-31T18:28:52.798943Z"
    }
   },
   "outputs": [],
   "source": [
    "yan_18_species = ['H alpha']\n",
    "\n",
    "yan_18_SNRs = np.array([0]) # taking the 1 UT\n",
    "\n",
    "yan_18_frame = pd.DataFrame({'SNR': yan_18_SNRs,\n",
    "                             'species': yan_18_species})\n",
    "\n",
    "yan_18_frame['lead'] = 'F Yan'\n",
    "yan_18_frame['planet'] = 'KELT-9 b'\n",
    "yan_18_frame['observation'] = 'transit'\n",
    "yan_18_frame['instrument'] = 'CARMENES'\n",
    "yan_18_frame['year'] = 2018"
   ]
  },
  {
   "cell_type": "code",
   "execution_count": null,
   "metadata": {
    "ExecuteTime": {
     "end_time": "2022-08-31T18:28:52.799751Z",
     "start_time": "2022-08-31T18:28:52.799745Z"
    }
   },
   "outputs": [],
   "source": [
    "kasper_21_species = ['Fe', 'Fe+', 'Ti+', 'Ca+', 'Mg']\n",
    "\n",
    "kasper_21_SNRs = np.array([0, 0, 0, 0, 0]) # taking the 1 UT\n",
    "\n",
    "kasper_21_frame = pd.DataFrame({'SNR': kasper_21_SNRs,\n",
    "                             'species': kasper_21_species})\n",
    "\n",
    "kasper_21_frame['lead'] = 'kasper'\n",
    "kasper_21_frame['planet'] = 'WASP-76 b'\n",
    "kasper_21_frame['observation'] = 'transit'\n",
    "kasper_21_frame['instrument'] = 'MAROON-X'\n",
    "kasper_21_frame['analysis method'] = 'retrieval'\n",
    "kasper_21_frame['year'] = 2021"
   ]
  },
  {
   "cell_type": "code",
   "execution_count": null,
   "metadata": {
    "ExecuteTime": {
     "end_time": "2022-08-31T18:28:52.800684Z",
     "start_time": "2022-08-31T18:28:52.800679Z"
    }
   },
   "outputs": [],
   "source": [
    "hoeijmakers_18_species = ['Fe', 'Fe+', 'Ti+']\n",
    "\n",
    "hoeijmakers_18_SNRs = np.array([7, 14, 9]) # taking the 1 UT\n",
    "\n",
    "hoeijmakers_18_frame = pd.DataFrame({'SNR': hoeijmakers_18_SNRs,\n",
    "                             'species': hoeijmakers_18_species})\n",
    "\n",
    "hoeijmakers_18_frame['lead'] = 'J Hoeijmakers'\n",
    "hoeijmakers_18_frame['planet'] = 'KELT-9 b'\n",
    "hoeijmakers_18_frame['observation'] = 'transit'\n",
    "hoeijmakers_18_frame['instrument'] = 'HARPS'\n",
    "hoeijmakers_18_frame['year'] = 2018"
   ]
  },
  {
   "cell_type": "code",
   "execution_count": null,
   "metadata": {
    "ExecuteTime": {
     "end_time": "2022-08-31T18:28:52.801242Z",
     "start_time": "2022-08-31T18:28:52.801237Z"
    }
   },
   "outputs": [],
   "source": [
    "hoeijmakers_19_species = ['Na', 'Mg', 'Sc+', 'Ti+', 'Cr+', 'Fe', 'Fe+', 'Y+']\n",
    "\n",
    "hoeijmakers_19_SNRs = np.array([5,5,5,5,5,5,5,5]) # taking the 1 UT\n",
    "\n",
    "hoeijmakers_19_frame = pd.DataFrame({'SNR': hoeijmakers_19_SNRs,\n",
    "                             'species': hoeijmakers_19_species})\n",
    "\n",
    "hoeijmakers_19_frame['lead'] = 'J Hoeijmakers'\n",
    "hoeijmakers_19_frame['planet'] = 'KELT-9 b'\n",
    "hoeijmakers_19_frame['observation'] = 'transit'\n",
    "hoeijmakers_19_frame['instrument'] = 'HARPS'\n",
    "hoeijmakers_19_frame['year'] = 2019"
   ]
  },
  {
   "cell_type": "code",
   "execution_count": null,
   "metadata": {
    "ExecuteTime": {
     "end_time": "2022-08-31T18:28:52.801973Z",
     "start_time": "2022-08-31T18:28:52.801968Z"
    }
   },
   "outputs": [],
   "source": [
    "cauley_19_species = ['Mg', 'Fe', 'Fe+', 'Ti+', 'H alpha', 'H beta']\n",
    "\n",
    "cauley_19_SNRs = np.array([7.8, 5, 5, 5, 5, 5]) # taking the 1 UT\n",
    "\n",
    "cauley_19_frame = pd.DataFrame({'SNR': cauley_19_SNRs,\n",
    "                             'species': cauley_19_species})\n",
    "\n",
    "cauley_19_frame['lead'] = 'Cauley'\n",
    "cauley_19_frame['planet'] = 'KELT-9 b'\n",
    "cauley_19_frame['observation'] = 'transit'\n",
    "cauley_19_frame['instrument'] = 'PEPSI'\n",
    "cauley_19_frame['year'] = 2019"
   ]
  },
  {
   "cell_type": "code",
   "execution_count": null,
   "metadata": {
    "ExecuteTime": {
     "end_time": "2022-08-31T18:28:52.802889Z",
     "start_time": "2022-08-31T18:28:52.802883Z"
    }
   },
   "outputs": [],
   "source": [
    "cauley_19_species = ['Mg', 'Fe', 'Fe+', 'Ti+', 'H alpha', 'H beta']\n",
    "\n",
    "cauley_19_SNRs = np.array([7.8, 5, 5, 5, 5, 5]) # taking the 1 UT\n",
    "\n",
    "cauley_19_frame = pd.DataFrame({'SNR': cauley_19_SNRs,\n",
    "                             'species': cauley_19_species})\n",
    "\n",
    "cauley_19_frame['lead'] = 'Cauley'\n",
    "cauley_19_frame['planet'] = 'KELT-9 b'\n",
    "cauley_19_frame['observation'] = 'transit'\n",
    "cauley_19_frame['instrument'] = 'PEPSI'\n",
    "cauley_19_frame['year'] = 2019"
   ]
  },
  {
   "cell_type": "code",
   "execution_count": null,
   "metadata": {
    "ExecuteTime": {
     "end_time": "2022-08-31T18:28:52.803539Z",
     "start_time": "2022-08-31T18:28:52.803534Z"
    }
   },
   "outputs": [],
   "source": [
    "turner_20_species = ['H alpha']\n",
    "\n",
    "turner_20_SNRs = np.array([0]) # taking the 1 UT\n",
    "\n",
    "turner_20_frame = pd.DataFrame({'SNR': turner_20_SNRs,\n",
    "                             'species': turner_20_species})\n",
    "\n",
    "turner_20_frame['lead'] = 'Turner'\n",
    "turner_20_frame['planet'] = 'KELT-9 b'\n",
    "turner_20_frame['observation'] = 'transit'\n",
    "turner_20_frame['instrument'] = 'CARMENES'\n",
    "turner_20_frame['year'] = 2020"
   ]
  },
  {
   "cell_type": "code",
   "execution_count": null,
   "metadata": {
    "ExecuteTime": {
     "end_time": "2022-08-31T18:28:52.804164Z",
     "start_time": "2022-08-31T18:28:52.804157Z"
    }
   },
   "outputs": [],
   "source": [
    "diebert_21_species = ['Ca+']\n",
    "\n",
    "diebert_21_SNRs = np.array([0]) # taking the 1 UT\n",
    "\n",
    "diebert_21_frame = pd.DataFrame({'SNR': diebert_21_SNRs,\n",
    "                             'species': diebert_21_species})\n",
    "\n",
    "diebert_21_frame['lead'] = 'Diebert'\n",
    "diebert_21_frame['planet'] = 'WASP-76 b'\n",
    "diebert_21_frame['observation'] = 'transit'\n",
    "diebert_21_frame['instrument'] = 'CARMENES'\n",
    "diebert_21_frame['year'] = 2021"
   ]
  },
  {
   "cell_type": "code",
   "execution_count": null,
   "metadata": {
    "ExecuteTime": {
     "end_time": "2022-08-31T18:28:52.804921Z",
     "start_time": "2022-08-31T18:28:52.804916Z"
    }
   },
   "outputs": [],
   "source": [
    "pino_20_species = ['Fe']\n",
    "\n",
    "pino_20_SNRs = np.array([0]) # taking the 1 UT\n",
    "\n",
    "pino_20_frame = pd.DataFrame({'SNR': pino_20_SNRs,\n",
    "                             'species': pino_20_species})\n",
    "\n",
    "pino_20_frame['lead'] = 'L Pino'\n",
    "pino_20_frame['planet'] = 'KELT-9 b'\n",
    "pino_20_frame['observation'] = 'transit'\n",
    "pino_20_frame['instrument'] = 'HARPS'\n",
    "pino_20_frame['year'] = 2020"
   ]
  },
  {
   "cell_type": "code",
   "execution_count": null,
   "metadata": {
    "ExecuteTime": {
     "end_time": "2022-08-31T18:28:52.805422Z",
     "start_time": "2022-08-31T18:28:52.805417Z"
    }
   },
   "outputs": [],
   "source": [
    "yan_19_b_species = ['Ca+']\n",
    "\n",
    "yan_19_b_SNRs = np.array([0]) # taking the 1 UT\n",
    "\n",
    "yan_19_b_frame = pd.DataFrame({'SNR': yan_19_b_SNRs,\n",
    "                             'species': yan_19_b_species})\n",
    "\n",
    "yan_19_b_frame['lead'] = 'F Yan'\n",
    "yan_19_b_frame['planet'] = 'KELT-9 b'\n",
    "yan_19_b_frame['observation'] = 'transit'\n",
    "yan_19_b_frame['instrument'] = 'CARMENES'\n",
    "yan_19_b_frame['year'] = 2019"
   ]
  },
  {
   "cell_type": "code",
   "execution_count": null,
   "metadata": {
    "ExecuteTime": {
     "end_time": "2022-08-31T18:28:52.806040Z",
     "start_time": "2022-08-31T18:28:52.806034Z"
    }
   },
   "outputs": [],
   "source": [
    "yan_19b_2_species = ['Ca+']\n",
    "\n",
    "yan_19b_2_SNRs = np.array([0]) # taking the 1 UT\n",
    "\n",
    "yan_19b_2_frame = pd.DataFrame({'SNR': yan_19b_2_SNRs,\n",
    "                             'species': yan_19b_2_species})\n",
    "\n",
    "yan_19b_2_frame['lead'] = 'F Yan'\n",
    "yan_19b_2_frame['planet'] = 'WASP-33 b'\n",
    "yan_19b_2_frame['observation'] = 'transit'\n",
    "yan_19b_2_frame['instrument'] = 'CARMENES'\n",
    "yan_19b_2_frame['year'] = 2019"
   ]
  },
  {
   "cell_type": "code",
   "execution_count": null,
   "metadata": {
    "ExecuteTime": {
     "end_time": "2022-08-31T18:28:52.806628Z",
     "start_time": "2022-08-31T18:28:52.806624Z"
    }
   },
   "outputs": [],
   "source": [
    "santos_20_species = ['Na', 'K']\n",
    "\n",
    "santos_20_SNRs = np.array([0, 0]) # taking the 1 UT\n",
    "\n",
    "santos_20_frame = pd.DataFrame({'SNR': santos_20_SNRs,\n",
    "                             'species': santos_20_species})\n",
    "\n",
    "santos_20_frame['lead'] = 'Santos'\n",
    "santos_20_frame['planet'] = 'HD 209458 b'\n",
    "santos_20_frame['observation'] = 'transit'\n",
    "santos_20_frame['instrument'] = 'ESPRESSO'\n",
    "santos_20_frame['year'] = 2020"
   ]
  },
  {
   "cell_type": "code",
   "execution_count": null,
   "metadata": {
    "ExecuteTime": {
     "end_time": "2022-08-31T18:28:52.808027Z",
     "start_time": "2022-08-31T18:28:52.808020Z"
    }
   },
   "outputs": [],
   "source": [
    "allart_20_species = ['Na']\n",
    "\n",
    "allart_20_SNRs = np.array([9]) # taking the 1 UT\n",
    "\n",
    "allart_20_frame = pd.DataFrame({'SNR': allart_20_SNRs,\n",
    "                             'species': allart_20_species})\n",
    "\n",
    "allart_20_frame['lead'] = 'Allart'\n",
    "allart_20_frame['planet'] = 'WASP-127 b'\n",
    "allart_20_frame['observation'] = 'transit'\n",
    "allart_20_frame['instrument'] = 'ESPRESSO'\n",
    "allart_20_frame['year'] = 2020"
   ]
  },
  {
   "cell_type": "code",
   "execution_count": null,
   "metadata": {
    "ExecuteTime": {
     "end_time": "2022-08-31T18:28:52.808948Z",
     "start_time": "2022-08-31T18:28:52.808942Z"
    }
   },
   "outputs": [],
   "source": [
    "osagh_20_species = ['Na']\n",
    "\n",
    "osagh_20_SNRs = np.array([9]) # taking the 1 UT\n",
    "\n",
    "osagh_20_frame = pd.DataFrame({'SNR': osagh_20_SNRs,\n",
    "                             'species': osagh_20_species})\n",
    "\n",
    "osagh_20_frame['lead'] = 'Santos'\n",
    "osagh_20_frame['planet'] = 'WASP-127 b'\n",
    "osagh_20_frame['observation'] = 'transit'\n",
    "osagh_20_frame['instrument'] = 'CARMENES'\n",
    "osagh_20_frame['year'] = 2020"
   ]
  },
  {
   "cell_type": "code",
   "execution_count": null,
   "metadata": {
    "ExecuteTime": {
     "end_time": "2022-08-31T18:28:52.809749Z",
     "start_time": "2022-08-31T18:28:52.809743Z"
    }
   },
   "outputs": [],
   "source": [
    "cauley_21_species = ['H alpha']\n",
    "\n",
    "cauley_21_SNRs = np.array([0]) # taking the 1 UT\n",
    "\n",
    "cauley_21_frame = pd.DataFrame({'SNR': cauley_21_SNRs,\n",
    "                             'species': cauley_21_species})\n",
    "\n",
    "cauley_21_frame['lead'] = 'Cauley'\n",
    "cauley_21_frame['planet'] = 'WASP-33 b'\n",
    "cauley_21_frame['observation'] = 'transit'\n",
    "cauley_21_frame['instrument'] = 'PEPSI'\n",
    "cauley_21_frame['year'] = 2021"
   ]
  },
  {
   "cell_type": "code",
   "execution_count": null,
   "metadata": {
    "ExecuteTime": {
     "end_time": "2022-08-31T18:28:52.810619Z",
     "start_time": "2022-08-31T18:28:52.810614Z"
    }
   },
   "outputs": [],
   "source": [
    "van_sluijs_22_species = ['CO']\n",
    "\n",
    "van_sluijs_22_SNRs = np.array([7.4]) \n",
    "\n",
    "van_sluijs_22_frame = pd.DataFrame({'SNR': van_sluijs_22_SNRs,\n",
    "                             'species': van_sluijs_22_species})\n",
    "\n",
    "van_sluijs_22_frame['lead'] = 'Van Sluijs'\n",
    "van_sluijs_22_frame['planet'] = 'WASP-33 b'\n",
    "van_sluijs_22_frame['observation'] = 'emission'\n",
    "van_sluijs_22_frame['instrument'] = 'MMT'\n",
    "van_sluijs_22_frame['year'] = 2022"
   ]
  },
  {
   "cell_type": "code",
   "execution_count": null,
   "metadata": {
    "ExecuteTime": {
     "end_time": "2022-08-31T18:28:52.811643Z",
     "start_time": "2022-08-31T18:28:52.811636Z"
    }
   },
   "outputs": [],
   "source": [
    "paragas_21_species = ['He']\n",
    "\n",
    "paragas_21_SNRs = np.array([0]) \n",
    "\n",
    "paragas_21_frame = pd.DataFrame({'SNR': paragas_21_SNRs,\n",
    "                             'species': paragas_21_species})\n",
    "\n",
    "paragas_21_frame['lead'] = 'K Paragas'\n",
    "paragas_21_frame['planet'] = 'HAT-P-18 b'\n",
    "paragas_21_frame['observation'] = 'emission'\n",
    "paragas_21_frame['instrument'] = 'Hale'\n",
    "paragas_21_frame['year'] = 2021"
   ]
  },
  {
   "cell_type": "code",
   "execution_count": null,
   "metadata": {
    "ExecuteTime": {
     "end_time": "2022-08-31T18:28:52.812157Z",
     "start_time": "2022-08-31T18:28:52.812152Z"
    }
   },
   "outputs": [],
   "source": [
    "keles_19_species = ['K']\n",
    "\n",
    "keles_19_SNRs = np.array([9]) # taking the 1 UT\n",
    "\n",
    "keles_19_frame = pd.DataFrame({'SNR': keles_19_SNRs,\n",
    "                             'species': keles_19_species})\n",
    "\n",
    "keles_19_frame['lead'] = 'keles'\n",
    "keles_19_frame['planet'] = 'HD 189733 b'\n",
    "keles_19_frame['observation'] = 'transit'\n",
    "keles_19_frame['instrument'] = 'PEPSI'\n",
    "keles_19_frame['year'] = 2019"
   ]
  },
  {
   "cell_type": "code",
   "execution_count": null,
   "metadata": {
    "ExecuteTime": {
     "end_time": "2022-08-31T18:28:52.812800Z",
     "start_time": "2022-08-31T18:28:52.812795Z"
    }
   },
   "outputs": [],
   "source": [
    "cabot_21_species = ['Fe', 'Fe+']\n",
    "\n",
    "cabot_21_SNRs = np.array([5.2, 3.4]) # taking the 1 UT\n",
    "\n",
    "cabot_21_frame = pd.DataFrame({'SNR': cabot_21_SNRs,\n",
    "                             'species': cabot_21_species})\n",
    "\n",
    "cabot_21_frame['lead'] = 'cabot'\n",
    "cabot_21_frame['planet'] = 'TOI-1518 b'\n",
    "cabot_21_frame['observation'] = 'emission'\n",
    "cabot_21_frame['instrument'] = 'EXPRES'\n",
    "cabot_21_frame['year'] = 2021"
   ]
  },
  {
   "cell_type": "code",
   "execution_count": null,
   "metadata": {
    "ExecuteTime": {
     "end_time": "2022-08-31T18:28:52.813549Z",
     "start_time": "2022-08-31T18:28:52.813544Z"
    }
   },
   "outputs": [],
   "source": [
    "salz_18_species = ['He']\n",
    "\n",
    "salz_18_SNRs = np.array([0]) # taking the 1 UT\n",
    "\n",
    "salz_18_frame = pd.DataFrame({'SNR': salz_18_SNRs,\n",
    "                             'species': salz_18_species})\n",
    "\n",
    "salz_18_frame['lead'] = 'salz'\n",
    "salz_18_frame['planet'] = 'HD 189733 b'\n",
    "salz_18_frame['observation'] = 'transit'\n",
    "salz_18_frame['instrument'] = 'PEPSI' # check\n",
    "salz_18_frame['year'] = 2018"
   ]
  },
  {
   "cell_type": "code",
   "execution_count": null,
   "metadata": {
    "ExecuteTime": {
     "end_time": "2022-08-31T18:28:52.814135Z",
     "start_time": "2022-08-31T18:28:52.814125Z"
    }
   },
   "outputs": [],
   "source": [
    "birkby_13_species = ['H2O']\n",
    "\n",
    "birkby_13_SNRs = np.array([5]) # taking the 1 UT\n",
    "\n",
    "birkby_13_frame = pd.DataFrame({'SNR': birkby_13_SNRs,\n",
    "                             'species': birkby_13_species})\n",
    "\n",
    "birkby_13_frame['lead'] = 'J Birkby'\n",
    "birkby_13_frame['planet'] = 'HD 189733 b'\n",
    "birkby_13_frame['observation'] = 'emission'\n",
    "birkby_13_frame['instrument'] = 'CRIRES' # check\n",
    "birkby_13_frame['year'] = 2013"
   ]
  },
  {
   "cell_type": "code",
   "execution_count": null,
   "metadata": {
    "ExecuteTime": {
     "end_time": "2022-08-31T18:28:52.814867Z",
     "start_time": "2022-08-31T18:28:52.814861Z"
    }
   },
   "outputs": [],
   "source": [
    "guilluy_20_species = ['He']\n",
    "\n",
    "guilluy_20_SNRs = np.array([25]) # taking the 1 UT\n",
    "\n",
    "guilluy_20_frame = pd.DataFrame({'SNR': guilluy_20_SNRs,\n",
    "                             'species': guilluy_20_species})\n",
    "\n",
    "guilluy_20_frame['lead'] = 'guilluy'\n",
    "guilluy_20_frame['planet'] = 'HD 189733 b'\n",
    "guilluy_20_frame['observation'] = 'transit'\n",
    "guilluy_20_frame['instrument'] = 'GIARPS' # check\n",
    "guilluy_20_frame['year'] = 2020"
   ]
  },
  {
   "cell_type": "code",
   "execution_count": null,
   "metadata": {
    "ExecuteTime": {
     "end_time": "2022-08-31T18:28:52.815399Z",
     "start_time": "2022-08-31T18:28:52.815394Z"
    }
   },
   "outputs": [],
   "source": [
    "guilluy_19_species = ['H2O', 'CH4']\n",
    "\n",
    "guilluy_19_SNRs = np.array([4.4, 4.1]) # taking the 1 UT\n",
    "\n",
    "guilluy_19_frame = pd.DataFrame({'SNR': guilluy_19_SNRs,\n",
    "                             'species': guilluy_19_species})\n",
    "\n",
    "guilluy_19_frame['lead'] = 'guilluy'\n",
    "guilluy_19_frame['planet'] = 'HD 102195 b'\n",
    "guilluy_19_frame['observation'] = 'emission'\n",
    "guilluy_19_frame['instrument'] = 'GIANO' # check\n",
    "guilluy_19_frame['year'] = 2018"
   ]
  },
  {
   "cell_type": "code",
   "execution_count": null,
   "metadata": {
    "ExecuteTime": {
     "end_time": "2022-08-31T18:28:52.816300Z",
     "start_time": "2022-08-31T18:28:52.816295Z"
    }
   },
   "outputs": [],
   "source": [
    "casasayas_barris_18_species = ['Ca+', 'Fe+', 'Na', 'H']\n",
    "\n",
    "casasayas_barris_18_SNRs = np.array([0, 0, 0, 0]) # taking the 1 UT\n",
    "\n",
    "casasayas_barris_18_frame = pd.DataFrame({'SNR': casasayas_barris_18_SNRs,\n",
    "                             'species': casasayas_barris_18_species})\n",
    "\n",
    "casasayas_barris_18_frame['lead'] = 'casasayas_barris'\n",
    "casasayas_barris_18_frame['planet'] = 'KELT-20 b'\n",
    "casasayas_barris_18_frame['observation'] = 'transit'\n",
    "casasayas_barris_18_frame['instrument'] = 'HARPS' # and carmenes\n",
    "casasayas_barris_18_frame['year'] = 2018"
   ]
  },
  {
   "cell_type": "code",
   "execution_count": null,
   "metadata": {
    "ExecuteTime": {
     "end_time": "2022-08-31T18:28:52.817246Z",
     "start_time": "2022-08-31T18:28:52.817240Z"
    }
   },
   "outputs": [],
   "source": [
    "palle_20_species = ['He']\n",
    "\n",
    "palle_20_SNRs = np.array([18]) # taking the 1 UT\n",
    "\n",
    "palle_20_frame = pd.DataFrame({'SNR': palle_20_SNRs,\n",
    "                             'species': palle_20_species})\n",
    "\n",
    "palle_20_frame['lead'] = 'palle'\n",
    "palle_20_frame['planet'] = 'GJ 3470 b'\n",
    "palle_20_frame['observation'] = 'transit'\n",
    "palle_20_frame['instrument'] = 'CARMENES'\n",
    "palle_20_frame['year'] = 2020"
   ]
  },
  {
   "cell_type": "code",
   "execution_count": null,
   "metadata": {
    "ExecuteTime": {
     "end_time": "2022-08-31T18:28:52.817878Z",
     "start_time": "2022-08-31T18:28:52.817871Z"
    }
   },
   "outputs": [],
   "source": [
    "nortmann_18_species = ['He']\n",
    "\n",
    "nortmann_18_SNRs = np.array([0]) # taking the 1 UT\n",
    "\n",
    "nortmann_18_frame = pd.DataFrame({'SNR': nortmann_18_SNRs,\n",
    "                             'species': nortmann_18_species})\n",
    "\n",
    "nortmann_18_frame['lead'] = 'nortmann'\n",
    "nortmann_18_frame['planet'] = 'WASP-69 b'\n",
    "nortmann_18_frame['observation'] = 'transit'\n",
    "nortmann_18_frame['instrument'] = 'CARMENES'\n",
    "nortmann_18_frame['year'] = 2018"
   ]
  },
  {
   "cell_type": "code",
   "execution_count": null,
   "metadata": {
    "ExecuteTime": {
     "end_time": "2022-08-31T18:28:52.818532Z",
     "start_time": "2022-08-31T18:28:52.818526Z"
    }
   },
   "outputs": [],
   "source": [
    "khalafinejad_21_species = ['Na']\n",
    "\n",
    "khalafinejad_21_SNRs = np.array([7.9]) # taking the 1 UT\n",
    "\n",
    "khalafinejad_21_frame = pd.DataFrame({'SNR': khalafinejad_21_SNRs,\n",
    "                             'species': khalafinejad_21_species})\n",
    "\n",
    "khalafinejad_21_frame['lead'] = 'khalafinejad'\n",
    "khalafinejad_21_frame['planet'] = 'WASP-69 b'\n",
    "khalafinejad_21_frame['observation'] = 'transit'\n",
    "khalafinejad_21_frame['instrument'] = 'CARMENES'\n",
    "khalafinejad_21_frame['year'] = 2021"
   ]
  },
  {
   "cell_type": "code",
   "execution_count": null,
   "metadata": {
    "ExecuteTime": {
     "end_time": "2022-08-31T18:28:52.819649Z",
     "start_time": "2022-08-31T18:28:52.819643Z"
    }
   },
   "outputs": [],
   "source": [
    "casasayas_barris_17_species = ['Na']\n",
    "\n",
    "casasayas_barris_17_SNRs = np.array([5]) # taking the 1 UT\n",
    "\n",
    "casasayas_barris_17_frame = pd.DataFrame({'SNR': casasayas_barris_17_SNRs,\n",
    "                             'species': casasayas_barris_17_species})\n",
    "\n",
    "casasayas_barris_17_frame['lead'] = 'casasayas_barris'\n",
    "casasayas_barris_17_frame['planet'] = 'WASP-69 b'\n",
    "casasayas_barris_17_frame['observation'] = 'transit'\n",
    "casasayas_barris_17_frame['instrument'] = 'HARPS-N'\n",
    "casasayas_barris_17_frame['year'] = 2017"
   ]
  },
  {
   "cell_type": "code",
   "execution_count": null,
   "metadata": {
    "ExecuteTime": {
     "end_time": "2022-08-31T18:28:52.820541Z",
     "start_time": "2022-08-31T18:28:52.820535Z"
    }
   },
   "outputs": [],
   "source": [
    "allart_18_species = ['He']\n",
    "\n",
    "allart_18_SNRs = np.array([0]) # taking the 1 UT\n",
    "\n",
    "allart_18_frame = pd.DataFrame({'SNR': allart_18_SNRs,\n",
    "                             'species': allart_18_species})\n",
    "\n",
    "allart_18_frame['lead'] = 'Allart'\n",
    "allart_18_frame['planet'] = 'HAT-P-11 b'\n",
    "allart_18_frame['observation'] = 'transit'\n",
    "allart_18_frame['instrument'] = 'CARMENES'\n",
    "allart_18_frame['year'] = 2018"
   ]
  },
  {
   "cell_type": "code",
   "execution_count": null,
   "metadata": {
    "ExecuteTime": {
     "end_time": "2022-08-31T18:28:52.821209Z",
     "start_time": "2022-08-31T18:28:52.821203Z"
    }
   },
   "outputs": [],
   "source": [
    "deibert_19_species = ['Na']\n",
    "\n",
    "deibert_19_SNRs = np.array([3.2]) # taking the 1 UT\n",
    "\n",
    "deibert_19_frame = pd.DataFrame({'SNR': deibert_19_SNRs,\n",
    "                             'species': deibert_19_species})\n",
    "\n",
    "deibert_19_frame['lead'] = 'deibert'\n",
    "deibert_19_frame['planet'] = 'HAT-P-12 b'\n",
    "deibert_19_frame['observation'] = 'transit'\n",
    "deibert_19_frame['instrument'] = 'HDS'\n",
    "deibert_19_frame['year'] = 2019"
   ]
  },
  {
   "cell_type": "code",
   "execution_count": null,
   "metadata": {
    "ExecuteTime": {
     "end_time": "2022-08-31T18:28:52.821747Z",
     "start_time": "2022-08-31T18:28:52.821743Z"
    }
   },
   "outputs": [],
   "source": [
    "deibert_19_2_species = ['Na']\n",
    "\n",
    "deibert_19_2_SNRs = np.array([np.nan]) # taking the 1 UT\n",
    "\n",
    "deibert_19_2_frame = pd.DataFrame({'SNR': deibert_19_2_SNRs,\n",
    "                             'species': deibert_19_2_species})\n",
    "\n",
    "deibert_19_2_frame['lead'] = 'deibert'\n",
    "deibert_19_2_frame['planet'] = 'WASP-69 b'\n",
    "deibert_19_2_frame['observation'] = 'transit'\n",
    "deibert_19_2_frame['instrument'] = 'HDS'\n",
    "deibert_19_2_frame['year'] = 2019"
   ]
  },
  {
   "cell_type": "code",
   "execution_count": null,
   "metadata": {
    "ExecuteTime": {
     "end_time": "2022-08-31T18:28:52.822550Z",
     "start_time": "2022-08-31T18:28:52.822545Z"
    }
   },
   "outputs": [],
   "source": [
    "allart_19_species = ['He']\n",
    "\n",
    "allart_19_SNRs = np.array([0]) # taking the 1 UT\n",
    "\n",
    "allart_19_frame = pd.DataFrame({'SNR': allart_19_SNRs,\n",
    "                             'species': allart_19_species})\n",
    "\n",
    "allart_19_frame['lead'] = 'allart'\n",
    "allart_19_frame['planet'] = 'WASP-107 b'\n",
    "allart_19_frame['observation'] = 'transit'\n",
    "allart_19_frame['instrument'] = 'CARMENES'\n",
    "allart_19_frame['year'] = 2018"
   ]
  },
  {
   "cell_type": "code",
   "execution_count": null,
   "metadata": {
    "ExecuteTime": {
     "end_time": "2022-08-31T18:28:52.823178Z",
     "start_time": "2022-08-31T18:28:52.823173Z"
    }
   },
   "outputs": [],
   "source": [
    "brogi_12_species = ['CO']\n",
    "\n",
    "brogi_12_SNRs = np.array([6]) # taking the 1 UT\n",
    "\n",
    "brogi_12_frame = pd.DataFrame({'SNR': brogi_12_SNRs,\n",
    "                             'species': brogi_12_species})\n",
    "\n",
    "brogi_12_frame['lead'] = 'allart'\n",
    "brogi_12_frame['planet'] = 'Tau bootis b'\n",
    "brogi_12_frame['observation'] = 'emission'\n",
    "brogi_12_frame['instrument'] = 'CRIRES'\n",
    "brogi_12_frame['year'] = 2012"
   ]
  },
  {
   "cell_type": "code",
   "execution_count": null,
   "metadata": {
    "ExecuteTime": {
     "end_time": "2022-08-31T18:28:52.823795Z",
     "start_time": "2022-08-31T18:28:52.823790Z"
    }
   },
   "outputs": [],
   "source": [
    "rodler_12_species = ['CO']\n",
    "\n",
    "rodler_12_SNRs = np.array([3.4]) # taking the 1 UT\n",
    "\n",
    "rodler_12_frame = pd.DataFrame({'SNR': rodler_12_SNRs,\n",
    "                             'species': rodler_12_species})\n",
    "\n",
    "rodler_12_frame['lead'] = 'allart'\n",
    "rodler_12_frame['planet'] = 'Tau bootis b'\n",
    "rodler_12_frame['observation'] = 'emission'\n",
    "rodler_12_frame['instrument'] = 'CRIRES'\n",
    "rodler_12_frame['year'] = 2012"
   ]
  },
  {
   "cell_type": "code",
   "execution_count": null,
   "metadata": {
    "ExecuteTime": {
     "end_time": "2022-08-31T18:28:52.824899Z",
     "start_time": "2022-08-31T18:28:52.824889Z"
    }
   },
   "outputs": [],
   "source": [
    "alonso_floriano_19_species = ['He']\n",
    "\n",
    "alonso_floriano_19_SNRs = np.array([0]) # taking the 1 UT\n",
    "\n",
    "alonso_floriano_19_frame = pd.DataFrame({'SNR': alonso_floriano_19_SNRs,\n",
    "                             'species': alonso_floriano_19_species})\n",
    "\n",
    "alonso_floriano_19_frame['lead'] = 'alonso_floriano'\n",
    "alonso_floriano_19_frame['planet'] = 'HD 209458 b'\n",
    "alonso_floriano_19_frame['observation'] = 'transit'\n",
    "alonso_floriano_19_frame['instrument'] = 'CARMENES'\n",
    "alonso_floriano_19_frame['year'] = 2019"
   ]
  },
  {
   "cell_type": "code",
   "execution_count": null,
   "metadata": {
    "ExecuteTime": {
     "end_time": "2022-08-31T18:28:52.825758Z",
     "start_time": "2022-08-31T18:28:52.825753Z"
    }
   },
   "outputs": [],
   "source": [
    "giacobbe_21_species = ['H2O', 'CH4', 'NH3', 'CO', 'HCN', 'C2H2']\n",
    "\n",
    "giacobbe_21_SNRs = np.array([9.6, 5.6, 5.3, 5.5, 9.9, 6.1, ]) # taking the 1 UT\n",
    "\n",
    "giacobbe_21_frame = pd.DataFrame({'SNR': giacobbe_21_SNRs,\n",
    "                             'species': giacobbe_21_species})\n",
    "\n",
    "giacobbe_21_frame['lead'] = 'Giacobbe'\n",
    "giacobbe_21_frame['planet'] = 'HD 209458 b'\n",
    "giacobbe_21_frame['observation'] = 'transit'\n",
    "giacobbe_21_frame['instrument'] = 'GIANO-B'\n",
    "giacobbe_21_frame['year'] = 2021"
   ]
  },
  {
   "cell_type": "code",
   "execution_count": null,
   "metadata": {
    "ExecuteTime": {
     "end_time": "2022-08-31T18:28:52.826488Z",
     "start_time": "2022-08-31T18:28:52.826481Z"
    }
   },
   "outputs": [],
   "source": [
    "mansfield_18_species = ['He']\n",
    "\n",
    "mansfield_18_SNRs = np.array([0]) # taking the 1 UT\n",
    "\n",
    "mansfield_18_frame = pd.DataFrame({'SNR': mansfield_18_SNRs,\n",
    "                             'species': mansfield_18_species})\n",
    "\n",
    "mansfield_18_frame['lead'] = 'mansfield'\n",
    "mansfield_18_frame['planet'] = 'HAT-P-11 b'\n",
    "mansfield_18_frame['observation'] = 'transit'\n",
    "mansfield_18_frame['instrument'] = 'CARMENES' #check\n",
    "mansfield_18_frame['year'] = 2018"
   ]
  },
  {
   "cell_type": "code",
   "execution_count": null,
   "metadata": {
    "ExecuteTime": {
     "end_time": "2022-08-31T18:28:52.827100Z",
     "start_time": "2022-08-31T18:28:52.827094Z"
    }
   },
   "outputs": [],
   "source": [
    "pelletier_21_species = ['CO']\n",
    "\n",
    "pelletier_21_SNRs = np.array([0]) # taking the 1 UT\n",
    "\n",
    "pelletier_21_frame = pd.DataFrame({'SNR': pelletier_21_SNRs,\n",
    "                             'species': pelletier_21_species})\n",
    "\n",
    "pelletier_21_frame['lead'] = 'pelletier'\n",
    "pelletier_21_frame['planet'] = 'Tau bootis b'\n",
    "pelletier_21_frame['observation'] = 'transit'\n",
    "pelletier_21_frame['instrument'] = 'SPIRou'\n",
    "pelletier_21_frame['year'] = 2021"
   ]
  },
  {
   "cell_type": "code",
   "execution_count": null,
   "metadata": {
    "ExecuteTime": {
     "end_time": "2022-08-31T18:28:52.828187Z",
     "start_time": "2022-08-31T18:28:52.828180Z"
    }
   },
   "outputs": [],
   "source": [
    "# or CO?\n",
    "# https://ui.adsabs.harvard.edu/abs/2018AJ....156..272W/abstract\n",
    "wang_18_species = ['H2O']\n",
    "\n",
    "wang_18_SNRs = np.array([0]) # taking the 1 UT\n",
    "\n",
    "wang_18_frame = pd.DataFrame({'SNR': wang_18_SNRs,\n",
    "                             'species': wang_18_species})\n",
    "\n",
    "wang_18_frame['lead'] = 'wang'\n",
    "wang_18_frame['planet'] = 'HR 8799c'\n",
    "wang_18_frame['observation'] = 'emission'\n",
    "wang_18_frame['instrument'] = 'NIRSPEC'\n",
    "wang_18_frame['year'] = 2018"
   ]
  },
  {
   "cell_type": "code",
   "execution_count": null,
   "metadata": {
    "ExecuteTime": {
     "end_time": "2022-08-31T18:28:52.828876Z",
     "start_time": "2022-08-31T18:28:52.828871Z"
    }
   },
   "outputs": [],
   "source": [
    "zhang_21_species = ['CO']\n",
    "\n",
    "zhang_21_SNRs = np.array([0]) # taking the 1 UT\n",
    "\n",
    "zhang_21_frame = pd.DataFrame({'SNR': zhang_21_SNRs,\n",
    "                             'species': zhang_21_species})\n",
    "\n",
    "zhang_21_frame['lead'] = 'zhang'\n",
    "zhang_21_frame['planet'] = 'TYC 8998-760-1 b'\n",
    "zhang_21_frame['observation'] = 'transit'\n",
    "zhang_21_frame['instrument'] = 'SPIRou'\n",
    "zhang_21_frame['year'] = 2021"
   ]
  },
  {
   "cell_type": "code",
   "execution_count": null,
   "metadata": {
    "ExecuteTime": {
     "end_time": "2022-08-31T18:28:52.829463Z",
     "start_time": "2022-08-31T18:28:52.829458Z"
    }
   },
   "outputs": [],
   "source": [
    "kirk_20_species = ['He']\n",
    "\n",
    "kirk_20_SNRs = np.array([0]) # taking the 1 UT\n",
    "\n",
    "kirk_20_frame = pd.DataFrame({'SNR': kirk_20_SNRs,\n",
    "                             'species': kirk_20_species})\n",
    "\n",
    "kirk_20_frame['lead'] = 'kirk'\n",
    "kirk_20_frame['planet'] = 'WASP-107 b'\n",
    "kirk_20_frame['observation'] = 'transit'\n",
    "kirk_20_frame['instrument'] = 'NIRSPEC'\n",
    "kirk_20_frame['year'] = 2020"
   ]
  },
  {
   "cell_type": "code",
   "execution_count": null,
   "metadata": {
    "ExecuteTime": {
     "end_time": "2022-08-31T18:28:52.830182Z",
     "start_time": "2022-08-31T18:28:52.830177Z"
    }
   },
   "outputs": [],
   "source": [
    "bourrier_20_species = ['Fe']\n",
    "\n",
    "bourrier_20_SNRs = np.array([0]) # taking the 1 UT\n",
    "\n",
    "bourrier_20_frame = pd.DataFrame({'SNR': bourrier_20_SNRs,\n",
    "                             'species': bourrier_20_species})\n",
    "\n",
    "bourrier_20_frame['lead'] = 'bourrier'\n",
    "bourrier_20_frame['planet'] = 'WASP-121 b'\n",
    "bourrier_20_frame['observation'] = 'transit'\n",
    "bourrier_20_frame['instrument'] = 'HARPS'\n",
    "bourrier_20_frame['year'] = 2020"
   ]
  },
  {
   "cell_type": "code",
   "execution_count": null,
   "metadata": {
    "ExecuteTime": {
     "end_time": "2022-08-31T18:28:52.830876Z",
     "start_time": "2022-08-31T18:28:52.830871Z"
    }
   },
   "outputs": [],
   "source": [
    "prinoth_21_species = ['Cr', 'Fe', 'Fe', 'Mg', 'Mn', 'Ti', 'Ti+', 'TiO', 'VO', 'Ca', 'Ca+', 'Na', 'Ni', 'Sc',]\n",
    "\n",
    "prinoth_21_SNRs = np.array([8, 17, 14, 8.1, 6.5, 8.7, 9.7, 5.6, 6.2, 4.4, 3.9, 3.2, 4.4, 3.0]) # taking the 1 UT\n",
    "\n",
    "prinoth_21_frame = pd.DataFrame({'SNR': prinoth_21_SNRs,\n",
    "                             'species': prinoth_21_species})\n",
    "\n",
    "prinoth_21_frame['lead'] = 'prinoth'\n",
    "prinoth_21_frame['planet'] = 'WASP-189 b'\n",
    "prinoth_21_frame['observation'] = 'transit'\n",
    "prinoth_21_frame['instrument'] = 'HARPS'\n",
    "prinoth_21_frame['year'] = 2021\n",
    "\n"
   ]
  },
  {
   "cell_type": "code",
   "execution_count": null,
   "metadata": {
    "ExecuteTime": {
     "end_time": "2022-08-31T18:28:52.831702Z",
     "start_time": "2022-08-31T18:28:52.831694Z"
    }
   },
   "outputs": [],
   "source": [
    "wyttenbach_20_species = ['H alpha']\n",
    "\n",
    "wyttenbach_20_SNRs = np.array([24.6]) # taking the 1 UT\n",
    "\n",
    "wyttenbach_20_frame = pd.DataFrame({'SNR': wyttenbach_20_SNRs,\n",
    "                             'species': wyttenbach_20_species})\n",
    "\n",
    "wyttenbach_20_frame['lead'] = 'wyttenbach'\n",
    "wyttenbach_20_frame['planet'] = 'KELT-9 b'\n",
    "wyttenbach_20_frame['observation'] = 'transit'\n",
    "wyttenbach_20_frame['instrument'] = 'HARPS'\n",
    "wyttenbach_20_frame['year'] = 2020"
   ]
  },
  {
   "cell_type": "code",
   "execution_count": null,
   "metadata": {
    "ExecuteTime": {
     "end_time": "2022-08-31T18:28:52.832517Z",
     "start_time": "2022-08-31T18:28:52.832511Z"
    }
   },
   "outputs": [],
   "source": [
    "wyttenbach_17_species = ['Na']\n",
    "\n",
    "wyttenbach_17_SNRs = np.array([4.5]) # taking the 1 UT\n",
    "\n",
    "wyttenbach_17_frame = pd.DataFrame({'SNR': wyttenbach_17_SNRs,\n",
    "                             'species': wyttenbach_17_species})\n",
    "\n",
    "wyttenbach_17_frame['lead'] = 'wyttenbach'\n",
    "wyttenbach_17_frame['planet'] = 'WASP-49 b'\n",
    "wyttenbach_17_frame['observation'] = 'transit'\n",
    "wyttenbach_17_frame['instrument'] = 'HARPS'\n",
    "wyttenbach_17_frame['year'] = 2017"
   ]
  },
  {
   "cell_type": "code",
   "execution_count": null,
   "metadata": {
    "ExecuteTime": {
     "end_time": "2022-08-31T18:28:52.833215Z",
     "start_time": "2022-08-31T18:28:52.833209Z"
    }
   },
   "outputs": [],
   "source": [
    "#new ones"
   ]
  },
  {
   "cell_type": "code",
   "execution_count": null,
   "metadata": {
    "ExecuteTime": {
     "end_time": "2022-08-31T18:28:52.833737Z",
     "start_time": "2022-08-31T18:28:52.833732Z"
    }
   },
   "outputs": [],
   "source": [
    "langveld_22_species = ['Na']\n",
    "\n",
    "langveld_22_SNRs = np.array([0]) # taking the 1 UT\n",
    "\n",
    "langveld_22_frame = pd.DataFrame({'SNR': langveld_22_SNRs,\n",
    "                             'species': langveld_22_species})\n",
    "\n",
    "langveld_22_frame['lead'] = 'langveld'\n",
    "langveld_22_frame['planet'] = 'WASP-69 b'\n",
    "langveld_22_frame['observation'] = 'transit'\n",
    "langveld_22_frame['instrument'] = 'HARPS'\n",
    "langveld_22_frame['year'] = 2022"
   ]
  },
  {
   "cell_type": "code",
   "execution_count": null,
   "metadata": {
    "ExecuteTime": {
     "end_time": "2022-08-31T18:28:52.834362Z",
     "start_time": "2022-08-31T18:28:52.834356Z"
    }
   },
   "outputs": [],
   "source": [
    "langveld_22_2_species = ['Na']\n",
    "\n",
    "langveld_22_2_SNRs = np.array([0]) # taking the 1 UT\n",
    "\n",
    "langveld_22_2_frame = pd.DataFrame({'SNR': langveld_22_2_SNRs,\n",
    "                             'species': langveld_22_2_species})\n",
    "\n",
    "langveld_22_2_frame['lead'] = 'langveld'\n",
    "langveld_22_2_frame['planet'] = 'HD 189733 b'\n",
    "langveld_22_2_frame['observation'] = 'transit'\n",
    "langveld_22_2_frame['instrument'] = 'HARPS'\n",
    "langveld_22_2_frame['year'] = 2022"
   ]
  },
  {
   "cell_type": "code",
   "execution_count": null,
   "metadata": {
    "ExecuteTime": {
     "end_time": "2022-08-31T18:28:52.834955Z",
     "start_time": "2022-08-31T18:28:52.834950Z"
    }
   },
   "outputs": [],
   "source": [
    "langveld_22_3_species = ['Na']\n",
    "\n",
    "langveld_22_3_SNRs = np.array([0]) # taking the 1 UT\n",
    "\n",
    "langveld_22_3_frame = pd.DataFrame({'SNR': langveld_22_3_SNRs,\n",
    "                             'species': langveld_22_3_species})\n",
    "\n",
    "langveld_22_3_frame['lead'] = 'langveld'\n",
    "langveld_22_3_frame['planet'] = 'WASP-21 b'\n",
    "langveld_22_3_frame['observation'] = 'transit'\n",
    "langveld_22_3_frame['instrument'] = 'HARPS'\n",
    "langveld_22_3_frame['year'] = 2022"
   ]
  },
  {
   "cell_type": "code",
   "execution_count": null,
   "metadata": {
    "ExecuteTime": {
     "end_time": "2022-08-31T18:28:52.835477Z",
     "start_time": "2022-08-31T18:28:52.835472Z"
    }
   },
   "outputs": [],
   "source": [
    "langveld_22_3_species = ['Na']\n",
    "\n",
    "langveld_22_3_SNRs = np.array([0]) # taking the 1 UT\n",
    "\n",
    "langveld_22_3_frame = pd.DataFrame({'SNR': langveld_22_3_SNRs,\n",
    "                             'species': langveld_22_3_species})\n",
    "\n",
    "langveld_22_3_frame['lead'] = 'langveld'\n",
    "langveld_22_3_frame['planet'] = 'WASP-49 b'\n",
    "langveld_22_3_frame['observation'] = 'transit'\n",
    "langveld_22_3_frame['instrument'] = 'HARPS'\n",
    "langveld_22_3_frame['year'] = 2022"
   ]
  },
  {
   "cell_type": "code",
   "execution_count": null,
   "metadata": {
    "ExecuteTime": {
     "end_time": "2022-08-31T18:28:52.836176Z",
     "start_time": "2022-08-31T18:28:52.836169Z"
    }
   },
   "outputs": [],
   "source": [
    "langveld_22_4_species = ['Na']\n",
    "\n",
    "langveld_22_4_SNRs = np.array([0]) # taking the 1 UT\n",
    "\n",
    "langveld_22_4_frame = pd.DataFrame({'SNR': langveld_22_4_SNRs,\n",
    "                             'species': langveld_22_4_species})\n",
    "\n",
    "langveld_22_4_frame['lead'] = 'langveld'\n",
    "langveld_22_4_frame['planet'] = 'WASP-79 b'\n",
    "langveld_22_4_frame['observation'] = 'transit'\n",
    "langveld_22_4_frame['instrument'] = 'HARPS'\n",
    "langveld_22_4_frame['year'] = 2022"
   ]
  },
  {
   "cell_type": "code",
   "execution_count": null,
   "metadata": {
    "ExecuteTime": {
     "end_time": "2022-08-31T18:28:52.836836Z",
     "start_time": "2022-08-31T18:28:52.836832Z"
    }
   },
   "outputs": [],
   "source": [
    "langveld_22_5_species = ['Na']\n",
    "\n",
    "langveld_22_5_SNRs = np.array([0]) # taking the 1 UT\n",
    "\n",
    "langveld_22_5_frame = pd.DataFrame({'SNR': langveld_22_5_SNRs,\n",
    "                             'species': langveld_22_5_species})\n",
    "\n",
    "langveld_22_5_frame['lead'] = 'langveld'\n",
    "langveld_22_5_frame['planet'] = 'KELT-20 b'\n",
    "langveld_22_5_frame['observation'] = 'transit'\n",
    "langveld_22_5_frame['instrument'] = 'HARPS'\n",
    "langveld_22_5_frame['year'] = 2022"
   ]
  },
  {
   "cell_type": "code",
   "execution_count": null,
   "metadata": {
    "ExecuteTime": {
     "end_time": "2022-08-31T18:28:52.837265Z",
     "start_time": "2022-08-31T18:28:52.837260Z"
    }
   },
   "outputs": [],
   "source": [
    "langveld_22_6_species = ['Na']\n",
    "\n",
    "langveld_22_6_SNRs = np.array([0]) # taking the 1 UT\n",
    "\n",
    "langveld_22_6_frame = pd.DataFrame({'SNR': langveld_22_6_SNRs,\n",
    "                             'species': langveld_22_6_species})\n",
    "\n",
    "langveld_22_6_frame['lead'] = 'langveld'\n",
    "langveld_22_6_frame['planet'] = 'WASP-121 b'\n",
    "langveld_22_6_frame['observation'] = 'transit'\n",
    "langveld_22_6_frame['instrument'] = 'HARPS'\n",
    "langveld_22_6_frame['year'] = 2022"
   ]
  },
  {
   "cell_type": "code",
   "execution_count": null,
   "metadata": {
    "ExecuteTime": {
     "end_time": "2022-08-31T18:28:52.838114Z",
     "start_time": "2022-08-31T18:28:52.838107Z"
    }
   },
   "outputs": [],
   "source": [
    "langveld_22_7_species = ['Na']\n",
    "\n",
    "langveld_22_7_SNRs = np.array([0]) # taking the 1 UT\n",
    "\n",
    "langveld_22_7_frame = pd.DataFrame({'SNR': langveld_22_7_SNRs,\n",
    "                             'species': langveld_22_7_species})\n",
    "\n",
    "langveld_22_7_frame['lead'] = 'langveld'\n",
    "langveld_22_7_frame['planet'] = 'WASP-189 b'\n",
    "langveld_22_7_frame['observation'] = 'transit'\n",
    "langveld_22_7_frame['instrument'] = 'HARPS'\n",
    "langveld_22_7_frame['year'] = 2022"
   ]
  },
  {
   "cell_type": "code",
   "execution_count": null,
   "metadata": {
    "ExecuteTime": {
     "end_time": "2022-08-31T18:28:52.838848Z",
     "start_time": "2022-08-31T18:28:52.838843Z"
    }
   },
   "outputs": [],
   "source": [
    "langveld_22_8_species = ['Na']\n",
    "\n",
    "langveld_22_8_SNRs = np.array([0]) # taking the 1 UT\n",
    "\n",
    "langveld_22_8_frame = pd.DataFrame({'SNR': langveld_22_8_SNRs,\n",
    "                             'species': langveld_22_8_species})\n",
    "\n",
    "langveld_22_8_frame['lead'] = 'langveld'\n",
    "langveld_22_8_frame['planet'] = 'KELT-9 b'\n",
    "langveld_22_8_frame['observation'] = 'transit'\n",
    "langveld_22_8_frame['instrument'] = 'HARPS'\n",
    "langveld_22_8_frame['year'] = 2022"
   ]
  },
  {
   "cell_type": "code",
   "execution_count": null,
   "metadata": {
    "ExecuteTime": {
     "end_time": "2022-08-31T18:28:52.839442Z",
     "start_time": "2022-08-31T18:28:52.839437Z"
    }
   },
   "outputs": [],
   "source": [
    "webb_22_species = ['H2O']\n",
    "\n",
    "webb_22_SNRs = np.array([0]) # taking the 1 UT\n",
    "\n",
    "webb_22_frame = pd.DataFrame({'SNR': webb_22_SNRs,\n",
    "                             'species': webb_22_species})\n",
    "\n",
    "webb_22_frame['lead'] = 'webb'\n",
    "webb_22_frame['planet'] = 'Tau bootis b'\n",
    "webb_22_frame['observation'] = 'transit'\n",
    "webb_22_frame['instrument'] = 'CARMENES'\n",
    "webb_22_frame['year'] = 2022"
   ]
  },
  {
   "cell_type": "code",
   "execution_count": null,
   "metadata": {
    "ExecuteTime": {
     "end_time": "2022-08-31T18:28:52.839917Z",
     "start_time": "2022-08-31T18:28:52.839912Z"
    }
   },
   "outputs": [],
   "source": [
    "carleo_22_species = ['H2O', 'CH4', 'NH3', 'HCN']\n",
    "\n",
    "carleo_22_SNRs = np.array([9.94, 4.08, 7.73, 4.3]) # taking the 1 UT\n",
    "\n",
    "carleo_22_frame = pd.DataFrame({'SNR': carleo_22_SNRs,\n",
    "                             'species': carleo_22_species})\n",
    "\n",
    "carleo_22_frame['lead'] = 'carleo'\n",
    "carleo_22_frame['planet'] = 'WASP-80 b'\n",
    "carleo_22_frame['observation'] = 'transit'\n",
    "carleo_22_frame['instrument'] = 'GIANO-B'\n",
    "carleo_22_frame['year'] = 2022"
   ]
  },
  {
   "cell_type": "code",
   "execution_count": null,
   "metadata": {
    "ExecuteTime": {
     "end_time": "2022-08-31T18:28:52.840324Z",
     "start_time": "2022-08-31T18:28:52.840320Z"
    }
   },
   "outputs": [],
   "source": [
    "guilluy_22_species = ['CH4', 'NH3', 'CO', 'C2H2', 'H2O']\n",
    "\n",
    "guilluy_22_SNRs = np.array([6.3, 5.4, 7.0, 4.5, 5.0]) # taking the 1 UT\n",
    "\n",
    "guilluy_22_frame = pd.DataFrame({'SNR': guilluy_22_SNRs,\n",
    "                             'species': guilluy_22_species})\n",
    "\n",
    "guilluy_22_frame['lead'] = 'guilluy'\n",
    "guilluy_22_frame['planet'] = 'KELT-7 b'\n",
    "guilluy_22_frame['observation'] = 'transit'\n",
    "guilluy_22_frame['instrument'] = 'horus'\n",
    "guilluy_22_frame['year'] = 2022"
   ]
  },
  {
   "cell_type": "code",
   "execution_count": null,
   "metadata": {
    "ExecuteTime": {
     "end_time": "2022-08-31T18:28:52.841456Z",
     "start_time": "2022-08-31T18:28:52.841446Z"
    }
   },
   "outputs": [],
   "source": [
    "bello_arufe_22_species = ['Fe+']\n",
    "\n",
    "bello_arufe_22_SNRs = np.array([4.5])\n",
    "\n",
    "bello_arufe_22_frame = pd.DataFrame({'SNR': bello_arufe_22_SNRs,\n",
    "                             'species': bello_arufe_22_species})\n",
    "\n",
    "bello_arufe_22_frame['lead'] = 'Bello-Arufe'\n",
    "bello_arufe_22_frame['planet'] = 'KELT-20 b'\n",
    "bello_arufe_22_frame['observation'] = 'transit'\n",
    "bello_arufe_22_frame['instrument'] = 'FIES'\n",
    "bello_arufe_22_frame['year'] = 2022"
   ]
  },
  {
   "cell_type": "code",
   "execution_count": null,
   "metadata": {
    "ExecuteTime": {
     "end_time": "2022-08-31T18:28:52.842187Z",
     "start_time": "2022-08-31T18:28:52.842182Z"
    }
   },
   "outputs": [],
   "source": [
    "bello_arufe_22_2_species = ['Fe+']\n",
    "\n",
    "bello_arufe_22_2_SNRs = np.array([8.5])\n",
    "\n",
    "bello_arufe_22_2_frame = pd.DataFrame({'SNR': bello_arufe_22_2_SNRs,\n",
    "                             'species': bello_arufe_22_2_species})\n",
    "\n",
    "bello_arufe_22_2_frame['lead'] = 'Bello-Arufe'\n",
    "bello_arufe_22_2_frame['planet'] = 'KELT-9 b'\n",
    "bello_arufe_22_2_frame['observation'] = 'transit'\n",
    "bello_arufe_22_2_frame['instrument'] = 'FIES'\n",
    "bello_arufe_22_2_frame['year'] = 2022"
   ]
  },
  {
   "cell_type": "code",
   "execution_count": null,
   "metadata": {
    "ExecuteTime": {
     "end_time": "2022-08-31T18:28:52.842745Z",
     "start_time": "2022-08-31T18:28:52.842739Z"
    }
   },
   "outputs": [],
   "source": [
    "borsa_22_species = ['Fe', 'Fe+', 'Cr']\n",
    "\n",
    "borsa_22_SNRs = np.array([7.1, 3.9, 3.6])\n",
    "\n",
    "borsa_22_frame = pd.DataFrame({'SNR': borsa_22_SNRs,\n",
    "                             'species': borsa_22_species})\n",
    "\n",
    "borsa_22_frame['lead'] = 'F Borsa'\n",
    "borsa_22_frame['planet'] = 'KELT-20 b'\n",
    "borsa_22_frame['observation'] = 'transit'\n",
    "borsa_22_frame['instrument'] = 'HARPS-N'\n",
    "borsa_22_frame['year'] = 2022"
   ]
  },
  {
   "cell_type": "code",
   "execution_count": null,
   "metadata": {
    "ExecuteTime": {
     "end_time": "2022-08-31T18:28:52.843448Z",
     "start_time": "2022-08-31T18:28:52.843442Z"
    }
   },
   "outputs": [],
   "source": [
    "johnson_22_species = ['Fe']\n",
    "\n",
    "johnson_22_SNRs = np.array([15.1])\n",
    "\n",
    "johnson_22_frame = pd.DataFrame({'SNR': johnson_22_SNRs,\n",
    "                             'species': johnson_22_species})\n",
    "\n",
    "johnson_22_frame['lead'] = 'M.C. Johnson'\n",
    "johnson_22_frame['planet'] = 'KELT-20 b'\n",
    "johnson_22_frame['observation'] = 'transit'\n",
    "johnson_22_frame['instrument'] = 'PEPSI'\n",
    "johnson_22_frame['year'] = 2022"
   ]
  },
  {
   "cell_type": "markdown",
   "metadata": {
    "ExecuteTime": {
     "end_time": "2022-08-22T16:27:35.235623Z",
     "start_time": "2022-08-22T16:27:35.234327Z"
    }
   },
   "source": [
    "# Combine it all"
   ]
  },
  {
   "cell_type": "code",
   "execution_count": null,
   "metadata": {
    "ExecuteTime": {
     "end_time": "2022-08-31T18:28:52.844155Z",
     "start_time": "2022-08-31T18:28:52.844150Z"
    }
   },
   "outputs": [],
   "source": [
    "observe_frame = pd.concat([yan_20b_frame, \n",
    "                       boucher_21_frame,\n",
    "                       birkby_17_frame,\n",
    "                       birkby_13_frame,\n",
    "           sanchez_lopez_21_frame,\n",
    "          borsa_20_frame,\n",
    "          sanchez_lopez_20_frame,\n",
    "          chen_20_frame,\n",
    "          yan_20_frame,\n",
    "          nugroho_20b_frame,\n",
    "          hoeijmakers_20_frame,\n",
    "          ehrenreich_20_frame,\n",
    "          ben_yami_20_frame,\n",
    "          carone_20_frame,\n",
    "          nugroho_20_frame,\n",
    "          wyttenbach_13_frame,\n",
    "#           sedaghati_17_frame,\n",
    "            zhang_22_frame,\n",
    "          brogi_14_frame,\n",
    "                       paragas_21_frame,\n",
    "                       \n",
    "          brogi_13_frame,\n",
    "          schwarz_16_frame,\n",
    "          flowers_19_frame,\n",
    "          brogi_16_frame,\n",
    "          louden_15_frame,\n",
    "          sanchez_lopez_19_frame,\n",
    "          snellen_10_frame,\n",
    "          tabernero_20_frame,\n",
    "          kesseli_21_frame,\n",
    "          line_21_frame,\n",
    "                       brogi_12_frame,\n",
    "                       rodler_12_frame,\n",
    "                      seidel_21_frame,\n",
    "                      seidel_19_frame,\n",
    "                      de_kok_13_frame,\n",
    "                      zak_19_frame,\n",
    "                      landman_21_frame,\n",
    "                      snellen_14_frame,\n",
    "                      yan_20_frame,\n",
    "                       van_sluijs_22_frame,\n",
    "                       pelletier_21_frame,\n",
    "                      kasper_21_frame,\n",
    "                      hoeijmakers_18_frame,\n",
    "                      hoeijmakers_19_frame,\n",
    "                       webb_20_frame,\n",
    "                      cauley_19_frame,\n",
    "                      turner_20_frame,\n",
    "                      diebert_21_frame,\n",
    "                      pino_20_frame,\n",
    "                      yan_19_b_frame,\n",
    "                       herman_22_frame,\n",
    "                       cont_22_frame,\n",
    "                       cont_22_2_frame,\n",
    "                      santos_20_frame,\n",
    "                       mansfield_18_frame,\n",
    "                      allart_20_frame,\n",
    "                      osagh_20_frame,\n",
    "                      cauley_21_frame,\n",
    "                       deibert_19_frame,\n",
    "                      keles_19_frame,\n",
    "                      cabot_21_frame,\n",
    "                       khalafinejad_21_frame,\n",
    "                       guilluy_19_frame,\n",
    "                       guilluy_20_frame,\n",
    "                       guilluy_20b_frame,\n",
    "                       chen_20_frame,\n",
    "                       stangret_21_frame,\n",
    "                       nortmann_18_frame,\n",
    "                      salz_18_frame,\n",
    "                       casasayas_barris_17_frame,\n",
    "                      casasayas_barris_18_frame,\n",
    "                      palle_20_frame,\n",
    "                       brogi_17_frame,\n",
    "                      allart_18_frame,\n",
    "                      allart_19_frame,\n",
    "                      alonso_floriano_19_frame,\n",
    "                       giacobbe_21_frame,\n",
    "                      mansfield_18_frame,\n",
    "                      kirk_20_frame,\n",
    "                       merritt_21_frame,\n",
    "                       langveld_22_frame,\n",
    "                       langveld_22_2_frame,\n",
    "                       langveld_22_3_frame,\n",
    "                       langveld_22_4_frame,\n",
    "                       langveld_22_5_frame,\n",
    "                       langveld_22_6_frame,\n",
    "                       langveld_22_7_frame,\n",
    "                       gandhi_19_frame,\n",
    "                       gandhi_22_frame,\n",
    "                       langveld_22_8_frame,\n",
    "                       brogi_line_19_frame,\n",
    "                       brogi_line_19_2_frame,\n",
    "                       brogi_18_frame,\n",
    "                       webb_22_frame,\n",
    "                       carleo_22_frame,\n",
    "                       guilluy_22_frame,\n",
    "                      bourrier_20_frame,\n",
    "                       borsa_21_frame,\n",
    "                       wang_18_frame,\n",
    "                      prinoth_21_frame,\n",
    "                      wyttenbach_20_frame,\n",
    "                      wyttenbach_17_frame,\n",
    "                      zhang_21_frame,\n",
    "                       scandariato_20_frame,\n",
    "                        fossati_21_frame,\n",
    "                        allart_17_frame,\n",
    "                        alonso_floriano_19b_frame,\n",
    "                        kawauchi_22_frame,\n",
    "                        coustenis_1998_frame,\n",
    "                        khalafinejad_21_frame,\n",
    "                        martins_14_frame,\n",
    "                        nugroho_17_frame,\n",
    "                        redfield_8_frame,\n",
    "                        pino_18b_frame,\n",
    "                        herman_20_frame,\n",
    "                        charbonneau_99_frame,\n",
    "                        flagg_19_frame,\n",
    "                        borsa_18_frame,\n",
    "                        langveld_21_frame,\n",
    "                        merritt_20_frame,\n",
    "                        kesseli_20b_12_frame,\n",
    "                        kesseli_20b_11_frame,\n",
    "                        zhang_21b_frame,\n",
    "                        zhang_21b_frame,\n",
    "                        kesseli_20b_10_frame,\n",
    "                        kesseli_20b_9_frame,\n",
    "                        kesseli_20b_7_frame,\n",
    "                        kesseli_20b_8_frame,\n",
    "                        kesseli_20b_6_frame,\n",
    "                        kesseli_20b_5_frame,\n",
    "                        kesseli_20b_4_frame,\n",
    "                        kesseli_20b_3_frame,\n",
    "                        kesseli_20b_2_frame,\n",
    "                        kesseli_20b_frame,\n",
    "                        cabot_19_frame,\n",
    "                        hoeijmakers_17_frame,\n",
    "                        rasmussen_22_2_frame,\n",
    "                        rasmussen_22_frame,\n",
    "                        konopacky_13_frame,\n",
    "                        meech_22_frame,\n",
    "                        holmberg_22_frame,\n",
    "                        cubillos_11_frame,\n",
    "                        seidel_20_frame,\n",
    "                        sedaghati_21_frame,\n",
    "                        wang_21_4_frame,\n",
    "                        wang_21_2_frame,\n",
    "                        wang_21_3_frame,\n",
    "                        wang_21_frame,\n",
    "                        mccloat_21_frame,\n",
    "                        kasper_22_frame,\n",
    "                        kasper_20_2_frame,\n",
    "                        kasper_20_3_frame,\n",
    "                        khalafinejad_18_frame,\n",
    "                        pai_asnodkar_22_frame,\n",
    "                        gibson_18_frame,\n",
    "                        gibson_22_frame,\n",
    "                        rainer_21_frame,\n",
    "                        ridden_harper_16_frame,\n",
    "                        deibert_21b_frame,\n",
    "                        deibert_21_frame,\n",
    "                        casasayas_barris_21_frame,\n",
    "                        stangret_20_frame,\n",
    "                        cont_21_frame,\n",
    "                        jindal_20_frame,\n",
    "                        serindag_21_frame,\n",
    "                        buzard_20_frame,\n",
    "                        yan_21_frame,\n",
    "                        hoeijmakers_15_frame,\n",
    "                        piskorz_17_frame,\n",
    "                        piskorz_16_frame,\n",
    "                        cauley_17_frame,\n",
    "                        esteves_17_frame,\n",
    "                        stangret_22_7_frame,\n",
    "                        stangret_22_6_frame,\n",
    "                        stangret_22_5_frame,\n",
    "                        stangret_22_4_frame,\n",
    "                        stangret_22_3_frame,\n",
    "                        stangret_22_2_frame,\n",
    "                        stangret_22_frame,\n",
    "                        lockwood_14_frame,\n",
    "                        gibson_20_frame,\n",
    "                        czesla_22_frame,\n",
    "                        yan_22_2_frame,\n",
    "                        yan_22_frame,\n",
    "                        crossfield_11_frame,\n",
    "                        hoeijmakers_20b_frame,\n",
    "                        guilluy_20b_frame,\n",
    "                        keles_22_frame,\n",
    "                      ]).reset_index().drop_duplicates()"
   ]
  },
  {
   "cell_type": "code",
   "execution_count": null,
   "metadata": {
    "ExecuteTime": {
     "end_time": "2022-08-31T18:28:52.844576Z",
     "start_time": "2022-08-31T18:28:52.844571Z"
    }
   },
   "outputs": [],
   "source": [
    "observe_frame.to_csv('observe_frame.csv')"
   ]
  },
  {
   "cell_type": "code",
   "execution_count": null,
   "metadata": {
    "ExecuteTime": {
     "end_time": "2022-08-31T18:28:52.845082Z",
     "start_time": "2022-08-31T18:28:52.845077Z"
    }
   },
   "outputs": [],
   "source": [
    "hrs_frame = observe_frame[observe_frame.SNR > 4.5]"
   ]
  },
  {
   "cell_type": "code",
   "execution_count": null,
   "metadata": {
    "ExecuteTime": {
     "end_time": "2022-08-31T18:28:52.845704Z",
     "start_time": "2022-08-31T18:28:52.845699Z"
    }
   },
   "outputs": [],
   "source": [
    "%matplotlib inline"
   ]
  },
  {
   "cell_type": "code",
   "execution_count": null,
   "metadata": {
    "ExecuteTime": {
     "end_time": "2022-08-31T18:28:52.846249Z",
     "start_time": "2022-08-31T18:28:52.846244Z"
    }
   },
   "outputs": [],
   "source": [
    "hrs_frame = hrs_frame.sort_values(by=['planet'])"
   ]
  },
  {
   "cell_type": "code",
   "execution_count": null,
   "metadata": {
    "ExecuteTime": {
     "end_time": "2022-08-31T18:28:52.846904Z",
     "start_time": "2022-08-31T18:28:52.846898Z"
    }
   },
   "outputs": [],
   "source": [
    "frame_2010 = hrs_frame[hrs_frame.year == 2010]\n",
    "frame_2011 = hrs_frame[hrs_frame.year <= 2011]\n",
    "frame_2012 = hrs_frame[hrs_frame.year <= 2012]\n",
    "frame_2013 = hrs_frame[hrs_frame.year <= 2013]\n",
    "frame_2014 = hrs_frame[hrs_frame.year <= 2014]\n",
    "frame_2015 = hrs_frame[hrs_frame.year <= 2015]\n",
    "frame_2016 = hrs_frame[hrs_frame.year <= 2016]\n",
    "frame_2017 = hrs_frame[hrs_frame.year <= 2017]\n",
    "frame_2018 = hrs_frame[hrs_frame.year <= 2018]\n",
    "frame_2019 = hrs_frame[hrs_frame.year <= 2019]\n",
    "frame_2020 = hrs_frame[hrs_frame.year <= 2020]\n",
    "frame_2021 = hrs_frame[hrs_frame.year <= 2021]\n",
    "frame_2022 = hrs_frame[hrs_frame.year <= 2022]"
   ]
  },
  {
   "cell_type": "code",
   "execution_count": null,
   "metadata": {
    "ExecuteTime": {
     "end_time": "2022-08-31T18:28:52.847536Z",
     "start_time": "2022-08-31T18:28:52.847530Z"
    }
   },
   "outputs": [],
   "source": [
    "hrs_frame = hrs_frame.replace({'species': 'C2H2'}, {'species': r'C$_2$H$_2$'}, regex=True)\n",
    "hrs_frame = hrs_frame.replace({'species': 'NH3'}, {'species': r'NH$_3$'}, regex=True)\n",
    "hrs_frame = hrs_frame.replace({'species': 'CH4'}, {'species': r'CH$_4$'}, regex=True)\n",
    "hrs_frame = hrs_frame.replace({'species': 'H2O'}, {'species': r'H$_2$O'}, regex=True)\n",
    "hrs_frame = hrs_frame.replace({'species': 'Na D1'}, {'species': r'Na'}, regex=True)\n",
    "hrs_frame = hrs_frame.replace({'species': 'Na D2'}, {'species': r'Na'}, regex=True)\n",
    "hrs_frame = hrs_frame.replace({'species': 'Ca+ H'}, {'species': r'Ca+'}, regex=True)\n",
    "hrs_frame = hrs_frame.replace({'species': 'Ca+ K'}, {'species': r'Ca+'}, regex=True)\n",
    "hrs_frame = hrs_frame.replace({'species': 'H alpha'}, {'species': r'H$\\alpha$'})\n",
    "hrs_frame = hrs_frame.replace({'species': 'H beta'}, {'species': r'H$\\beta$'})\n",
    "hrs_frame = hrs_frame.replace({'species': 'H gamma'}, {'species': r'H$\\gamma$'})"
   ]
  },
  {
   "cell_type": "code",
   "execution_count": null,
   "metadata": {
    "ExecuteTime": {
     "end_time": "2022-08-31T18:28:52.848148Z",
     "start_time": "2022-08-31T18:28:52.848143Z"
    }
   },
   "outputs": [],
   "source": [
    "import matplotlib as mpl\n",
    "mpl.rcParams['figure.dpi'] = 300"
   ]
  },
  {
   "cell_type": "code",
   "execution_count": null,
   "metadata": {
    "ExecuteTime": {
     "end_time": "2022-08-31T18:28:52.848687Z",
     "start_time": "2022-08-31T18:28:52.848682Z"
    }
   },
   "outputs": [],
   "source": [
    "from matplotlib import rc\n",
    "rc('font', family='serif',\n",
    "                  style='normal', variant='normal',\n",
    "                  stretch='normal', weight='normal')"
   ]
  },
  {
   "cell_type": "code",
   "execution_count": null,
   "metadata": {
    "ExecuteTime": {
     "end_time": "2022-08-31T18:28:52.849599Z",
     "start_time": "2022-08-31T18:28:52.849594Z"
    }
   },
   "outputs": [],
   "source": [
    "year = 2010\n",
    "\n",
    "\n",
    "fig, ax = plt.subplots(figsize=(20,8))\n",
    "p = ax.scatter(hrs_frame['planet'], hrs_frame['species'], c='white')\n",
    "p = ax.scatter(hrs_frame[hrs_frame.year <= year]['planet'], hrs_frame[hrs_frame.year <= year]['species'], \n",
    "               c=hrs_frame[hrs_frame.year <= year]['SNR'], vmin=0, vmax=25)\n",
    "c = plt.colorbar(p, pad=0)\n",
    "c.set_label(label='SNR', fontsize=25)\n",
    "# ax.xticks(rotation = 45);\n",
    "\n",
    "ax.set_title(f'The state of HRS detections: {year}', fontsize=15)\n",
    "\n",
    "ax.tick_params(axis='x', which='major', labelsize=10, rotation = 35)\n",
    "ax.tick_params(axis='y', which='major', labelsize=10)\n",
    "ax.tick_params(axis='both', which='minor', labelsize=8)\n",
    "\n",
    "plt.tight_layout()\n",
    "\n",
    "plt.savefig('2010.jpg', bbox_inches='tight')"
   ]
  },
  {
   "cell_type": "code",
   "execution_count": null,
   "metadata": {
    "ExecuteTime": {
     "end_time": "2022-08-31T18:28:52.850573Z",
     "start_time": "2022-08-31T18:28:52.850561Z"
    }
   },
   "outputs": [],
   "source": [
    "year = 2011\n",
    "\n",
    "\n",
    "fig, ax = plt.subplots(figsize=(20,8))\n",
    "p = ax.scatter(hrs_frame['planet'], hrs_frame['species'], c='white')\n",
    "p = ax.scatter(hrs_frame[hrs_frame.year <= year]['planet'], hrs_frame[hrs_frame.year <= year]['species'], \n",
    "               c=hrs_frame[hrs_frame.year <= year]['SNR'],vmin=0, vmax=25)\n",
    "c = plt.colorbar(p, pad=0)\n",
    "c.set_label(label='SNR', fontsize=25)\n",
    "# ax.xticks(rotation = 45);\n",
    "\n",
    "ax.set_title(f'The state of HRS detections: {year}', fontsize=15)\n",
    "\n",
    "ax.tick_params(axis='x', which='major', labelsize=10, rotation = 35)\n",
    "ax.tick_params(axis='y', which='major', labelsize=10)\n",
    "ax.tick_params(axis='both', which='minor', labelsize=8)\n",
    "plt.tight_layout()\n",
    "plt.savefig('2011.jpg', bbox_inches='tight')"
   ]
  },
  {
   "cell_type": "code",
   "execution_count": null,
   "metadata": {
    "ExecuteTime": {
     "end_time": "2022-08-31T18:28:52.851454Z",
     "start_time": "2022-08-31T18:28:52.851447Z"
    }
   },
   "outputs": [],
   "source": [
    "year = 2012\n",
    "\n",
    "\n",
    "fig, ax = plt.subplots(figsize=(20,8))\n",
    "p = ax.scatter(hrs_frame['planet'], hrs_frame['species'], c='white')\n",
    "p = ax.scatter(hrs_frame[hrs_frame.year <= year]['planet'], hrs_frame[hrs_frame.year <= year]['species'], \n",
    "               c=hrs_frame[hrs_frame.year <= year]['SNR'],vmin=0, vmax=25)\n",
    "c = plt.colorbar(p, pad=0)\n",
    "c.set_label(label='SNR', fontsize=25)\n",
    "# ax.xticks(rotation = 45);\n",
    "\n",
    "ax.set_title(f'The state of HRS detections: {year}', fontsize=15)\n",
    "\n",
    "ax.tick_params(axis='x', which='major', labelsize=10, rotation = 35)\n",
    "ax.tick_params(axis='y', which='major', labelsize=10)\n",
    "ax.tick_params(axis='both', which='minor', labelsize=8)\n",
    "\n",
    "plt.tight_layout()\n",
    "plt.savefig('2012.jpg', bbox_inches='tight')"
   ]
  },
  {
   "cell_type": "code",
   "execution_count": null,
   "metadata": {
    "ExecuteTime": {
     "end_time": "2022-08-31T18:28:52.852118Z",
     "start_time": "2022-08-31T18:28:52.852113Z"
    }
   },
   "outputs": [],
   "source": [
    "year = 2013\n",
    "\n",
    "\n",
    "fig, ax = plt.subplots(figsize=(20,8))\n",
    "p = ax.scatter(hrs_frame['planet'], hrs_frame['species'], c='white')\n",
    "p = ax.scatter(hrs_frame[hrs_frame.year <= year]['planet'], hrs_frame[hrs_frame.year <= year]['species'], \n",
    "               c=hrs_frame[hrs_frame.year <= year]['SNR'],vmin=0, vmax=25)\n",
    "c = plt.colorbar(p, pad=0)\n",
    "c.set_label(label='SNR', fontsize=25)\n",
    "# ax.xticks(rotation = 45);\n",
    "\n",
    "ax.set_title(f'The state of HRS detections: {year}', fontsize=15)\n",
    "\n",
    "ax.tick_params(axis='x', which='major', labelsize=10, rotation = 35)\n",
    "ax.tick_params(axis='y', which='major', labelsize=10)\n",
    "ax.tick_params(axis='both', which='minor', labelsize=8)\n",
    "\n",
    "plt.tight_layout()\n",
    "\n",
    "plt.savefig('2013.jpg', bbox_inches='tight')"
   ]
  },
  {
   "cell_type": "code",
   "execution_count": null,
   "metadata": {
    "ExecuteTime": {
     "end_time": "2022-08-31T18:28:52.852832Z",
     "start_time": "2022-08-31T18:28:52.852827Z"
    }
   },
   "outputs": [],
   "source": [
    "year = 2014\n",
    "\n",
    "\n",
    "fig, ax = plt.subplots(figsize=(20,8))\n",
    "p = ax.scatter(hrs_frame['planet'], hrs_frame['species'], c='white')\n",
    "p = ax.scatter(hrs_frame[hrs_frame.year <= year]['planet'], hrs_frame[hrs_frame.year <= year]['species'], \n",
    "               c=hrs_frame[hrs_frame.year <= year]['SNR'],vmin=0, vmax=25)\n",
    "c = plt.colorbar(p, pad=0)\n",
    "c.set_label(label='SNR', fontsize=25)\n",
    "# ax.xticks(rotation = 45);\n",
    "\n",
    "ax.set_title(f'The state of HRS detections: {year}', fontsize=15)\n",
    "\n",
    "ax.tick_params(axis='x', which='major', labelsize=10, rotation = 35)\n",
    "ax.tick_params(axis='y', which='major', labelsize=10)\n",
    "ax.tick_params(axis='both', which='minor', labelsize=8)\n",
    "plt.tight_layout()\n",
    "plt.savefig('2014.jpg', bbox_inches='tight')"
   ]
  },
  {
   "cell_type": "code",
   "execution_count": null,
   "metadata": {
    "ExecuteTime": {
     "end_time": "2022-08-31T18:28:52.853870Z",
     "start_time": "2022-08-31T18:28:52.853859Z"
    }
   },
   "outputs": [],
   "source": [
    "year = 2015\n",
    "\n",
    "\n",
    "fig, ax = plt.subplots(figsize=(20,8))\n",
    "p = ax.scatter(hrs_frame['planet'], hrs_frame['species'], c='white')\n",
    "p = ax.scatter(hrs_frame[hrs_frame.year <= year]['planet'], hrs_frame[hrs_frame.year <= year]['species'], \n",
    "               c=hrs_frame[hrs_frame.year <= year]['SNR'],vmin=0, vmax=25)\n",
    "c = plt.colorbar(p, pad=0)\n",
    "c.set_label(label='SNR', fontsize=25)\n",
    "# ax.xticks(rotation = 45);\n",
    "\n",
    "ax.set_title(f'The state of HRS detections: {year}', fontsize=15)\n",
    "\n",
    "ax.tick_params(axis='x', which='major', labelsize=10, rotation = 35)\n",
    "ax.tick_params(axis='y', which='major', labelsize=10)\n",
    "ax.tick_params(axis='both', which='minor', labelsize=8)\n",
    "plt.tight_layout()\n",
    "plt.savefig('2015.jpg', bbox_inches='tight')"
   ]
  },
  {
   "cell_type": "code",
   "execution_count": null,
   "metadata": {
    "ExecuteTime": {
     "end_time": "2022-08-31T18:28:52.854762Z",
     "start_time": "2022-08-31T18:28:52.854756Z"
    }
   },
   "outputs": [],
   "source": [
    "year = 2016\n",
    "\n",
    "\n",
    "fig, ax = plt.subplots(figsize=(20,8))\n",
    "p = ax.scatter(hrs_frame['planet'], hrs_frame['species'], c='white')\n",
    "p = ax.scatter(hrs_frame[hrs_frame.year <= year]['planet'], hrs_frame[hrs_frame.year <= year]['species'], \n",
    "               c=hrs_frame[hrs_frame.year <= year]['SNR'],vmin=0, vmax=25)\n",
    "c = plt.colorbar(p, pad=0)\n",
    "c.set_label(label='SNR', fontsize=25)\n",
    "# ax.xticks(rotation = 45);\n",
    "\n",
    "ax.set_title(f'The state of HRS detections: {year}', fontsize=15)\n",
    "\n",
    "ax.tick_params(axis='x', which='major', labelsize=10, rotation = 35)\n",
    "ax.tick_params(axis='y', which='major', labelsize=10)\n",
    "ax.tick_params(axis='both', which='minor', labelsize=8)\n",
    "plt.tight_layout()\n",
    "plt.savefig('2016.jpg', bbox_inches='tight')"
   ]
  },
  {
   "cell_type": "code",
   "execution_count": null,
   "metadata": {
    "ExecuteTime": {
     "end_time": "2022-08-31T18:28:52.855260Z",
     "start_time": "2022-08-31T18:28:52.855254Z"
    }
   },
   "outputs": [],
   "source": [
    "year = 2017\n",
    "\n",
    "\n",
    "fig, ax = plt.subplots(figsize=(20,8))\n",
    "p = ax.scatter(hrs_frame['planet'], hrs_frame['species'], c='white')\n",
    "p = ax.scatter(hrs_frame[hrs_frame.year <= year]['planet'], hrs_frame[hrs_frame.year <= year]['species'], \n",
    "               c=hrs_frame[hrs_frame.year <= year]['SNR'],vmin=0, vmax=25)\n",
    "c = plt.colorbar(p, pad=0)\n",
    "c.set_label(label='SNR', fontsize=25)\n",
    "# ax.xticks(rotation = 45);\n",
    "\n",
    "ax.set_title(f'The state of HRS detections: {year}', fontsize=15)\n",
    "\n",
    "ax.tick_params(axis='x', which='major', labelsize=10, rotation = 35)\n",
    "ax.tick_params(axis='y', which='major', labelsize=10)\n",
    "ax.tick_params(axis='both', which='minor', labelsize=8)\n",
    "plt.tight_layout()\n",
    "plt.savefig('2017.jpg', bbox_inches='tight')"
   ]
  },
  {
   "cell_type": "code",
   "execution_count": null,
   "metadata": {
    "ExecuteTime": {
     "end_time": "2022-08-31T18:28:52.855811Z",
     "start_time": "2022-08-31T18:28:52.855806Z"
    }
   },
   "outputs": [],
   "source": [
    "year = 2018\n",
    "\n",
    "\n",
    "fig, ax = plt.subplots(figsize=(20,8))\n",
    "p = ax.scatter(hrs_frame['planet'], hrs_frame['species'], c='white')\n",
    "p = ax.scatter(hrs_frame[hrs_frame.year <= year]['planet'], hrs_frame[hrs_frame.year <= year]['species'], \n",
    "               c=hrs_frame[hrs_frame.year <= year]['SNR'],vmin=0, vmax=25)\n",
    "c = plt.colorbar(p, pad=0)\n",
    "c.set_label(label='SNR', fontsize=25)\n",
    "# ax.xticks(rotation = 45);\n",
    "\n",
    "ax.set_title(f'The state of HRS detections: {year}', fontsize=15)\n",
    "\n",
    "ax.tick_params(axis='x', which='major', labelsize=10, rotation = 35)\n",
    "ax.tick_params(axis='y', which='major', labelsize=10)\n",
    "ax.tick_params(axis='both', which='minor', labelsize=8)\n",
    "plt.tight_layout()\n",
    "plt.savefig('2018.jpg', bbox_inches='tight')"
   ]
  },
  {
   "cell_type": "code",
   "execution_count": null,
   "metadata": {
    "ExecuteTime": {
     "end_time": "2022-08-31T18:28:52.856486Z",
     "start_time": "2022-08-31T18:28:52.856480Z"
    }
   },
   "outputs": [],
   "source": [
    "year = 2019\n",
    "\n",
    "\n",
    "fig, ax = plt.subplots(figsize=(20,8))\n",
    "p = ax.scatter(hrs_frame['planet'], hrs_frame['species'], c='white')\n",
    "p = ax.scatter(hrs_frame[hrs_frame.year <= year]['planet'], hrs_frame[hrs_frame.year <= year]['species'], \n",
    "               c=hrs_frame[hrs_frame.year <= year]['SNR'],vmin=0, vmax=25)\n",
    "c = plt.colorbar(p, pad=0)\n",
    "c.set_label(label='SNR', fontsize=25)\n",
    "# ax.xticks(rotation = 45);\n",
    "\n",
    "ax.set_title(f'The state of HRS detections: {year}', fontsize=15)\n",
    "\n",
    "ax.tick_params(axis='x', which='major', labelsize=10, rotation = 35)\n",
    "ax.tick_params(axis='y', which='major', labelsize=10)\n",
    "ax.tick_params(axis='both', which='minor', labelsize=8)\n",
    "plt.tight_layout()\n",
    "\n",
    "plt.savefig('2019.jpg', bbox_inches='tight')"
   ]
  },
  {
   "cell_type": "code",
   "execution_count": null,
   "metadata": {
    "ExecuteTime": {
     "end_time": "2022-08-31T18:28:52.857135Z",
     "start_time": "2022-08-31T18:28:52.857129Z"
    }
   },
   "outputs": [],
   "source": [
    "year = 2020\n",
    "\n",
    "\n",
    "fig, ax = plt.subplots(figsize=(20,8))\n",
    "p = ax.scatter(hrs_frame['planet'], hrs_frame['species'], c='white')\n",
    "p = ax.scatter(hrs_frame[hrs_frame.year <= year]['planet'], hrs_frame[hrs_frame.year <= year]['species'], \n",
    "               c=hrs_frame[hrs_frame.year <= year]['SNR'],vmin=0, vmax=25)\n",
    "c = plt.colorbar(p, pad=0)\n",
    "c.set_label(label='SNR', fontsize=25)\n",
    "# ax.xticks(rotation = 45);\n",
    "\n",
    "ax.set_title(f'The state of HRS detections: {year}', fontsize=15)\n",
    "\n",
    "ax.tick_params(axis='x', which='major', labelsize=10, rotation = 35)\n",
    "ax.tick_params(axis='y', which='major', labelsize=10)\n",
    "ax.tick_params(axis='both', which='minor', labelsize=8)\n",
    "plt.tight_layout()\n",
    "plt.savefig('2020.jpg', bbox_inches='tight')"
   ]
  },
  {
   "cell_type": "code",
   "execution_count": null,
   "metadata": {
    "ExecuteTime": {
     "end_time": "2022-08-31T18:28:52.857585Z",
     "start_time": "2022-08-31T18:28:52.857580Z"
    }
   },
   "outputs": [],
   "source": [
    "year = 2021\n",
    "\n",
    "\n",
    "fig, ax = plt.subplots(figsize=(20,8))\n",
    "p = ax.scatter(hrs_frame['planet'], hrs_frame['species'], c='white')\n",
    "p = ax.scatter(hrs_frame[hrs_frame.year <= year]['planet'], hrs_frame[hrs_frame.year <= year]['species'], \n",
    "               c=hrs_frame[hrs_frame.year <= year]['SNR'],vmin=0, vmax=25)\n",
    "c = plt.colorbar(p, pad=0)\n",
    "c.set_label(label='SNR', fontsize=25)\n",
    "# ax.xticks(rotation = 45);\n",
    "\n",
    "ax.set_title(f'The state of HRS detections: {year}', fontsize=15)\n",
    "\n",
    "ax.tick_params(axis='x', which='major', labelsize=10, rotation = 35)\n",
    "ax.tick_params(axis='y', which='major', labelsize=10)\n",
    "ax.tick_params(axis='both', which='minor', labelsize=8)\n",
    "\n",
    "plt.tight_layout()\n",
    "\n",
    "plt.savefig('2021.jpg', bbox_inches='tight')"
   ]
  },
  {
   "cell_type": "code",
   "execution_count": null,
   "metadata": {
    "ExecuteTime": {
     "end_time": "2022-08-31T18:28:52.858375Z",
     "start_time": "2022-08-31T18:28:52.858370Z"
    },
    "scrolled": false
   },
   "outputs": [],
   "source": [
    "year = 2022\n",
    "\n",
    "\n",
    "fig, ax = plt.subplots(figsize=(20,8))\n",
    "# ax.grid(True)\n",
    "p = ax.scatter(hrs_frame['planet'], hrs_frame['species'], c='white')\n",
    "p = ax.scatter(hrs_frame[hrs_frame.year <= year]['planet'], hrs_frame[hrs_frame.year <= year]['species'], \n",
    "               c=hrs_frame[hrs_frame.year <= year]['SNR'],vmin=0, vmax=25)\n",
    "c = plt.colorbar(p, pad=0)\n",
    "c.set_label(label='SNR', fontsize=25)\n",
    "# ax.xticks(rotation = 45);\n",
    "\n",
    "ax.set_title(f'The state of HRS detections: {year}', fontsize=15)\n",
    "\n",
    "ax.tick_params(axis='x', which='major', labelsize=10, rotation = 35)\n",
    "ax.tick_params(axis='y', which='major', labelsize=10)\n",
    "ax.tick_params(axis='both', which='minor', labelsize=8)\n",
    "plt.tight_layout()\n",
    "\n",
    "plt.savefig('2022.jpg', bbox_inches='tight')"
   ]
  },
  {
   "cell_type": "code",
   "execution_count": null,
   "metadata": {
    "ExecuteTime": {
     "end_time": "2022-08-31T18:28:52.858859Z",
     "start_time": "2022-08-31T18:28:52.858853Z"
    }
   },
   "outputs": [],
   "source": [
    "year = 2022\n",
    "\n",
    "\n",
    "fig, ax = plt.subplots(figsize=(20,8))\n",
    "# ax.grid(True)\n",
    "p = ax.scatter(hrs_frame['planet'], hrs_frame['species'], c='white')\n",
    "p = ax.scatter(hrs_frame[hrs_frame.year <= year]['planet'], hrs_frame[hrs_frame.year <= year]['species'], \n",
    "               c=hrs_frame[hrs_frame.year <= year]['SNR'],vmin=0, vmax=25)\n",
    "c = plt.colorbar(p, pad=0)\n",
    "c.set_label(label='SNR', fontsize=25)\n",
    "# ax.xticks(rotation = 45);\n",
    "\n",
    "ax.set_title(f'The state of HRS detections: {year}', fontsize=15)\n",
    "\n",
    "ax.tick_params(axis='x', which='major', labelsize=10, rotation = 35)\n",
    "ax.tick_params(axis='y', which='major', labelsize=10)\n",
    "ax.tick_params(axis='both', which='minor', labelsize=8)\n",
    "\n",
    "left, bottom, width, height = [.1, 0.48, 0.2, 0.4]\n",
    "ax2 = fig.add_axes([left, bottom, width, height])\n",
    "ax2.set_ylabel('Count')\n",
    "ax2.set_xlabel('Year')\n",
    "\n",
    "\n",
    "hrs_frame.hist('year', bins=np.arange(2010, 2024), ax=ax2, color='goldenrod', label='Detections',\n",
    "              grid=False)\n",
    "# papers_frame.hist('year', bins=np.arange(2010, 2022), ax=ax2, color='gray', label='Papers')\n",
    "ax2.set_xlim([2010, 2023])\n",
    "ax2.set_title('')\n",
    "\n",
    "\n",
    "plt.tight_layout()\n",
    "\n",
    "plt.savefig('2022_histogram_small.jpg', bbox_inches='tight')"
   ]
  },
  {
   "cell_type": "code",
   "execution_count": null,
   "metadata": {
    "ExecuteTime": {
     "end_time": "2022-08-31T18:28:52.859434Z",
     "start_time": "2022-08-31T18:28:52.859427Z"
    }
   },
   "outputs": [],
   "source": [
    "year = 2022\n",
    "\n",
    "\n",
    "\n",
    "\n",
    "fig, ax = plt.subplots(figsize=(22,10))\n",
    "# ax.grid(True)\n",
    "p = ax.scatter(hrs_frame['planet'], hrs_frame['species'], c='white')\n",
    "p = ax.scatter(hrs_frame[hrs_frame.year <= year]['planet'], hrs_frame[hrs_frame.year <= year]['species'], \n",
    "               c=hrs_frame[hrs_frame.year <= year]['SNR'], s=80, marker='s')\n",
    "c = plt.colorbar(p,  pad=0)\n",
    "c.set_label(label='SNR', fontsize=25)\n",
    "# ax.xticks(rotation = 45);\n",
    "\n",
    "ax.set_title(f'The state of HRS detections: {year}', fontsize=25)\n",
    "ax.set_xlabel(f'Planet', fontsize=25)\n",
    "ax.set_ylabel(f'Species', fontsize=25)\n",
    "\n",
    "ax.tick_params(axis='x', which='major', labelsize=12, rotation = 35)\n",
    "ax.tick_params(axis='y', which='major', labelsize=12)\n",
    "ax.tick_params(axis='both', which='minor', labelsize=8)\n",
    "\n",
    "\n",
    "left, bottom, width, height = [.16, 0.45, 0.2, 0.4]\n",
    "ax2 = fig.add_axes([left, bottom, width, height])\n",
    "ax2.set_ylabel('Count')\n",
    "ax2.set_xlabel('Year')\n",
    "\n",
    "\n",
    "hrs_frame.hist('year', bins=np.arange(2010, 2024), ax=ax2, color='goldenrod', label='Detections',\n",
    "              grid=False)\n",
    "# papers_frame.hist('year', bins=np.arange(2010, 2022), ax=ax2, color='gray', label='Papers')\n",
    "ax2.set_xlim([2010, 2023])\n",
    "ax2.set_title('')\n",
    "\n",
    "\n",
    "\n",
    "plt.savefig('2022_histogram.jpg', bbox_inches='tight')"
   ]
  },
  {
   "cell_type": "code",
   "execution_count": null,
   "metadata": {
    "ExecuteTime": {
     "end_time": "2022-08-31T18:28:52.860325Z",
     "start_time": "2022-08-31T18:28:52.860314Z"
    }
   },
   "outputs": [],
   "source": [
    "from datetime import datetime"
   ]
  },
  {
   "cell_type": "code",
   "execution_count": null,
   "metadata": {
    "ExecuteTime": {
     "end_time": "2022-08-31T18:28:52.861242Z",
     "start_time": "2022-08-31T18:28:52.861236Z"
    }
   },
   "outputs": [],
   "source": [
    "from plots import *"
   ]
  },
  {
   "cell_type": "code",
   "execution_count": null,
   "metadata": {
    "ExecuteTime": {
     "end_time": "2022-08-31T18:28:52.861744Z",
     "start_time": "2022-08-31T18:28:52.861739Z"
    }
   },
   "outputs": [],
   "source": [
    "hrs_obs_latest_gridded(observe_frame)"
   ]
  },
  {
   "cell_type": "code",
   "execution_count": null,
   "metadata": {
    "ExecuteTime": {
     "end_time": "2022-08-31T18:28:52.862165Z",
     "start_time": "2022-08-31T18:28:52.862160Z"
    }
   },
   "outputs": [],
   "source": [
    "hrs_frame[hrs_frame['lead'] == 'guilluy']"
   ]
  },
  {
   "cell_type": "code",
   "execution_count": null,
   "metadata": {
    "ExecuteTime": {
     "end_time": "2022-08-31T18:28:52.862849Z",
     "start_time": "2022-08-31T18:28:52.862844Z"
    }
   },
   "outputs": [],
   "source": [
    "hrs_frame['lead'].value_counts()"
   ]
  },
  {
   "cell_type": "code",
   "execution_count": null,
   "metadata": {
    "ExecuteTime": {
     "end_time": "2022-08-31T18:28:52.863519Z",
     "start_time": "2022-08-31T18:28:52.863511Z"
    }
   },
   "outputs": [],
   "source": [
    "hrs_frame['species'].value_counts()"
   ]
  },
  {
   "cell_type": "code",
   "execution_count": null,
   "metadata": {
    "ExecuteTime": {
     "end_time": "2022-08-31T18:28:52.864397Z",
     "start_time": "2022-08-31T18:28:52.864388Z"
    }
   },
   "outputs": [],
   "source": [
    "insts = hrs_frame['instrument'].value_counts().keys()\n",
    "insts_counts = hrs_frame['instrument'].value_counts().values"
   ]
  },
  {
   "cell_type": "code",
   "execution_count": null,
   "metadata": {
    "ExecuteTime": {
     "end_time": "2022-08-31T18:28:52.864965Z",
     "start_time": "2022-08-31T18:28:52.864960Z"
    }
   },
   "outputs": [],
   "source": [
    "dict(zip(insts, insts_counts))"
   ]
  },
  {
   "cell_type": "code",
   "execution_count": null,
   "metadata": {
    "ExecuteTime": {
     "end_time": "2022-08-31T18:28:52.865662Z",
     "start_time": "2022-08-31T18:28:52.865657Z"
    }
   },
   "outputs": [],
   "source": [
    "# split up times that two instruments were used for a study\n",
    "inst_count_dict = dict(zip(insts, insts_counts))\n",
    "\n",
    "for i, inst in enumerate(insts):\n",
    "    if ', ' in inst:\n",
    "\n",
    "        inst_list = inst.split(', ')\n",
    "        del inst_count_dict[inst]\n",
    "        counts = insts_counts[i]\n",
    "        for ind_inst in inst_list:\n",
    "            if ind_inst in inst_count_dict.keys():\n",
    "                inst_count_dict[ind_inst] += counts\n",
    "            else:\n",
    "                inst_count_dict[ind_inst] = counts\n",
    "        \n",
    "        \n",
    "            \n",
    "        "
   ]
  },
  {
   "cell_type": "code",
   "execution_count": null,
   "metadata": {
    "ExecuteTime": {
     "end_time": "2022-08-31T18:28:52.866441Z",
     "start_time": "2022-08-31T18:28:52.866434Z"
    }
   },
   "outputs": [],
   "source": [
    "# this is for detections, not observations. "
   ]
  },
  {
   "cell_type": "code",
   "execution_count": null,
   "metadata": {
    "ExecuteTime": {
     "end_time": "2022-08-31T18:28:52.867067Z",
     "start_time": "2022-08-31T18:28:52.867061Z"
    }
   },
   "outputs": [],
   "source": [
    "dict(sorted(inst_count_dict.items(), key=lambda item: item[1]))"
   ]
  },
  {
   "cell_type": "code",
   "execution_count": null,
   "metadata": {
    "ExecuteTime": {
     "end_time": "2022-08-31T18:28:52.867673Z",
     "start_time": "2022-08-31T18:28:52.867668Z"
    }
   },
   "outputs": [],
   "source": [
    "hds_dict = {}\n",
    "di = hds_dict\n",
    "di['first light'] = 2014\n",
    "di['wave_min'] = 0.3\n",
    "di['wave_max'] = 1\n",
    "di['resolution'] = 160000\n",
    "di['comments'] = \"\"\n",
    "di['norm. telescope diameter'] =  8.2 # meters\n",
    "di['norm. telescope'] = 'Subaru'\n",
    "di['norm. location'] = 'Mauna Kea Observatory'\n",
    "di['norm. altitude'] = 4139 #m\n",
    "di['norm. seeing'] = np.nan"
   ]
  },
  {
   "cell_type": "code",
   "execution_count": null,
   "metadata": {
    "ExecuteTime": {
     "end_time": "2022-08-31T18:28:52.868467Z",
     "start_time": "2022-08-31T18:28:52.868462Z"
    }
   },
   "outputs": [],
   "source": [
    "horus_dict = {}\n",
    "di = horus_dict\n",
    "di['first light'] = 1992\n",
    "di['wave_min'] = 0.380\n",
    "di['wave_max'] = 0.690\n",
    "di['resolution'] = 25000\n",
    "di['comments'] = \"Was on the 4.2-m William Herschel Telescope (WHT) until 2001. Its primary mirror consists of 36 individual hexagonal segments that together act as a single mirror. The light collecting mirror surface area of GTC is equivalent to that of a telescope with a 10.4m diameter single monolithic mirror\"\n",
    "di['norm. telescope diameter'] =  10.4 # meters, equi\n",
    "di['norm. telescope'] = 'Gran Telescopio CANARIAS'\n",
    "di['norm. location'] = 'Observatorio Roque de los Muchachos'\n",
    "di['norm. altitude'] = 2267 #m\n",
    "di['norm. seeing'] = np.nan"
   ]
  },
  {
   "cell_type": "code",
   "execution_count": null,
   "metadata": {
    "ExecuteTime": {
     "end_time": "2022-08-31T18:28:52.869071Z",
     "start_time": "2022-08-31T18:28:52.869066Z"
    }
   },
   "outputs": [],
   "source": [
    "kpic_dict = {}\n",
    "di = kpic_dict\n",
    "di['first light'] = 2018\n",
    "di['wave_min'] = 1.94\n",
    "di['wave_max'] = 2.49\n",
    "di['resolution'] = 35000\n",
    "di['comments'] = \"resolution estimate from Wang+21. KPIC combines starlight suppression using the Keck AO system and single-mode fibers with the NIRSPEC high-resolution spectrograph to enable high-resolution spectroscopy of fainter and closer-in directly imaged planets\"\n",
    "di['norm. telescope diameter'] =  8.4 # meters\n",
    "di['norm. telescope'] = 'Keck'\n",
    "di['norm. location'] = 'Mauna Kea'\n",
    "di['norm. altitude'] = 4145 #m\n",
    "di['norm. seeing'] = np.nan"
   ]
  },
  {
   "cell_type": "code",
   "execution_count": null,
   "metadata": {
    "ExecuteTime": {
     "end_time": "2022-08-31T18:28:52.869667Z",
     "start_time": "2022-08-31T18:28:52.869661Z"
    }
   },
   "outputs": [],
   "source": [
    "pepsi_dict = {}\n",
    "di = pepsi_dict\n",
    "di['first light'] = 2014\n",
    "di['wave_min'] = 0.383\n",
    "di['wave_max'] = 0.912\n",
    "di['resolution'] = 50000\n",
    "di['comments'] = \"needs three exposures for the full wavelength range\"\n",
    "di['norm. telescope diameter'] =  8.4 # meters\n",
    "di['norm. telescope'] = 'Large Binocular Telescope (LBT)'\n",
    "di['norm. location'] = 'Mount Graham International Observatory'\n",
    "di['norm. altitude'] = 3300 #m\n",
    "di['norm. seeing'] = np.nan"
   ]
  },
  {
   "cell_type": "code",
   "execution_count": null,
   "metadata": {
    "ExecuteTime": {
     "end_time": "2022-08-31T18:28:52.870536Z",
     "start_time": "2022-08-31T18:28:52.870531Z"
    }
   },
   "outputs": [],
   "source": [
    "giano_dict = {}\n",
    "di = giano_dict\n",
    "di['first light'] = 2014\n",
    "di['wave_min'] = 0.95\n",
    "di['wave_max'] = 2.45\n",
    "di['resolution'] = 50000\n",
    "di['comments'] = \"diff between this and GIANO-B?\"\n",
    "di['norm. telescope diameter'] =  3.2 # meters\n",
    "di['norm. telescope'] = 'Telescopio Nazionale Galileo (TNG)'\n",
    "di['norm. location'] = 'Roque de los Muchachos Observatory'\n",
    "di['norm. altitude'] = 2396 #m\n",
    "di['norm. seeing'] = np.nan"
   ]
  },
  {
   "cell_type": "code",
   "execution_count": null,
   "metadata": {
    "ExecuteTime": {
     "end_time": "2022-08-31T18:28:52.871093Z",
     "start_time": "2022-08-31T18:28:52.871087Z"
    }
   },
   "outputs": [],
   "source": [
    "giano_b_dict = {}\n",
    "di = giano_b_dict\n",
    "# haven't filled in the below\n",
    "di['first light'] = 2014\n",
    "di['wave_min'] = 0.95\n",
    "di['wave_max'] = 2.45\n",
    "di['resolution'] = 50000\n",
    "di['comments'] = \"diff between this and GIANO?\"\n",
    "di['norm. telescope diameter'] =  3.2 # meters\n",
    "di['norm. telescope'] = 'Telescopio Nazionale Galileo (TNG)'\n",
    "di['norm. location'] = 'Roque de los Muchachos Observatory'\n",
    "di['norm. altitude'] = 2396 #m\n",
    "di['norm. seeing'] = np.nan"
   ]
  },
  {
   "cell_type": "code",
   "execution_count": null,
   "metadata": {
    "ExecuteTime": {
     "end_time": "2022-08-31T18:28:52.871693Z",
     "start_time": "2022-08-31T18:28:52.871688Z"
    }
   },
   "outputs": [],
   "source": [
    "# this was the snellen setup\n",
    "crires_dict = {}\n",
    "di = crires_dict\n",
    "di['first light'] = 2006\n",
    "di['last light'] = 2014\n",
    "di['wave_min'] = 2.291\n",
    "di['wave_max'] = 2.349\n",
    "di['resolution'] = 100000\n",
    "di['comments'] = \"\"\n",
    "di['norm. telescope diameter'] = 8.2 # meters\n",
    "di['norm. telescope'] = 'VLT'\n",
    "di['norm. location'] = 'European Southern Observatory'\n",
    "di['norm. altitude'] = 2635 #m\n",
    "di['norm. seeing'] = np.nan"
   ]
  },
  {
   "cell_type": "code",
   "execution_count": null,
   "metadata": {
    "ExecuteTime": {
     "end_time": "2022-08-31T18:28:52.872620Z",
     "start_time": "2022-08-31T18:28:52.872611Z"
    }
   },
   "outputs": [],
   "source": [
    "#NIR channel\n",
    "carmenes_dict = {}\n",
    "di = carmenes_dict\n",
    "di['first light'] = 2016\n",
    "di['wave_min'] = 0.960\n",
    "di['wave_max'] = 1.710\n",
    "di['resolution'] = 80400\n",
    "di['comments'] = \"\"\n",
    "di['norm. telescope diameter'] = 3.5 # meters\n",
    "di['norm. telescope'] = 'Calar Alto Observatory 3.5m'\n",
    "di['norm. location'] = 'Calar Alto Observatory'\n",
    "di['norm. altitude'] = \t2168 #m\n",
    "di['norm. seeing'] = np.nan"
   ]
  },
  {
   "cell_type": "code",
   "execution_count": null,
   "metadata": {
    "ExecuteTime": {
     "end_time": "2022-08-31T18:28:52.873182Z",
     "start_time": "2022-08-31T18:28:52.873177Z"
    }
   },
   "outputs": [],
   "source": [
    "# UT mode\n",
    "espresso_dict = {}\n",
    "di = espresso_dict\n",
    "di['first light'] = 2016\n",
    "di['wave_min'] = 0.380\n",
    "di['wave_max'] = 0.788\n",
    "di['resolution'] = 190000\n",
    "di['comments'] = \"\"\n",
    "di['norm. telescope diameter'] = 8.2 # meters\n",
    "di['norm. telescope'] = 'VLT'\n",
    "di['norm. location'] = 'European Southern Observatory'\n",
    "di['norm. altitude'] = 2635 #m\n",
    "di['norm. seeing'] = np.nan"
   ]
  },
  {
   "cell_type": "code",
   "execution_count": null,
   "metadata": {
    "ExecuteTime": {
     "end_time": "2022-08-31T18:28:52.874149Z",
     "start_time": "2022-08-31T18:28:52.874144Z"
    }
   },
   "outputs": [],
   "source": [
    "harps_dict = {}\n",
    "di = harps_dict\n",
    "di['first light'] = 2003\n",
    "di['wave_min'] = 0.378\n",
    "di['wave_max'] = 0.691\n",
    "di['resolution'] = 120000\n",
    "di['comments'] = \"\"\n",
    "di['norm. telescope diameter'] = 3.6 # meters\n",
    "di['norm. telescope'] = 'ESO'\n",
    "di['norm. location'] = 'La Silla Observatory'\n",
    "di['norm. altitude'] = 2400 #m\n",
    "di['norm. seeing'] = np.nan"
   ]
  },
  {
   "cell_type": "code",
   "execution_count": null,
   "metadata": {
    "ExecuteTime": {
     "end_time": "2022-08-31T18:28:52.874808Z",
     "start_time": "2022-08-31T18:28:52.874803Z"
    }
   },
   "outputs": [],
   "source": [
    "harps_n_dict = {}\n",
    "di = harps_n_dict\n",
    "di['first light'] = 2012\n",
    "di['wave_min'] = 0.378\n",
    "di['wave_max'] = 0.691\n",
    "di['resolution'] = 120000\n",
    "di['comments'] = \"copy of HARPS\"\n",
    "di['norm. telescope diameter'] = 3.6 # meters\n",
    "di['norm. telescope'] = 'Telescopio Nazionale Galileo'\n",
    "di['norm. location'] = 'Roque de los Muchachos Observatory'\n",
    "di['norm. altitude'] = 2396 #m\n",
    "di['norm. seeing'] = np.nan"
   ]
  },
  {
   "cell_type": "code",
   "execution_count": null,
   "metadata": {
    "ExecuteTime": {
     "end_time": "2022-08-31T18:28:52.875550Z",
     "start_time": "2022-08-31T18:28:52.875545Z"
    }
   },
   "outputs": [],
   "source": [
    "inst_list"
   ]
  },
  {
   "cell_type": "code",
   "execution_count": null,
   "metadata": {
    "ExecuteTime": {
     "end_time": "2022-08-31T18:28:52.876391Z",
     "start_time": "2022-08-31T18:28:52.876372Z"
    }
   },
   "outputs": [],
   "source": [
    "hrs_frame['observation'].value_counts()"
   ]
  },
  {
   "cell_type": "code",
   "execution_count": null,
   "metadata": {
    "ExecuteTime": {
     "end_time": "2022-08-31T18:28:52.877045Z",
     "start_time": "2022-08-31T18:28:52.877039Z"
    }
   },
   "outputs": [],
   "source": [
    "np.arange(2010, 2023)"
   ]
  },
  {
   "cell_type": "code",
   "execution_count": null,
   "metadata": {
    "ExecuteTime": {
     "end_time": "2022-08-31T18:28:52.877598Z",
     "start_time": "2022-08-31T18:28:52.877593Z"
    }
   },
   "outputs": [],
   "source": [
    "species = hrs_frame['species'].value_counts().index.values"
   ]
  },
  {
   "cell_type": "code",
   "execution_count": null,
   "metadata": {
    "ExecuteTime": {
     "end_time": "2022-08-31T18:28:52.878306Z",
     "start_time": "2022-08-31T18:28:52.878301Z"
    }
   },
   "outputs": [],
   "source": [
    "species[species=='H beta'] = 'H'"
   ]
  },
  {
   "cell_type": "code",
   "execution_count": null,
   "metadata": {
    "ExecuteTime": {
     "end_time": "2022-08-31T18:28:52.878806Z",
     "start_time": "2022-08-31T18:28:52.878800Z"
    }
   },
   "outputs": [],
   "source": [
    "species"
   ]
  },
  {
   "cell_type": "code",
   "execution_count": null,
   "metadata": {
    "ExecuteTime": {
     "end_time": "2022-08-31T18:28:52.879533Z",
     "start_time": "2022-08-31T18:28:52.879526Z"
    }
   },
   "outputs": [],
   "source": [
    "atoms_species = [s for s in species if '+' not in s and ' ' not in s and '2' not in s and len(s) < 3 and s != 'CO']\n",
    "\n"
   ]
  },
  {
   "cell_type": "code",
   "execution_count": null,
   "metadata": {
    "ExecuteTime": {
     "end_time": "2022-08-31T18:28:52.880149Z",
     "start_time": "2022-08-31T18:28:52.880144Z"
    }
   },
   "outputs": [],
   "source": [
    "species_counts = hrs_frame['species'].value_counts().values"
   ]
  },
  {
   "cell_type": "code",
   "execution_count": null,
   "metadata": {
    "ExecuteTime": {
     "end_time": "2022-08-31T18:28:52.880735Z",
     "start_time": "2022-08-31T18:28:52.880730Z"
    }
   },
   "outputs": [],
   "source": [
    "species_counts"
   ]
  },
  {
   "cell_type": "code",
   "execution_count": null,
   "metadata": {
    "ExecuteTime": {
     "end_time": "2022-08-31T18:28:52.881239Z",
     "start_time": "2022-08-31T18:28:52.881233Z"
    }
   },
   "outputs": [],
   "source": [
    "species_counts_atoms = species_counts[np.where(np.in1d(species, atoms_species))[0]]"
   ]
  },
  {
   "cell_type": "code",
   "execution_count": null,
   "metadata": {
    "ExecuteTime": {
     "end_time": "2022-08-31T18:28:52.881892Z",
     "start_time": "2022-08-31T18:28:52.881887Z"
    }
   },
   "outputs": [],
   "source": [
    "species_counts_atoms"
   ]
  },
  {
   "cell_type": "code",
   "execution_count": null,
   "metadata": {
    "ExecuteTime": {
     "end_time": "2022-08-31T18:28:52.882491Z",
     "start_time": "2022-08-31T18:28:52.882484Z"
    }
   },
   "outputs": [],
   "source": [
    "hrs_frame"
   ]
  },
  {
   "cell_type": "code",
   "execution_count": null,
   "metadata": {
    "ExecuteTime": {
     "end_time": "2022-08-31T18:28:52.883123Z",
     "start_time": "2022-08-31T18:28:52.883117Z"
    }
   },
   "outputs": [],
   "source": [
    "papers_observed = observe_frame.drop_duplicates(subset=['lead', 'planet', 'observation', 'instrument', 'year'])"
   ]
  },
  {
   "cell_type": "code",
   "execution_count": null,
   "metadata": {
    "ExecuteTime": {
     "end_time": "2022-08-31T18:28:52.884032Z",
     "start_time": "2022-08-31T18:28:52.884026Z"
    }
   },
   "outputs": [],
   "source": [
    "papers_frame = hrs_frame.drop_duplicates(subset=['lead', 'planet', 'observation', 'instrument', 'year'])"
   ]
  },
  {
   "cell_type": "code",
   "execution_count": null,
   "metadata": {
    "ExecuteTime": {
     "end_time": "2022-08-31T18:28:52.884580Z",
     "start_time": "2022-08-31T18:28:52.884574Z"
    }
   },
   "outputs": [],
   "source": [
    "papers_frame"
   ]
  },
  {
   "cell_type": "code",
   "execution_count": null,
   "metadata": {
    "ExecuteTime": {
     "end_time": "2022-08-31T18:28:52.885329Z",
     "start_time": "2022-08-31T18:28:52.885324Z"
    }
   },
   "outputs": [],
   "source": [
    "from plots import *"
   ]
  },
  {
   "cell_type": "code",
   "execution_count": null,
   "metadata": {
    "ExecuteTime": {
     "end_time": "2022-08-31T18:28:52.885827Z",
     "start_time": "2022-08-31T18:28:52.885822Z"
    }
   },
   "outputs": [],
   "source": [
    "fig, ax = plt.subplots(figsize=(10,6))\n",
    "\n",
    "hrs_frame.hist('year', bins=np.arange(2010, 2023), ax=ax, color='teal', label='Detections')\n",
    "papers_frame.hist('year', bins=np.arange(2010, 2023), ax=ax, color='gray', label='Papers')\n",
    "ax.grid(False)\n",
    "ax.set_xlim([2010, 2022])\n",
    "ax.set_ylabel('Count', fontsize=18)\n",
    "ax.set_xlabel('Year', fontsize=18)\n",
    "ax.set_title('HRS over the years', fontsize=18)\n",
    "plt.legend(fontsize=18)\n",
    "\n",
    "add_copyright(ax)\n"
   ]
  },
  {
   "cell_type": "code",
   "execution_count": null,
   "metadata": {
    "ExecuteTime": {
     "end_time": "2022-08-31T18:28:52.886234Z",
     "start_time": "2022-08-31T18:28:52.886229Z"
    }
   },
   "outputs": [],
   "source": [
    "papers_frame.species"
   ]
  },
  {
   "cell_type": "markdown",
   "metadata": {},
   "source": [
    "# Thinking about water"
   ]
  },
  {
   "cell_type": "code",
   "execution_count": null,
   "metadata": {
    "ExecuteTime": {
     "end_time": "2022-08-31T18:28:52.886821Z",
     "start_time": "2022-08-31T18:28:52.886815Z"
    }
   },
   "outputs": [],
   "source": [
    "%matplotlib inline"
   ]
  },
  {
   "cell_type": "code",
   "execution_count": null,
   "metadata": {
    "ExecuteTime": {
     "end_time": "2022-08-31T18:28:52.887341Z",
     "start_time": "2022-08-31T18:28:52.887336Z"
    }
   },
   "outputs": [],
   "source": [
    "hrs_frame"
   ]
  },
  {
   "cell_type": "code",
   "execution_count": null,
   "metadata": {
    "ExecuteTime": {
     "end_time": "2022-08-31T18:28:52.888063Z",
     "start_time": "2022-08-31T18:28:52.888058Z"
    }
   },
   "outputs": [],
   "source": [
    "hrs_frame.species.unique()"
   ]
  },
  {
   "cell_type": "code",
   "execution_count": null,
   "metadata": {
    "ExecuteTime": {
     "end_time": "2022-08-31T18:28:52.888776Z",
     "start_time": "2022-08-31T18:28:52.888770Z"
    }
   },
   "outputs": [],
   "source": [
    "# number of papers\n",
    "\n",
    "water_frame = hrs_frame[hrs_frame.species=='H$_2$O']\n",
    "\n",
    "len(water_frame) / len(hrs_frame)"
   ]
  },
  {
   "cell_type": "code",
   "execution_count": null,
   "metadata": {
    "ExecuteTime": {
     "end_time": "2022-08-31T18:28:52.889222Z",
     "start_time": "2022-08-31T18:28:52.889217Z"
    }
   },
   "outputs": [],
   "source": [
    "import matplotlib"
   ]
  },
  {
   "cell_type": "code",
   "execution_count": null,
   "metadata": {
    "ExecuteTime": {
     "end_time": "2022-08-31T18:28:52.889627Z",
     "start_time": "2022-08-31T18:28:52.889623Z"
    }
   },
   "outputs": [],
   "source": [
    "%matplotlib inline"
   ]
  },
  {
   "cell_type": "code",
   "execution_count": null,
   "metadata": {
    "ExecuteTime": {
     "end_time": "2022-08-31T18:28:52.890188Z",
     "start_time": "2022-08-31T18:28:52.890183Z"
    }
   },
   "outputs": [],
   "source": [
    "water_detections(observe_frame)"
   ]
  },
  {
   "cell_type": "code",
   "execution_count": null,
   "metadata": {
    "ExecuteTime": {
     "end_time": "2022-08-31T18:28:52.890956Z",
     "start_time": "2022-08-31T18:28:52.890951Z"
    }
   },
   "outputs": [],
   "source": [
    "water_frame"
   ]
  },
  {
   "cell_type": "markdown",
   "metadata": {},
   "source": [
    "# combined analysis"
   ]
  },
  {
   "cell_type": "code",
   "execution_count": null,
   "metadata": {
    "ExecuteTime": {
     "end_time": "2022-08-31T18:28:52.891712Z",
     "start_time": "2022-08-31T18:28:52.891707Z"
    }
   },
   "outputs": [],
   "source": [
    "len(papers_observed) + len(theory_frame)"
   ]
  },
  {
   "cell_type": "code",
   "execution_count": null,
   "metadata": {
    "ExecuteTime": {
     "end_time": "2022-08-31T18:28:52.892554Z",
     "start_time": "2022-08-31T18:28:52.892548Z"
    }
   },
   "outputs": [],
   "source": [
    "full_frame = pd.concat([observe_frame, theory_frame])"
   ]
  },
  {
   "cell_type": "code",
   "execution_count": null,
   "metadata": {
    "ExecuteTime": {
     "end_time": "2022-08-31T18:28:52.893261Z",
     "start_time": "2022-08-31T18:28:52.893255Z"
    }
   },
   "outputs": [],
   "source": [
    "# slight bug — off by one!\n",
    "full_papers_frame = full_frame.drop_duplicates(subset=['lead', 'planet', 'observation', 'instrument', 'year'])"
   ]
  },
  {
   "cell_type": "code",
   "execution_count": null,
   "metadata": {
    "ExecuteTime": {
     "end_time": "2022-08-31T18:28:52.894120Z",
     "start_time": "2022-08-31T18:28:52.894114Z"
    }
   },
   "outputs": [],
   "source": [
    "papers_over_years(theory_frame, observe_frame)"
   ]
  },
  {
   "cell_type": "code",
   "execution_count": null,
   "metadata": {},
   "outputs": [],
   "source": []
  }
 ],
 "metadata": {
  "kernelspec": {
   "display_name": "Python 3 (ipykernel)",
   "language": "python",
   "name": "python3"
  },
  "language_info": {
   "codemirror_mode": {
    "name": "ipython",
    "version": 3
   },
   "file_extension": ".py",
   "mimetype": "text/x-python",
   "name": "python",
   "nbconvert_exporter": "python",
   "pygments_lexer": "ipython3",
   "version": "3.10.6"
  }
 },
 "nbformat": 4,
 "nbformat_minor": 2
}
